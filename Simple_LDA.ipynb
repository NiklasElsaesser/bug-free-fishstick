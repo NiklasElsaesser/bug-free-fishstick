{
 "cells": [
  {
   "cell_type": "markdown",
   "id": "e6b7cb2d",
   "metadata": {},
   "source": [
    "# Assignment im Kurs Machine Learning Fundamentals\n",
    "\n",
    "### Projekt Teilnehmer\n",
    "* Anna Stöhrer da Silva\n",
    "* Bernice Fabich\n",
    "* Jan Schneeberg\n",
    "* Niklas Elsässer\n",
    "\n",
    "### Dozent\n",
    "* Ruben Nuredini\n",
    "\n",
    "## Abstract\n",
    "Im Rahmen der vorliegenden Untersuchung wird die Leistungsfähigkeit der Latent Dirichlet Allocation Method (LDA) anhand eines umfangreichen News-Category-Datasets evaluiert. Dabei wird die reguläre LDA-Methode mit einem verbesserten Ansatz, LDAPrototype genannt, verglichen.\n",
    "\n",
    "# Inhaltsverzeichnis\n",
    "- [Theoretische Grundlagen](#theoretische-grundlagen)\n",
    "  - [Datenvorbereinigung](#Datenvorbereinigung)\n",
    "  - [LDA Modell](#step-4-das-lda-model-trainieren)\n",
    "  - [PyLDAvis](#step-4-visualisierung-mit-pyldavis)\n",
    "- [Improved LDA](https://github.com/NiklasElsaesser/bug-free-fishstick/blob/main/Improved_LDA.ipynb) (Separates Notebook)\n",
    "- [Benchmarks & Visualizations](https://github.com/NiklasElsaesser/bug-free-fishstick/blob/main/Benchmarks%26Visualizations.ipynb) (Separates Notebook)\n",
    "- [Literaturverzeichnis](#literaturverzeichnis)"
   ]
  },
  {
   "cell_type": "markdown",
   "id": "agJlSZb04_so",
   "metadata": {
    "id": "agJlSZb04_so"
   },
   "source": [
    "# Theoretische Grundlagen\n",
    "Durch die Digitalisierung steigt die Anzahl digitaler Texte drastisch an, sodass diese kaum noch manuell zu erfassen sind. So beheimatet zum Beispiel das Deutsche Textarchiv (digitale Textsammlung) um die 145 Millionen Texte.\n",
    "Diese Masse an Texten muss verwaltet werden, um Texte zu finden und abzubilden. Des Weiteren müssen sie von Computern ausgewertet werden können, da dies manuell nicht machbar ist.\n",
    "Im Jahr 2007 beschäftigte sich Franco Moretti mit seinem Forschungsprogramm damit, tausend Werke der Weltliteratur gleichzeitig miteinander zu vergleichen. Möglich war dies aber nur mit (text-) statischen Verfahren und computergestützten Visualisierungen. (Heyer, Wiedemann, Niekler 2020, S.351-353)\n",
    "\n",
    "## Topic Modeling\n",
    "Topic Modelling ist eine bekannte Klasse dieser statischen Verfahren. Hierbei können große Daten-, Textmengen automatisch in Themenbereiche aufgeteilt werden. Es wird davon ausgegangen, dass jede Wortform zu einem Themenbereich (Topic) gehört. Durch die Untersuchung der Verteilung von zusammengehörigen Wortformen in einem Text sollen die Themenbereiche dieses Textes abgeleitet werden können.\n",
    "Hiermit ist das Klassifizieren und Zusammenfassen von Texten und deren Abschnitten möglich. (Heyer, Wiedemann, Niekler 2020, S.351-353)\n",
    "\n",
    "## Stärken und Schwächen\n",
    "Stärken sind demnach die Unterteilung von großen Texten in Themen (Topics), sowie die Tatsache, dass dies voll automatisch geschieht.\n",
    "Nachteil ist, dass Syntax-Strukturen, Regelmäßigkeiten der Aussagen und weitere Informationen nicht aus dem Topic Modelling resultieren.\n",
    "Dennoch kann Topic Modelling als Vorarbeit für die weitergehenden Untersuchungen genutzt werden. (Heyer, Wiedemann, Niekler 2020, S.351-353)\n"
   ]
  },
  {
   "cell_type": "markdown",
   "id": "203655f7-5563-4bfb-8ebb-4866eb392ed1",
   "metadata": {
    "id": "203655f7-5563-4bfb-8ebb-4866eb392ed1"
   },
   "source": [
    "# Simple LDA\n",
    "## Datenvorbereinigung\n",
    "### Step 0: Libraries importieren"
   ]
  },
  {
   "cell_type": "code",
   "execution_count": 149,
   "id": "4e47e6f8-ef53-4c60-99a6-f6203b7f456c",
   "metadata": {
    "id": "4e47e6f8-ef53-4c60-99a6-f6203b7f456c",
    "tags": []
   },
   "outputs": [],
   "source": [
    "# The Basics\n",
    "import pandas as pd\n",
    "import numpy\n",
    "from pprint import pprint"
   ]
  },
  {
   "cell_type": "code",
   "execution_count": 150,
   "id": "403c71ae-1564-46bf-bc05-23e049ef1811",
   "metadata": {
    "colab": {
     "base_uri": "https://localhost:8080/"
    },
    "id": "403c71ae-1564-46bf-bc05-23e049ef1811",
    "outputId": "87da1721-1bb5-451a-a1d1-b0d8a39a7327",
    "tags": []
   },
   "outputs": [
    {
     "name": "stderr",
     "output_type": "stream",
     "text": [
      "[nltk_data] Downloading package punkt to\n",
      "[nltk_data]     /Users/niklaselsasser/nltk_data...\n",
      "[nltk_data]   Package punkt is already up-to-date!\n",
      "[nltk_data] Downloading package stopwords to\n",
      "[nltk_data]     /Users/niklaselsasser/nltk_data...\n",
      "[nltk_data]   Package stopwords is already up-to-date!\n",
      "[nltk_data] Downloading package wordnet to\n",
      "[nltk_data]     /Users/niklaselsasser/nltk_data...\n",
      "[nltk_data]   Package wordnet is already up-to-date!\n"
     ]
    }
   ],
   "source": [
    "# The Preprocessing\n",
    "import re\n",
    "import nltk\n",
    "nltk.download(\"punkt\")\n",
    "nltk.download(\"stopwords\")\n",
    "nltk.download(\"wordnet\")\n",
    "from nltk.corpus import stopwords\n",
    "from nltk.tokenize import word_tokenize\n",
    "from nltk.stem import WordNetLemmatizer\n",
    "import string\n",
    "import re"
   ]
  },
  {
   "cell_type": "code",
   "execution_count": 151,
   "id": "396fc40c-5d3f-4863-958c-dd34d8e8b49f",
   "metadata": {
    "id": "396fc40c-5d3f-4863-958c-dd34d8e8b49f",
    "tags": []
   },
   "outputs": [],
   "source": [
    "# The Modell\n",
    "import gensim\n",
    "import gensim.corpora as corpora\n",
    "from gensim.models import CoherenceModel\n",
    "from gensim.utils import simple_preprocess\n",
    "from gensim.models.ldamodel import LdaModel"
   ]
  },
  {
   "cell_type": "markdown",
   "id": "5bc0a79e-c3b7-4cdc-82d4-2724f674db7f",
   "metadata": {
    "id": "5bc0a79e-c3b7-4cdc-82d4-2724f674db7f"
   },
   "source": [
    "### Step 1: Das Dataframe (be)laden"
   ]
  },
  {
   "cell_type": "code",
   "execution_count": 153,
   "id": "un27Krsh3cKo",
   "metadata": {
    "id": "un27Krsh3cKo"
   },
   "outputs": [],
   "source": [
    "#code necessary when running in colab\n",
    "import json\n",
    "import pandas as pd\n",
    "\n",
    "dataset_path = \"News_Category_Dataset_v3.json\"\n",
    "\n",
    "with open(dataset_path, 'r') as file:\n",
    "    news_data = [json.loads(line) for line in file]\n",
    "\n",
    "df = pd.DataFrame(news_data)"
   ]
  },
  {
   "cell_type": "code",
   "execution_count": 154,
   "id": "65cefd47-53f8-4026-93d9-aad600d95e5a",
   "metadata": {
    "id": "65cefd47-53f8-4026-93d9-aad600d95e5a",
    "tags": []
   },
   "outputs": [],
   "source": [
    "#code necessary when running locally\n",
    "df = pd.read_json(\"News_Category_Dataset_v3.json\", lines=True)"
   ]
  },
  {
   "cell_type": "markdown",
   "id": "ddd978dd-849d-4019-ad54-b2fc834f4450",
   "metadata": {
    "id": "ddd978dd-849d-4019-ad54-b2fc834f4450",
    "tags": []
   },
   "source": [
    "### Step 2: Data Cleansing"
   ]
  },
  {
   "cell_type": "code",
   "execution_count": 155,
   "id": "ce5dcb8c-f452-4a0f-9060-aa9d591346f4",
   "metadata": {
    "id": "ce5dcb8c-f452-4a0f-9060-aa9d591346f4",
    "outputId": "f2c0fbc6-f96e-454b-9dd4-098bb708adea",
    "tags": []
   },
   "outputs": [
    {
     "data": {
      "text/html": [
       "<div>\n",
       "<style scoped>\n",
       "    .dataframe tbody tr th:only-of-type {\n",
       "        vertical-align: middle;\n",
       "    }\n",
       "\n",
       "    .dataframe tbody tr th {\n",
       "        vertical-align: top;\n",
       "    }\n",
       "\n",
       "    .dataframe thead th {\n",
       "        text-align: right;\n",
       "    }\n",
       "</style>\n",
       "<table border=\"1\" class=\"dataframe\">\n",
       "  <thead>\n",
       "    <tr style=\"text-align: right;\">\n",
       "      <th></th>\n",
       "      <th>headline</th>\n",
       "      <th>category</th>\n",
       "      <th>short_description</th>\n",
       "    </tr>\n",
       "  </thead>\n",
       "  <tbody>\n",
       "    <tr>\n",
       "      <th>0</th>\n",
       "      <td>Over 4 Million Americans Roll Up Sleeves For O...</td>\n",
       "      <td>U.S. NEWS</td>\n",
       "      <td>Health experts said it is too early to predict...</td>\n",
       "    </tr>\n",
       "    <tr>\n",
       "      <th>1</th>\n",
       "      <td>American Airlines Flyer Charged, Banned For Li...</td>\n",
       "      <td>U.S. NEWS</td>\n",
       "      <td>He was subdued by passengers and crew when he ...</td>\n",
       "    </tr>\n",
       "    <tr>\n",
       "      <th>2</th>\n",
       "      <td>23 Of The Funniest Tweets About Cats And Dogs ...</td>\n",
       "      <td>COMEDY</td>\n",
       "      <td>\"Until you have a dog you don't understand wha...</td>\n",
       "    </tr>\n",
       "    <tr>\n",
       "      <th>3</th>\n",
       "      <td>The Funniest Tweets From Parents This Week (Se...</td>\n",
       "      <td>PARENTING</td>\n",
       "      <td>\"Accidentally put grown-up toothpaste on my to...</td>\n",
       "    </tr>\n",
       "    <tr>\n",
       "      <th>4</th>\n",
       "      <td>Woman Who Called Cops On Black Bird-Watcher Lo...</td>\n",
       "      <td>U.S. NEWS</td>\n",
       "      <td>Amy Cooper accused investment firm Franklin Te...</td>\n",
       "    </tr>\n",
       "  </tbody>\n",
       "</table>\n",
       "</div>"
      ],
      "text/plain": [
       "                                            headline   category  \\\n",
       "0  Over 4 Million Americans Roll Up Sleeves For O...  U.S. NEWS   \n",
       "1  American Airlines Flyer Charged, Banned For Li...  U.S. NEWS   \n",
       "2  23 Of The Funniest Tweets About Cats And Dogs ...     COMEDY   \n",
       "3  The Funniest Tweets From Parents This Week (Se...  PARENTING   \n",
       "4  Woman Who Called Cops On Black Bird-Watcher Lo...  U.S. NEWS   \n",
       "\n",
       "                                   short_description  \n",
       "0  Health experts said it is too early to predict...  \n",
       "1  He was subdued by passengers and crew when he ...  \n",
       "2  \"Until you have a dog you don't understand wha...  \n",
       "3  \"Accidentally put grown-up toothpaste on my to...  \n",
       "4  Amy Cooper accused investment firm Franklin Te...  "
      ]
     },
     "execution_count": 155,
     "metadata": {},
     "output_type": "execute_result"
    }
   ],
   "source": [
    "df.drop(columns=[\"link\", \"authors\", \"date\"], inplace=True)\n",
    "df.head()"
   ]
  },
  {
   "cell_type": "markdown",
   "id": "448c8951-15c5-413e-8b06-427a13098c6f",
   "metadata": {
    "id": "448c8951-15c5-413e-8b06-427a13098c6f"
   },
   "source": [
    "Auf den ersten Blick können wir erkennen, dass die Kategorie \"U.S. NEWS\" eher ein mix aus unterschiedlichen Themen ist.\n",
    "<br>Das könnte später unseren Algorithmus verwirren, weshalb wir Kategorien welche aus unterschiedlichen Themen bestehen, entfernen wollen."
   ]
  },
  {
   "cell_type": "code",
   "execution_count": 156,
   "id": "47494bb5-f759-40b9-b93a-cdc7e2f841de",
   "metadata": {
    "id": "47494bb5-f759-40b9-b93a-cdc7e2f841de",
    "outputId": "50bdd971-bde7-4ba9-dd37-a7eb5229d293",
    "tags": []
   },
   "outputs": [
    {
     "data": {
      "text/plain": [
       "array(['U.S. NEWS', 'COMEDY', 'PARENTING', 'WORLD NEWS', 'CULTURE & ARTS',\n",
       "       'TECH', 'SPORTS', 'ENTERTAINMENT', 'POLITICS', 'WEIRD NEWS',\n",
       "       'ENVIRONMENT', 'EDUCATION', 'CRIME', 'SCIENCE', 'WELLNESS',\n",
       "       'BUSINESS', 'STYLE & BEAUTY', 'FOOD & DRINK', 'MEDIA',\n",
       "       'QUEER VOICES', 'HOME & LIVING', 'WOMEN', 'BLACK VOICES', 'TRAVEL',\n",
       "       'MONEY', 'RELIGION', 'LATINO VOICES', 'IMPACT', 'WEDDINGS',\n",
       "       'COLLEGE', 'PARENTS', 'ARTS & CULTURE', 'STYLE', 'GREEN', 'TASTE',\n",
       "       'HEALTHY LIVING', 'THE WORLDPOST', 'GOOD NEWS', 'WORLDPOST',\n",
       "       'FIFTY', 'ARTS', 'DIVORCE'], dtype=object)"
      ]
     },
     "execution_count": 156,
     "metadata": {},
     "output_type": "execute_result"
    }
   ],
   "source": [
    "df.category.unique()"
   ]
  },
  {
   "cell_type": "markdown",
   "id": "b67298b2-0650-44a6-819c-a61ba86fc981",
   "metadata": {},
   "source": [
    "Kategorien welche wahrscheinlich mehrere Themen umfassen werden erfasst. Im unteren Sample können wir erkennen, dass unsere These korrekt ist."
   ]
  },
  {
   "cell_type": "code",
   "execution_count": 157,
   "id": "33d0acb4-ba5e-4029-9671-d5b2f92c2630",
   "metadata": {
    "id": "33d0acb4-ba5e-4029-9671-d5b2f92c2630",
    "tags": []
   },
   "outputs": [
    {
     "data": {
      "text/html": [
       "<div>\n",
       "<style scoped>\n",
       "    .dataframe tbody tr th:only-of-type {\n",
       "        vertical-align: middle;\n",
       "    }\n",
       "\n",
       "    .dataframe tbody tr th {\n",
       "        vertical-align: top;\n",
       "    }\n",
       "\n",
       "    .dataframe thead th {\n",
       "        text-align: right;\n",
       "    }\n",
       "</style>\n",
       "<table border=\"1\" class=\"dataframe\">\n",
       "  <thead>\n",
       "    <tr style=\"text-align: right;\">\n",
       "      <th></th>\n",
       "      <th>headline</th>\n",
       "      <th>category</th>\n",
       "      <th>short_description</th>\n",
       "    </tr>\n",
       "  </thead>\n",
       "  <tbody>\n",
       "    <tr>\n",
       "      <th>4996</th>\n",
       "      <td>93-Year-Old Woman Goes Viral When She Tells In...</td>\n",
       "      <td>WEIRD NEWS</td>\n",
       "      <td>On Monday, Coors Light dropped off 150 cans of...</td>\n",
       "    </tr>\n",
       "    <tr>\n",
       "      <th>6399</th>\n",
       "      <td>Shooting At Brooklyn Community Event Leaves 1 ...</td>\n",
       "      <td>U.S. NEWS</td>\n",
       "      <td>New York City Mayor Bill de Blasio vowed to “d...</td>\n",
       "    </tr>\n",
       "    <tr>\n",
       "      <th>74496</th>\n",
       "      <td>Woman Accused Of Commandeering Bus After Drive...</td>\n",
       "      <td>WEIRD NEWS</td>\n",
       "      <td>She didn't get very far.</td>\n",
       "    </tr>\n",
       "    <tr>\n",
       "      <th>24611</th>\n",
       "      <td>Now I Know What Fear Is</td>\n",
       "      <td>WORLD NEWS</td>\n",
       "      <td>Everywhere I looked on my way home, someone wa...</td>\n",
       "    </tr>\n",
       "    <tr>\n",
       "      <th>127331</th>\n",
       "      <td>Reinventing Europe Along These 7 Points</td>\n",
       "      <td>WORLDPOST</td>\n",
       "      <td>In its present form, the EU is weak, particula...</td>\n",
       "    </tr>\n",
       "  </tbody>\n",
       "</table>\n",
       "</div>"
      ],
      "text/plain": [
       "                                                 headline    category  \\\n",
       "4996    93-Year-Old Woman Goes Viral When She Tells In...  WEIRD NEWS   \n",
       "6399    Shooting At Brooklyn Community Event Leaves 1 ...   U.S. NEWS   \n",
       "74496   Woman Accused Of Commandeering Bus After Drive...  WEIRD NEWS   \n",
       "24611                             Now I Know What Fear Is  WORLD NEWS   \n",
       "127331            Reinventing Europe Along These 7 Points   WORLDPOST   \n",
       "\n",
       "                                        short_description  \n",
       "4996    On Monday, Coors Light dropped off 150 cans of...  \n",
       "6399    New York City Mayor Bill de Blasio vowed to “d...  \n",
       "74496                            She didn't get very far.  \n",
       "24611   Everywhere I looked on my way home, someone wa...  \n",
       "127331  In its present form, the EU is weak, particula...  "
      ]
     },
     "execution_count": 157,
     "metadata": {},
     "output_type": "execute_result"
    }
   ],
   "source": [
    "df[df[\"category\"].isin([\"U.S. NEWS\", \"WORLD NEWS\", \"WEIRD NEWS\", \"THE WORLDPOST\", \"WORLDPOST\"])].sample(5, random_state=0)"
   ]
  },
  {
   "cell_type": "markdown",
   "id": "79611aa7-6a4d-4d24-8487-2815ac8c3bf2",
   "metadata": {
    "id": "79611aa7-6a4d-4d24-8487-2815ac8c3bf2"
   },
   "source": [
    "Was auch ins Auge fällt, ist Zeile `74496`. Ihre short_description ist zu kurz um daraus einen wertvollen Einblick zu erhalten. Das merken wir uns für später ;)"
   ]
  },
  {
   "cell_type": "code",
   "execution_count": 158,
   "id": "47ecd2ef-6643-4681-93a9-418d5d54eafa",
   "metadata": {
    "id": "47ecd2ef-6643-4681-93a9-418d5d54eafa",
    "tags": []
   },
   "outputs": [],
   "source": [
    "# Removal of useless categories\n",
    "df = df[~df[\"category\"].isin([\"U.S. NEWS\", \"WORLD NEWS\", \"WEIRD NEWS\", \"THE WORLDPOST\", \"WORLDPOST\"])]"
   ]
  },
  {
   "cell_type": "code",
   "execution_count": 159,
   "id": "69a69de7-afff-432a-aecd-d78ec66d051b",
   "metadata": {
    "id": "69a69de7-afff-432a-aecd-d78ec66d051b",
    "tags": []
   },
   "outputs": [
    {
     "name": "stdout",
     "output_type": "stream",
     "text": [
      "unique_categories=37\n"
     ]
    }
   ],
   "source": [
    "unique_categories = len(df.category.unique())\n",
    "print(f\"{unique_categories=}\")"
   ]
  },
  {
   "cell_type": "markdown",
   "id": "ee9f5adf-fb9c-4bf5-aa98-6ded0a06d761",
   "metadata": {},
   "source": [
    "Wir haben die alten Kategorien entfernt und sind jetzt bei schlanken 37 Kategorien.\n",
    "<br>Als nächstes bereiten wir den Text aus der Überschrift und der Beschreibung etwas auf.\n",
    "<br>Dazu entfernen wir alle Interpunktierung, Stoppwörter, Sonderzeichen und sorgen dafür, dass alle Buchstaben klein geschrieben sind. Diese Datenbereinigung, sowie die Erstellung des Gensim-Dictionary wird im verbesserten LDA ausführlicher beschrieben."
   ]
  },
  {
   "cell_type": "code",
   "execution_count": 160,
   "id": "ae4e7ba9-afd6-4939-a98f-0f751f004c7f",
   "metadata": {
    "tags": []
   },
   "outputs": [],
   "source": [
    "def preprocess_text(text):\n",
    "    text = text.lower()\n",
    "    text = re.sub(r'[^\\w\\s]', '', text)\n",
    "\n",
    "    tokens = word_tokenize(text)\n",
    "\n",
    "    # Remove stopwords and lemmatize\n",
    "    stop_words = set(stopwords.words('english'))\n",
    "    lemmatizer = WordNetLemmatizer()\n",
    "\n",
    "    tokens = [lemmatizer.lemmatize(word) for word in tokens if word not in stop_words]\n",
    "\n",
    "    return tokens"
   ]
  },
  {
   "cell_type": "markdown",
   "id": "d217b404-4c6a-4f51-9135-60aaef44569e",
   "metadata": {},
   "source": [
    "Ein Beispiel wie diese Textaufbereitung funktiniert und was sie zurückgibt, findet sich in der unteren Zelle"
   ]
  },
  {
   "cell_type": "code",
   "execution_count": 161,
   "id": "b47bc722-60b1-40e1-b0de-8dfb07de094c",
   "metadata": {
    "tags": []
   },
   "outputs": [
    {
     "name": "stdout",
     "output_type": "stream",
     "text": [
      "['important', 'text', 'mentioning', 'president', 'health', 'department', 'germany']\n"
     ]
    }
   ],
   "source": [
    "print(preprocess_text(\"This is a very important text mentioning the President, the Health Department and Germany\"), sep=\" \")"
   ]
  },
  {
   "cell_type": "code",
   "execution_count": 162,
   "id": "53172ae4-1b39-494b-8206-259f8e102578",
   "metadata": {
    "tags": []
   },
   "outputs": [
    {
     "name": "stdout",
     "output_type": "stream",
     "text": [
      "          category                                     processed_text\n",
      "2           COMEDY  [23, funniest, tweet, cat, dog, week, sept, 17...\n",
      "3        PARENTING  [funniest, tweet, parent, week, sept, 1723, ac...\n",
      "8   CULTURE & ARTS  [new, documentary, capture, complexity, child,...\n",
      "13            TECH  [twitch, ban, gambling, site, streamer, scam, ...\n",
      "16  CULTURE & ARTS  [reboot, clever, navelgazey, look, inside, tv,...\n"
     ]
    }
   ],
   "source": [
    "# Apply preprocessing to the headlines and short descriptions\n",
    "df['processed_text'] = df.apply(lambda row: preprocess_text(row['headline'] + ' ' + row['short_description']), axis=1)\n",
    "\n",
    "# Filter out empty processed_text\n",
    "processed_df = df[df['processed_text'].apply(len) > 0]\n",
    "\n",
    "# Inspect the processed text\n",
    "print(processed_df[['category', 'processed_text']].head())"
   ]
  },
  {
   "cell_type": "code",
   "execution_count": 163,
   "id": "de213a5d-35c0-4bbf-8ca9-fb76b5aa9fd5",
   "metadata": {
    "tags": []
   },
   "outputs": [
    {
     "data": {
      "text/html": [
       "<div>\n",
       "<style scoped>\n",
       "    .dataframe tbody tr th:only-of-type {\n",
       "        vertical-align: middle;\n",
       "    }\n",
       "\n",
       "    .dataframe tbody tr th {\n",
       "        vertical-align: top;\n",
       "    }\n",
       "\n",
       "    .dataframe thead th {\n",
       "        text-align: right;\n",
       "    }\n",
       "</style>\n",
       "<table border=\"1\" class=\"dataframe\">\n",
       "  <thead>\n",
       "    <tr style=\"text-align: right;\">\n",
       "      <th></th>\n",
       "      <th>short_description</th>\n",
       "      <th>processed_text</th>\n",
       "    </tr>\n",
       "  </thead>\n",
       "  <tbody>\n",
       "    <tr>\n",
       "      <th>2965</th>\n",
       "      <td>The country singer paid tribute to Elvis Presl...</td>\n",
       "      <td>[eric, church, get, covid19, vaccine, shot, bi...</td>\n",
       "    </tr>\n",
       "    <tr>\n",
       "      <th>167389</th>\n",
       "      <td>Long was last rumored to be dating actress Kat...</td>\n",
       "      <td>[justin, long, describes, wedding, test, hed, ...</td>\n",
       "    </tr>\n",
       "    <tr>\n",
       "      <th>66615</th>\n",
       "      <td>\"African Americans will disproportionately bea...</td>\n",
       "      <td>[federal, court, rule, ohio, voting, cutback, ...</td>\n",
       "    </tr>\n",
       "    <tr>\n",
       "      <th>38088</th>\n",
       "      <td>Drivers in some regions of the country display...</td>\n",
       "      <td>[distracted, driver, safest, driver, region, c...</td>\n",
       "    </tr>\n",
       "    <tr>\n",
       "      <th>14936</th>\n",
       "      <td>\"Yeah but at least I suck while singing our [c...</td>\n",
       "      <td>[pink, clap, back, troll, mocked, national, an...</td>\n",
       "    </tr>\n",
       "  </tbody>\n",
       "</table>\n",
       "</div>"
      ],
      "text/plain": [
       "                                        short_description  \\\n",
       "2965    The country singer paid tribute to Elvis Presl...   \n",
       "167389  Long was last rumored to be dating actress Kat...   \n",
       "66615   \"African Americans will disproportionately bea...   \n",
       "38088   Drivers in some regions of the country display...   \n",
       "14936   \"Yeah but at least I suck while singing our [c...   \n",
       "\n",
       "                                           processed_text  \n",
       "2965    [eric, church, get, covid19, vaccine, shot, bi...  \n",
       "167389  [justin, long, describes, wedding, test, hed, ...  \n",
       "66615   [federal, court, rule, ohio, voting, cutback, ...  \n",
       "38088   [distracted, driver, safest, driver, region, c...  \n",
       "14936   [pink, clap, back, troll, mocked, national, an...  "
      ]
     },
     "execution_count": 163,
     "metadata": {},
     "output_type": "execute_result"
    }
   ],
   "source": [
    "# Overview over preprocessed text\n",
    "processed_df[['short_description', 'processed_text']].sample(5)"
   ]
  },
  {
   "cell_type": "code",
   "execution_count": 164,
   "id": "b790f2dd-498a-4abb-a0d3-3a470d48cfba",
   "metadata": {
    "tags": []
   },
   "outputs": [],
   "source": [
    "# Extract just the processed texts for future use\n",
    "processed_texts = [doc[\"processed_text\"] for _, doc in processed_df.iterrows()] "
   ]
  },
  {
   "cell_type": "markdown",
   "id": "844cdc92-12c6-4e97-a129-f14f140b5611",
   "metadata": {
    "id": "844cdc92-12c6-4e97-a129-f14f140b5611"
   },
   "source": [
    "### Step 3: Hilfsmittel für das LDA Model erstellen\n",
    "Um das LDA Model später geordnet zu erzeugen, erstellen wir zwei Hilfsmittel.\n",
    "### Dictionary: ID zu Wort\n",
    "Corpora weißt jeden Wort eine eindeutige ID zu, mit welcher es später wieder erkannt werden kann.\n",
    "<br>Dies hilft bei der schnellen und effizienten Verarbeitung der Wörter\n",
    "\n",
    "### Liste: Korpus\n",
    "Der Korpus listet für alle Dokumente einen Vektor welchen wir als \"Bag of Words\" bezeichnen.\n",
    "<br>Er enthält alle Wörter und ihre Häufigkeit in dem Dokument. Über diesen Vektor, kann dem Dokument eine Bedeutung zugewiesen werden."
   ]
  },
  {
   "cell_type": "code",
   "execution_count": 165,
   "id": "73c5abc9-1c21-480d-aaf6-f86aefee9cfa",
   "metadata": {
    "id": "73c5abc9-1c21-480d-aaf6-f86aefee9cfa",
    "tags": []
   },
   "outputs": [],
   "source": [
    "id2word = corpora.Dictionary(processed_texts)\n",
    "\n",
    "corpus = [id2word.doc2bow(text) for text in processed_texts]"
   ]
  },
  {
   "cell_type": "markdown",
   "id": "80b11804-c2a6-4e21-a899-88423c638385",
   "metadata": {
    "id": "80b11804-c2a6-4e21-a899-88423c638385"
   },
   "source": [
    "## LDA Modell\n",
    "### Step 4: Das LDA Model trainieren\n",
    "Das Latent Dirichlet Allocation (Latente Dirichlet Zuordnung (LDA)) Verfahren ist ein 3-stufiges Bayesian Model, um Topic Modeling durchzuführen (Blei et al.(2003)). Das Verfahren besteht aus den Teilen:\n",
    "* **Latent:** Die Themen des Korpuses sind verborgen und müssen aus den Dokumenten und deren Wortverteilung abgeleitet werden (Blei et al. (2003), S. 1007).\n",
    "* **Dirichlet:** Eine Verteilung, basierend auf dem Bayesian Modell, welche die Prioriverteilung (Anfangswahrscheinlichkeit) für die Themenverteilung in den Dokumenten darstellt und die Parameter beeinflussen wie stark bestimmte Themen in einem Dokument vertreten sind (Blei et al. (2003), S. 1007).\n",
    "* **Allocation:** Die Prozess der Zuweisung und Verteilung beschreibt wie Wörter den verschiedenen Themen zugeordnet werden und wie die Themen in einem Dokument verteilt sind. Allocation beschreibt wie das Modell Wörter in einem Dokument aufgrund ihrer Wahrscheinlichkeit verschiedenen latenten Themen zugeordnet sind. Die Themen - Wörter verteilung in einem Dokument bildet die Grundlage der Analyse (Blei et al. (2003), S. 1007).\n",
    "\n",
    "LDA nimmt an das es eine Themenverteilung für jeden Text gibt, welche berechnet wird indem ein Thema aus allen verfügbaren Themen $T={T_1,…,T_K}$ jedem Token ($≈$ Wort) eines Textes zugeordnet wird. Der Nutzer definiert dabei die Anzahl der modellierten Themen $K∈N$. Der Text (oder das Dokument) wird als Corpus bezeichnet und besteht aus Texten $M$ sowie Themen $T$ (Rieger at al. (2020 Juni), S. 120); Blei et al. (2003), S. 997).\n",
    "Dabei ist $N^m$ die Größe des Textes und $W={W,…,W_V}$ die Menge der Wörter wobei $V∈N$ die Größe des implizierten Vokabulars (die Menge aller eindeutigen Wörter) ist(Rieger et al. (2020 Juni), S. 120).\n",
    "\n",
    "<img src=\"visuals/page1.png\" alt=\"p1\" width=\"250\" />\n",
    "<br>\n",
    "<img src=\"visuals/page2.png\" alt=\"p2\" width=\"250\" />\n",
    "\n",
    "Somit besteht ein $Dokument$ aus:\n",
    "$$\n",
    "D^{(m)} = (W_1^{(m)}, \\dots, W_{N^{(m)}}^{(m)}), \\quad W_n^{(m)} \\in W; \\quad n = 1, \\dots, N^m\n",
    "$$\n",
    "Die Themenzuweisung für einen Text $m$ ist wie folgt:\n",
    "$$\n",
    "T^{(m)} = (T^{(m)}, \\dots, T_{N^{(m)}}^{(m)}), \\quad T_n^{(m)} \\in T\n",
    "$$\n",
    "Jede Themenzuweisung $T_n^{(m)}$ hängt mit einem Token $W_n^{(m)}$ aus dem Text $m$ zusammen.\n",
    "\n",
    "![page3.png](visuals/page3.png)\n",
    "\n",
    "Um das Wahrscheinlichkeitsmodell für LDA aufzustellen sind folgende Definitionen und Annahmen notwendig: $n_k^{(mv)};k=1,…,K;v=1,…,V$ als Anzahl zugewiesener Wörter $v$ in Text $m$ zugehörig zu Thema $k$, dadurch lässt sich die Summe der Wörter $v$  in Thema $k$ über alle Dokumente $D$ mit $n_k^{(*v)}$ bestimmen. Wenn $w_k$ die Vektoren der Wortanzahl für $k=1,…,K$ Themen ist, dann lässt sich mit diesen Definitionen das Modell wie folgt aufstellen:\n",
    "\n",
    "$$\n",
    "W_n^{(m)} \\mid T_n^{(m)}, \\phi_k \\sim \\text{Discrete}(\\phi_k), \\quad \\phi_k \\sim \\text{Dirichlet}(\\eta)\n",
    "$$\n",
    "\n",
    "$$\n",
    "T_n^{(m)} \\mid \\theta_m \\sim \\text{Discrete}(\\theta_m), \\quad \\theta_m \\sim \\text{Dirichlet}(\\alpha)\n",
    "$$\n",
    "\n",
    "\n",
    "Die Dirichlet Verteilungs Hyperparameter $α$ und $η$ müssen vom Nutzer deklariert werden. Da normalerweise keine a-priori (Anfangswahrscheinlichkeit) Informationen der Themen $θ$  und Wortverteilungen $ϕ$ vorliegen, werden $α$ und $η$ symmetrisch bestimmt (Rieger at al. (2020 Juni), S. 120).\n",
    "\n",
    "Ein hoher $η$ Wert führt zu einem Verlust der Gleichmäßigkeit der Wortmischung pro Thema, ein niedriger $η$ Wert erhöht und verbessert die Gleichmäßigkeit wodurch weniger dominantere Wörter pro Thema zugeordnet werden. Nach dem gleichen Prinzip steuert α die Mischung der Themen in den Texten (Rieger at al. (2020 Juni), S. 120).\n",
    "\n",
    "LDA ist eine Weiterentwicklung von LSI, bzw. pLSI, wobei LSI selbst eine Weiterentwicklung von tf-idf ist (Blei et al. (2003), S. 994). LSI verbessert tf-idf indem eine größere reduktion der Beschreibungslänge in großen Daten möglich ist und die statistische Struktur zwischen oder innerhalb von Dokumenten offenbart (Blei et al. (2003), S. 994; Rosario, B. (2000)). Probability LSI (pLSI) verbessert LSI dahingehend, dass alle Worte in einem Dokument eine Stichprobe aus einem Mischungsmodell sind in welchem wiederum verschiedene Themen Multinomial-Verteilungen abgebildet sind (Blei et al. (2003), S. 994). Durch die linearität des Modelles kommt es zu overfitting, zusätzlich gibt es keine Möglichkeit nicht im Training enthaltenen Dokumenten eine Wahrscheinlichkeit zuzuweisen (Blei et al. (2003), S. 994).\n",
    "Um Repräsentationen von Dokumenten und Wörtern austauschbar abzubilden, ist es notwendig mixture-models zu verwenden und somit den angeführten Limitationen von LSI und verwandten Ansätzen zu entgehen (Blei et al. (2003), S. 995).\n",
    "\n",
    "Außerdem grenzt sich LDA von Hierarchical Latent Tree Analysis (HLTA) wie folgt ab, HLTA stellt Koinzidenz Muster explizit in Modellstrukturen dar (Chen at al. (2017), S. 1). HLTA ist somit eine Methode um Themen zu erkennen, indem ein Thema anhand von Wörtern identifiziert wird, die häufig in einem Thema und selten in einem anderen Thema auftreten (Liu et al. (2014), S. 1)."
   ]
  },
  {
   "cell_type": "markdown",
   "id": "e2611ee8",
   "metadata": {},
   "source": []
  },
  {
   "cell_type": "code",
   "execution_count": null,
   "id": "e18d4db6-ea96-4740-87f9-e24fb161928c",
   "metadata": {
    "id": "e18d4db6-ea96-4740-87f9-e24fb161928c",
    "tags": []
   },
   "outputs": [],
   "source": [
    "import time\n",
    "start_time = time.time()\n",
    "lda_model = LdaModel(corpus=corpus, id2word=id2word,\n",
    "                    num_topics=unique_categories,\n",
    "                    random_state=42,\n",
    "                    passes=10,\n",
    "                    alpha=\"auto\",\n",
    "                    per_word_topics=True)\n",
    "stop_time = time.time()\n",
    "run_time = stop_time - start_time\n",
    "print(\"Wall time:\", run_time/60, \"m\")"
   ]
  },
  {
   "cell_type": "code",
   "execution_count": 32,
   "id": "1f58c95a-2929-4b67-a693-bccfa060899b",
   "metadata": {
    "colab": {
     "base_uri": "https://localhost:8080/"
    },
    "id": "1f58c95a-2929-4b67-a693-bccfa060899b",
    "outputId": "b3592c37-2b94-48ec-9a8e-8a62ced95e90",
    "tags": []
   },
   "outputs": [
    {
     "name": "stdout",
     "output_type": "stream",
     "text": [
      "Coherence Score: 0.24897375347328105\n"
     ]
    }
   ],
   "source": [
    "coherence_model_lda = CoherenceModel(model=lda_model, texts=processed_texts, dictionary=id2word, coherence=\"c_v\")\n",
    "coherence_lda = coherence_model_lda.get_coherence()\n",
    "print(\"Coherence Score:\", coherence_lda)"
   ]
  },
  {
   "cell_type": "code",
   "execution_count": 33,
   "id": "8c72d20e",
   "metadata": {
    "tags": []
   },
   "outputs": [
    {
     "data": {
      "text/html": [
       "<div>\n",
       "<style scoped>\n",
       "    .dataframe tbody tr th:only-of-type {\n",
       "        vertical-align: middle;\n",
       "    }\n",
       "\n",
       "    .dataframe tbody tr th {\n",
       "        vertical-align: top;\n",
       "    }\n",
       "\n",
       "    .dataframe thead th {\n",
       "        text-align: right;\n",
       "    }\n",
       "</style>\n",
       "<table border=\"1\" class=\"dataframe\">\n",
       "  <thead>\n",
       "    <tr style=\"text-align: right;\">\n",
       "      <th></th>\n",
       "      <th>Run</th>\n",
       "      <th>Duration (minutes)</th>\n",
       "      <th>Coherence Score</th>\n",
       "    </tr>\n",
       "  </thead>\n",
       "  <tbody>\n",
       "    <tr>\n",
       "      <th>0</th>\n",
       "      <td>1</td>\n",
       "      <td>50.238107</td>\n",
       "      <td>0.248974</td>\n",
       "    </tr>\n",
       "  </tbody>\n",
       "</table>\n",
       "</div>"
      ],
      "text/plain": [
       "   Run  Duration (minutes)  Coherence Score\n",
       "0    1           50.238107         0.248974"
      ]
     },
     "execution_count": 33,
     "metadata": {},
     "output_type": "execute_result"
    }
   ],
   "source": [
    "data = {\n",
    "    \"Duration (minutes)\": [run_time/60],\n",
    "    \"Coherence Score\": [coherence_lda]\n",
    "}\n",
    "export_df = pd.DataFrame(data)\n",
    "export_df.insert(0, 'Run', 1)\n",
    "export_df.to_csv(r\"data\\vanilla_lda_data.csv\", index=False)\n",
    "export_df.to_csv('data/vanilla_lda_data.csv', index=False) # mac code\n",
    "export_df.head()"
   ]
  },
  {
   "cell_type": "markdown",
   "id": "f7cde344-42b2-4663-8999-915dbc63ba6e",
   "metadata": {
    "id": "f7cde344-42b2-4663-8999-915dbc63ba6e"
   },
   "source": [
    "## PyLDAvis\n",
    "### Step 5: Visualisierung mit pyLDAvis\n",
    "Um zu visualisieren, wie unser LDA Model Wörter kategorisiert, nutzen wir die Library pyLDAvis.\n",
    "<br>Mit ihr können wir uns einen interaktiven und intuitiven Überblick über unser Model verschaffen"
   ]
  },
  {
   "cell_type": "code",
   "execution_count": 35,
   "id": "08eefd02-5e35-4b1e-aa04-89d40b60ad44",
   "metadata": {
    "id": "08eefd02-5e35-4b1e-aa04-89d40b60ad44",
    "tags": []
   },
   "outputs": [],
   "source": [
    "import pyLDAvis\n",
    "from pyLDAvis import gensim_models\n",
    "pyLDAvis.enable_notebook()"
   ]
  },
  {
   "cell_type": "code",
   "execution_count": 36,
   "id": "e86a570a-7fb5-4d36-a708-1abca98b2875",
   "metadata": {
    "id": "e86a570a-7fb5-4d36-a708-1abca98b2875",
    "tags": []
   },
   "outputs": [],
   "source": [
    "visualisation = pyLDAvis.gensim_models.prepare(lda_model, corpus, id2word)"
   ]
  },
  {
   "cell_type": "code",
   "execution_count": 37,
   "id": "628ecef4-8672-4769-b6db-1ca4509d81cb",
   "metadata": {
    "id": "628ecef4-8672-4769-b6db-1ca4509d81cb",
    "outputId": "dacd90ed-aa1e-45c3-ac9c-4ceb7de2be9a",
    "tags": []
   },
   "outputs": [
    {
     "data": {
      "text/html": [
       "\n",
       "<link rel=\"stylesheet\" type=\"text/css\" href=\"https://cdn.jsdelivr.net/gh/bmabey/pyLDAvis@3.4.0/pyLDAvis/js/ldavis.v1.0.0.css\">\n",
       "\n",
       "\n",
       "<div id=\"ldavis_el2315221479455208646676352034\" style=\"background-color:white;\"></div>\n",
       "<script type=\"text/javascript\">\n",
       "\n",
       "var ldavis_el2315221479455208646676352034_data = {\"mdsDat\": {\"x\": [-0.38439165215545323, -0.20079268728931451, -0.12554778339004471, -0.053486358661145504, -0.03911864002067724, -0.07428205820486648, -0.028837704776671358, 0.050677644609313274, -0.007089212803881343, 0.023293797717171338, 0.003155340277930758, 0.04251964209785231, 0.0037307620124738252, -0.00427899798765303, -0.0038710784485667046, 0.010202035415526113, 0.00350993147569622, 0.01469554014313568, 0.03015811055210728, -0.0007223606386900761, 0.021185015369018845, 0.012258698424570667, 0.03199017989660228, 0.07101671804720842, 0.033288163472800426, 0.02592882069492295, 0.03538688078231093, 0.062331900152718764, 0.041754926819253704, 0.031250938365654866, 0.04806247270049807, 0.061571019237367984, 0.0500132590931216, 0.04606633218378856, 0.041882888773075645, 0.06139785597823842, 0.06508966008460665], \"y\": [-0.2778710930477723, 0.3759479049539939, 0.09769512444290467, 0.026366236032219416, 0.017777136684581068, 0.04112837879018963, 0.012371003682742134, -0.015946340661679426, 0.0024870606490186953, -0.00841338344370178, -0.0014128655476333904, -0.013957939148493857, -0.0017110016002151978, 0.0014783287615993657, 0.001256318694146531, -0.004084007124538651, -0.0015837224138244284, -0.005569028684941864, -0.010455649152468709, -1.1573937586125712e-06, -0.007687887538961383, -0.004696870259361969, -0.01094915784459894, -0.02054921838943695, -0.011392521736644986, -0.00921179694286978, -0.01193196039728274, -0.0187044308987735, -0.013665527393085759, -0.010721040577409758, -0.015316445746424812, -0.018562925079856248, -0.015844411921305715, -0.014763686347678663, -0.013726876587235114, -0.01845039534814868, -0.019326151463292956], \"topics\": [1, 2, 3, 4, 5, 6, 7, 8, 9, 10, 11, 12, 13, 14, 15, 16, 17, 18, 19, 20, 21, 22, 23, 24, 25, 26, 27, 28, 29, 30, 31, 32, 33, 34, 35, 36, 37], \"cluster\": [1, 1, 1, 1, 1, 1, 1, 1, 1, 1, 1, 1, 1, 1, 1, 1, 1, 1, 1, 1, 1, 1, 1, 1, 1, 1, 1, 1, 1, 1, 1, 1, 1, 1, 1, 1, 1], \"Freq\": [18.456422465777102, 6.284228679299159, 4.294224653315448, 3.0992912139050546, 3.011122432620559, 2.637396536544428, 2.5186897490658757, 2.4858735392954743, 2.424251211116003, 2.4020572831220903, 2.2540021643050885, 2.2131802907775904, 2.2044220607252933, 2.203084311101789, 2.1992563061771926, 2.180924560966192, 2.1478434594750935, 2.085967275305104, 2.044276704786301, 2.043456595537238, 2.030385641706681, 2.0151751918423773, 1.9978450972993025, 1.9761806619571065, 1.9358280507355525, 1.927031617830659, 1.906326488028129, 1.8599151945427934, 1.8309713080811023, 1.8002852317271036, 1.761389096100962, 1.725516825454639, 1.6873260437135364, 1.6800109117900635, 1.63498359228119, 1.5796060817414925, 1.461251471949237]}, \"tinfo\": {\"Term\": [\"photo\", \"day\", \"wedding\", \"love\", \"way\", \"new\", \"world\", \"one\", \"child\", \"know\", \"fashion\", \"time\", \"study\", \"woman\", \"food\", \"video\", \"dont\", \"divorce\", \"2012\", \"u\", \"kid\", \"health\", \"style\", \"year\", \"check\", \"like\", \"make\", \"need\", \"week\", \"life\", \"new\", \"one\", \"time\", \"video\", \"u\", \"year\", \"like\", \"make\", \"week\", \"life\", \"get\", \"look\", \"people\", \"best\", \"want\", \"thing\", \"may\", \"take\", \"home\", \"many\", \"say\", \"first\", \"show\", \"find\", \"see\", \"back\", \"would\", \"even\", \"think\", \"much\", \"day\", \"way\", \"need\", \"go\", \"come\", \"help\", \"could\", \"work\", \"every\", \"10\", \"little\", \"american\", \"5\", \"top\", \"today\", \"huffpost\", \"got\", \"real\", \"three\", \"start\", \"weve\", \"hair\", \"secret\", \"job\", \"sometimes\", \"others\", \"everyone\", \"6\", \"point\", \"actually\", \"know\", \"dont\", \"kid\", \"good\", \"youre\", \"parent\", \"marriage\", \"part\", \"couple\", \"often\", \"school\", \"reason\", \"lot\", \"end\", \"high\", \"enough\", \"young\", \"happy\", \"offer\", \"financial\", \"wont\", \"student\", \"picture\", \"probably\", \"spend\", \"reality\", \"mental\", \"heard\", \"michelle\", \"weekly\", \"love\", \"woman\", \"girl\", \"story\", \"men\", \"thought\", \"living\", \"since\", \"read\", \"daughter\", \"dad\", \"gay\", \"together\", \"youve\", \"magazine\", \"true\", \"took\", \"behind\", \"celebrate\", \"20\", \"left\", \"wine\", \"sweet\", \"simply\", \"pregnant\", \"dark\", \"partner\", \"coffee\", \"forget\", \"british\", \"world\", \"around\", \"experience\", \"country\", \"important\", \"list\", \"social\", \"issue\", \"someone\", \"medium\", \"move\", \"asked\", \"park\", \"pick\", \"support\", \"workout\", \"group\", \"sign\", \"expert\", \"answer\", \"memory\", \"talking\", \"learning\", \"consider\", \"situation\", \"egg\", \"forward\", \"thousand\", \"scientist\", \"seeing\", \"photo\", \"style\", \"easy\", \"bad\", \"street\", \"kate\", \"3\", \"bank\", \"dog\", \"yes\", \"actress\", \"remember\", \"wall\", \"london\", \"morning\", \"buy\", \"air\", \"meal\", \"taken\", \"middleton\", \"2011\", \"sale\", \"round\", \"certain\", \"instagram\", \"journal\", \"please\", \"monday\", \"plane\", \"email\", \"child\", \"family\", \"mom\", \"mother\", \"fear\", \"old\", \"risk\", \"gift\", \"room\", \"disease\", \"image\", \"leave\", \"vacation\", \"visit\", \"arent\", \"amazing\", \"although\", \"member\", \"restaurant\", \"alone\", \"inspiration\", \"front\", \"cruise\", \"needed\", \"worry\", \"pair\", \"track\", \"door\", \"china\", \"trust\", \"mean\", \"twitter\", \"doesnt\", \"house\", \"white\", \"fact\", \"learn\", \"husband\", \"president\", \"instead\", \"piece\", \"brand\", \"understand\", \"campaign\", \"former\", \"claim\", \"keeping\", \"he\", \"user\", \"shouldnt\", \"task\", \"tiny\", \"achieve\", \"chinese\", \"calling\", \"bold\", \"2008\", \"focused\", \"grab\", \"capture\", \"summer\", \"game\", \"7\", \"whats\", \"hard\", \"name\", \"daily\", \"play\", \"2013\", \"youll\", \"late\", \"fan\", \"oscar\", \"center\", \"role\", \"form\", \"walk\", \"date\", \"return\", \"taste\", \"island\", \"singer\", \"david\", \"internet\", \"reveals\", \"performance\", \"routine\", \"playing\", \"brings\", \"player\", \"state\", \"hotel\", \"case\", \"trip\", \"public\", \"v\", \"decision\", \"service\", \"order\", \"action\", \"hold\", \"several\", \"law\", \"la\", \"spent\", \"watching\", \"government\", \"fix\", \"decade\", \"court\", \"couldnt\", \"resort\", \"ability\", \"annual\", \"detail\", \"older\", \"loving\", \"website\", \"throw\", \"allow\", \"york\", \"facebook\", \"according\", \"past\", \"step\", \"2\", \"space\", \"eye\", \"post\", \"store\", \"lesson\", \"across\", \"march\", \"met\", \"project\", \"artist\", \"site\", \"six\", \"present\", \"major\", \"dating\", \"mark\", \"hollywood\", \"record\", \"michael\", \"seven\", \"toward\", \"thank\", \"interest\", \"data\", \"found\", \"body\", \"black\", \"man\", \"death\", \"community\", \"car\", \"affect\", \"impact\", \"society\", \"pant\", \"hate\", \"dead\", \"near\", \"starting\", \"brown\", \"third\", \"shot\", \"police\", \"magic\", \"shoot\", \"gun\", \"breaking\", \"victim\", \"ground\", \"shooting\", \"celebrating\", \"showed\", \"opened\", \"income\", \"let\", \"long\", \"five\", \"eating\", \"though\", \"music\", \"line\", \"choice\", \"create\", \"bit\", \"using\", \"song\", \"anyone\", \"st\", \"table\", \"chance\", \"jennifer\", \"classic\", \"11\", \"blood\", \"engagement\", \"either\", \"rock\", \"released\", \"mile\", \"essential\", \"customer\", \"delicious\", \"rare\", \"screen\", \"fashion\", \"city\", \"perfect\", \"looking\", \"become\", \"age\", \"cover\", \"trend\", \"benefit\", \"free\", \"deal\", \"cause\", \"blue\", \"12\", \"local\", \"among\", \"system\", \"rate\", \"airport\", \"pet\", \"raise\", \"journey\", \"runway\", \"cat\", \"chicken\", \"clothes\", \"quickly\", \"ice\", \"force\", \"north\", \"health\", \"baby\", \"spring\", \"care\", \"kind\", \"recently\", \"cost\", \"patient\", \"card\", \"trying\", \"9\", \"product\", \"birthday\", \"seem\", \"popular\", \"makeup\", \"longer\", \"touch\", \"outside\", \"wish\", \"teach\", \"birth\", \"february\", \"building\", \"average\", \"trick\", \"brought\", \"garden\", \"thanks\", \"affair\", \"cancer\", \"beauty\", \"lost\", \"event\", \"bring\", \"lady\", \"ring\", \"opportunity\", \"culture\", \"beyond\", \"team\", \"sport\", \"view\", \"including\", \"honor\", \"destination\", \"program\", \"royal\", \"foot\", \"felt\", \"oil\", \"reader\", \"professional\", \"later\", \"pop\", \"land\", \"became\", \"battle\", \"bringing\", \"prince\", \"check\", \"feel\", \"making\", \"money\", \"simple\", \"yet\", \"course\", \"beach\", \"advice\", \"market\", \"process\", \"road\", \"control\", \"follow\", \"shopping\", \"habit\", \"wearing\", \"breast\", \"mistake\", \"phone\", \"spirit\", \"author\", \"middle\", \"strategy\", \"florida\", \"easier\", \"definitely\", \"private\", \"belief\", \"provide\", \"recipe\", \"heart\", \"holiday\", \"guide\", \"click\", \"recent\", \"pretty\", \"side\", \"test\", \"early\", \"possible\", \"knew\", \"went\", \"tour\", \"war\", \"add\", \"blog\", \"fresh\", \"christmas\", \"cold\", \"positive\", \"queen\", \"stage\", \"self\", \"race\", \"shape\", \"thanksgiving\", \"related\", \"tree\", \"completely\", \"there\", \"another\", \"use\", \"color\", \"used\", \"nothing\", \"working\", \"sex\", \"teen\", \"save\", \"adult\", \"type\", \"california\", \"editor\", \"paul\", \"upon\", \"miss\", \"career\", \"fast\", \"tool\", \"worker\", \"fire\", \"spiritual\", \"safety\", \"passenger\", \"via\", \"column\", \"freedom\", \"print\", \"catch\", \"2012\", \"sure\", \"le\", \"problem\", \"craft\", \"thinking\", \"already\", \"minute\", \"note\", \"natural\", \"april\", \"rest\", \"festival\", \"fitness\", \"weather\", \"vogue\", \"french\", \"solution\", \"option\", \"becoming\", \"certainly\", \"university\", \"chef\", \"serious\", \"beginning\", \"release\", \"adventure\", \"ingredient\", \"waiting\", \"realize\", \"place\", \"married\", \"fun\", \"head\", \"stay\", \"history\", \"practice\", \"second\", \"shes\", \"fit\", \"50\", \"perhaps\", \"south\", \"hear\", \"given\", \"meet\", \"else\", \"id\", \"difficult\", \"bed\", \"modern\", \"joy\", \"hospital\", \"childrens\", \"clothing\", \"entire\", \"cleaning\", \"huge\", \"discus\", \"skill\", \"right\", \"dress\", \"wear\", \"model\", \"full\", \"human\", \"hope\", \"dream\", \"anything\", \"shop\", \"drink\", \"collection\", \"avoid\", \"paris\", \"outfit\", \"surprise\", \"july\", \"united\", \"safe\", \"san\", \"published\", \"wardrobe\", \"quick\", \"wouldnt\", \"powerful\", \"include\", \"flavor\", \"walking\", \"smith\", \"nice\", \"change\", \"parenting\", \"hour\", \"credit\", \"online\", \"ago\", \"dinner\", \"maybe\", \"lead\", \"success\", \"attention\", \"energy\", \"giving\", \"cake\", \"despite\", \"earth\", \"proposal\", \"nation\", \"generation\", \"paper\", \"earlier\", \"continue\", \"dessert\", \"higher\", \"climate\", \"factor\", \"amount\", \"extreme\", \"busy\", \"target\", \"travel\", \"green\", \"run\", \"bill\", \"key\", \"stand\", \"running\", \"choose\", \"truly\", \"expect\", \"leader\", \"potential\", \"bright\", \"wednesday\", \"thursday\", \"republican\", \"doubt\", \"chris\", \"tough\", \"youd\", \"aware\", \"expected\", \"root\", \"push\", \"recovery\", \"miley\", \"cyrus\", \"prepare\", \"measure\", \"jersey\", \"weight\", \"healthy\", \"party\", \"loss\", \"challenge\", \"drug\", \"light\", \"doctor\", \"ad\", \"industry\", \"activity\", \"unique\", \"de\", \"fair\", \"quality\", \"article\", \"healthier\", \"scene\", \"romney\", \"depression\", \"debate\", \"crisis\", \"low\", \"ahead\", \"losing\", \"political\", \"particular\", \"mitt\", \"seat\", \"symptom\", \"study\", \"report\", \"1\", \"super\", \"diet\", \"bowl\", \"especially\", \"treatment\", \"medical\", \"conversation\", \"nearly\", \"science\", \"ex\", \"condition\", \"attack\", \"25\", \"los\", \"june\", \"angeles\", \"addiction\", \"available\", \"century\", \"due\", \"january\", \"client\", \"write\", \"wellbeing\", \"agree\", \"helped\", \"nine\", \"tip\", \"relationship\", \"million\", \"plan\", \"tax\", \"college\", \"pay\", \"worst\", \"kitchen\", \"price\", \"act\", \"rather\", \"effect\", \"lose\", \"half\", \"wasnt\", \"100\", \"economy\", \"cooking\", \"rise\", \"budget\", \"anniversary\", \"increase\", \"lower\", \"gave\", \"helping\", \"movement\", \"courtesy\", \"heat\", \"diamond\", \"poll\", \"believe\", \"must\", \"power\", \"research\", \"evolution\", \"rule\", \"planning\", \"effort\", \"global\", \"looked\", \"link\", \"official\", \"information\", \"wait\", \"source\", \"expensive\", \"vote\", \"policy\", \"lie\", \"balance\", \"concern\", \"election\", \"prevent\", \"lack\", \"gain\", \"seek\", \"department\", \"evidence\", \"letting\", \"question\", \"whether\", \"different\", \"stress\", \"taking\", \"obama\", \"ask\", \"far\", \"wife\", \"came\", \"interview\", \"apple\", \"begin\", \"within\", \"creative\", \"emotional\", \"youtube\", \"term\", \"anxiety\", \"exactly\", \"14\", \"began\", \"oh\", \"elizabeth\", \"sitting\", \"train\", \"response\", \"hill\", \"lucky\", \"pull\", \"food\", \"sleep\", \"eat\", \"designer\", \"small\", \"8\", \"least\", \"result\", \"likely\", \"worth\", \"sense\", \"pain\", \"skin\", \"town\", \"quite\", \"happiness\", \"clean\", \"saw\", \"decided\", \"reported\", \"google\", \"cook\", \"dangerous\", \"40\", \"wood\", \"snack\", \"sexual\", \"sheer\", \"raising\", \"female\", \"celebrity\", \"red\", \"son\", \"award\", \"future\", \"short\", \"started\", \"chocolate\", \"biggest\", \"carpet\", \"goal\", \"update\", \"dish\", \"win\", \"voice\", \"usually\", \"crazy\", \"surprising\", \"cute\", \"path\", \"gold\", \"page\", \"resolution\", \"europe\", \"bird\", \"sister\", \"academy\", \"lunch\", \"brother\", \"kick\", \"book\", \"national\", \"word\", \"beautiful\", \"done\", \"feature\", \"comment\", \"focus\", \"happens\", \"john\", \"suggests\", \"value\", \"washington\", \"nail\", \"reading\", \"security\", \"myth\", \"drive\", \"therapy\", \"responsibility\", \"tea\", \"gas\", \"apparently\", \"appears\", \"moss\", \"received\", \"pool\", \"sky\", \"led\", \"produce\", \"well\", \"art\", \"everything\", \"hot\", \"animal\", \"known\", \"inside\", \"wrong\", \"sunday\", \"winter\", \"behavior\", \"account\", \"director\", \"soon\", \"gown\", \"tried\", \"created\", \"meat\", \"training\", \"pressure\", \"stunning\", \"board\", \"greatest\", \"houston\", \"worse\", \"18\", \"breath\", \"bigger\", \"admit\", \"executive\", \"wedding\", \"company\", \"feeling\", \"business\", \"whole\", \"guest\", \"level\", \"truth\", \"close\", \"dr\", \"jessica\", \"area\", \"clear\", \"treat\", \"debt\", \"caught\", \"planet\", \"based\", \"deep\", \"similar\", \"inner\", \"large\", \"field\", \"romantic\", \"statement\", \"connection\", \"martin\", \"employee\", \"king\", \"continues\", \"divorce\", \"news\", \"network\", \"valentine\", \"hand\", \"learned\", \"15\", \"cut\", \"cool\", \"famous\", \"split\", \"olympic\", \"billion\", \"gone\", \"totally\", \"olympics\", \"approach\", \"announced\", \"anna\", \"engaged\", \"wisdom\", \"leg\", \"traditional\", \"hurricane\", \"involved\", \"diagnosis\", \"personality\", \"strength\", \"opinion\", \"investment\", \"idea\", \"keep\", \"turn\", \"matter\", \"open\", \"common\", \"single\", \"father\", \"boy\", \"linked\", \"wonder\", \"kim\", \"kardashian\", \"letter\", \"review\", \"extra\", \"halloween\", \"reach\", \"peace\", \"wild\", \"hurt\", \"costume\", \"trouble\", \"choosing\", \"anger\", \"ship\", \"excited\", \"computer\", \"missed\", \"excuse\", \"weekend\", \"personal\", \"seems\", \"water\", \"finding\", \"office\", \"special\", \"cocktail\", \"spot\", \"box\", \"item\", \"west\", \"whose\", \"creating\", \"improve\", \"glass\", \"warm\", \"drinking\", \"opening\", \"throughout\", \"accessory\", \"robert\", \"evening\", \"written\", \"marc\", \"grand\", \"whitney\", \"period\", \"aspect\", \"chronic\"], \"Freq\": [31539.0, 22695.0, 10368.0, 12123.0, 14632.0, 22507.0, 10740.0, 21599.0, 9578.0, 10548.0, 8592.0, 18050.0, 7603.0, 8615.0, 7410.0, 17540.0, 9300.0, 6962.0, 7294.0, 16359.0, 8718.0, 7125.0, 7181.0, 15403.0, 6731.0, 15241.0, 15215.0, 9160.0, 15031.0, 14943.0, 22506.402419677903, 21598.69441916, 18049.17041749956, 17539.764248047846, 16358.011995963383, 15402.447743960392, 15240.840670151643, 15214.293053167523, 15030.909471450792, 14942.223467313639, 14900.789078258664, 12929.115356034301, 12314.64161482294, 11932.73694715948, 10599.911970976491, 10579.659050829809, 10471.490318154443, 10118.590202699626, 9719.372419463554, 9305.718942108004, 9024.827543181105, 8819.189982746157, 7938.473479111337, 7820.572979570085, 7789.513983234491, 7656.398600399774, 7580.706880385876, 7424.963220107331, 7181.487897474401, 6780.10649964974, 22694.37647734581, 14631.524351214915, 9159.175692475394, 7088.295722937428, 7079.202195308886, 7044.993832862572, 6891.541064727892, 6690.294787175825, 6269.236109631098, 6247.661549898968, 5736.395911573348, 5648.759500130627, 5520.404410755847, 4875.364819632561, 4367.471980589524, 3889.5491407427003, 3746.7776525450768, 3338.68037672442, 3216.378924913873, 3168.2010381045866, 3132.8673199572286, 3055.992250054978, 2779.6298070103494, 2722.2899725798075, 2665.0692093604653, 2438.3229026435897, 2362.019088620798, 2324.3864587182775, 2294.53777735989, 2209.980469828047, 10546.977151540508, 9299.535365102678, 8717.355186736986, 7789.733695894459, 7020.248504257337, 6266.651190176561, 5468.908353207497, 4690.766892090802, 4316.624123225898, 3849.992525896967, 3525.01397349841, 3295.736436754999, 3235.465220574632, 3107.9234133438545, 2766.338232779191, 2601.3538452398534, 2495.0250899860102, 2336.531508924101, 1977.9697180833366, 1849.527728050043, 1758.2917586586016, 1734.6402580110375, 1566.1346902999974, 1559.505576666399, 1504.7124962014368, 1300.4585061724945, 1270.5213569885402, 1252.0300670293836, 1241.1011499907129, 1219.17102216272, 12122.41651615926, 8614.81608469218, 4388.408368518096, 3651.3045139496876, 3450.4548258520826, 3333.409721182112, 3233.011469227975, 3185.1134659881495, 2923.6873891531786, 2842.4058314345593, 2561.589282662174, 2466.0906241501457, 2420.0933513131117, 2318.921511150525, 2140.57417443198, 1986.9095393997984, 1934.351875935641, 1747.697732918345, 1683.2451434729649, 1635.5322776194844, 1507.6057683945178, 1360.4996101644651, 1313.8399524239464, 1217.0931778323743, 1146.728077884447, 1110.4582738581391, 1054.0213878570282, 999.9208792641181, 936.5310670566741, 895.6854081952831, 10739.789871429226, 5548.900032390654, 3552.236280045716, 3377.579393394139, 3104.4972811181133, 3041.65472485123, 2618.257951380176, 2554.3578969695145, 2480.192301166471, 1899.068201832737, 1778.6611852536766, 1778.2303961708603, 1767.2197325439117, 1757.9533634676488, 1716.314594246156, 1714.3117479560792, 1533.3625222661285, 1501.4188560990492, 1490.0772227587693, 1479.5011648375878, 1350.8701086963663, 1247.9233592206308, 1195.787408952275, 1129.7042462137022, 1047.0299299212118, 1027.0326850389388, 1008.1007672705999, 939.2836302915365, 911.38734597069, 900.67633617645, 31538.399765658694, 7180.086793447689, 2546.0630095418314, 2111.332772357722, 1922.4835519295318, 1866.9696137313683, 1694.4878548934496, 1682.087327696463, 1609.214022877797, 1403.6586771214816, 1371.707197768826, 1325.246835876236, 1290.557074627991, 1287.352497937685, 1283.5665956411724, 1140.3474923663034, 1051.6451078701625, 902.8376671989105, 868.9592931798537, 834.3771054550219, 826.2368326490262, 809.7611975236568, 795.9542429384893, 730.606370381242, 698.0334503554809, 674.4745915800794, 671.7195093573273, 630.2647449416572, 593.1492650274059, 574.8978524641437, 9577.816006336488, 6371.800590940268, 5123.320357567182, 4738.414739876501, 2817.2811372576407, 2788.7074707352535, 2632.5080783888006, 2305.8062525588634, 2259.1089065315073, 2115.112407531714, 1802.7496403406699, 1681.1154259512966, 1593.803107665519, 1560.668479396019, 1418.021818136451, 1416.8597625536588, 1307.4301605280793, 1304.638067412169, 1231.66243388448, 1145.874801938875, 999.5963486222668, 892.5350610600111, 875.8312897079804, 871.476691874943, 748.7624435774716, 715.5916340901921, 689.68195297823, 662.0181785966241, 639.8478099705555, 627.4708866035371, 6063.377694996644, 6026.286674991597, 5126.944648441097, 4562.148278428711, 3791.175746898905, 3682.630528554024, 3327.064882251607, 3107.5723549167724, 2986.4976792329844, 2471.5368533376313, 2239.223534785707, 2011.3805673562483, 1919.0361302804965, 1912.5430850442808, 1886.9897268460902, 1552.3317702273694, 1552.0675822679525, 1206.6956324192113, 1074.3809305378911, 903.8256274666473, 870.463939634899, 836.4996285648353, 754.9536925495472, 714.6405489367111, 675.1523261677976, 595.2455269765559, 592.3480233140082, 572.8557186031028, 532.6027646018157, 495.9924939706247, 4978.657696969308, 3280.965104206863, 2792.658671232663, 2745.9448593190277, 2553.144847730421, 2379.1411377997474, 2248.6491100073777, 2153.167780291524, 2112.6864685931296, 1973.010831563699, 1906.979294468359, 1725.464816681212, 1698.6785543787157, 1423.7572529773952, 1399.898305513555, 1372.2378039514979, 1337.8011602409833, 1301.5407160275565, 1299.793576916096, 1287.967946672289, 1224.7103228440149, 1224.1517898491495, 1148.1401686902436, 1063.9901490024001, 973.4119180033582, 925.842145805308, 886.6759748531816, 794.9146529455629, 775.8323483575467, 762.1835479203149, 4455.498900277793, 4404.454076416275, 2830.7949677858933, 2606.007133483773, 2212.306317451213, 2125.4287229753863, 1666.6994981027765, 1665.0653917352133, 1630.0852730293, 1539.6557689647389, 1488.4181186782307, 1380.7894343131466, 1358.3049363508255, 1344.042182426641, 1206.3500628559832, 1178.3152084817268, 1173.4245994858186, 1171.0213733048965, 1166.26418145891, 1146.2029729937954, 1065.2494434709663, 1048.214829204402, 1015.5204452747104, 984.9228730651784, 974.8980848523221, 946.7992152276644, 922.2718501037539, 842.3684048896432, 819.5055143435471, 810.3898207537691, 4941.35502868143, 4514.051272185557, 3217.835243899383, 3102.8495149793694, 2776.911521536092, 2126.3654160008264, 1979.0227082957251, 1875.3754742282263, 1827.0731052276249, 1778.3353052061984, 1752.949178554304, 1614.8289057307281, 1556.2033638743549, 1432.567325959869, 1365.8665312182902, 1361.5207186544537, 1360.229369725263, 1308.7695397792354, 1292.6379339420969, 1281.987308754042, 1186.3543056941667, 1171.179783687291, 1098.8065182750206, 1070.0112245896185, 1045.2371481024272, 837.799538612333, 827.7082195891504, 744.1783528682259, 722.9488196807749, 710.0493221999343, 4555.441615105609, 4292.734202378188, 4075.5557286082353, 3705.006563455886, 2666.110194095461, 2268.4470227727725, 1957.982315759521, 1303.1509713426246, 1206.4770337979996, 1107.505545385122, 1085.4954655346583, 1074.100139747203, 1051.7668117093392, 1043.6917209753726, 1012.1064025946777, 1008.8722663574591, 992.0653746200642, 969.2283289461609, 920.5025848171737, 876.7666878747249, 808.095221478357, 805.35782578012, 794.6914268131165, 788.696014504226, 746.3684122349196, 714.6613902643093, 712.6462320048088, 700.2664162438463, 665.7684835212772, 644.612630522963, 4477.379375414977, 3771.3685702260727, 2872.685041410805, 2396.570559161378, 2199.682148031344, 2196.928145318297, 2180.7978855153247, 2015.3622773786735, 1938.5609939151568, 1526.7754011565892, 1493.4978206111434, 1464.667768172371, 1459.0757957540895, 1305.430672177432, 1295.6012324213282, 1256.478488885595, 1213.0662643291655, 1106.1378103436373, 1090.7890453792163, 1070.350820354196, 979.6173925205633, 976.6498184732916, 913.9016864189737, 770.6309283173439, 769.3601036523067, 754.7769285159716, 748.1223294525308, 730.2936724509244, 685.2449512771324, 644.9826352347984, 8591.482531873327, 4537.599313395795, 2726.9805025310743, 2639.7608086137598, 2596.0196459453778, 2284.7242283274, 2164.0153051930874, 1913.6674178574522, 1804.524587681771, 1742.9784754292536, 1733.0130880358408, 1671.5357124688935, 1358.356193659148, 1342.1804467244572, 1325.910473249964, 1315.443308051888, 1264.8552554935611, 1216.0781281971556, 1159.1228389328796, 1107.9733651750146, 1046.2644328985523, 958.2425961807751, 943.3840159833256, 938.4422062943908, 880.5389235749575, 855.0924593753991, 804.7280158473183, 794.9186464100073, 709.5819796737488, 691.2026491608166, 7124.415955561493, 4207.299625756341, 3545.8276104347865, 3105.4766878808846, 1937.1025929983794, 1884.7108916457498, 1786.0082639548477, 1754.3416885115787, 1550.2279532211362, 1546.527196149136, 1546.1620951926354, 1458.0037946953291, 1414.3026111377442, 1407.238322192015, 1377.8662790325327, 1296.0453534778994, 1154.5767381798537, 1049.552746238185, 1030.665490511773, 1007.0164834693718, 1003.9048340879507, 969.6685425937593, 879.6625796599727, 827.6484876168954, 823.659466614283, 766.9010634731857, 731.6834023367167, 730.6049678747587, 718.2570791237273, 675.5090320686746, 3869.41649900718, 3566.041079627359, 2531.468762845319, 1903.8630329471493, 1655.282648177908, 1645.5266537508114, 1507.6049328843835, 1483.4633121499212, 1425.2753689282092, 1400.9272023657857, 1362.701622806388, 1322.07475307552, 1311.9990875145509, 1302.7026823628487, 1283.2817040931104, 1237.2939990635634, 1147.264613612112, 1072.8722500042834, 1071.2441953980933, 1029.3545183676529, 937.5830315573728, 914.8201786490938, 883.6190001338267, 858.3118910503033, 844.0318058334777, 833.5886247893316, 821.4276544038552, 810.6437507121425, 803.3034352015663, 751.853535733332, 6730.427592325491, 5079.184807482324, 3395.3158282286886, 3321.426560022707, 2494.049702041386, 2442.3169389460613, 1834.0312295964843, 1716.6706643757764, 1664.3305945216755, 1529.4042048436643, 1404.1182166155475, 1370.4516429024586, 1293.6177047755302, 1262.0458507425985, 1228.1364939367481, 1218.6826124477102, 1189.074802433737, 1077.020353150372, 1055.5480105158947, 1008.2485169542648, 1001.3574001818895, 957.6298476371097, 813.1778863503753, 768.8042850639315, 749.7143300582228, 737.711435511313, 703.0617927081263, 686.1955577147837, 680.0471003224802, 677.5041603321961, 4444.9418533742155, 4153.097329520708, 3088.044282752099, 2380.2147667514478, 2211.0176076503244, 1924.584973984386, 1916.0122383778503, 1791.4290727483822, 1574.2077270076031, 1523.9232755629473, 1471.853933542825, 1366.9960866636052, 1331.1949565111222, 1330.4744377844413, 1329.2815277811785, 1273.7299949558962, 1060.9307413777015, 1041.3331472493073, 1001.5943836114008, 968.7765453828541, 963.1058162323126, 907.2138200041896, 881.0132561333656, 835.7218611640628, 821.8191987817528, 812.1176866604225, 785.6315050444435, 778.3792006798692, 760.7828968047328, 708.7490790424936, 3901.8922132570815, 3753.978635617232, 3263.8615840842785, 2345.7836964279236, 2344.5210814477377, 2290.698762725966, 2056.2123452581145, 2055.9517698028267, 1938.5881063773056, 1784.5870821501835, 1606.5547822146239, 1448.485538640694, 1186.4078877782172, 1156.310160343259, 1063.3239885102917, 990.5088284634957, 973.1659440116525, 959.0097605127471, 943.4508412699636, 923.1312709121395, 877.03765208513, 861.3837244534985, 797.8163354921073, 773.2427146940437, 745.6496209953011, 729.3881711905051, 725.8611674629666, 668.031421475363, 613.3271857231246, 610.8151107704397, 7293.585812948036, 4457.966824776489, 2796.7292586760955, 2735.293718954277, 1818.6539166862108, 1674.0906968779063, 1536.6076106168289, 1413.1315107561957, 1286.7208958411782, 1252.4755448091141, 1159.0119110960516, 1147.5923665667613, 1051.712303888557, 1047.2571354326378, 1014.2242825073923, 1008.4926604384451, 1005.7560554655815, 894.7419151139518, 888.7283707980064, 876.9078259089105, 854.0230448583546, 842.5902177732577, 825.4512047135833, 757.9151863480646, 739.8805305503415, 738.0002519503388, 728.1896898186984, 672.4871004214083, 645.8717807469702, 637.7617178224883, 4057.395462280542, 2422.922007031983, 2095.674465107901, 2042.138292890993, 2040.5168364867022, 1923.7154896752604, 1877.0344117568764, 1776.1970066774393, 1463.1009808952494, 1227.4791873595186, 1218.2736015616929, 1182.1209042922012, 1145.39120821109, 1136.679080454583, 1119.9445312063278, 1102.4263088237183, 1096.7434248282145, 1094.014492319691, 1069.2438620698515, 1028.8490621466797, 1028.1244482456736, 1019.7602090681763, 903.993619617783, 879.5099710504384, 876.7726580696965, 833.4530733423825, 822.655461774985, 742.2171818821022, 732.781232080232, 727.5809181109606, 5607.722080520084, 4940.041795255078, 2789.390354289066, 2780.2945993256853, 1938.4991128461195, 1878.2361995578449, 1816.9407137411092, 1750.046177724061, 1539.2381717987137, 1478.0421053082628, 1394.1028527789742, 1380.371327886028, 1365.442579485517, 1354.9772217874427, 1291.1412381666348, 1177.7725551845433, 1097.9688977529124, 1088.405518290406, 962.8051144811908, 944.8990257823264, 923.7631188517574, 819.1217891793241, 802.7479238918098, 730.5193903842471, 710.2605741108614, 678.7520484585152, 628.5483013916237, 620.0314446001993, 615.5730314134396, 595.8600390302095, 5066.086586261177, 2247.6560242785636, 2165.192214325793, 2057.6398189845445, 2011.939858700758, 1940.7079682878345, 1925.3580332028725, 1632.7053128129555, 1615.6612138479024, 1611.5891690228204, 1564.1486845565366, 1442.393024915333, 1350.3856155672095, 1334.9865931032289, 1210.370879399851, 1183.9757645925777, 1098.736180231027, 1046.819524157901, 936.3939588145813, 923.420670997095, 858.0448529567541, 848.7543522431652, 809.9057174345994, 798.1848070860384, 783.2773077161975, 778.1863751245055, 717.6900763080206, 654.2150306663377, 653.6553306568948, 630.7043188195615, 5510.397375098761, 2747.8786880599514, 2428.926274270002, 2172.9138329263974, 2047.4563686135123, 1639.3329351772509, 1589.5634640408796, 1527.557984211767, 1442.2762521894492, 1350.1670079209282, 1049.4522933467363, 1037.169335231095, 939.8083066800255, 898.2145862105403, 887.8185966924443, 867.364383750687, 857.3391084172414, 854.5222714958276, 807.9458107007415, 794.8403064030457, 787.8941681868063, 740.645771875467, 728.2530510187364, 685.6153963224133, 677.6208922648624, 670.1348035721231, 669.9269672759469, 669.2533618759791, 650.5213128543912, 643.5233440167011, 4088.6378851762784, 4006.929391194839, 2896.213901850979, 2448.72992155908, 2191.836346835246, 1999.1538974008772, 1714.4966381539684, 1683.055330265053, 1556.05533229173, 1275.5179876526959, 1266.1212805765592, 1227.8673034340995, 1094.5704119685684, 1049.2336093004028, 926.3087305772974, 904.6349497617518, 865.0184891004457, 861.4149794021891, 859.4055427052722, 853.4968337028722, 827.6477103158343, 811.5352857363629, 784.3352551588619, 765.6978068656216, 727.7970964833355, 671.9225634153447, 649.8226604686047, 642.2529370876924, 615.3296688393106, 611.4667613045098, 7602.148514758364, 3017.858751516505, 2197.1432897017366, 2056.901681378763, 1729.7823239493403, 1694.889861377127, 1519.3039852928534, 1507.4656121209725, 1466.9342901081409, 1227.3039324643205, 1194.4104604694946, 1164.7931084415573, 967.2463937721302, 874.5095270321124, 862.0891431002947, 857.8165340339385, 822.2416665074295, 761.4428046199157, 748.4372158521086, 736.0044313897337, 689.1527217871785, 629.6856643557128, 629.5802598459771, 624.8126316204109, 607.8415661188346, 568.9144218317126, 558.873311414368, 528.2513911534179, 521.5560440866966, 495.62190014999794, 5092.997066425741, 3694.0325897147636, 3024.014404546375, 2477.408648092729, 2235.712757908536, 1695.1495721863541, 1591.9812733445294, 1567.7630364583943, 1514.241708127806, 1451.5458082904345, 1418.3782719899957, 1397.5999573037202, 1312.4314934288723, 1224.2876535998787, 1188.703956391149, 1113.0109224612268, 1065.6223728287282, 949.0588105031874, 944.0613758905492, 940.0567245589629, 927.6929668694447, 892.3484199019069, 886.8532306162801, 847.9325821146494, 820.9040201144036, 782.2686790896353, 654.1413352181696, 649.8475970924378, 639.4678570644973, 617.2595974127528, 3132.0422058157897, 2713.1675969531425, 2600.9235757441174, 2492.0198913430772, 2309.4452781191585, 2110.788448311129, 2009.503464065803, 1660.7883803855018, 1249.5599149089494, 1237.845282395127, 1195.824619080522, 1124.8253552275914, 1087.3889203394062, 1049.8463393883396, 1019.477201247211, 996.8543077906576, 964.2394187792747, 939.517662227411, 865.1370176162128, 813.9486228204969, 810.2070949992187, 775.8409772932262, 767.3982548543693, 740.6155963276335, 724.2673496622355, 705.4240660426864, 668.9667016445288, 653.5491069063065, 634.8046551847136, 618.9433747394589, 3600.8852526035885, 3326.1447058486037, 3143.935341932221, 2599.182433552984, 2466.307435059022, 2323.341960122148, 2143.029916165344, 1848.0396264770734, 1525.4610763528472, 1465.6633638669302, 1437.9155057603061, 1368.9183740725614, 1357.300353928659, 1198.579577844569, 1194.1647563729491, 1131.434302797838, 1123.500715680446, 953.3904856914683, 904.477727091078, 892.4818972487889, 889.5743276042975, 801.6166117966001, 720.6921427792207, 708.2854173679663, 669.4470683308905, 638.7315980556494, 628.4590898175942, 626.995218565379, 607.4113585309668, 597.2515564779399, 7409.602161586962, 4066.8120329852145, 2483.87186872369, 2475.0591441278925, 2031.805894382357, 2022.921319927287, 1792.8758574722583, 1622.2057612960575, 1503.8600325868426, 1434.839115248955, 1387.142276584795, 1304.3780258230133, 1274.1369583440228, 1244.8164818143766, 1206.2230437239182, 1191.9277301922248, 1073.7235948538894, 925.3177690359853, 894.1560520979928, 833.6030034352572, 812.8045755235046, 803.0280213415526, 666.7410083101616, 629.9817894691631, 616.8750411176519, 604.7297819659996, 556.3452792985568, 532.9792720916416, 518.6385550658151, 510.596870735078, 3455.48343730815, 3351.9883374351557, 2360.9897655554046, 2111.3617251863993, 2080.9693892240143, 1773.7165153977287, 1440.5324493420094, 1413.4429511675928, 1348.7392506279398, 1328.9885142176306, 1224.6856799923723, 1212.6788891693686, 1174.1271196020502, 1152.6753896734435, 1100.0934289702136, 972.3011531222883, 873.765233046363, 838.2620738922143, 834.3745875613919, 821.5186738718302, 819.0347905589499, 795.6395178242682, 724.3331757214833, 723.2211814059106, 719.8727761803519, 686.8942591526065, 659.961098505903, 640.1251235094477, 591.0339948970092, 590.622628557153, 2976.643954480316, 2970.959495003355, 2935.1362516604822, 2257.3461671092814, 1549.6916404284982, 1368.1374162232946, 1304.6651019593342, 1241.5289292259458, 1200.8344937528511, 1199.0612546476311, 1135.6729477264798, 1135.1644172961783, 1130.4822136474424, 1107.4633044430968, 891.2139915781231, 856.8506141551453, 816.5671304898638, 785.2469723358254, 714.5165470284403, 629.5773283747125, 614.8824364653068, 614.5899809961821, 581.5055564838193, 579.2350589615854, 545.9125762581518, 537.1670641777964, 533.6170529482665, 532.3239118816231, 499.4142316150498, 491.5732845810954, 5140.805499533735, 3147.5332262438405, 2287.3160929835612, 2082.2950542136523, 1770.2815487660694, 1700.6395568353844, 1636.0821868670264, 1625.4132548996556, 1535.0738025639534, 1440.9769286620876, 1102.154874562747, 1087.6463730169219, 898.0233704439479, 824.8784622375127, 824.593905471308, 815.9824028264412, 783.0941335267615, 780.5451870920018, 763.3060044567239, 741.1891053667104, 720.8960786003058, 709.7409488512484, 700.4780201463032, 634.9641029293593, 612.3695060188774, 588.4904278721618, 559.6675529270457, 496.39329323343446, 492.4528757280096, 487.6098171796608, 10367.2956834569, 2352.6681978360166, 2311.6396909298383, 1929.5493396536756, 1499.7011616134657, 1427.0755478979006, 1412.4653790793725, 1398.855167775709, 1251.2620064291277, 1108.7235609772779, 1088.843440241107, 993.2395519557764, 978.0715822214539, 949.0034713809163, 859.3258902216039, 848.5531143321031, 828.8186137058012, 827.7019198598904, 788.0231426559867, 774.425544117745, 769.3022497235775, 748.1811639116258, 705.1777491036974, 703.9169639679684, 655.6426690302231, 641.4898358098443, 612.0530063334062, 605.9153944360366, 595.6333697829452, 557.5611640499043, 6961.639979600902, 3314.4695756775227, 2110.4442529545718, 2084.787004972594, 1610.3171924346443, 1464.9429473543084, 1362.2545479042712, 1337.0085827677865, 1149.464667969441, 1080.5014618498133, 872.1438719289682, 830.3303816571264, 786.7983773664108, 786.7136764806595, 782.4288956629389, 732.0386702176531, 729.1469904800726, 656.0836557246478, 638.6838407690125, 616.2694570628404, 609.5568321610673, 594.4295409073947, 578.633888461137, 568.6332325628001, 565.8006946607537, 514.2942135649166, 512.2007094891123, 508.4317857597696, 457.90499740583823, 445.3679378816736, 4388.933973416953, 4332.045821327745, 3019.8275595046416, 2497.091708298263, 2448.250612542014, 2169.0206121554015, 2154.289819136164, 2146.913641743664, 1882.4889764807845, 1211.4853884803451, 1166.941039265318, 1143.1613892057348, 1027.4725564041262, 1007.13005715734, 1005.6918873809376, 858.3917604942676, 847.9424154300673, 788.716300544145, 711.1666890874684, 703.5245832505558, 661.071365951792, 635.0487788774652, 618.9361846980347, 516.6131311302433, 510.45298598924745, 462.04733522633944, 460.12869743618137, 453.37437163579796, 396.765932119829, 390.2643153479436, 3208.5313707912082, 1993.5696340050447, 1961.453378969121, 1925.4753468141885, 1884.9252623349746, 1592.7018199648123, 1421.2737932618386, 1220.5977771887353, 1218.9684563982516, 1145.5546087438402, 1043.0309704921888, 955.6127905543166, 885.4794303350062, 861.1571111802017, 836.938797287469, 770.4176490491827, 761.069238173482, 744.4765046120763, 693.7615442044045, 677.8741467855971, 620.4000316179396, 582.0243219898476, 545.2048445228656, 514.0995776234647, 508.9210653920342, 488.9682495009008, 484.31285049400043, 483.8835319692839, 446.0279911245127, 422.72083931310857], \"Total\": [31539.0, 22695.0, 10368.0, 12123.0, 14632.0, 22507.0, 10740.0, 21599.0, 9578.0, 10548.0, 8592.0, 18050.0, 7603.0, 8615.0, 7410.0, 17540.0, 9300.0, 6962.0, 7294.0, 16359.0, 8718.0, 7125.0, 7181.0, 15403.0, 6731.0, 15241.0, 15215.0, 9160.0, 15031.0, 14943.0, 22507.478429884446, 21599.770429366545, 18050.246427706104, 17540.84025825439, 16359.08800616993, 15403.52375416694, 15241.91668035819, 15215.36906337407, 15031.985481657339, 14943.299477520186, 14901.86508846521, 12930.191366240848, 12315.717625029487, 11933.812957366026, 10600.987981183038, 10580.735061036356, 10472.56632836099, 10119.666212906173, 9720.448429670101, 9306.79495231455, 9025.903553387652, 8820.265992952704, 7939.549489317882, 7821.6489897766305, 7790.589993441036, 7657.474610606319, 7581.782890592421, 7426.039230313876, 7182.563907680946, 6781.182509856285, 22695.452499490195, 14632.600373359304, 9160.251714619782, 7089.371745081816, 7080.278217453274, 7046.06985500696, 6892.61708687228, 6691.370809320213, 6270.312131775486, 6248.737572043356, 5737.471933717736, 5649.835522275015, 5521.4804329002345, 4876.440841776949, 4368.548002733912, 3890.6251628870896, 3747.853674689466, 3339.7563988688094, 3217.4549470582624, 3169.277060248976, 3133.943342101618, 3057.068272199367, 2780.7058291547387, 2723.3659947241968, 2666.1452315048546, 2439.398924787979, 2363.095110765187, 2325.462480862667, 2295.613799504279, 2211.056491972436, 10548.053781427592, 9300.611994989762, 8718.43181662407, 7790.810325781542, 7021.32513414442, 6267.727820063644, 5469.9849830945805, 4691.843521977885, 4317.700753112981, 3851.0691557840514, 3526.0906033854944, 3296.8130666420834, 3236.5418504617164, 3109.000043230939, 2767.4148626662754, 2602.430475126938, 2496.1017198730947, 2337.6081388111857, 1979.0463479704208, 1850.6043579371271, 1759.3683885456858, 1735.7168878981217, 1567.2113201870816, 1560.5822065534833, 1505.789126088521, 1301.5351360595787, 1271.5979868756244, 1253.1066969164679, 1242.177779877797, 1220.2476520498042, 12123.492316386779, 8615.8918849197, 4389.484168745616, 3652.380314177209, 3451.530626079604, 3334.4855214096337, 3234.0872694554964, 3186.189266215671, 2924.7631893807, 2843.481631662081, 2562.6650828896954, 2467.166424377667, 2421.1691515406333, 2319.9973113780466, 2141.6499746595014, 1987.9853396273202, 1935.4276761631627, 1748.7735331458668, 1684.3209437004866, 1636.6080778470061, 1508.6815686220395, 1361.575410391987, 1314.9157526514682, 1218.168978059896, 1147.8038781119687, 1111.534074085661, 1055.09718808455, 1000.9966794916397, 937.6068672841958, 896.7612084228048, 10740.864446604943, 5549.974607566371, 3553.3108552214335, 3378.6539685698567, 3105.571856293831, 3042.729300026948, 2619.3325265558938, 2555.432472145232, 2481.266876342189, 1900.1427770084551, 1779.7357604293948, 1779.3049713465784, 1768.2943077196298, 1759.027938643367, 1717.3891694218742, 1715.3863231317973, 1534.4370974418466, 1502.4934312747673, 1491.1517979344874, 1480.575740013306, 1351.9446838720844, 1248.997934396349, 1196.861984127993, 1130.7788213894203, 1048.1045050969299, 1028.107260214657, 1009.175342446318, 940.3582054672546, 912.4619211464081, 901.7509113521681, 31539.482363134663, 7181.169390923662, 2547.145607017805, 2112.415369833696, 1923.5661494055057, 1868.0522112073422, 1695.5704523694235, 1683.169925172437, 1610.296620353771, 1404.7412745974555, 1372.7897952448, 1326.32943335221, 1291.6396721039648, 1288.435095413659, 1284.6491931171463, 1141.4300898422773, 1052.7277053461364, 903.9202646748845, 870.0418906558277, 835.459702930996, 827.3194301250002, 810.8437949996309, 797.0368404144633, 731.688967857216, 699.1160478314549, 675.5571890560534, 672.8021068333013, 631.3473424176312, 594.23186250338, 575.9804499401178, 9578.89417866466, 6372.878763268439, 5124.398529895353, 4739.4929122046715, 2818.359309585812, 2789.7856430634247, 2633.586250716972, 2306.8844248870346, 2260.1870788596784, 2116.190579859885, 1803.8278126688413, 1682.193598279468, 1594.8812799936904, 1561.7466517241903, 1419.0999904646224, 1417.9379348818302, 1308.5083328562507, 1305.7162397403404, 1232.7406062126513, 1146.9529742670463, 1000.6745209504384, 893.6132333881827, 876.909462036152, 872.5548642031146, 749.8406159056432, 716.6698064183637, 690.7601253064016, 663.0963509247957, 640.9259822987271, 628.5490589317087, 6064.439289213701, 6027.348269208654, 5128.006242658154, 4563.209872645768, 3792.237341115962, 3683.692122771081, 3328.126476468664, 3108.6339491338294, 2987.5592734500415, 2472.5984475546884, 2240.2851290027643, 2012.4421615733058, 1920.097724497554, 1913.6046792613383, 1888.0513210631477, 1553.3933644444269, 1553.12917648501, 1207.7572266362688, 1075.4425247549486, 904.887221683705, 871.5255338519567, 837.561222781893, 756.0152867666048, 715.7021431537687, 676.2139203848552, 596.3071211936135, 593.4096175310658, 573.9173128201604, 533.6643588188733, 497.05408818768217, 4979.733677608709, 3282.0410848462643, 2793.734651872064, 2747.020839958429, 2554.2208283698224, 2380.2171184391486, 2249.725090646779, 2154.2437609309254, 2113.762449232531, 1974.0868122031002, 1908.0552751077603, 1726.5407973206131, 1699.754535018117, 1424.8332336167964, 1400.9742861529562, 1373.313784590899, 1338.8771408803846, 1302.6166966669578, 1300.8695575554973, 1289.0439273116901, 1225.786303483416, 1225.2277704885507, 1149.2161493296448, 1065.0661296418014, 974.4878986427597, 926.9181264447094, 887.7519554925831, 795.9906335849644, 776.9083289969482, 763.2595285597164, 4456.569410224034, 4405.524586362516, 2831.8654777321353, 2607.077643430015, 2213.376827397455, 2126.4992329216284, 1667.7700080490183, 1666.1359016814552, 1631.1557829755418, 1540.7262789109807, 1489.4886286244725, 1381.8599442593884, 1359.3754462970674, 1345.1126923728827, 1207.420572802225, 1179.3857184279686, 1174.4951094320604, 1172.0918832511384, 1167.3346914051517, 1147.2734829400372, 1066.3199534172081, 1049.2853391506437, 1016.5909552209525, 985.9933830114205, 975.9685947985643, 947.8697251739065, 923.342360049996, 843.4389148358854, 820.5760242897893, 811.4603307000112, 4942.431260623688, 4515.127504127815, 3218.911475841643, 3103.9257469216295, 2777.9877534783523, 2127.4416479430865, 1980.098940237985, 1876.4517061704862, 1828.1493371698848, 1779.4115371484584, 1754.0254104965638, 1615.905137672988, 1557.2795958166148, 1433.643557902129, 1366.9427631605502, 1362.5969505967137, 1361.305601667523, 1309.8457717214953, 1293.7141658843568, 1283.063540696302, 1187.4305376364266, 1172.256015629551, 1099.8827502172805, 1071.0874565318784, 1046.3133800446872, 838.8757705545933, 828.7844515314107, 745.2545848104862, 724.0250516230352, 711.1255541421946, 4556.510473950343, 4293.803061222921, 4076.6245874529704, 3706.075422300621, 2667.179052940196, 2269.5158816175076, 1959.0511746042564, 1304.21983018736, 1207.545892642735, 1108.5744042298575, 1086.5643243793936, 1075.1689985919384, 1052.8356705540746, 1044.760579820108, 1013.1752614394132, 1009.9411252021947, 993.1342334647998, 970.2971877908965, 921.5714436619093, 877.8355467194605, 809.1640803230925, 806.4266846248556, 795.7602856578521, 789.7648733489616, 747.4372710796551, 715.7302491090448, 713.7150908495444, 701.3352750885819, 666.8373423660128, 645.6814893676985, 4478.456265803427, 3772.445460614524, 2873.761931799256, 2397.647449549829, 2200.759038419795, 2198.0050357067485, 2181.874775903776, 2016.4391677671251, 1939.6378843036084, 1527.8522915450408, 1494.574710999595, 1465.7446585608227, 1460.1526861425411, 1306.5075625658835, 1296.6781228097798, 1257.5553792740466, 1214.143154717617, 1107.2147007320889, 1091.865935767668, 1071.4277107426476, 980.694282909015, 977.7267088617433, 914.9785768074254, 771.7078187057956, 770.4369940407585, 755.8538189044233, 749.1992198409826, 731.3705628393761, 686.3218416655841, 646.0595256232501, 8592.560578934479, 4538.677360456946, 2728.0585495922264, 2640.838855674912, 2597.09769300653, 2285.802275388552, 2165.0933522542396, 1914.7454649186043, 1805.602634742923, 1744.0565224904058, 1734.091135096993, 1672.6137595300456, 1359.4342407203, 1343.2584937856093, 1326.9885203111162, 1316.52135511304, 1265.9333025547132, 1217.1561752583077, 1160.2008859940318, 1109.0514122361667, 1047.3424799597044, 959.3206432419273, 944.4620630444779, 939.520253355543, 881.6169706361097, 856.1705064365514, 805.8060629084705, 795.9966934711596, 710.6600267349011, 692.2806962219688, 7125.494062904689, 4208.377733099536, 3546.905717777983, 3106.5547952240813, 1938.1807003415763, 1885.7889989889468, 1787.0863712980447, 1755.4197958547757, 1551.3060605643332, 1547.605303492333, 1547.2402025358324, 1459.081902038526, 1415.3807184809411, 1408.316429535212, 1378.9443863757297, 1297.1234608210964, 1155.6548455230507, 1050.6308535813819, 1031.74359785497, 1008.0945908125689, 1004.9829414311478, 970.7466499369564, 880.7406870031698, 828.7265949600925, 824.7375739574801, 767.9791708163827, 732.7615096799137, 731.6830752179558, 719.3351864669244, 676.5871394118717, 3870.4926528578026, 3567.1172334779817, 2532.5449166959415, 1904.9391867977718, 1656.3588020285304, 1646.6028076014338, 1508.681086735006, 1484.5394660005436, 1426.3515227788316, 1402.003356216408, 1363.7777766570105, 1323.1509069261424, 1313.0752413651733, 1303.778836213471, 1284.3578579437328, 1238.3701529141858, 1148.3407674627344, 1073.9484038549058, 1072.3203492487157, 1030.4306722182753, 938.6591854079956, 915.8963324997166, 884.6951539844495, 859.388044900926, 845.1079596841005, 834.6647786399543, 822.5038082544779, 811.7199045627652, 804.3795890521891, 752.9296895839548, 6731.505180596248, 5080.26239575308, 3396.3934164994466, 3322.504148293465, 2495.127290312144, 2443.3945272168194, 1835.1088178672424, 1717.7482526465344, 1665.4081827924335, 1530.4817931144223, 1405.1958048863055, 1371.5292311732167, 1294.6952930462883, 1263.1234390133566, 1229.2140822075062, 1219.7602007184682, 1190.152390704495, 1078.0979414211301, 1056.6255987866527, 1009.3261052250231, 1002.4349884526478, 958.707435907868, 814.2554746211335, 769.8818733346898, 750.7919183289811, 738.7890237820712, 704.1393809788846, 687.273145985542, 681.1246885932385, 678.5817486029543, 4446.018404007256, 4154.1738801537485, 3089.120833385141, 2381.2913173844895, 2212.094158283366, 1925.6615246174279, 1917.0887890108922, 1792.5056233814241, 1575.284277640645, 1524.9998261959893, 1472.930484175867, 1368.0726372966471, 1332.2715071441642, 1331.5509884174833, 1330.3580784142205, 1274.8065455889382, 1062.0072920107434, 1042.4096978823493, 1002.670934244443, 969.8530960158963, 964.1823668653548, 908.2903706372318, 882.0898067664078, 836.798411797105, 822.895749414795, 813.1942372934647, 786.7080556774857, 779.4557513129114, 761.859447437775, 709.8256296755358, 3902.9664457363783, 3755.052868096529, 3264.9358165635754, 2346.8579289072204, 2345.5953139270346, 2291.7729952052628, 2057.2865777374113, 2057.0260022821235, 1939.6623388566027, 1785.6613146294806, 1607.629014693921, 1449.559771119991, 1187.4821202575142, 1157.384392822556, 1064.3982209895887, 991.5830609427932, 974.24017649095, 960.0839929920446, 944.5250737492611, 924.205503391437, 878.1118845644276, 862.457956932796, 798.8905679714048, 774.3169471733412, 746.7238534745986, 730.4624036698026, 726.9353999422641, 669.1056539546605, 614.4014182024221, 611.8893432497372, 7294.66540001026, 4459.0464118387135, 2797.8088457383215, 2736.373306016503, 1819.7335037484363, 1675.1702839401319, 1537.6871976790544, 1414.2110978184212, 1287.8004829034037, 1253.5551318713397, 1160.091498158277, 1148.6719536289868, 1052.7918909507825, 1048.3367224948634, 1015.3038695696184, 1009.5722475006712, 1006.8356425278076, 895.8215021761779, 889.8079578602325, 877.9874129711366, 855.1026319205807, 843.6698048354838, 826.5307917758093, 758.9947734102907, 740.9601176125676, 739.0798390125649, 729.2692768809245, 673.5666874836344, 646.9513678091963, 638.8413048847144, 4058.4716035675806, 2423.9981483190218, 2096.75060639494, 2043.2144341780318, 2041.592977773741, 1924.7916309622992, 1878.1105530439152, 1777.273147964478, 1464.1771221822883, 1228.5553286465574, 1219.3497428487317, 1183.19704557924, 1146.467349498129, 1137.7552217416219, 1121.0206724933666, 1103.502450110757, 1097.8195661152533, 1095.0906336067299, 1070.3200033568903, 1029.9252034337185, 1029.2005895327125, 1020.8363503552155, 905.0697609048221, 880.5861123374775, 877.8487993567356, 834.5292146294216, 823.7316030620242, 743.2933231691413, 733.8573733672712, 728.6570593979998, 5608.799945456107, 4941.119660191101, 2790.4682192250903, 2781.3724642617094, 1939.5769777821433, 1879.3140644938687, 1818.018578677133, 1751.1240426600848, 1540.3160367347375, 1479.1199702442866, 1395.180717714998, 1381.4491928220518, 1366.5204444215408, 1356.0550867234665, 1292.2191031026587, 1178.8504201205672, 1099.0467626889363, 1089.4833832264299, 963.8829794172149, 945.9768907183504, 924.8409837877815, 820.1996541153482, 803.8257888278339, 731.5972553202712, 711.3384390468855, 679.8299133945393, 629.6261663276478, 621.1093095362233, 616.6508963494637, 596.9379039662335, 5067.16106062835, 2248.7304986457375, 2166.266688692967, 2058.7142933517184, 2013.0143330679316, 1941.7824426550083, 1926.4325075700463, 1633.7797871801292, 1616.7356882150762, 1612.6636433899941, 1565.2231589237103, 1443.4674992825067, 1351.4600899343832, 1336.0610674704026, 1211.4453537670247, 1185.0502389597514, 1099.8106545982007, 1047.8939985250747, 937.4684331817555, 924.4951453642692, 859.1193273239282, 849.8288266103393, 810.9801918017736, 799.2592814532126, 784.3517820833716, 779.2608494916797, 718.7645506751948, 655.2895050335119, 654.7298050240689, 631.7787931867357, 5511.461913685697, 2748.9432266468884, 2429.990812856939, 2173.9783715133344, 2048.5209072004495, 1640.3974737641875, 1590.6280026278162, 1528.6225227987036, 1443.3407907763858, 1351.2315465078648, 1050.5168319336728, 1038.2338738180315, 940.8728452669626, 899.2791247974775, 888.8831352793815, 868.4289223376242, 858.4036470041785, 855.5868100827647, 809.0103492876787, 795.9048449899828, 788.9587067737434, 741.7103104624041, 729.3175896056736, 686.6799349093504, 678.6854308517995, 671.1993421590603, 670.9915058628841, 670.3179004629162, 651.5858514413284, 644.5878826036383, 4089.7131899355663, 4008.004695954127, 2897.289206610267, 2449.805226318368, 2192.911651594534, 2000.229202160165, 1715.5719429132562, 1684.1306350243408, 1557.1306370510179, 1276.5932924119836, 1267.196585335847, 1228.9426081933873, 1095.645716727856, 1050.3089140596906, 927.3840353365856, 905.71025452104, 866.0937938597339, 862.4902841614773, 860.4808474645604, 854.5721384621604, 828.7230150751225, 812.6105904956511, 785.41055991815, 766.7731116249098, 728.8724012426237, 672.9978681746329, 650.8979652278929, 643.3282418469806, 616.4049735985988, 612.542066063798, 7603.225355555638, 3018.9355923137796, 2198.2201304990112, 2057.9785221760376, 1730.8591647466146, 1695.9667021744015, 1520.3808260901278, 1508.542452918247, 1468.0111309054153, 1228.3807732615949, 1195.487301266769, 1165.8699492388316, 968.3232345694049, 875.5863678293871, 863.1659838975694, 858.8933748312132, 823.3185073047042, 762.5196454171904, 749.5140566493833, 737.0812721870084, 690.2295625844532, 630.7625051529875, 630.6571006432519, 625.8894724176856, 608.9184069161093, 569.9912626289873, 559.9501522116427, 529.3282319506926, 522.6328848839713, 496.6987409472726, 5094.072288983519, 3695.1078122725426, 3025.089627104154, 2478.483870650508, 2236.787980466315, 1696.2247947441324, 1593.0564959023077, 1568.8382590161725, 1515.3169306855843, 1452.6210308482127, 1419.453494547774, 1398.6751798614985, 1313.5067159866505, 1225.362876157657, 1189.7791789489272, 1114.086145019005, 1066.6975953865065, 950.134033060966, 945.1365984483278, 941.1319471167415, 928.7681894272233, 893.4236424596855, 887.9284531740587, 849.007804672428, 821.9792426721822, 783.3439016474139, 655.2165577759482, 650.9228196502164, 640.5430796222759, 618.3348199705314, 3133.1117757004336, 2714.2371668377864, 2601.9931456287613, 2493.089461227721, 2310.5148480038024, 2111.8580181957727, 2010.5730339504462, 1661.857950270145, 1250.6294847935926, 1238.9148522797702, 1196.8941889651653, 1125.8949251122347, 1088.4584902240495, 1050.9159092729828, 1020.5467711318546, 997.9238776753011, 965.3089886639183, 940.5872321120546, 866.2065875008564, 815.0181927051405, 811.2766648838623, 776.9105471778697, 768.4678247390128, 741.6851662122771, 725.336919546879, 706.4936359273299, 670.0362715291724, 654.6186767909501, 635.8742250693572, 620.0129446241025, 3601.9603288284925, 3327.2197820735078, 3145.010418157125, 2600.257509777888, 2467.382511283926, 2324.417036347052, 2144.104992390248, 1849.114702701977, 1526.5361525777507, 1466.738440091834, 1438.9905819852097, 1369.9934502974652, 1358.3754301535628, 1199.6546540694726, 1195.239832597853, 1132.5093790227415, 1124.57579190535, 954.4655619163722, 905.5528033159819, 893.5569734736928, 890.6494038292014, 802.691688021504, 721.7672190041246, 709.3604935928702, 670.5221445557944, 639.8066742805534, 629.5341660424981, 628.0702947902829, 608.4864347558707, 598.3266327028438, 7410.679778335943, 4067.889649734196, 2484.9494854726718, 2476.136760876874, 2032.8835111313383, 2023.9989366762682, 1793.9534742212395, 1623.2833780450387, 1504.9376493358238, 1435.9167319979363, 1388.219893333776, 1305.4556425719945, 1275.214575093004, 1245.8940985633578, 1207.3006604728994, 1193.005346941206, 1074.8012116028706, 926.3953857849668, 895.2336688469743, 834.6806201842387, 813.8821922724861, 804.1056380905342, 667.8186250591432, 631.0594062181447, 617.9526578666334, 605.8073987149811, 557.4228960475383, 534.0568888406232, 519.7161718147967, 511.67448748405945, 3456.5583446120963, 3353.063244739102, 2362.064672859351, 2112.436632490346, 2082.044296527961, 1774.7914227016745, 1441.6073566459552, 1414.5178584715386, 1349.8141579318856, 1330.0634215215764, 1225.7605872963181, 1213.7537964733144, 1175.202026905996, 1153.7502969773893, 1101.1683362741594, 973.3760604262345, 874.8401403503093, 839.3369811961605, 835.4494948653381, 822.5935811757764, 820.1096978628962, 796.7144251282144, 725.4080830254295, 724.2960887098568, 720.9476834842982, 687.9691664565528, 661.0360058098493, 641.2000308133939, 592.1089022009554, 591.6975358610993, 2977.7163758413467, 2972.031916364386, 2936.208673021513, 2258.418588470312, 1550.764061789528, 1369.2098375843243, 1305.7375233203638, 1242.6013505869755, 1201.9069151138808, 1200.1336760086608, 1136.7453690875095, 1136.236838657208, 1131.5546350084721, 1108.5357258041265, 892.2864129391533, 857.9230355161754, 817.6395518508939, 786.3193936968555, 715.5889683894704, 630.6497497357426, 615.9548578263369, 615.6624023572123, 582.5779778448494, 580.3074803226156, 546.984997619182, 538.2394855388266, 534.6894743092967, 533.3963332426532, 500.4866529760799, 492.64570594212546, 5141.881354611907, 3148.609081322012, 2288.391948061733, 2083.370909291824, 1771.3574038442405, 1701.7154119135555, 1637.1580419451975, 1626.4891099778267, 1536.1496576421246, 1442.0527837402587, 1103.230729640918, 1088.722228095093, 899.0992255221192, 825.9543173156841, 825.6697605494793, 817.0582579046126, 784.1699886049329, 781.6210421701732, 764.3818595348953, 742.2649604448817, 721.9719336784772, 710.8168039294197, 701.5538752244745, 636.0399580075307, 613.4453610970487, 589.5662829503332, 560.743408005217, 497.4691483116058, 493.52873080618093, 488.68567225783215, 10368.372299609055, 2353.744813988173, 2312.7163070819947, 1930.6259558058316, 1500.7777777656217, 1428.1521640500566, 1413.5419952315285, 1399.9317839278651, 1252.3386225812837, 1109.800177129434, 1089.920056393263, 994.3161681079325, 979.1481983736101, 950.0800875330724, 860.40250637376, 849.6297304842592, 829.8952298579574, 828.7785360120465, 789.0997588081428, 775.5021602699011, 770.3788658757336, 749.257780063782, 706.2543652558535, 704.9935801201245, 656.7192851823793, 642.5664519620004, 613.1296224855623, 606.9920105881928, 596.7099859351014, 558.6377802020604, 6962.718294871222, 3315.5478909478425, 2111.5225682248915, 2085.8653202429136, 1611.3955077049638, 1466.021262624628, 1363.3328631745908, 1338.086898038106, 1150.5429832397606, 1081.5797771201328, 873.2221871992879, 831.408696927446, 787.8766926367305, 787.7919917509792, 783.5072109332585, 733.1169854879728, 730.2253057503923, 657.1619709949674, 639.7621560393321, 617.34777233316, 610.6351474313869, 595.5078561777143, 579.7122037314566, 569.7115478331198, 566.8790099310734, 515.3725288352363, 513.279024759432, 509.5101010300892, 458.9833126761578, 446.4462531519932, 4390.008987043121, 4333.120834953913, 3020.9025731308097, 2498.166721924431, 2449.325626168182, 2170.0956257815697, 2155.3648327623323, 2147.988655369832, 1883.5639901069521, 1212.5604021065128, 1168.0160528914857, 1144.2364028319025, 1028.5475700302939, 1008.2050707835078, 1006.7669010071054, 859.4667741204354, 849.0174290562351, 789.7913141703128, 712.2417027136362, 704.5995968767236, 662.1463795779598, 636.123792503633, 620.0111983242025, 517.6881447564111, 511.5279996154152, 463.1223488525072, 461.2037110623491, 454.4493852619657, 397.84094574599675, 391.3393289741113, 3209.6079770161173, 1994.6462402299535, 1962.52998519403, 1926.5519530390973, 1886.0018685598834, 1593.7784261897211, 1422.3503994867474, 1221.6743834136441, 1220.0450626231604, 1146.631214968749, 1044.1075767170976, 956.6893967792255, 886.5560365599151, 862.2337174051106, 838.0154035123779, 771.4942552740916, 762.1458443983909, 745.5531108369852, 694.8381504293134, 678.950753010506, 621.4766378428485, 583.1009282147566, 546.2814507477746, 515.1761838483736, 509.9976716169431, 490.04485572580967, 485.3894567189093, 484.9601381941928, 447.10459734942157, 423.7974455380174], \"Category\": [\"Default\", \"Default\", \"Default\", \"Default\", \"Default\", \"Default\", \"Default\", \"Default\", \"Default\", \"Default\", \"Default\", \"Default\", \"Default\", \"Default\", \"Default\", \"Default\", \"Default\", \"Default\", \"Default\", \"Default\", \"Default\", \"Default\", \"Default\", \"Default\", \"Default\", \"Default\", \"Default\", \"Default\", \"Default\", \"Default\", \"Topic1\", \"Topic1\", \"Topic1\", \"Topic1\", \"Topic1\", \"Topic1\", \"Topic1\", \"Topic1\", \"Topic1\", \"Topic1\", \"Topic1\", \"Topic1\", \"Topic1\", \"Topic1\", \"Topic1\", \"Topic1\", \"Topic1\", \"Topic1\", \"Topic1\", \"Topic1\", \"Topic1\", \"Topic1\", \"Topic1\", \"Topic1\", \"Topic1\", \"Topic1\", \"Topic1\", \"Topic1\", \"Topic1\", \"Topic1\", \"Topic2\", \"Topic2\", \"Topic2\", \"Topic2\", \"Topic2\", \"Topic2\", \"Topic2\", \"Topic2\", \"Topic2\", \"Topic2\", \"Topic2\", \"Topic2\", \"Topic2\", \"Topic2\", \"Topic2\", \"Topic2\", \"Topic2\", \"Topic2\", \"Topic2\", \"Topic2\", \"Topic2\", \"Topic2\", \"Topic2\", \"Topic2\", \"Topic2\", \"Topic2\", \"Topic2\", \"Topic2\", \"Topic2\", \"Topic2\", \"Topic3\", \"Topic3\", \"Topic3\", \"Topic3\", \"Topic3\", \"Topic3\", \"Topic3\", \"Topic3\", \"Topic3\", \"Topic3\", \"Topic3\", \"Topic3\", \"Topic3\", \"Topic3\", \"Topic3\", \"Topic3\", \"Topic3\", \"Topic3\", \"Topic3\", \"Topic3\", \"Topic3\", \"Topic3\", \"Topic3\", \"Topic3\", \"Topic3\", \"Topic3\", \"Topic3\", \"Topic3\", \"Topic3\", \"Topic3\", \"Topic4\", \"Topic4\", \"Topic4\", \"Topic4\", \"Topic4\", \"Topic4\", \"Topic4\", \"Topic4\", \"Topic4\", \"Topic4\", \"Topic4\", \"Topic4\", \"Topic4\", \"Topic4\", \"Topic4\", \"Topic4\", \"Topic4\", \"Topic4\", \"Topic4\", \"Topic4\", \"Topic4\", \"Topic4\", \"Topic4\", \"Topic4\", \"Topic4\", \"Topic4\", \"Topic4\", \"Topic4\", \"Topic4\", \"Topic4\", \"Topic5\", \"Topic5\", \"Topic5\", \"Topic5\", \"Topic5\", \"Topic5\", \"Topic5\", \"Topic5\", \"Topic5\", \"Topic5\", \"Topic5\", \"Topic5\", \"Topic5\", \"Topic5\", \"Topic5\", \"Topic5\", \"Topic5\", \"Topic5\", \"Topic5\", \"Topic5\", \"Topic5\", \"Topic5\", \"Topic5\", \"Topic5\", \"Topic5\", \"Topic5\", \"Topic5\", \"Topic5\", \"Topic5\", \"Topic5\", \"Topic6\", \"Topic6\", \"Topic6\", \"Topic6\", \"Topic6\", \"Topic6\", \"Topic6\", \"Topic6\", \"Topic6\", \"Topic6\", \"Topic6\", \"Topic6\", \"Topic6\", \"Topic6\", \"Topic6\", \"Topic6\", \"Topic6\", \"Topic6\", \"Topic6\", \"Topic6\", \"Topic6\", \"Topic6\", \"Topic6\", \"Topic6\", \"Topic6\", \"Topic6\", \"Topic6\", \"Topic6\", \"Topic6\", \"Topic6\", \"Topic7\", \"Topic7\", \"Topic7\", \"Topic7\", \"Topic7\", \"Topic7\", \"Topic7\", \"Topic7\", \"Topic7\", \"Topic7\", \"Topic7\", \"Topic7\", \"Topic7\", \"Topic7\", \"Topic7\", \"Topic7\", \"Topic7\", \"Topic7\", \"Topic7\", \"Topic7\", \"Topic7\", \"Topic7\", \"Topic7\", \"Topic7\", \"Topic7\", \"Topic7\", \"Topic7\", \"Topic7\", \"Topic7\", \"Topic7\", \"Topic8\", \"Topic8\", \"Topic8\", \"Topic8\", \"Topic8\", \"Topic8\", \"Topic8\", \"Topic8\", \"Topic8\", \"Topic8\", \"Topic8\", \"Topic8\", \"Topic8\", \"Topic8\", \"Topic8\", \"Topic8\", \"Topic8\", \"Topic8\", \"Topic8\", \"Topic8\", \"Topic8\", \"Topic8\", \"Topic8\", \"Topic8\", \"Topic8\", \"Topic8\", \"Topic8\", \"Topic8\", \"Topic8\", \"Topic8\", \"Topic9\", \"Topic9\", \"Topic9\", \"Topic9\", \"Topic9\", \"Topic9\", \"Topic9\", \"Topic9\", \"Topic9\", \"Topic9\", \"Topic9\", \"Topic9\", \"Topic9\", \"Topic9\", \"Topic9\", \"Topic9\", \"Topic9\", \"Topic9\", \"Topic9\", \"Topic9\", \"Topic9\", \"Topic9\", \"Topic9\", \"Topic9\", \"Topic9\", \"Topic9\", \"Topic9\", \"Topic9\", \"Topic9\", \"Topic9\", \"Topic10\", \"Topic10\", \"Topic10\", \"Topic10\", \"Topic10\", \"Topic10\", \"Topic10\", \"Topic10\", \"Topic10\", \"Topic10\", \"Topic10\", \"Topic10\", \"Topic10\", \"Topic10\", \"Topic10\", \"Topic10\", \"Topic10\", \"Topic10\", \"Topic10\", \"Topic10\", \"Topic10\", \"Topic10\", \"Topic10\", \"Topic10\", \"Topic10\", \"Topic10\", \"Topic10\", \"Topic10\", \"Topic10\", \"Topic10\", \"Topic11\", \"Topic11\", \"Topic11\", \"Topic11\", \"Topic11\", \"Topic11\", \"Topic11\", \"Topic11\", \"Topic11\", \"Topic11\", \"Topic11\", \"Topic11\", \"Topic11\", \"Topic11\", \"Topic11\", \"Topic11\", \"Topic11\", \"Topic11\", \"Topic11\", \"Topic11\", \"Topic11\", \"Topic11\", \"Topic11\", \"Topic11\", \"Topic11\", \"Topic11\", \"Topic11\", \"Topic11\", \"Topic11\", \"Topic11\", \"Topic12\", \"Topic12\", \"Topic12\", \"Topic12\", \"Topic12\", \"Topic12\", \"Topic12\", \"Topic12\", \"Topic12\", \"Topic12\", \"Topic12\", \"Topic12\", \"Topic12\", \"Topic12\", \"Topic12\", \"Topic12\", \"Topic12\", \"Topic12\", \"Topic12\", \"Topic12\", \"Topic12\", \"Topic12\", \"Topic12\", \"Topic12\", \"Topic12\", \"Topic12\", \"Topic12\", \"Topic12\", \"Topic12\", \"Topic12\", \"Topic13\", \"Topic13\", \"Topic13\", \"Topic13\", \"Topic13\", \"Topic13\", \"Topic13\", \"Topic13\", \"Topic13\", \"Topic13\", \"Topic13\", \"Topic13\", \"Topic13\", \"Topic13\", \"Topic13\", \"Topic13\", \"Topic13\", \"Topic13\", \"Topic13\", \"Topic13\", \"Topic13\", \"Topic13\", \"Topic13\", \"Topic13\", \"Topic13\", \"Topic13\", \"Topic13\", \"Topic13\", \"Topic13\", \"Topic13\", \"Topic14\", \"Topic14\", \"Topic14\", \"Topic14\", \"Topic14\", \"Topic14\", \"Topic14\", \"Topic14\", \"Topic14\", \"Topic14\", \"Topic14\", \"Topic14\", \"Topic14\", \"Topic14\", \"Topic14\", \"Topic14\", \"Topic14\", \"Topic14\", \"Topic14\", \"Topic14\", \"Topic14\", \"Topic14\", \"Topic14\", \"Topic14\", \"Topic14\", \"Topic14\", \"Topic14\", \"Topic14\", \"Topic14\", \"Topic14\", \"Topic15\", \"Topic15\", \"Topic15\", \"Topic15\", \"Topic15\", \"Topic15\", \"Topic15\", \"Topic15\", \"Topic15\", \"Topic15\", \"Topic15\", \"Topic15\", \"Topic15\", \"Topic15\", \"Topic15\", \"Topic15\", \"Topic15\", \"Topic15\", \"Topic15\", \"Topic15\", \"Topic15\", \"Topic15\", \"Topic15\", \"Topic15\", \"Topic15\", \"Topic15\", \"Topic15\", \"Topic15\", \"Topic15\", \"Topic15\", \"Topic16\", \"Topic16\", \"Topic16\", \"Topic16\", \"Topic16\", \"Topic16\", \"Topic16\", \"Topic16\", \"Topic16\", \"Topic16\", \"Topic16\", \"Topic16\", \"Topic16\", \"Topic16\", \"Topic16\", \"Topic16\", \"Topic16\", \"Topic16\", \"Topic16\", \"Topic16\", \"Topic16\", \"Topic16\", \"Topic16\", \"Topic16\", \"Topic16\", \"Topic16\", \"Topic16\", \"Topic16\", \"Topic16\", \"Topic16\", \"Topic17\", \"Topic17\", \"Topic17\", \"Topic17\", \"Topic17\", \"Topic17\", \"Topic17\", \"Topic17\", \"Topic17\", \"Topic17\", \"Topic17\", \"Topic17\", \"Topic17\", \"Topic17\", \"Topic17\", \"Topic17\", \"Topic17\", \"Topic17\", \"Topic17\", \"Topic17\", \"Topic17\", \"Topic17\", \"Topic17\", \"Topic17\", \"Topic17\", \"Topic17\", \"Topic17\", \"Topic17\", \"Topic17\", \"Topic17\", \"Topic18\", \"Topic18\", \"Topic18\", \"Topic18\", \"Topic18\", \"Topic18\", \"Topic18\", \"Topic18\", \"Topic18\", \"Topic18\", \"Topic18\", \"Topic18\", \"Topic18\", \"Topic18\", \"Topic18\", \"Topic18\", \"Topic18\", \"Topic18\", \"Topic18\", \"Topic18\", \"Topic18\", \"Topic18\", \"Topic18\", \"Topic18\", \"Topic18\", \"Topic18\", \"Topic18\", \"Topic18\", \"Topic18\", \"Topic18\", \"Topic19\", \"Topic19\", \"Topic19\", \"Topic19\", \"Topic19\", \"Topic19\", \"Topic19\", \"Topic19\", \"Topic19\", \"Topic19\", \"Topic19\", \"Topic19\", \"Topic19\", \"Topic19\", \"Topic19\", \"Topic19\", \"Topic19\", \"Topic19\", \"Topic19\", \"Topic19\", \"Topic19\", \"Topic19\", \"Topic19\", \"Topic19\", \"Topic19\", \"Topic19\", \"Topic19\", \"Topic19\", \"Topic19\", \"Topic19\", \"Topic20\", \"Topic20\", \"Topic20\", \"Topic20\", \"Topic20\", \"Topic20\", \"Topic20\", \"Topic20\", \"Topic20\", \"Topic20\", \"Topic20\", \"Topic20\", \"Topic20\", \"Topic20\", \"Topic20\", \"Topic20\", \"Topic20\", \"Topic20\", \"Topic20\", \"Topic20\", \"Topic20\", \"Topic20\", \"Topic20\", \"Topic20\", \"Topic20\", \"Topic20\", \"Topic20\", \"Topic20\", \"Topic20\", \"Topic20\", \"Topic21\", \"Topic21\", \"Topic21\", \"Topic21\", \"Topic21\", \"Topic21\", \"Topic21\", \"Topic21\", \"Topic21\", \"Topic21\", \"Topic21\", \"Topic21\", \"Topic21\", \"Topic21\", \"Topic21\", \"Topic21\", \"Topic21\", \"Topic21\", \"Topic21\", \"Topic21\", \"Topic21\", \"Topic21\", \"Topic21\", \"Topic21\", \"Topic21\", \"Topic21\", \"Topic21\", \"Topic21\", \"Topic21\", \"Topic21\", \"Topic22\", \"Topic22\", \"Topic22\", \"Topic22\", \"Topic22\", \"Topic22\", \"Topic22\", \"Topic22\", \"Topic22\", \"Topic22\", \"Topic22\", \"Topic22\", \"Topic22\", \"Topic22\", \"Topic22\", \"Topic22\", \"Topic22\", \"Topic22\", \"Topic22\", \"Topic22\", \"Topic22\", \"Topic22\", \"Topic22\", \"Topic22\", \"Topic22\", \"Topic22\", \"Topic22\", \"Topic22\", \"Topic22\", \"Topic22\", \"Topic23\", \"Topic23\", \"Topic23\", \"Topic23\", \"Topic23\", \"Topic23\", \"Topic23\", \"Topic23\", \"Topic23\", \"Topic23\", \"Topic23\", \"Topic23\", \"Topic23\", \"Topic23\", \"Topic23\", \"Topic23\", \"Topic23\", \"Topic23\", \"Topic23\", \"Topic23\", \"Topic23\", \"Topic23\", \"Topic23\", \"Topic23\", \"Topic23\", \"Topic23\", \"Topic23\", \"Topic23\", \"Topic23\", \"Topic23\", \"Topic24\", \"Topic24\", \"Topic24\", \"Topic24\", \"Topic24\", \"Topic24\", \"Topic24\", \"Topic24\", \"Topic24\", \"Topic24\", \"Topic24\", \"Topic24\", \"Topic24\", \"Topic24\", \"Topic24\", \"Topic24\", \"Topic24\", \"Topic24\", \"Topic24\", \"Topic24\", \"Topic24\", \"Topic24\", \"Topic24\", \"Topic24\", \"Topic24\", \"Topic24\", \"Topic24\", \"Topic24\", \"Topic24\", \"Topic24\", \"Topic25\", \"Topic25\", \"Topic25\", \"Topic25\", \"Topic25\", \"Topic25\", \"Topic25\", \"Topic25\", \"Topic25\", \"Topic25\", \"Topic25\", \"Topic25\", \"Topic25\", \"Topic25\", \"Topic25\", \"Topic25\", \"Topic25\", \"Topic25\", \"Topic25\", \"Topic25\", \"Topic25\", \"Topic25\", \"Topic25\", \"Topic25\", \"Topic25\", \"Topic25\", \"Topic25\", \"Topic25\", \"Topic25\", \"Topic25\", \"Topic26\", \"Topic26\", \"Topic26\", \"Topic26\", \"Topic26\", \"Topic26\", \"Topic26\", \"Topic26\", \"Topic26\", \"Topic26\", \"Topic26\", \"Topic26\", \"Topic26\", \"Topic26\", \"Topic26\", \"Topic26\", \"Topic26\", \"Topic26\", \"Topic26\", \"Topic26\", \"Topic26\", \"Topic26\", \"Topic26\", \"Topic26\", \"Topic26\", \"Topic26\", \"Topic26\", \"Topic26\", \"Topic26\", \"Topic26\", \"Topic27\", \"Topic27\", \"Topic27\", \"Topic27\", \"Topic27\", \"Topic27\", \"Topic27\", \"Topic27\", \"Topic27\", \"Topic27\", \"Topic27\", \"Topic27\", \"Topic27\", \"Topic27\", \"Topic27\", \"Topic27\", \"Topic27\", \"Topic27\", \"Topic27\", \"Topic27\", \"Topic27\", \"Topic27\", \"Topic27\", \"Topic27\", \"Topic27\", \"Topic27\", \"Topic27\", \"Topic27\", \"Topic27\", \"Topic27\", \"Topic28\", \"Topic28\", \"Topic28\", \"Topic28\", \"Topic28\", \"Topic28\", \"Topic28\", \"Topic28\", \"Topic28\", \"Topic28\", \"Topic28\", \"Topic28\", \"Topic28\", \"Topic28\", \"Topic28\", \"Topic28\", \"Topic28\", \"Topic28\", \"Topic28\", \"Topic28\", \"Topic28\", \"Topic28\", \"Topic28\", \"Topic28\", \"Topic28\", \"Topic28\", \"Topic28\", \"Topic28\", \"Topic28\", \"Topic28\", \"Topic29\", \"Topic29\", \"Topic29\", \"Topic29\", \"Topic29\", \"Topic29\", \"Topic29\", \"Topic29\", \"Topic29\", \"Topic29\", \"Topic29\", \"Topic29\", \"Topic29\", \"Topic29\", \"Topic29\", \"Topic29\", \"Topic29\", \"Topic29\", \"Topic29\", \"Topic29\", \"Topic29\", \"Topic29\", \"Topic29\", \"Topic29\", \"Topic29\", \"Topic29\", \"Topic29\", \"Topic29\", \"Topic29\", \"Topic29\", \"Topic30\", \"Topic30\", \"Topic30\", \"Topic30\", \"Topic30\", \"Topic30\", \"Topic30\", \"Topic30\", \"Topic30\", \"Topic30\", \"Topic30\", \"Topic30\", \"Topic30\", \"Topic30\", \"Topic30\", \"Topic30\", \"Topic30\", \"Topic30\", \"Topic30\", \"Topic30\", \"Topic30\", \"Topic30\", \"Topic30\", \"Topic30\", \"Topic30\", \"Topic30\", \"Topic30\", \"Topic30\", \"Topic30\", \"Topic30\", \"Topic31\", \"Topic31\", \"Topic31\", \"Topic31\", \"Topic31\", \"Topic31\", \"Topic31\", \"Topic31\", \"Topic31\", \"Topic31\", \"Topic31\", \"Topic31\", \"Topic31\", \"Topic31\", \"Topic31\", \"Topic31\", \"Topic31\", \"Topic31\", \"Topic31\", \"Topic31\", \"Topic31\", \"Topic31\", \"Topic31\", \"Topic31\", \"Topic31\", \"Topic31\", \"Topic31\", \"Topic31\", \"Topic31\", \"Topic31\", \"Topic32\", \"Topic32\", \"Topic32\", \"Topic32\", \"Topic32\", \"Topic32\", \"Topic32\", \"Topic32\", \"Topic32\", \"Topic32\", \"Topic32\", \"Topic32\", \"Topic32\", \"Topic32\", \"Topic32\", \"Topic32\", \"Topic32\", \"Topic32\", \"Topic32\", \"Topic32\", \"Topic32\", \"Topic32\", \"Topic32\", \"Topic32\", \"Topic32\", \"Topic32\", \"Topic32\", \"Topic32\", \"Topic32\", \"Topic32\", \"Topic33\", \"Topic33\", \"Topic33\", \"Topic33\", \"Topic33\", \"Topic33\", \"Topic33\", \"Topic33\", \"Topic33\", \"Topic33\", \"Topic33\", \"Topic33\", \"Topic33\", \"Topic33\", \"Topic33\", \"Topic33\", \"Topic33\", \"Topic33\", \"Topic33\", \"Topic33\", \"Topic33\", \"Topic33\", \"Topic33\", \"Topic33\", \"Topic33\", \"Topic33\", \"Topic33\", \"Topic33\", \"Topic33\", \"Topic33\", \"Topic34\", \"Topic34\", \"Topic34\", \"Topic34\", \"Topic34\", \"Topic34\", \"Topic34\", \"Topic34\", \"Topic34\", \"Topic34\", \"Topic34\", \"Topic34\", \"Topic34\", \"Topic34\", \"Topic34\", \"Topic34\", \"Topic34\", \"Topic34\", \"Topic34\", \"Topic34\", \"Topic34\", \"Topic34\", \"Topic34\", \"Topic34\", \"Topic34\", \"Topic34\", \"Topic34\", \"Topic34\", \"Topic34\", \"Topic34\", \"Topic35\", \"Topic35\", \"Topic35\", \"Topic35\", \"Topic35\", \"Topic35\", \"Topic35\", \"Topic35\", \"Topic35\", \"Topic35\", \"Topic35\", \"Topic35\", \"Topic35\", \"Topic35\", \"Topic35\", \"Topic35\", \"Topic35\", \"Topic35\", \"Topic35\", \"Topic35\", \"Topic35\", \"Topic35\", \"Topic35\", \"Topic35\", \"Topic35\", \"Topic35\", \"Topic35\", \"Topic35\", \"Topic35\", \"Topic35\", \"Topic36\", \"Topic36\", \"Topic36\", \"Topic36\", \"Topic36\", \"Topic36\", \"Topic36\", \"Topic36\", \"Topic36\", \"Topic36\", \"Topic36\", \"Topic36\", \"Topic36\", \"Topic36\", \"Topic36\", \"Topic36\", \"Topic36\", \"Topic36\", \"Topic36\", \"Topic36\", \"Topic36\", \"Topic36\", \"Topic36\", \"Topic36\", \"Topic36\", \"Topic36\", \"Topic36\", \"Topic36\", \"Topic36\", \"Topic36\", \"Topic37\", \"Topic37\", \"Topic37\", \"Topic37\", \"Topic37\", \"Topic37\", \"Topic37\", \"Topic37\", \"Topic37\", \"Topic37\", \"Topic37\", \"Topic37\", \"Topic37\", \"Topic37\", \"Topic37\", \"Topic37\", \"Topic37\", \"Topic37\", \"Topic37\", \"Topic37\", \"Topic37\", \"Topic37\", \"Topic37\", \"Topic37\", \"Topic37\", \"Topic37\", \"Topic37\", \"Topic37\", \"Topic37\", \"Topic37\"], \"logprob\": [30.0, 29.0, 28.0, 27.0, 26.0, 25.0, 24.0, 23.0, 22.0, 21.0, 20.0, 19.0, 18.0, 17.0, 16.0, 15.0, 14.0, 13.0, 12.0, 11.0, 10.0, 9.0, 8.0, 7.0, 6.0, 5.0, 4.0, 3.0, 2.0, 1.0, -3.354, -3.3952, -3.5747, -3.6033, -3.6731, -3.7333, -3.7438, -3.7456, -3.7577, -3.7636, -3.7664, -3.9083, -3.957, -3.9885, -4.107, -4.1089, -4.1192, -4.1534, -4.1937, -4.2372, -4.2678, -4.2909, -4.3961, -4.4111, -4.415, -4.4323, -4.4422, -4.463, -4.4963, -4.5538, -2.2683, -2.7073, -3.1757, -3.432, -3.4333, -3.4381, -3.4601, -3.4898, -3.5548, -3.5582, -3.6436, -3.659, -3.682, -3.8062, -3.9163, -4.0321, -4.0695, -4.1849, -4.2222, -4.2373, -4.2485, -4.2733, -4.3681, -4.389, -4.4102, -4.4991, -4.5309, -4.547, -4.5599, -4.5975, -2.6538, -2.7797, -2.8444, -2.9569, -3.0609, -3.1744, -3.3106, -3.4641, -3.5472, -3.6616, -3.7498, -3.817, -3.8355, -3.8757, -3.9921, -4.0536, -4.0954, -4.161, -4.3276, -4.3947, -4.4453, -4.4589, -4.5611, -4.5653, -4.6011, -4.747, -4.7702, -4.7849, -4.7937, -4.8115, -2.1885, -2.5301, -3.2046, -3.3885, -3.4451, -3.4796, -3.5102, -3.5251, -3.6107, -3.6389, -3.7429, -3.7809, -3.7998, -3.8425, -3.9225, -3.997, -4.0238, -4.1253, -4.1628, -4.1916, -4.273, -4.3757, -4.4106, -4.4871, -4.5467, -4.5788, -4.631, -4.6836, -4.7491, -4.7937, -2.2808, -2.9411, -3.3871, -3.4375, -3.5219, -3.5423, -3.6922, -3.7169, -3.7464, -4.0133, -4.0788, -4.0791, -4.0853, -4.0906, -4.1145, -4.1157, -4.2272, -4.2483, -4.2559, -4.263, -4.354, -4.4332, -4.4759, -4.5328, -4.6088, -4.628, -4.6466, -4.7173, -4.7475, -4.7593, -1.071, -2.5509, -3.5876, -3.7749, -3.8686, -3.8979, -3.9948, -4.0022, -4.0464, -4.1831, -4.2061, -4.2406, -4.2671, -4.2696, -4.2725, -4.3909, -4.4718, -4.6244, -4.6626, -4.7033, -4.7131, -4.7332, -4.7504, -4.8361, -4.8817, -4.916, -4.9201, -4.9838, -5.0445, -5.0758, -2.2167, -2.6243, -2.8423, -2.9204, -3.4404, -3.4506, -3.5082, -3.6407, -3.6612, -3.727, -3.8868, -3.9567, -4.01, -4.031, -4.1269, -4.1277, -4.2081, -4.2102, -4.2678, -4.34, -4.4765, -4.5898, -4.6087, -4.6137, -4.7655, -4.8108, -4.8477, -4.8886, -4.9227, -4.9422, -2.6608, -2.6669, -2.8285, -2.9452, -3.1303, -3.1594, -3.2609, -3.3292, -3.3689, -3.5582, -3.6569, -3.7642, -3.8112, -3.8146, -3.828, -4.0233, -4.0234, -4.2751, -4.3913, -4.5641, -4.6017, -4.6415, -4.7441, -4.799, -4.8558, -4.9818, -4.9867, -5.0201, -5.093, -5.1642, -2.8328, -3.2498, -3.4109, -3.4278, -3.5006, -3.5712, -3.6276, -3.671, -3.69, -3.7584, -3.7924, -3.8924, -3.9081, -4.0846, -4.1015, -4.1215, -4.1469, -4.1744, -4.1757, -4.1849, -4.2352, -4.2357, -4.2998, -4.3759, -4.4649, -4.515, -4.5582, -4.6674, -4.6917, -4.7095, -2.9346, -2.9461, -3.3882, -3.4709, -3.6347, -3.6747, -3.9179, -3.9189, -3.9401, -3.9972, -4.031, -4.1061, -4.1225, -4.133, -4.2411, -4.2646, -4.2688, -4.2708, -4.2749, -4.2923, -4.3655, -4.3816, -4.4133, -4.4439, -4.4541, -4.4834, -4.5096, -4.6003, -4.6278, -4.639, -2.7675, -2.8579, -3.1964, -3.2328, -3.3438, -3.6107, -3.6825, -3.7363, -3.7624, -3.7894, -3.8038, -3.8859, -3.9229, -4.0056, -4.0533, -4.0565, -4.0575, -4.096, -4.1084, -4.1167, -4.1942, -4.2071, -4.2709, -4.2974, -4.3209, -4.5421, -4.5542, -4.6606, -4.6895, -4.7075, -2.8305, -2.8899, -2.9418, -3.0371, -3.3662, -3.5277, -3.6749, -4.082, -4.1591, -4.2447, -4.2648, -4.2753, -4.2964, -4.3041, -4.3348, -4.338, -4.3548, -4.3781, -4.4297, -4.4783, -4.5599, -4.5633, -4.5766, -4.5842, -4.6394, -4.6828, -4.6856, -4.7031, -4.7536, -4.7859, -2.8438, -3.0154, -3.2876, -3.4688, -3.5545, -3.5558, -3.5632, -3.6421, -3.6809, -3.9197, -3.9417, -3.9612, -3.9651, -4.0763, -4.0839, -4.1145, -4.1497, -4.242, -4.256, -4.2749, -4.3635, -4.3665, -4.4329, -4.6034, -4.6051, -4.6242, -4.6331, -4.6572, -4.7208, -4.7814, -2.1915, -2.8299, -3.3391, -3.3716, -3.3883, -3.516, -3.5703, -3.6932, -3.752, -3.7867, -3.7924, -3.8285, -4.036, -4.048, -4.0602, -4.0681, -4.1073, -4.1466, -4.1946, -4.2397, -4.297, -4.3849, -4.4005, -4.4058, -4.4695, -4.4988, -4.5595, -4.5718, -4.6853, -4.7116, -2.377, -2.9037, -3.0747, -3.2073, -3.6793, -3.7067, -3.7605, -3.7784, -3.9021, -3.9045, -3.9047, -3.9634, -3.9939, -3.9989, -4.02, -4.0812, -4.1968, -4.2922, -4.3103, -4.3335, -4.3366, -4.3713, -4.4687, -4.5297, -4.5345, -4.6059, -4.6529, -4.6544, -4.6714, -4.7328, -2.979, -3.0607, -3.4033, -3.6883, -3.8282, -3.8341, -3.9216, -3.9378, -3.9778, -3.995, -4.0227, -4.0529, -4.0606, -4.0677, -4.0827, -4.1192, -4.1948, -4.2618, -4.2633, -4.3032, -4.3966, -4.4212, -4.4559, -4.4849, -4.5017, -4.5142, -4.5289, -4.5421, -4.5512, -4.6174, -2.4102, -2.6917, -3.0945, -3.1165, -3.403, -3.4239, -3.7103, -3.7765, -3.8074, -3.892, -3.9775, -4.0017, -4.0594, -4.0841, -4.1114, -4.1191, -4.1437, -4.2427, -4.2628, -4.3086, -4.3155, -4.3602, -4.5237, -4.5798, -4.6049, -4.6211, -4.6692, -4.6935, -4.7025, -4.7062, -2.7959, -2.8638, -3.1601, -3.4204, -3.4942, -3.6329, -3.6374, -3.7046, -3.8339, -3.8663, -3.9011, -3.975, -4.0016, -4.0021, -4.003, -4.0457, -4.2285, -4.2471, -4.286, -4.3194, -4.3252, -4.385, -4.4143, -4.4671, -4.4839, -4.4957, -4.5289, -4.5382, -4.561, -4.6319, -2.906, -2.9446, -3.0845, -3.4148, -3.4154, -3.4386, -3.5466, -3.5467, -3.6055, -3.6883, -3.7933, -3.8969, -4.0965, -4.1222, -4.206, -4.277, -4.2946, -4.3093, -4.3257, -4.3474, -4.3986, -4.4167, -4.4933, -4.5246, -4.5609, -4.583, -4.5878, -4.6709, -4.7563, -4.7604, -2.28, -2.7723, -3.2386, -3.2608, -3.6689, -3.7518, -3.8375, -3.9212, -4.0149, -4.0419, -4.1195, -4.1294, -4.2166, -4.2209, -4.2529, -4.2586, -4.2613, -4.3783, -4.385, -4.3984, -4.4248, -4.4383, -4.4589, -4.5442, -4.5683, -4.5709, -4.5842, -4.6638, -4.7042, -4.7168, -2.8601, -3.3756, -3.5207, -3.5466, -3.5474, -3.6064, -3.6309, -3.6861, -3.8801, -4.0557, -4.0632, -4.0933, -4.1249, -4.1325, -4.1473, -4.1631, -4.1683, -4.1708, -4.1937, -4.2322, -4.2329, -4.2411, -4.3616, -4.389, -4.3921, -4.4428, -4.4558, -4.5587, -4.5715, -4.5787, -2.529, -2.6557, -3.2273, -3.2305, -3.5912, -3.6228, -3.6559, -3.6935, -3.8218, -3.8624, -3.9209, -3.9307, -3.9416, -3.9493, -3.9976, -4.0895, -4.1596, -4.1684, -4.291, -4.3098, -4.3324, -4.4526, -4.4728, -4.5671, -4.5952, -4.6406, -4.7174, -4.7311, -4.7383, -4.7709, -2.6219, -3.4346, -3.472, -3.5229, -3.5454, -3.5814, -3.5894, -3.7542, -3.7647, -3.7672, -3.7971, -3.8782, -3.9441, -3.9555, -4.0535, -4.0756, -4.1503, -4.1987, -4.3102, -4.3241, -4.3976, -4.4085, -4.4553, -4.4699, -4.4887, -4.4953, -4.5762, -4.6688, -4.6696, -4.7054, -2.5269, -3.2227, -3.3461, -3.4575, -3.517, -3.7393, -3.7701, -3.8099, -3.8673, -3.9333, -4.1853, -4.1971, -4.2956, -4.3409, -4.3526, -4.3759, -4.3875, -4.3908, -4.4468, -4.4632, -4.472, -4.5338, -4.5507, -4.611, -4.6227, -4.6338, -4.6341, -4.6352, -4.6635, -4.6744, -2.8047, -2.8249, -3.1495, -3.3174, -3.4282, -3.5202, -3.6738, -3.6923, -3.7708, -3.9696, -3.977, -4.0077, -4.1226, -4.1649, -4.2895, -4.3132, -4.3579, -4.3621, -4.3644, -4.3713, -4.4021, -4.4218, -4.4559, -4.4799, -4.5307, -4.6105, -4.644, -4.6557, -4.6985, -4.7048, -2.1799, -3.1038, -3.4212, -3.4872, -3.6604, -3.6808, -3.7901, -3.7979, -3.8252, -4.0036, -4.0307, -4.0558, -4.2417, -4.3425, -4.3568, -4.3617, -4.4041, -4.4809, -4.4981, -4.5149, -4.5807, -4.6709, -4.6711, -4.6787, -4.7062, -4.7724, -4.7902, -4.8466, -4.8593, -4.9103, -2.5697, -2.8909, -3.091, -3.2904, -3.393, -3.6698, -3.7326, -3.7479, -3.7827, -3.8249, -3.8481, -3.8628, -3.9257, -3.9952, -4.0247, -4.0905, -4.134, -4.2499, -4.2551, -4.2594, -4.2726, -4.3115, -4.3177, -4.3625, -4.3949, -4.4431, -4.622, -4.6286, -4.6447, -4.68, -3.0312, -3.1748, -3.2171, -3.2598, -3.3359, -3.4259, -3.475, -3.6656, -3.9501, -3.9596, -3.9941, -4.0553, -4.0891, -4.1243, -4.1536, -4.1761, -4.2093, -4.2353, -4.3178, -4.3788, -4.3834, -4.4267, -4.4377, -4.4732, -4.4955, -4.5219, -4.5749, -4.5983, -4.6274, -4.6527, -2.8761, -2.9554, -3.0118, -3.202, -3.2545, -3.3142, -3.395, -3.5431, -3.7349, -3.7749, -3.794, -3.8432, -3.8517, -3.9761, -3.9798, -4.0338, -4.0408, -4.205, -4.2576, -4.271, -4.2743, -4.3784, -4.4848, -4.5022, -4.5585, -4.6055, -4.6217, -4.6241, -4.6558, -4.6727, -2.1376, -2.7375, -3.2305, -3.2341, -3.4314, -3.4358, -3.5565, -3.6566, -3.7323, -3.7793, -3.8131, -3.8746, -3.8981, -3.9214, -3.9528, -3.9648, -4.0692, -4.218, -4.2522, -4.3223, -4.3476, -4.3597, -4.5457, -4.6024, -4.6234, -4.6433, -4.7267, -4.7696, -4.7969, -4.8125, -2.8785, -2.9089, -3.2594, -3.3712, -3.3857, -3.5454, -3.7535, -3.7725, -3.8193, -3.8341, -3.9158, -3.9257, -3.958, -3.9764, -4.0231, -4.1466, -4.2534, -4.2949, -4.2996, -4.3151, -4.3181, -4.3471, -4.441, -4.4425, -4.4472, -4.4941, -4.5341, -4.5646, -4.6444, -4.6451, -3.0071, -3.009, -3.0212, -3.2837, -3.6599, -3.7845, -3.832, -3.8816, -3.9149, -3.9164, -3.9707, -3.9711, -3.9753, -3.9959, -4.2131, -4.2524, -4.3006, -4.3397, -4.4341, -4.5606, -4.5842, -4.5847, -4.6401, -4.644, -4.7032, -4.7194, -4.726, -4.7284, -4.7922, -4.8081, -2.4383, -2.9289, -3.2482, -3.3421, -3.5044, -3.5445, -3.5832, -3.5898, -3.647, -3.7102, -3.9783, -3.9915, -4.1831, -4.2681, -4.2684, -4.2789, -4.32, -4.3233, -4.3456, -4.375, -4.4028, -4.4184, -4.4315, -4.5297, -4.566, -4.6057, -4.656, -4.7759, -4.7839, -4.7938, -1.7325, -3.2156, -3.2332, -3.4139, -3.6659, -3.7156, -3.7259, -3.7355, -3.847, -3.968, -3.9861, -4.078, -4.0934, -4.1235, -4.2228, -4.2354, -4.259, -4.2603, -4.3094, -4.3268, -4.3335, -4.3613, -4.4205, -4.4223, -4.4933, -4.5152, -4.5621, -4.5722, -4.5893, -4.6554, -2.1036, -2.8457, -3.2971, -3.3094, -3.5676, -3.6622, -3.7349, -3.7536, -3.9047, -3.9666, -4.1808, -4.23, -4.2838, -4.2839, -4.2894, -4.356, -4.3599, -4.4655, -4.4924, -4.5281, -4.5391, -4.5642, -4.5911, -4.6085, -4.6135, -4.709, -4.7131, -4.7205, -4.8251, -4.8529, -2.5305, -2.5435, -2.9044, -3.0944, -3.1142, -3.2353, -3.2421, -3.2455, -3.377, -3.8177, -3.8552, -3.8758, -3.9825, -4.0025, -4.0039, -4.1623, -4.1745, -4.2469, -4.3504, -4.3612, -4.4235, -4.4636, -4.4893, -4.67, -4.682, -4.7817, -4.7858, -4.8006, -4.934, -4.9505, -2.7659, -3.2418, -3.258, -3.2765, -3.2978, -3.4663, -3.5801, -3.7323, -3.7337, -3.7958, -3.8896, -3.9771, -4.0533, -4.0812, -4.1097, -4.1925, -4.2047, -4.2268, -4.2973, -4.3205, -4.4091, -4.4729, -4.5383, -4.597, -4.6072, -4.6471, -4.6567, -4.6576, -4.7391, -4.7927], \"loglift\": [30.0, 29.0, 28.0, 27.0, 26.0, 25.0, 24.0, 23.0, 22.0, 21.0, 20.0, 19.0, 18.0, 17.0, 16.0, 15.0, 14.0, 13.0, 12.0, 11.0, 10.0, 9.0, 8.0, 7.0, 6.0, 5.0, 4.0, 3.0, 2.0, 1.0, 1.6897, 1.6897, 1.6897, 1.6897, 1.6897, 1.6897, 1.6897, 1.6897, 1.6897, 1.6897, 1.6897, 1.6897, 1.6897, 1.6897, 1.6897, 1.6897, 1.6897, 1.6897, 1.6896, 1.6896, 1.6896, 1.6896, 1.6896, 1.6896, 1.6896, 1.6896, 1.6896, 1.6896, 1.6896, 1.6896, 2.7671, 2.7671, 2.767, 2.767, 2.767, 2.767, 2.767, 2.767, 2.767, 2.767, 2.7669, 2.7669, 2.7669, 2.7669, 2.7669, 2.7669, 2.7668, 2.7668, 2.7668, 2.7668, 2.7668, 2.7668, 2.7667, 2.7667, 2.7667, 2.7667, 2.7667, 2.7667, 2.7667, 2.7666, 3.1478, 3.1478, 3.1478, 3.1478, 3.1477, 3.1477, 3.1477, 3.1477, 3.1476, 3.1476, 3.1476, 3.1476, 3.1476, 3.1476, 3.1475, 3.1475, 3.1475, 3.1474, 3.1474, 3.1473, 3.1473, 3.1473, 3.1472, 3.1472, 3.1472, 3.1471, 3.1471, 3.147, 3.147, 3.147, 3.4739, 3.4739, 3.4738, 3.4737, 3.4737, 3.4737, 3.4737, 3.4737, 3.4736, 3.4736, 3.4736, 3.4736, 3.4736, 3.4735, 3.4735, 3.4735, 3.4734, 3.4734, 3.4734, 3.4733, 3.4733, 3.4732, 3.4732, 3.4731, 3.4731, 3.473, 3.473, 3.4729, 3.4728, 3.4728, 3.5028, 3.5027, 3.5026, 3.5025, 3.5025, 3.5025, 3.5024, 3.5024, 3.5024, 3.5023, 3.5023, 3.5023, 3.5022, 3.5022, 3.5022, 3.5022, 3.5022, 3.5021, 3.5021, 3.5021, 3.5021, 3.502, 3.502, 3.5019, 3.5018, 3.5018, 3.5018, 3.5017, 3.5017, 3.5017, 3.6353, 3.6352, 3.635, 3.6349, 3.6348, 3.6348, 3.6347, 3.6347, 3.6347, 3.6346, 3.6346, 3.6346, 3.6345, 3.6345, 3.6345, 3.6344, 3.6343, 3.6342, 3.6341, 3.6341, 3.6341, 3.634, 3.634, 3.6339, 3.6338, 3.6338, 3.6338, 3.6337, 3.6336, 3.6335, 3.6813, 3.6813, 3.6812, 3.6812, 3.681, 3.681, 3.681, 3.681, 3.681, 3.6809, 3.6808, 3.6808, 3.6808, 3.6807, 3.6807, 3.6807, 3.6806, 3.6806, 3.6806, 3.6805, 3.6804, 3.6802, 3.6802, 3.6802, 3.68, 3.6799, 3.6799, 3.6798, 3.6797, 3.6797, 3.6944, 3.6944, 3.6943, 3.6943, 3.6943, 3.6943, 3.6942, 3.6942, 3.6942, 3.6941, 3.6941, 3.694, 3.694, 3.694, 3.694, 3.6939, 3.6939, 3.6937, 3.6936, 3.6934, 3.6933, 3.6933, 3.6931, 3.6931, 3.693, 3.6928, 3.6928, 3.6927, 3.6926, 3.6924, 3.7194, 3.7193, 3.7193, 3.7193, 3.7192, 3.7192, 3.7192, 3.7191, 3.7191, 3.7191, 3.7191, 3.719, 3.719, 3.7189, 3.7189, 3.7189, 3.7188, 3.7188, 3.7188, 3.7188, 3.7188, 3.7188, 3.7187, 3.7186, 3.7185, 3.7185, 3.7184, 3.7183, 3.7183, 3.7182, 3.7286, 3.7286, 3.7285, 3.7284, 3.7284, 3.7283, 3.7282, 3.7282, 3.7282, 3.7281, 3.7281, 3.7281, 3.7281, 3.728, 3.728, 3.7279, 3.7279, 3.7279, 3.7279, 3.7279, 3.7278, 3.7278, 3.7278, 3.7278, 3.7277, 3.7277, 3.7277, 3.7276, 3.7275, 3.7275, 3.7922, 3.7922, 3.7921, 3.7921, 3.7921, 3.792, 3.7919, 3.7919, 3.7919, 3.7919, 3.7918, 3.7918, 3.7918, 3.7917, 3.7917, 3.7917, 3.7917, 3.7916, 3.7916, 3.7916, 3.7916, 3.7915, 3.7915, 3.7915, 3.7914, 3.7912, 3.7912, 3.791, 3.791, 3.7909, 3.8105, 3.8105, 3.8105, 3.8105, 3.8103, 3.8103, 3.8102, 3.8099, 3.8099, 3.8098, 3.8098, 3.8097, 3.8097, 3.8097, 3.8097, 3.8097, 3.8097, 3.8096, 3.8096, 3.8095, 3.8094, 3.8094, 3.8094, 3.8094, 3.8093, 3.8092, 3.8092, 3.8092, 3.8091, 3.8091, 3.8145, 3.8144, 3.8143, 3.8143, 3.8142, 3.8142, 3.8142, 3.8142, 3.8141, 3.814, 3.814, 3.814, 3.814, 3.8139, 3.8139, 3.8138, 3.8138, 3.8137, 3.8137, 3.8137, 3.8136, 3.8136, 3.8135, 3.8133, 3.8133, 3.8133, 3.8133, 3.8132, 3.8131, 3.813, 3.8152, 3.8151, 3.8149, 3.8149, 3.8149, 3.8148, 3.8148, 3.8147, 3.8147, 3.8147, 3.8147, 3.8147, 3.8145, 3.8145, 3.8145, 3.8145, 3.8145, 3.8144, 3.8144, 3.8143, 3.8143, 3.8142, 3.8142, 3.8142, 3.8141, 3.8141, 3.814, 3.814, 3.8138, 3.8138, 3.8169, 3.8168, 3.8167, 3.8167, 3.8165, 3.8165, 3.8164, 3.8164, 3.8164, 3.8164, 3.8164, 3.8163, 3.8163, 3.8163, 3.8163, 3.8162, 3.8161, 3.816, 3.816, 3.816, 3.816, 3.8159, 3.8158, 3.8157, 3.8157, 3.8156, 3.8156, 3.8156, 3.8156, 3.8155, 3.8251, 3.8251, 3.825, 3.8249, 3.8248, 3.8248, 3.8247, 3.8247, 3.8247, 3.8247, 3.8246, 3.8246, 3.8246, 3.8246, 3.8246, 3.8246, 3.8245, 3.8244, 3.8244, 3.8244, 3.8243, 3.8242, 3.8242, 3.8242, 3.8241, 3.8241, 3.8241, 3.8241, 3.8241, 3.824, 3.8405, 3.8405, 3.8404, 3.8404, 3.8403, 3.8403, 3.8401, 3.8401, 3.8401, 3.84, 3.8399, 3.8399, 3.8399, 3.8399, 3.8398, 3.8398, 3.8398, 3.8397, 3.8397, 3.8396, 3.8396, 3.8396, 3.8394, 3.8393, 3.8393, 3.8392, 3.8392, 3.8391, 3.8391, 3.8391, 3.8697, 3.8697, 3.8696, 3.8695, 3.8695, 3.8694, 3.8694, 3.8693, 3.8693, 3.8692, 3.8692, 3.8692, 3.8691, 3.8691, 3.8691, 3.8691, 3.8689, 3.8689, 3.8689, 3.8688, 3.8688, 3.8688, 3.8687, 3.8687, 3.8686, 3.8686, 3.8686, 3.8686, 3.8685, 3.8684, 3.8899, 3.8898, 3.8898, 3.8897, 3.8897, 3.8897, 3.8896, 3.8896, 3.8896, 3.8895, 3.8895, 3.8894, 3.8892, 3.8892, 3.8891, 3.889, 3.889, 3.889, 3.889, 3.889, 3.8889, 3.8889, 3.8888, 3.8887, 3.8887, 3.8887, 3.8886, 3.8885, 3.8884, 3.8884, 3.8904, 3.8903, 3.8901, 3.8901, 3.8899, 3.8899, 3.8898, 3.8898, 3.8897, 3.8897, 3.8896, 3.8896, 3.8895, 3.8895, 3.8895, 3.8895, 3.8895, 3.8893, 3.8893, 3.8893, 3.8893, 3.8892, 3.8892, 3.8891, 3.8891, 3.8891, 3.889, 3.8889, 3.8889, 3.8888, 3.8967, 3.8965, 3.8964, 3.8964, 3.8964, 3.8964, 3.8964, 3.8963, 3.8962, 3.8961, 3.8961, 3.896, 3.896, 3.896, 3.896, 3.896, 3.896, 3.896, 3.8959, 3.8959, 3.8959, 3.8959, 3.8958, 3.8957, 3.8957, 3.8957, 3.8956, 3.8955, 3.8955, 3.8955, 3.9043, 3.9042, 3.9041, 3.9041, 3.9039, 3.9039, 3.9039, 3.9038, 3.9038, 3.9037, 3.9037, 3.9037, 3.9037, 3.9037, 3.9036, 3.9035, 3.9035, 3.9035, 3.9033, 3.9033, 3.9033, 3.9031, 3.9031, 3.903, 3.9029, 3.9029, 3.9028, 3.9027, 3.9027, 3.9027, 3.9129, 3.9126, 3.9126, 3.9126, 3.9126, 3.9125, 3.9125, 3.9124, 3.9124, 3.9124, 3.9124, 3.9124, 3.9123, 3.9123, 3.9122, 3.9122, 3.9121, 3.9121, 3.912, 3.9119, 3.9118, 3.9118, 3.9118, 3.9118, 3.9117, 3.9117, 3.9116, 3.9115, 3.9115, 3.9114, 3.9238, 3.9236, 3.9236, 3.9235, 3.9235, 3.9234, 3.9233, 3.9233, 3.9233, 3.9232, 3.923, 3.923, 3.9229, 3.9228, 3.9228, 3.9228, 3.9228, 3.9228, 3.9227, 3.9227, 3.9227, 3.9226, 3.9225, 3.9225, 3.9224, 3.9224, 3.9224, 3.9224, 3.9224, 3.9224, 3.9444, 3.9444, 3.9443, 3.9442, 3.9441, 3.9441, 3.944, 3.944, 3.9439, 3.9438, 3.9438, 3.9438, 3.9437, 3.9436, 3.9435, 3.9434, 3.9434, 3.9434, 3.9434, 3.9434, 3.9433, 3.9433, 3.9433, 3.9432, 3.9432, 3.943, 3.943, 3.943, 3.9429, 3.9429, 3.949, 3.9488, 3.9487, 3.9487, 3.9486, 3.9486, 3.9485, 3.9485, 3.9485, 3.9483, 3.9483, 3.9483, 3.9481, 3.948, 3.9479, 3.9479, 3.9479, 3.9478, 3.9478, 3.9477, 3.9476, 3.9475, 3.9475, 3.9475, 3.9474, 3.9473, 3.9473, 3.9472, 3.9471, 3.947, 3.9598, 3.9597, 3.9596, 3.9596, 3.9595, 3.9594, 3.9593, 3.9593, 3.9593, 3.9593, 3.9592, 3.9592, 3.9592, 3.9591, 3.9591, 3.959, 3.959, 3.9589, 3.9589, 3.9588, 3.9588, 3.9588, 3.9588, 3.9587, 3.9587, 3.9586, 3.9583, 3.9583, 3.9583, 3.9583, 3.9843, 3.9842, 3.9842, 3.9842, 3.9842, 3.9841, 3.9841, 3.984, 3.9838, 3.9838, 3.9837, 3.9837, 3.9837, 3.9836, 3.9836, 3.9836, 3.9835, 3.9835, 3.9834, 3.9833, 3.9833, 3.9833, 3.9832, 3.9832, 3.9832, 3.9831, 3.983, 3.983, 3.983, 3.9829, 4.0, 4.0, 4.0, 3.9999, 3.9999, 3.9999, 3.9998, 3.9997, 3.9996, 3.9996, 3.9996, 3.9995, 3.9995, 3.9994, 3.9994, 3.9994, 3.9994, 3.9992, 3.9991, 3.9991, 3.9991, 3.999, 3.9988, 3.9988, 3.9987, 3.9986, 3.9986, 3.9986, 3.9986, 3.9985, 4.0171, 4.017, 4.0168, 4.0168, 4.0167, 4.0167, 4.0166, 4.0166, 4.0165, 4.0165, 4.0164, 4.0164, 4.0164, 4.0164, 4.0163, 4.0163, 4.0162, 4.0161, 4.016, 4.0159, 4.0159, 4.0159, 4.0156, 4.0155, 4.0155, 4.0154, 4.0153, 4.0152, 4.0151, 4.0151, 4.0388, 4.0387, 4.0386, 4.0386, 4.0386, 4.0385, 4.0383, 4.0383, 4.0383, 4.0383, 4.0382, 4.0382, 4.0382, 4.0381, 4.0381, 4.038, 4.0378, 4.0378, 4.0378, 4.0378, 4.0378, 4.0377, 4.0376, 4.0376, 4.0376, 4.0375, 4.0374, 4.0374, 4.0373, 4.0372, 4.0593, 4.0593, 4.0593, 4.0592, 4.059, 4.0589, 4.0588, 4.0588, 4.0588, 4.0587, 4.0587, 4.0587, 4.0587, 4.0587, 4.0584, 4.0584, 4.0583, 4.0583, 4.0581, 4.0579, 4.0579, 4.0579, 4.0578, 4.0578, 4.0577, 4.0576, 4.0576, 4.0576, 4.0575, 4.0575, 4.0818, 4.0817, 4.0816, 4.0815, 4.0814, 4.0814, 4.0814, 4.0814, 4.0813, 4.0813, 4.081, 4.081, 4.0808, 4.0807, 4.0807, 4.0807, 4.0807, 4.0806, 4.0806, 4.0806, 4.0805, 4.0805, 4.0805, 4.0803, 4.0803, 4.0802, 4.0801, 4.0799, 4.0798, 4.0798, 4.0863, 4.0859, 4.0859, 4.0858, 4.0857, 4.0856, 4.0856, 4.0856, 4.0855, 4.0854, 4.0854, 4.0853, 4.0853, 4.0852, 4.0851, 4.0851, 4.0851, 4.0851, 4.085, 4.085, 4.085, 4.0849, 4.0848, 4.0848, 4.0847, 4.0847, 4.0846, 4.0846, 4.0846, 4.0844, 4.1134, 4.1132, 4.113, 4.113, 4.1129, 4.1128, 4.1127, 4.1127, 4.1126, 4.1125, 4.1123, 4.1122, 4.1122, 4.1122, 4.1122, 4.1121, 4.1121, 4.1119, 4.1119, 4.1118, 4.1118, 4.1117, 4.1117, 4.1116, 4.1116, 4.1114, 4.1114, 4.1114, 4.1112, 4.1111, 4.1477, 4.1477, 4.1476, 4.1476, 4.1476, 4.1475, 4.1475, 4.1475, 4.1474, 4.1471, 4.1471, 4.1471, 4.1469, 4.1469, 4.1469, 4.1467, 4.1467, 4.1466, 4.1465, 4.1465, 4.1464, 4.1463, 4.1463, 4.1459, 4.1459, 4.1457, 4.1457, 4.1456, 4.1453, 4.1452, 4.2255, 4.2253, 4.2253, 4.2253, 4.2253, 4.2252, 4.2251, 4.225, 4.225, 4.2249, 4.2248, 4.2248, 4.2247, 4.2246, 4.2246, 4.2245, 4.2245, 4.2244, 4.2243, 4.2243, 4.2241, 4.224, 4.2239, 4.2238, 4.2238, 4.2237, 4.2237, 4.2237, 4.2235, 4.2233]}, \"token.table\": {\"Topic\": [26, 2, 27, 13, 14, 29, 35, 33, 11, 4, 8, 6, 20, 9, 26, 6, 30, 2, 21, 2, 9, 30, 15, 10, 31, 37, 11, 33, 8, 11, 27, 10, 25, 6, 2, 25, 18, 26, 33, 19, 20, 17, 15, 12, 14, 23, 26, 25, 6, 14, 10, 7, 20, 7, 7, 2, 14, 23, 26, 36, 33, 35, 27, 35, 10, 19, 5, 29, 13, 22, 32, 32, 29, 35, 20, 34, 7, 5, 33, 25, 11, 29, 5, 37, 26, 23, 17, 26, 15, 22, 31, 24, 15, 1, 6, 28, 6, 34, 16, 17, 32, 16, 16, 14, 20, 21, 29, 29, 20, 33, 4, 17, 28, 14, 1, 16, 33, 31, 24, 35, 31, 15, 15, 13, 12, 18, 13, 14, 33, 12, 8, 32, 26, 37, 36, 8, 12, 17, 33, 24, 16, 16, 9, 4, 31, 15, 12, 27, 15, 34, 23, 6, 23, 19, 8, 29, 8, 16, 8, 12, 15, 15, 19, 31, 10, 14, 19, 34, 14, 4, 12, 31, 9, 26, 6, 20, 25, 13, 23, 17, 20, 14, 7, 21, 7, 8, 31, 13, 24, 36, 24, 18, 37, 14, 8, 13, 30, 21, 34, 18, 26, 23, 34, 14, 21, 37, 4, 18, 22, 27, 19, 19, 2, 32, 36, 12, 34, 18, 36, 28, 26, 34, 5, 23, 34, 17, 26, 30, 27, 35, 15, 36, 2, 10, 5, 3, 17, 10, 27, 14, 20, 31, 13, 33, 37, 29, 23, 25, 7, 16, 13, 35, 31, 24, 4, 9, 30, 4, 11, 9, 11, 4, 9, 2, 25, 12, 14, 12, 25, 34, 10, 30, 10, 34, 17, 13, 28, 25, 30, 23, 23, 16, 10, 35, 27, 26, 29, 21, 23, 33, 21, 7, 31, 35, 25, 8, 6, 32, 3, 7, 24, 34, 22, 22, 22, 37, 32, 25, 26, 23, 18, 23, 17, 6, 30, 13, 27, 19, 27, 28, 5, 13, 28, 29, 21, 6, 29, 34, 3, 23, 35, 13, 3, 21, 26, 13, 31, 1, 37, 16, 2, 2, 33, 28, 28, 26, 29, 36, 36, 33, 24, 24, 28, 5, 5, 36, 23, 11, 11, 8, 23, 25, 7, 35, 9, 29, 14, 19, 36, 7, 32, 15, 17, 34, 16, 30, 20, 34, 3, 1, 37, 19, 1, 21, 20, 13, 10, 22, 17, 32, 8, 17, 30, 16, 14, 4, 9, 8, 5, 12, 14, 19, 20, 18, 7, 22, 21, 31, 28, 9, 15, 32, 27, 4, 23, 1, 7, 4, 21, 23, 37, 28, 2, 31, 31, 35, 3, 30, 2, 10, 33, 8, 37, 33, 24, 12, 5, 34, 18, 12, 17, 2, 27, 36, 35, 32, 30, 3, 9, 12, 8, 21, 15, 25, 25, 21, 3, 18, 27, 2, 26, 27, 3, 23, 29, 21, 10, 18, 11, 1, 16, 22, 21, 33, 10, 23, 8, 33, 2, 21, 22, 35, 36, 8, 14, 21, 36, 7, 12, 5, 37, 22, 16, 12, 27, 25, 28, 20, 34, 33, 7, 6, 8, 11, 9, 29, 35, 35, 9, 5, 37, 26, 13, 24, 34, 2, 32, 6, 14, 21, 22, 26, 36, 6, 36, 8, 24, 31, 3, 36, 15, 34, 27, 18, 3, 33, 10, 28, 16, 16, 34, 9, 16, 10, 20, 23, 24, 8, 35, 5, 30, 7, 32, 4, 35, 11, 13, 36, 28, 34, 28, 1, 25, 1, 30, 13, 28, 36, 5, 2, 4, 14, 6, 13, 15, 1, 28, 14, 26, 27, 25, 25, 16, 3, 4, 10, 25, 27, 29, 31, 4, 12, 11, 1, 15, 17, 12, 1, 37, 11, 11, 17, 3, 21, 34, 36, 1, 23, 6, 8, 24, 33, 26, 5, 21, 7, 5, 4, 3, 11, 11, 3, 17, 6, 13, 24, 27, 20, 19, 36, 17, 25, 22, 21, 7, 6, 17, 6, 32, 7, 5, 27, 1, 13, 28, 32, 32, 9, 23, 32, 20, 12, 26, 2, 7, 35, 1, 35, 22, 26, 14, 20, 19, 29, 3, 37, 28, 3, 29, 16, 7, 10, 35, 35, 1, 23, 36, 12, 37, 35, 16, 20, 10, 9, 2, 22, 15, 31, 30, 7, 12, 23, 3, 23, 22, 5, 3, 25, 4, 25, 19, 11, 31, 15, 19, 27, 36, 1, 14, 9, 21, 37, 37, 35, 14, 17, 6, 5, 3, 8, 21, 27, 6, 34, 28, 9, 9, 9, 6, 2, 12, 28, 25, 28, 32, 16, 15, 18, 18, 11, 24, 28, 22, 21, 4, 24, 11, 8, 33, 18, 28, 27, 16, 19, 17, 3, 20, 17, 32, 15, 16, 16, 11, 23, 17, 10, 22, 29, 24, 25, 18, 29, 22, 14, 30, 18, 14, 30, 13, 14, 27, 36, 4, 16, 32, 2, 3, 20, 3, 32, 18, 15, 18, 11, 24, 31, 18, 27, 20, 13, 6, 26, 30, 24, 28, 31, 10, 29, 32, 20, 7, 30, 9, 9, 36, 22, 16, 27, 7, 17, 37, 13, 9, 34, 25, 7, 24, 6, 9, 16, 28, 24, 24, 14, 22, 19, 6, 22, 19, 30, 1, 25, 3, 26, 5, 13, 25, 21, 2, 32, 1, 5, 28, 15, 37, 18, 30, 20, 10, 11, 10, 19, 30, 18, 30, 21, 36, 12, 12, 22, 17, 31, 12, 8, 1, 12, 18, 5, 34, 17, 4, 4, 9, 36, 31, 11, 29, 5, 11, 21, 30, 32, 30, 30, 22, 30, 5, 12, 20, 5, 2, 31, 13, 33, 28, 21, 11, 37, 3, 10, 17, 19, 35, 16, 37, 15, 13, 18, 24, 2, 31, 12, 10, 34, 21, 11, 11, 4, 17, 6, 35, 29, 3, 26, 33, 6, 23, 32, 9, 33, 26, 5, 20, 22, 31, 4, 25, 14, 13, 1, 6, 29, 5, 23, 8, 9, 27, 32, 15, 16, 19, 29, 18, 11, 15, 18, 32, 19, 1, 1, 20, 12, 13, 4, 5, 2, 37, 10, 24, 1, 8, 27, 2, 4, 4, 19, 2, 35, 15, 24, 18, 11, 30, 7, 35, 29, 33, 24, 34, 26, 18, 14, 15, 33, 10, 36, 4, 24, 7, 34, 15, 36, 8, 19, 1, 8, 25, 22, 20, 31, 19, 19, 19, 8, 13, 31, 10, 7, 35, 32, 19, 12, 1, 16, 7, 20, 31, 28, 28, 20, 9, 22, 6, 1, 18, 22, 37, 32, 27, 10, 37, 2, 22, 17, 20, 10, 34, 24, 1, 37, 3, 25, 33, 26, 18, 37, 2, 9, 29, 8, 37, 34, 37, 29, 36, 31, 4, 33, 35, 15, 29, 4, 36, 3, 30, 32, 2, 19, 19, 5, 5, 7, 33, 27, 30, 1, 22, 26, 37, 33, 1, 6, 17, 11, 24, 9, 3, 3, 29, 4], \"Freq\": [0.9994449461716401, 0.9998819646312792, 0.9993460232876463, 0.999206921161929, 0.9990631037946668, 0.9992708648022337, 0.9990223494125366, 0.9973433301807981, 0.9993223560587523, 0.9996284523733953, 0.9976245455256849, 0.99840517449856, 0.9999087826550264, 0.9996392928482538, 0.9989598536239859, 0.9990737911437245, 0.998321225850204, 0.9997318775429479, 0.9988930634080602, 0.9993711010714204, 0.9997370359165743, 0.9995064539520419, 0.9991984421463456, 0.999418689279186, 0.9984327543420574, 0.9976239849530404, 0.9997168372449867, 0.9993366277674365, 0.9986570552416378, 0.9994398571723762, 0.9989760181975972, 0.9995286126283937, 0.9990557224114285, 0.9994246786743785, 0.9995221777569809, 0.9992738971129879, 0.9993673192283731, 0.9985330353275697, 0.9969024482046187, 0.9996087314373082, 0.9982595223449516, 0.99915445185932, 0.9991322042976133, 0.999064705075689, 0.9996490180287289, 0.9995970492688468, 0.9974907215022373, 0.9989917335217045, 0.9993087430468098, 0.9989649327038714, 0.9982003671100577, 0.9991691252488749, 0.9995530965725073, 0.9988472883065572, 0.999338521906526, 0.9998521156462483, 0.9988444128861781, 0.9989362988554784, 0.997979948960328, 0.9970128719902644, 0.9992336928497351, 0.99880868846002, 0.9984065314683568, 0.9982318346979084, 0.9989925053975651, 0.9997196129765644, 0.9996111377501696, 0.9982852426602891, 0.9992105715015418, 0.9991456060293138, 0.9990078961669859, 0.9977469180271661, 0.9992748503306716, 0.9983220168614492, 0.9990591275257081, 0.9986763082506874, 0.99922486754139, 0.9998243942296525, 0.9998065554324844, 0.9992158038208194, 0.9995619022951341, 0.9994846369957769, 0.9992665836562066, 0.997529443096828, 0.9986491776560698, 0.9992185402338722, 0.9992620940639747, 0.9982186179046731, 0.9991056864865016, 0.9988873606481721, 0.9993199168825944, 0.9987848454354933, 0.9996726213313267, 0.9998074285999882, 0.9993299756033268, 0.9984263507886733, 0.999304927473489, 0.9990606223759212, 0.9991131120984978, 0.9995643991222919, 0.9993718664566639, 0.9996867965348892, 0.9981716701620272, 0.9995773385770255, 0.9988753677369985, 0.9991016790048113, 0.999138289293603, 0.9989874447645102, 0.9987042249781795, 0.9988844313271453, 0.9995576710584845, 0.9983487772326072, 0.9995441935388322, 0.9996662417680793, 0.999931877819023, 0.9992843410738218, 0.997046754926226, 0.9993968370185619, 0.9995499626278925, 0.9988872717711746, 0.9986855031148473, 0.9992308498442876, 0.9990244896917749, 0.9994421636504017, 0.9998467880866704, 0.9990515206267216, 0.9986674689030975, 0.9989449723441274, 0.9988508938943137, 0.9998129720409924, 0.9978079731950927, 0.9997594210626779, 0.9994299993194665, 0.9994495048098214, 0.9991696644684404, 0.9992833773805562, 0.9990445795404032, 0.9989815939916526, 0.9986742456628039, 0.9990723026269135, 0.9991796451186384, 0.9982849029600382, 0.9988308414737671, 0.9991511581727052, 0.998127198904064, 0.9989607673576545, 0.9990681385491592, 0.9991728943390094, 0.9991232392389585, 0.9996757757224027, 0.9988853340439541, 0.9987471069362864, 0.9992058241226867, 0.9987518799380383, 0.9982048278684291, 0.9994965427566024, 0.9996840103560095, 0.9996143506804747, 0.9978793290051682, 0.9994634266741558, 0.999158089691303, 0.9994995114116539, 0.9988709394178457, 0.9992004730719082, 0.9996943789389218, 0.9983818833600304, 0.9985465619567521, 0.9992588177394637, 0.9996330536404184, 0.9992157410941026, 0.9989980723979184, 0.9995491629370222, 0.9994152062170242, 0.9987911374776429, 0.999058386982062, 0.9987105268076368, 0.9995842734503823, 0.9987631723424025, 0.9997708656554513, 0.9997763976174918, 0.998147931340198, 0.9993001828949997, 0.9999066511595199, 0.9993344065625545, 0.9985552430010622, 0.9990189450171622, 0.9989269428714186, 0.9992862825766676, 0.9995927557069068, 0.9986707349523429, 0.9993141431402993, 0.9993308530031854, 0.9981183333065987, 0.9998507581828029, 0.9991030189285472, 0.9989029221421232, 0.9992545490326759, 0.9991118429118118, 0.9988273497561275, 0.99950537445286, 0.9984917405917146, 0.998276561468655, 0.9989311017346694, 0.9986328582592466, 0.9990330916242551, 0.999447984321518, 0.9990043128892836, 0.999120386356036, 0.9989509619104475, 0.9992779289938883, 0.9996344350901463, 0.9987132282423742, 0.9998194679059188, 0.9994351672467156, 0.999495125574858, 0.9993320682927201, 0.9996835621330967, 0.9988368556431061, 0.9968106783528154, 0.9988279896814668, 0.9993303141175659, 0.9975621946069275, 0.9993112522319234, 0.9990247134665399, 0.9988583296284943, 0.9994629678117912, 0.998875940350378, 0.9986250089065913, 0.9987974241499125, 0.9986589086524905, 0.9993920991645996, 0.998233374514715, 0.9999104713254048, 0.9987621413132352, 0.9998064410928316, 0.9998377022510242, 0.9993957754131818, 0.9988899918293468, 0.9985822902157397, 0.9994950091860468, 0.9995969169403512, 0.9990396641494149, 0.9996711322722811, 0.998507991096402, 0.9985691612607965, 0.9989626913661687, 0.9996530391059968, 0.9992486062785884, 0.9989628780672063, 0.9990524616426962, 0.9983993311668996, 0.9991877223820818, 0.9982650119794833, 0.9985223272512086, 0.9997404721771347, 0.999677698110852, 0.9987741805507885, 0.998619858696709, 0.9984172216345786, 0.9995265708872489, 0.9987952662567748, 0.9994789374949418, 0.9989417575359045, 0.9999360004172542, 0.9994106518941319, 0.9992062668681858, 0.9993707740758782, 0.9995579400869633, 0.9991275552120911, 0.9983699415525055, 0.998856633478831, 0.9986219588361067, 0.9995383008176775, 0.9986063120716144, 0.998381881471676, 0.9981260349964658, 0.9990549050723958, 0.9981603209472877, 0.9995409135331961, 0.9988069178997383, 0.9987913492688448, 0.9988935837068089, 0.9990075553622049, 0.9973368218939836, 0.9978412666933507, 0.9995036194948071, 0.9996787234308377, 0.9987667208379266, 0.999256393585336, 0.9987774146713552, 0.998831689374003, 0.9994373947832412, 0.9989771742402788, 0.9998968370052037, 0.9993286536086766, 0.999803775071531, 0.9991947940911121, 0.9995072997831493, 0.9999341984172556, 0.9983466189743516, 0.9983648170542178, 0.9992789899065401, 0.9993581022059538, 0.9997733994988786, 0.9991537170059719, 0.9979168340733746, 0.9983220638999473, 0.9993854693457942, 0.9989580698566913, 0.9986971224039216, 0.9993443761902038, 0.999113759969642, 0.9989320039190187, 0.9995502388969643, 0.9996179055235438, 0.9997299646576686, 0.998806449383449, 0.9988038608165608, 0.9988529057611109, 0.9994966656381874, 0.9989230109955398, 0.9992567362074118, 0.9980899333820368, 0.9980820843489897, 0.9992534600944002, 0.9982977721896296, 0.9986672260285879, 0.9983656941592501, 0.9996783392675995, 0.9989833513513563, 0.9978168345403331, 0.9992920496008648, 0.9994503310883385, 0.9981675720842191, 0.999091789329073, 0.9988703914922851, 0.9982105540399018, 0.9998600559084534, 0.9976542298003704, 0.9995069728187226, 0.9997907390018375, 0.9995365777872425, 0.9993917352912766, 0.9986251603935326, 0.9995937140715048, 0.9986334784479345, 0.9982575554554288, 0.9973900663991266, 0.9965775763513922, 0.9985969053386317, 0.9990885747812449, 0.9990423343825957, 0.9986439692582475, 0.9996310890673955, 0.9992275783484399, 0.9982933905479517, 0.998032159795622, 0.9992263556979845, 0.9997502829927207, 0.9998121116673127, 0.9983819930226161, 0.998753781823453, 0.9998621088991204, 0.9994639534388516, 0.9991075812844943, 0.9993971695209886, 0.9998183802232009, 0.9983853538760942, 0.999539729706039, 0.999517694716501, 0.999116397245247, 0.9991590180695636, 0.9997515097341949, 0.9996902745573241, 0.9986115783847977, 0.9986818035673892, 0.9992478181513467, 0.998223918580101, 0.9996734267189337, 0.9999170264764529, 0.999468787079915, 0.998309532747566, 0.9998564677126841, 0.9987340182323975, 0.9987249111223709, 0.9997348660684711, 0.9990684320344325, 0.9990054950681292, 0.9989452226247405, 0.9995160550994964, 0.9984016637942967, 0.9991105865201629, 0.9999082704480188, 0.9987686988784268, 0.9990712482620789, 0.9993527486781815, 0.9990433471172865, 0.9994431713526962, 0.9988353436743025, 0.9996685020348404, 0.9993942154530078, 0.9983475644718802, 0.9991700308446475, 0.9986476546743444, 0.9993137597281795, 0.9991869475662953, 0.9996420144614955, 0.9994984273246721, 0.9978858465931268, 0.9996827934753556, 0.9990664329392172, 0.9989240818431073, 0.9988086771279057, 0.9995272210394314, 0.9984336185307364, 0.9999419476380926, 0.99961661499922, 0.9996618808296008, 0.9990895150121573, 0.9989196203829784, 0.9980631673354965, 0.9992615696889203, 0.9998065068201893, 0.9993794976733623, 0.9986468909393611, 0.9989946689490726, 0.999895989537974, 0.998916068835438, 0.9997722230472254, 0.9987270194485668, 0.9991888275658375, 0.9987550998902311, 0.9978678365590388, 0.997785094945164, 0.999656876636176, 0.9980770679557108, 0.9990634367194051, 0.9991932483953326, 0.9994577238933086, 0.9982308563790653, 0.9993767621553643, 0.9996505566430812, 0.9993451062493668, 0.9988016393758063, 0.9991339756761818, 0.9992454364789183, 0.9991572988806935, 0.9997398456990765, 0.9995220349171604, 0.9989127303768345, 0.9993730307552141, 0.9994056256858227, 0.999790321500306, 0.9987370953729394, 0.9997493276504539, 0.9993362177319074, 0.9991168374415434, 0.9997174215168613, 0.997590982290862, 0.9998481628724983, 0.9987890450404555, 0.9982844040215446, 0.9994887421162029, 0.9984244393747634, 0.9982958996800824, 0.9995887186178675, 0.9990005773821534, 0.9996371675160688, 0.9991974142542865, 0.9998509914763108, 0.9989427728920452, 0.9994397314256963, 0.998818034862028, 0.9993419754083588, 0.9996539376111451, 0.9994152665045452, 0.9997348636859723, 0.998364948625573, 0.999839315569885, 0.9982600097043425, 0.9993007744055687, 0.9987510384231703, 0.9982686916166627, 0.9997960682588549, 0.9987478673223965, 0.9990040700073036, 0.99977016287527, 0.9995410799949822, 0.9987198063012315, 0.9994938593062513, 0.9987883235700418, 0.9987792337786442, 0.9994026316489896, 0.9989445425044384, 0.9989543603758391, 0.9995352533845273, 0.999128465688928, 0.9976740425072277, 0.9982101457648813, 0.999292651096884, 0.9993259337213886, 0.9984036300769855, 0.9997579681588491, 0.998584231829082, 0.9989990014590362, 0.9993116132950342, 0.9967605212457662, 0.9984493870549551, 0.9993585313515239, 0.9994394404231587, 0.998939212067994, 0.9985788666260038, 0.9990584679300992, 0.9990879713697631, 0.9991558496534988, 0.9994984167655603, 0.9990553752208411, 0.9976949559840681, 0.9986233557557311, 0.9991807204407206, 0.9990475722012271, 0.9980070737503963, 0.9984953831253053, 0.9994367335125702, 0.999741333095336, 0.9992729667936794, 0.9992575583704791, 0.9988211276558991, 0.9998357713113797, 0.9989194515846179, 0.999390820297938, 0.9988101658228683, 0.9991309206286051, 0.9992159500399287, 0.9999000970748322, 0.999579593680267, 0.9991727887342139, 0.9981568295907036, 0.9996339083119189, 0.999203538166499, 0.9983212986274564, 0.9994469368254016, 0.9983848449962018, 0.998988177768832, 0.999710900285574, 0.9995449545522878, 0.9985561088717819, 0.9996615283473664, 0.9993033780268646, 0.9992797965517961, 0.9994685067171803, 0.9992904513007963, 0.9970295851702744, 0.9995482356010605, 0.9974679491427829, 0.9994153958714466, 0.9996748286201772, 0.9988047364386182, 0.9983662524582989, 0.9989091266925706, 0.9987507116844092, 0.9999130394514183, 0.9990837207849256, 0.9999398579340503, 0.9993769513732096, 0.9995990714437708, 0.9992051433110906, 0.9987131345343275, 0.9997603138646145, 0.9997434525632997, 0.9996638094878375, 0.9992550649112741, 0.9988861717452688, 0.9996168372400304, 0.9994333554472709, 0.9999078616698622, 0.9992529089259441, 0.9996823525702414, 0.99839854528593, 0.9988877775031585, 0.9988030809766753, 0.9996713100659116, 0.9993899746117999, 0.99952361176436, 0.9998769070538559, 0.9985461946639994, 0.9982040476788381, 0.9988129618280519, 0.9975571604049528, 0.9981284610796546, 0.999696507521214, 0.9990481739745184, 0.9991710927303532, 0.9999100210209579, 0.9991338828916214, 0.999589736426682, 0.9997098217985123, 0.9999145836650938, 0.9980437722121751, 0.9991783133741351, 0.9989285483607636, 0.9990318126480897, 0.9998199294700764, 0.9995882223261128, 0.9981576122827291, 0.9995329687509679, 0.9998504350975799, 0.9995227097395573, 0.9989819183053547, 0.999762667388515, 0.999100883728472, 0.9992054433841125, 0.9993112239518296, 0.9993985836105146, 0.9986384714319336, 0.9994514583501827, 0.9993012407361381, 0.9995565370134517, 0.99952973590569, 0.9995511032720917, 0.9987447546120158, 0.9990518427419359, 0.9984581318022852, 0.9982528146769079, 0.9981348325017185, 0.9982131356756067, 0.9996398033650339, 0.9991436230275031, 0.9987270320801007, 0.9978862262545152, 0.9994079276639037, 0.9979353590273493, 0.9995065514312289, 0.9988334737223017, 0.9997270840885629, 0.9978659252568137, 0.9995472847507993, 0.9994946533881588, 0.998199223701803, 0.9996850059210286, 0.9995865900737887, 0.998143273759629, 0.9998256189308331, 0.999542750953514, 0.9996183135107678, 0.9992178071016181, 0.9986146357141422, 0.9994886523461579, 0.9991468616803484, 0.9996527909546651, 0.9987594228352621, 0.9992720056299991, 0.9987559037513882, 0.9998633536873464, 0.9982180327370765, 0.9992789240106623, 0.9999343138375517, 0.9995331417313957, 0.9984288081557532, 0.9985932298802691, 0.9981500333189153, 0.9993784107755582, 0.9996627086509527, 0.9993903691442225, 0.9994712867783547, 0.9995115844354964, 0.9986600405645701, 0.9997223742963832, 0.9989370270858474, 0.9992977372210884, 0.9997183858676103, 0.99908244229053, 0.9983056504789377, 0.9984763884753955, 0.9999643315946777, 0.9994961123469073, 0.9994587791210693, 0.9987443079251654, 0.9987937472506432, 0.9978576287002147, 0.9989630009603645, 0.9990919862504091, 0.9992914331128855, 0.9995560917752698, 0.999426528898671, 0.9990565817362307, 0.99927928037885, 0.9991032858127309, 0.9988849543986599, 0.9990653904875508, 0.9985603020968987, 0.9983827439529928, 0.99988387816374, 0.9996751506478089, 0.9992219440538984, 0.9992680473414525, 0.9998202152365198, 0.9986204209017945, 0.9989601070906635, 0.9995550300579847, 0.9990306276259551, 0.9997017496560452, 0.9992784028597355, 0.9991911929795207, 0.9986863741764912, 0.9993368120308193, 0.998256627337454, 0.9999417309610908, 0.9996119769524797, 0.9990094848525285, 0.9989882956657874, 0.9980201708994724, 0.9996760126096952, 0.9975081296960626, 0.9990519715997235, 0.998686147897931, 0.999952999763357, 0.999415621195784, 0.9992270856064662, 0.9994263547143499, 0.9996373995653224, 0.9994012990489551, 0.9979269665914743, 0.998921273643047, 0.9994837403100515, 0.9994226461492046, 0.998349803032144, 0.9987554708018325, 0.9988078116504768, 0.999732620746394, 0.9993799247298304, 0.9986070441875332, 0.9985172788476442, 0.9996451528767483, 0.9987105145277316, 0.998688972608287, 0.9993151381701392, 0.9987737103415417, 0.9993682769242246, 0.9993713111141872, 0.9988115646684749, 0.9995630075676528, 0.9981184215931325, 0.9994086860104613, 0.9992996380938431, 0.9980339172473149, 0.99944797243225, 0.9994780778196106, 0.9982958101051631, 0.9994320612497797, 0.9990762034303906, 0.999572475659498, 0.9987652371837422, 0.9977190511595461, 0.9981475400385151, 0.9996269299040843, 0.9994981291428755, 0.99914901191553, 0.9986893097121579, 0.9992585049290142, 0.9992142446114702, 0.9988324306680352, 0.9993103126290597, 0.999262914398209, 0.9991426993075602, 0.9993779516526907, 0.9990906720154884, 0.9977827617385994, 0.9990098226629555, 0.9985075920181402, 0.9985793412779147, 0.999733387172311, 0.998972676866914, 0.9989996812563545, 0.9989226706192723, 0.9989114667132113, 0.9987182034669728, 0.9986219943622384, 0.9980740206921345, 0.9990501011441179, 0.999517271864676, 0.9989980718246514, 0.9997390594276244, 0.9990213603134863, 0.9985582959456752, 0.999773516754376, 0.9988205189264223, 0.9986830768795292, 0.9997533779969783, 0.9976971486259769, 0.9996564689022598, 0.9995816080222285, 0.9997709402178051, 0.9989847173307402, 0.9989900610494331, 0.9996829034642366, 0.9981323490006209, 0.999700194871483, 0.9985389413219449, 0.9990827892517887, 0.9989976597677925, 0.9996900919926343, 0.9991845741140024, 0.9983545891887412, 0.9993443677693259, 0.9980589091045734, 0.9987750337275424, 0.9975630138517462, 0.9989697137975321, 0.9994150169446865, 0.9993992197475131, 0.9992093937125234, 0.999331556688027, 0.9984731481582974, 0.9992382536550037, 0.9998573767180349, 0.9995485548662376, 0.9987972492909105, 0.9997773945255022, 0.9988850174400523, 0.998111942270222, 0.9989304921096187, 0.9993045652853261, 0.9985906536624699, 0.9982790465715492, 0.999474787343587, 0.9981933939007478, 0.9986991311293414, 0.9991529666728068, 0.9991168999818786, 0.9997149897363736, 0.9995922565420015, 0.9996051857336985, 0.9984519621256518, 0.9990839350459858, 0.9982992143228315, 0.9989593618341357, 0.99896732073697, 0.9996296528215834, 0.9984937470475584, 0.9998998933035006, 0.9982721148413559, 0.9996907046618577, 0.9992538196568154, 0.998397827775025, 0.9983600185722391, 0.997720697173489, 0.9992836509312392, 0.9997461690670986, 0.9989241045199118, 0.9999242684518717, 0.9991672740856539, 0.9984534098030136, 0.9990652459151909, 0.9992204016215943, 0.9990458731925765, 0.9991212535278928, 0.9986893540704885, 0.9993182418791235, 0.998956018774968, 0.9993776907254887, 0.9995012205577444, 0.9974473670571706, 0.9985314243034489, 0.9980210182422371, 0.9991960520592387, 0.9975765608045303, 0.9985613791425001, 0.9989797146202024, 0.9992428131140021, 0.9990123102028526, 0.9995540756555664, 0.9986631025965871, 0.9990195223642852, 0.9998048391385472, 0.9980960959244304, 0.9991600453790578, 0.9990060314117312, 0.9980629837712144, 0.9995482032854512, 0.999040381030095, 0.9996267433864393, 0.9989979246976575, 0.9993667741342039, 0.998591264690619, 0.9990409194923434, 0.9977299115798737, 0.9989461880074375, 0.9993542967120597, 0.9990982597512434, 0.9990475523753205, 0.997382184399048, 0.999781299442512, 0.9995653901827131, 0.9989444654125748, 0.998667235301692, 0.9994912724740429, 0.999481853245334, 0.9990829622037624, 0.9994894235866896, 0.9995704541930718, 0.9995492617659523, 0.9994919588780532, 0.9988445882590873, 0.9990742002511721, 0.9987201122659348, 0.9994450074106636, 0.9990505859264814, 0.9994759385130035, 0.998823464802386, 0.9985684972400427, 0.9988852441033742, 0.998600370882458, 0.999130177124833, 0.9991434229315157, 0.9997446456573561, 0.9988461126371724, 0.9987645172203011, 0.9991480883221671, 0.9995970499818417, 0.9995786948206422, 0.9988400215795404, 0.9996478434240397, 0.9989047296179531, 0.9997095514237183, 0.9996444356253495, 0.999206739352314, 0.9996220781905293, 0.9988545342276082, 0.9991858094373361, 0.9970361705743691, 0.9995163902909002, 0.9995869787848928, 0.9998388374014532, 0.9986537791385808, 0.9998371587049402, 0.9995884799705665, 0.9993442954704026, 0.9998526672998583, 0.9992515978919078, 0.9995245226490493, 0.9991911155336203, 0.9997653283365844, 0.9992786021822173, 0.9984070984287441, 0.9993035655329083, 0.9974825140194742, 0.9992627553498832, 0.9994770307311808, 0.9999341665137805, 0.9988024821942282, 0.9994396850599356, 0.9992010119721846, 0.9987673008414742, 0.9982495821491149, 0.9991901538112302, 0.9996477178556054, 0.9984497925226102, 0.9990219322232993, 0.9994296895943583, 0.9996585287844517, 0.9984645209058883, 0.9991847327756177, 0.9983165688127833, 0.9981438604811169, 0.9990999765766019, 0.9991769459627138, 0.9997523817460859, 0.9999305283581797, 0.9997822633113959, 0.9993013940425333, 0.9988579253170614, 0.9996551015324512, 0.999554497567887, 0.9985556509643262, 0.9995477956701172, 0.9985996730892627, 0.9992980244697158, 0.9990064663797408, 0.9999309467762063, 0.9981359896573202, 0.9997895025977865, 0.9996456482261513, 0.9995171128213453, 0.9992623458986631, 0.998695632749412, 0.9997045300407205, 0.9980763279364548, 0.9993995478247841, 0.9987511293414624, 0.9988352016325514, 0.9990534914959358, 0.9992823639148875, 0.9988995813762926, 0.9987714529263446, 0.9987391905821232, 0.998192186905461, 0.9997347502879287, 0.9988631615931696, 0.9989775210400854, 0.9988719081443889, 0.9996106715319282, 0.998725003419895, 0.9987047950444482, 0.9995866469751176, 0.9983690644186176, 0.9995043526691676, 0.9990710504511796, 0.9975355003564216, 0.9993344076200265, 0.9996088773468487, 0.9997012240186633, 0.9997763080631094, 0.9989239690897425, 0.9999334922478857, 0.999428297589467, 0.9992329925033904, 0.9986384526379495, 0.9992060817731715, 0.9993789543847322, 0.9994119898112834, 0.9997133736722089, 0.9997461992171028, 0.9986586686673216, 0.9989463818783995, 0.998586301346232, 0.9992949760345935, 0.9994474322291287, 0.9995851504723168, 0.9989114605202647, 0.9979979754434238, 0.9990315176392713, 0.9999520970351466, 0.9991811273784621, 0.9995219123899731, 0.9984426597456858, 0.9989390030246307, 0.9993756750123686, 0.9984843701674357, 0.998529460085357, 0.9993448682828301, 0.998213986621692, 0.9995047596339908, 0.9999068029145216, 0.998979163252168, 0.9985373633001076, 0.9984965549483572, 0.9986261069855805, 0.9990250798613185, 0.9988250506968868, 0.9991944400789976, 0.9999589701526738, 0.999473844849773, 0.9990317284462934, 0.9987157839059836, 0.9982939904590893, 0.9998676456082595, 0.9985776109305712, 0.9999344410185507, 0.9998105759268824, 0.9989775419377301, 0.9998256137038359, 0.9998285929699415, 0.9983031485786906, 0.9990456095943313, 0.9992793933103613, 0.9996989919731653, 0.9996283828853499, 0.9996333929967357, 0.9996737173851049, 0.9971374394320355, 0.9994817502116937, 0.9982448525578226, 0.9989937004930038, 0.9991490246668017, 0.9993496885943562, 0.9988429503206632, 0.9992699409119213, 0.9989598577250939, 0.9989141983078328, 0.9994542978954386, 0.9998964837382348, 0.9991301036582756, 0.9992222273887637, 0.9984583643188423, 0.99958835588471, 0.9997951377439278, 0.9987337780253606, 0.9993746239579192, 0.9991918303689945, 0.9999195179671767, 0.9988789405537497, 0.9976438633516376, 0.9994656816842941, 0.9993615702237408, 0.9998967405683178, 0.9991836282655138, 0.9982609160982305, 0.9977169289162641, 0.9990844636040342, 0.9999010775591833, 0.9994723052487599, 0.9994292664564458, 0.9997104136510525, 0.9988631241590266, 0.9994494607854214, 0.9995586238075463, 0.9998112700780689, 0.9994879919081538, 0.9995701239078358], \"Term\": [\"1\", \"10\", \"100\", \"11\", \"12\", \"14\", \"15\", \"18\", \"2\", \"20\", \"2008\", \"2011\", \"2012\", \"2013\", \"25\", \"3\", \"40\", \"5\", \"50\", \"6\", \"7\", \"8\", \"9\", \"ability\", \"academy\", \"accessory\", \"according\", \"account\", \"achieve\", \"across\", \"act\", \"action\", \"activity\", \"actress\", \"actually\", \"ad\", \"add\", \"addiction\", \"admit\", \"adult\", \"adventure\", \"advice\", \"affair\", \"affect\", \"age\", \"ago\", \"agree\", \"ahead\", \"air\", \"airport\", \"allow\", \"alone\", \"already\", \"although\", \"amazing\", \"american\", \"among\", \"amount\", \"angeles\", \"anger\", \"animal\", \"anna\", \"anniversary\", \"announced\", \"annual\", \"another\", \"answer\", \"anxiety\", \"anyone\", \"anything\", \"apparently\", \"appears\", \"apple\", \"approach\", \"april\", \"area\", \"arent\", \"around\", \"art\", \"article\", \"artist\", \"ask\", \"asked\", \"aspect\", \"attack\", \"attention\", \"author\", \"available\", \"average\", \"avoid\", \"award\", \"aware\", \"baby\", \"back\", \"bad\", \"balance\", \"bank\", \"based\", \"battle\", \"beach\", \"beautiful\", \"beauty\", \"became\", \"become\", \"becoming\", \"bed\", \"began\", \"begin\", \"beginning\", \"behavior\", \"behind\", \"belief\", \"believe\", \"benefit\", \"best\", \"beyond\", \"bigger\", \"biggest\", \"bill\", \"billion\", \"bird\", \"birth\", \"birthday\", \"bit\", \"black\", \"blog\", \"blood\", \"blue\", \"board\", \"body\", \"bold\", \"book\", \"bowl\", \"box\", \"boy\", \"brand\", \"breaking\", \"breast\", \"breath\", \"bright\", \"bring\", \"bringing\", \"brings\", \"british\", \"brother\", \"brought\", \"brown\", \"budget\", \"building\", \"business\", \"busy\", \"buy\", \"cake\", \"california\", \"calling\", \"came\", \"campaign\", \"cancer\", \"capture\", \"car\", \"card\", \"care\", \"career\", \"carpet\", \"case\", \"cat\", \"catch\", \"caught\", \"cause\", \"celebrate\", \"celebrating\", \"celebrity\", \"center\", \"century\", \"certain\", \"certainly\", \"challenge\", \"chance\", \"change\", \"check\", \"chef\", \"chicken\", \"child\", \"childrens\", \"china\", \"chinese\", \"chocolate\", \"choice\", \"choose\", \"choosing\", \"chris\", \"christmas\", \"chronic\", \"city\", \"claim\", \"classic\", \"clean\", \"cleaning\", \"clear\", \"click\", \"client\", \"climate\", \"close\", \"clothes\", \"clothing\", \"cocktail\", \"coffee\", \"cold\", \"collection\", \"college\", \"color\", \"column\", \"come\", \"comment\", \"common\", \"community\", \"company\", \"completely\", \"computer\", \"concern\", \"condition\", \"connection\", \"consider\", \"continue\", \"continues\", \"control\", \"conversation\", \"cook\", \"cooking\", \"cool\", \"cost\", \"costume\", \"could\", \"couldnt\", \"country\", \"couple\", \"course\", \"court\", \"courtesy\", \"cover\", \"craft\", \"crazy\", \"create\", \"created\", \"creating\", \"creative\", \"credit\", \"crisis\", \"cruise\", \"culture\", \"customer\", \"cut\", \"cute\", \"cyrus\", \"dad\", \"daily\", \"dangerous\", \"dark\", \"data\", \"date\", \"dating\", \"daughter\", \"david\", \"day\", \"de\", \"dead\", \"deal\", \"death\", \"debate\", \"debt\", \"decade\", \"decided\", \"decision\", \"deep\", \"definitely\", \"delicious\", \"department\", \"depression\", \"designer\", \"despite\", \"dessert\", \"destination\", \"detail\", \"diagnosis\", \"diamond\", \"diet\", \"different\", \"difficult\", \"dinner\", \"director\", \"discus\", \"disease\", \"dish\", \"divorce\", \"doctor\", \"doesnt\", \"dog\", \"done\", \"dont\", \"door\", \"doubt\", \"dr\", \"dream\", \"dress\", \"drink\", \"drinking\", \"drive\", \"drug\", \"due\", \"earlier\", \"early\", \"earth\", \"easier\", \"easy\", \"eat\", \"eating\", \"economy\", \"editor\", \"effect\", \"effort\", \"egg\", \"either\", \"election\", \"elizabeth\", \"else\", \"email\", \"emotional\", \"employee\", \"end\", \"energy\", \"engaged\", \"engagement\", \"enough\", \"entire\", \"especially\", \"essential\", \"europe\", \"even\", \"evening\", \"event\", \"every\", \"everyone\", \"everything\", \"evidence\", \"evolution\", \"ex\", \"exactly\", \"excited\", \"excuse\", \"executive\", \"expect\", \"expected\", \"expensive\", \"experience\", \"expert\", \"extra\", \"extreme\", \"eye\", \"facebook\", \"fact\", \"factor\", \"fair\", \"family\", \"famous\", \"fan\", \"far\", \"fashion\", \"fast\", \"father\", \"fear\", \"feature\", \"february\", \"feel\", \"feeling\", \"felt\", \"female\", \"festival\", \"field\", \"financial\", \"find\", \"finding\", \"fire\", \"first\", \"fit\", \"fitness\", \"five\", \"fix\", \"flavor\", \"florida\", \"focus\", \"focused\", \"follow\", \"food\", \"foot\", \"force\", \"forget\", \"form\", \"former\", \"forward\", \"found\", \"free\", \"freedom\", \"french\", \"fresh\", \"front\", \"full\", \"fun\", \"future\", \"gain\", \"game\", \"garden\", \"gas\", \"gave\", \"gay\", \"generation\", \"get\", \"gift\", \"girl\", \"given\", \"giving\", \"glass\", \"global\", \"go\", \"goal\", \"gold\", \"gone\", \"good\", \"google\", \"got\", \"government\", \"gown\", \"grab\", \"grand\", \"greatest\", \"green\", \"ground\", \"group\", \"guest\", \"guide\", \"gun\", \"habit\", \"hair\", \"half\", \"halloween\", \"hand\", \"happens\", \"happiness\", \"happy\", \"hard\", \"hate\", \"he\", \"head\", \"health\", \"healthier\", \"healthy\", \"hear\", \"heard\", \"heart\", \"heat\", \"help\", \"helped\", \"helping\", \"high\", \"higher\", \"hill\", \"history\", \"hold\", \"holiday\", \"hollywood\", \"home\", \"honor\", \"hope\", \"hospital\", \"hot\", \"hotel\", \"hour\", \"house\", \"houston\", \"huffpost\", \"huge\", \"human\", \"hurricane\", \"hurt\", \"husband\", \"ice\", \"id\", \"idea\", \"image\", \"impact\", \"important\", \"improve\", \"include\", \"including\", \"income\", \"increase\", \"industry\", \"information\", \"ingredient\", \"inner\", \"inside\", \"inspiration\", \"instagram\", \"instead\", \"interest\", \"internet\", \"interview\", \"investment\", \"involved\", \"island\", \"issue\", \"item\", \"january\", \"jennifer\", \"jersey\", \"jessica\", \"job\", \"john\", \"journal\", \"journey\", \"joy\", \"july\", \"june\", \"kardashian\", \"kate\", \"keep\", \"keeping\", \"key\", \"kick\", \"kid\", \"kim\", \"kind\", \"king\", \"kitchen\", \"knew\", \"know\", \"known\", \"la\", \"lack\", \"lady\", \"land\", \"large\", \"late\", \"later\", \"law\", \"le\", \"lead\", \"leader\", \"learn\", \"learned\", \"learning\", \"least\", \"leave\", \"led\", \"left\", \"leg\", \"lesson\", \"let\", \"letter\", \"letting\", \"level\", \"lie\", \"life\", \"light\", \"like\", \"likely\", \"line\", \"link\", \"linked\", \"list\", \"little\", \"living\", \"local\", \"london\", \"long\", \"longer\", \"look\", \"looked\", \"looking\", \"los\", \"lose\", \"losing\", \"loss\", \"lost\", \"lot\", \"love\", \"loving\", \"low\", \"lower\", \"lucky\", \"lunch\", \"magazine\", \"magic\", \"major\", \"make\", \"makeup\", \"making\", \"man\", \"many\", \"marc\", \"march\", \"mark\", \"market\", \"marriage\", \"married\", \"martin\", \"matter\", \"may\", \"maybe\", \"meal\", \"mean\", \"measure\", \"meat\", \"medical\", \"medium\", \"meet\", \"member\", \"memory\", \"men\", \"mental\", \"met\", \"michael\", \"michelle\", \"middle\", \"middleton\", \"mile\", \"miley\", \"million\", \"minute\", \"miss\", \"missed\", \"mistake\", \"mitt\", \"model\", \"modern\", \"mom\", \"monday\", \"money\", \"morning\", \"moss\", \"mother\", \"move\", \"movement\", \"much\", \"music\", \"must\", \"myth\", \"nail\", \"name\", \"nation\", \"national\", \"natural\", \"near\", \"nearly\", \"need\", \"needed\", \"network\", \"new\", \"news\", \"nice\", \"nine\", \"north\", \"note\", \"nothing\", \"obama\", \"offer\", \"office\", \"official\", \"often\", \"oh\", \"oil\", \"old\", \"older\", \"olympic\", \"olympics\", \"one\", \"online\", \"open\", \"opened\", \"opening\", \"opinion\", \"opportunity\", \"option\", \"order\", \"oscar\", \"others\", \"outfit\", \"outside\", \"page\", \"pain\", \"pair\", \"pant\", \"paper\", \"parent\", \"parenting\", \"paris\", \"park\", \"part\", \"particular\", \"partner\", \"party\", \"passenger\", \"past\", \"path\", \"patient\", \"paul\", \"pay\", \"peace\", \"people\", \"perfect\", \"performance\", \"perhaps\", \"period\", \"personal\", \"personality\", \"pet\", \"phone\", \"photo\", \"pick\", \"picture\", \"piece\", \"place\", \"plan\", \"plane\", \"planet\", \"planning\", \"play\", \"player\", \"playing\", \"please\", \"point\", \"police\", \"policy\", \"political\", \"poll\", \"pool\", \"pop\", \"popular\", \"positive\", \"possible\", \"post\", \"potential\", \"power\", \"powerful\", \"practice\", \"pregnant\", \"prepare\", \"present\", \"president\", \"pressure\", \"pretty\", \"prevent\", \"price\", \"prince\", \"print\", \"private\", \"probably\", \"problem\", \"process\", \"produce\", \"product\", \"professional\", \"program\", \"project\", \"proposal\", \"provide\", \"public\", \"published\", \"pull\", \"push\", \"quality\", \"queen\", \"question\", \"quick\", \"quickly\", \"quite\", \"race\", \"raise\", \"raising\", \"rare\", \"rate\", \"rather\", \"reach\", \"read\", \"reader\", \"reading\", \"real\", \"reality\", \"realize\", \"reason\", \"received\", \"recent\", \"recently\", \"recipe\", \"record\", \"recovery\", \"red\", \"related\", \"relationship\", \"release\", \"released\", \"remember\", \"report\", \"reported\", \"republican\", \"research\", \"resolution\", \"resort\", \"response\", \"responsibility\", \"rest\", \"restaurant\", \"result\", \"return\", \"reveals\", \"review\", \"right\", \"ring\", \"rise\", \"risk\", \"road\", \"robert\", \"rock\", \"role\", \"romantic\", \"romney\", \"room\", \"root\", \"round\", \"routine\", \"royal\", \"rule\", \"run\", \"running\", \"runway\", \"safe\", \"safety\", \"sale\", \"san\", \"save\", \"saw\", \"say\", \"scene\", \"school\", \"science\", \"scientist\", \"screen\", \"seat\", \"second\", \"secret\", \"security\", \"see\", \"seeing\", \"seek\", \"seem\", \"seems\", \"self\", \"sense\", \"serious\", \"service\", \"seven\", \"several\", \"sex\", \"sexual\", \"shape\", \"sheer\", \"shes\", \"ship\", \"shoot\", \"shooting\", \"shop\", \"shopping\", \"short\", \"shot\", \"shouldnt\", \"show\", \"showed\", \"side\", \"sign\", \"similar\", \"simple\", \"simply\", \"since\", \"singer\", \"single\", \"sister\", \"site\", \"sitting\", \"situation\", \"six\", \"skill\", \"skin\", \"sky\", \"sleep\", \"small\", \"smith\", \"snack\", \"social\", \"society\", \"solution\", \"someone\", \"sometimes\", \"son\", \"song\", \"soon\", \"source\", \"south\", \"space\", \"special\", \"spend\", \"spent\", \"spirit\", \"spiritual\", \"split\", \"sport\", \"spot\", \"spring\", \"st\", \"stage\", \"stand\", \"start\", \"started\", \"starting\", \"state\", \"statement\", \"stay\", \"step\", \"store\", \"story\", \"strategy\", \"street\", \"strength\", \"stress\", \"student\", \"study\", \"stunning\", \"style\", \"success\", \"suggests\", \"summer\", \"sunday\", \"super\", \"support\", \"sure\", \"surprise\", \"surprising\", \"sweet\", \"symptom\", \"system\", \"table\", \"take\", \"taken\", \"taking\", \"talking\", \"target\", \"task\", \"taste\", \"tax\", \"tea\", \"teach\", \"team\", \"teen\", \"term\", \"test\", \"thank\", \"thanks\", \"thanksgiving\", \"therapy\", \"there\", \"thing\", \"think\", \"thinking\", \"third\", \"though\", \"thought\", \"thousand\", \"three\", \"throughout\", \"throw\", \"thursday\", \"time\", \"tiny\", \"tip\", \"today\", \"together\", \"took\", \"tool\", \"top\", \"totally\", \"touch\", \"tough\", \"tour\", \"toward\", \"town\", \"track\", \"traditional\", \"train\", \"training\", \"travel\", \"treat\", \"treatment\", \"tree\", \"trend\", \"trick\", \"tried\", \"trip\", \"trouble\", \"true\", \"truly\", \"trust\", \"truth\", \"trying\", \"turn\", \"twitter\", \"type\", \"u\", \"understand\", \"unique\", \"united\", \"university\", \"update\", \"upon\", \"use\", \"used\", \"user\", \"using\", \"usually\", \"v\", \"vacation\", \"valentine\", \"value\", \"via\", \"victim\", \"video\", \"view\", \"visit\", \"vogue\", \"voice\", \"vote\", \"wait\", \"waiting\", \"walk\", \"walking\", \"wall\", \"want\", \"war\", \"wardrobe\", \"warm\", \"washington\", \"wasnt\", \"watching\", \"water\", \"way\", \"wear\", \"wearing\", \"weather\", \"website\", \"wedding\", \"wednesday\", \"week\", \"weekend\", \"weekly\", \"weight\", \"well\", \"wellbeing\", \"went\", \"west\", \"weve\", \"whats\", \"whether\", \"white\", \"whitney\", \"whole\", \"whose\", \"wife\", \"wild\", \"win\", \"wine\", \"winter\", \"wisdom\", \"wish\", \"within\", \"woman\", \"wonder\", \"wont\", \"wood\", \"word\", \"work\", \"worker\", \"working\", \"workout\", \"world\", \"worry\", \"worse\", \"worst\", \"worth\", \"would\", \"wouldnt\", \"write\", \"written\", \"wrong\", \"year\", \"yes\", \"yet\", \"york\", \"youd\", \"youll\", \"young\", \"youre\", \"youtube\", \"youve\"]}, \"R\": 30, \"lambda.step\": 0.01, \"plot.opts\": {\"xlab\": \"PC1\", \"ylab\": \"PC2\"}, \"topic.order\": [12, 22, 21, 15, 10, 19, 3, 31, 20, 27, 35, 14, 8, 23, 9, 25, 5, 29, 17, 4, 33, 11, 28, 37, 7, 2, 36, 26, 18, 6, 30, 16, 13, 32, 34, 24, 1]};\n",
       "\n",
       "function LDAvis_load_lib(url, callback){\n",
       "  var s = document.createElement('script');\n",
       "  s.src = url;\n",
       "  s.async = true;\n",
       "  s.onreadystatechange = s.onload = callback;\n",
       "  s.onerror = function(){console.warn(\"failed to load library \" + url);};\n",
       "  document.getElementsByTagName(\"head\")[0].appendChild(s);\n",
       "}\n",
       "\n",
       "if(typeof(LDAvis) !== \"undefined\"){\n",
       "   // already loaded: just create the visualization\n",
       "   !function(LDAvis){\n",
       "       new LDAvis(\"#\" + \"ldavis_el2315221479455208646676352034\", ldavis_el2315221479455208646676352034_data);\n",
       "   }(LDAvis);\n",
       "}else if(typeof define === \"function\" && define.amd){\n",
       "   // require.js is available: use it to load d3/LDAvis\n",
       "   require.config({paths: {d3: \"https://d3js.org/d3.v5\"}});\n",
       "   require([\"d3\"], function(d3){\n",
       "      window.d3 = d3;\n",
       "      LDAvis_load_lib(\"https://cdn.jsdelivr.net/gh/bmabey/pyLDAvis@3.4.0/pyLDAvis/js/ldavis.v3.0.0.js\", function(){\n",
       "        new LDAvis(\"#\" + \"ldavis_el2315221479455208646676352034\", ldavis_el2315221479455208646676352034_data);\n",
       "      });\n",
       "    });\n",
       "}else{\n",
       "    // require.js not available: dynamically load d3 & LDAvis\n",
       "    LDAvis_load_lib(\"https://d3js.org/d3.v5.js\", function(){\n",
       "         LDAvis_load_lib(\"https://cdn.jsdelivr.net/gh/bmabey/pyLDAvis@3.4.0/pyLDAvis/js/ldavis.v3.0.0.js\", function(){\n",
       "                 new LDAvis(\"#\" + \"ldavis_el2315221479455208646676352034\", ldavis_el2315221479455208646676352034_data);\n",
       "            })\n",
       "         });\n",
       "}\n",
       "</script>"
      ],
      "text/plain": [
       "PreparedData(topic_coordinates=              x         y  topics  cluster       Freq\n",
       "topic                                                \n",
       "11    -0.384392 -0.277871       1        1  18.456422\n",
       "21    -0.200793  0.375948       2        1   6.284229\n",
       "20    -0.125548  0.097695       3        1   4.294225\n",
       "14    -0.053486  0.026366       4        1   3.099291\n",
       "9     -0.039119  0.017777       5        1   3.011122\n",
       "18    -0.074282  0.041128       6        1   2.637397\n",
       "2     -0.028838  0.012371       7        1   2.518690\n",
       "30     0.050678 -0.015946       8        1   2.485874\n",
       "19    -0.007089  0.002487       9        1   2.424251\n",
       "26     0.023294 -0.008413      10        1   2.402057\n",
       "34     0.003155 -0.001413      11        1   2.254002\n",
       "13     0.042520 -0.013958      12        1   2.213180\n",
       "7      0.003731 -0.001711      13        1   2.204422\n",
       "22    -0.004279  0.001478      14        1   2.203084\n",
       "8     -0.003871  0.001256      15        1   2.199256\n",
       "24     0.010202 -0.004084      16        1   2.180925\n",
       "4      0.003510 -0.001584      17        1   2.147843\n",
       "28     0.014696 -0.005569      18        1   2.085967\n",
       "16     0.030158 -0.010456      19        1   2.044277\n",
       "3     -0.000722 -0.000001      20        1   2.043457\n",
       "32     0.021185 -0.007688      21        1   2.030386\n",
       "10     0.012259 -0.004697      22        1   2.015175\n",
       "27     0.031990 -0.010949      23        1   1.997845\n",
       "36     0.071017 -0.020549      24        1   1.976181\n",
       "6      0.033288 -0.011393      25        1   1.935828\n",
       "1      0.025929 -0.009212      26        1   1.927032\n",
       "35     0.035387 -0.011932      27        1   1.906326\n",
       "25     0.062332 -0.018704      28        1   1.859915\n",
       "17     0.041755 -0.013666      29        1   1.830971\n",
       "5      0.031251 -0.010721      30        1   1.800285\n",
       "29     0.048062 -0.015316      31        1   1.761389\n",
       "15     0.061571 -0.018563      32        1   1.725517\n",
       "12     0.050013 -0.015844      33        1   1.687326\n",
       "31     0.046066 -0.014764      34        1   1.680011\n",
       "33     0.041883 -0.013727      35        1   1.634984\n",
       "23     0.061398 -0.018450      36        1   1.579606\n",
       "0      0.065090 -0.019326      37        1   1.461251, topic_info=         Term          Freq         Total Category  logprob  loglift\n",
       "1564    photo  31539.000000  31539.000000  Default  30.0000  30.0000\n",
       "145       day  22695.000000  22695.000000  Default  29.0000  29.0000\n",
       "3310  wedding  10368.000000  10368.000000  Default  28.0000  28.0000\n",
       "921      love  12123.000000  12123.000000  Default  27.0000  27.0000\n",
       "518       way  14632.000000  14632.000000  Default  26.0000  26.0000\n",
       "...       ...           ...           ...      ...      ...      ...\n",
       "582     grand    488.968250    490.044856  Topic37  -4.6471   4.2237\n",
       "4103  whitney    484.312850    485.389457  Topic37  -4.6567   4.2237\n",
       "7507   period    483.883532    484.960138  Topic37  -4.6576   4.2237\n",
       "174    aspect    446.027991    447.104597  Topic37  -4.7391   4.2235\n",
       "2475  chronic    422.720839    423.797446  Topic37  -4.7927   4.2233\n",
       "\n",
       "[1140 rows x 6 columns], token_table=      Topic      Freq     Term\n",
       "term                          \n",
       "571      26  0.999445        1\n",
       "212       2  0.999882       10\n",
       "817      27  0.999346      100\n",
       "590      13  0.999207       11\n",
       "5244     14  0.999063       12\n",
       "...     ...       ...      ...\n",
       "2062      9  0.999449    youll\n",
       "1575      3  0.999559    young\n",
       "966       3  0.999811    youre\n",
       "688      29  0.999488  youtube\n",
       "7473      4  0.999570    youve\n",
       "\n",
       "[1110 rows x 3 columns], R=30, lambda_step=0.01, plot_opts={'xlab': 'PC1', 'ylab': 'PC2'}, topic_order=[12, 22, 21, 15, 10, 19, 3, 31, 20, 27, 35, 14, 8, 23, 9, 25, 5, 29, 17, 4, 33, 11, 28, 37, 7, 2, 36, 26, 18, 6, 30, 16, 13, 32, 34, 24, 1])"
      ]
     },
     "execution_count": 37,
     "metadata": {},
     "output_type": "execute_result"
    }
   ],
   "source": [
    "visualisation"
   ]
  },
  {
   "cell_type": "markdown",
   "id": "CgrgUiuKwjFf",
   "metadata": {
    "id": "CgrgUiuKwjFf"
   },
   "source": [
    "saving the pyldavis visual for later comparison in Benchmarks&Visualization (link)!"
   ]
  },
  {
   "cell_type": "code",
   "execution_count": 39,
   "id": "97a27fc9-3a24-4b6a-8f85-8e92daa76afd",
   "metadata": {
    "tags": []
   },
   "outputs": [],
   "source": [
    "import pickle"
   ]
  },
  {
   "cell_type": "code",
   "execution_count": 40,
   "id": "1bf7da07-7175-47d7-b6b9-8574d1ec4996",
   "metadata": {
    "id": "1bf7da07-7175-47d7-b6b9-8574d1ec4996",
    "tags": []
   },
   "outputs": [],
   "source": [
    "with open('visuals/vanilla_lda.pkl', 'wb') as f:\n",
    "    pickle.dump(visualisation, f)"
   ]
  },
  {
   "cell_type": "markdown",
   "id": "3bf8ee8e-cf8d-4003-bda1-536718792061",
   "metadata": {},
   "source": [
    "### Step 6: Topics matchen und Prediction gegen Docs laufen lassen"
   ]
  },
  {
   "cell_type": "code",
   "execution_count": 59,
   "id": "bd43f701-e235-4290-b6c4-8b6932fab9ef",
   "metadata": {
    "tags": []
   },
   "outputs": [
    {
     "name": "stderr",
     "output_type": "stream",
     "text": [
      "C:\\Users\\JSCHNEE\\AppData\\Local\\Temp\\ipykernel_23152\\1755556973.py:18: SettingWithCopyWarning: \n",
      "A value is trying to be set on a copy of a slice from a DataFrame.\n",
      "Try using .loc[row_indexer,col_indexer] = value instead\n",
      "\n",
      "See the caveats in the documentation: https://pandas.pydata.org/pandas-docs/stable/user_guide/indexing.html#returning-a-view-versus-a-copy\n",
      "  processed_df[\"dominant_topic\"] = dominant_topics\n"
     ]
    }
   ],
   "source": [
    "def get_dominant_topics():\n",
    "    \"\"\"\n",
    "        Gets the dominant topic for every row in the dataset\n",
    "    \"\"\"\n",
    "    dominant_topics = []\n",
    "    for doc in processed_texts:\n",
    "        bow = id2word.doc2bow(doc)\n",
    "        \n",
    "        # Gets all the topics slightly dominant in the document\n",
    "        topics = lda_model.get_document_topics(bow, minimum_probability=1/unique_categories)\n",
    "        \n",
    "        # Sorts the topics based off lowest probability and selects the last element\n",
    "        dominant_topic, _ = sorted(topics, key=lambda x: x[1])[-1]\n",
    "        dominant_topics.append(dominant_topic)\n",
    "    return dominant_topics\n",
    "\n",
    "dominant_topics = get_dominant_topics()\n",
    "processed_df[\"dominant_topic\"] = dominant_topics"
   ]
  },
  {
   "cell_type": "code",
   "execution_count": 61,
   "id": "d0fe89a6-c901-41cb-8a07-7d6b579078ec",
   "metadata": {
    "tags": []
   },
   "outputs": [],
   "source": [
    "def map_categories_to_topics(df):\n",
    "    category_topic_mapping = {}\n",
    "    for category in df[\"category\"].unique():\n",
    "        # Get all documents assigned to this category\n",
    "        category_docs = df[df[\"category\"] == category]\n",
    "        \n",
    "        # Get the most often predicted topic\n",
    "        most_often_predicted = category_docs[\"dominant_topic\"].mode()[0]\n",
    "        category_topic_mapping[category] = most_often_predicted\n",
    "    return category_topic_mapping\n",
    "\n",
    "category_topic_mapping = map_categories_to_topics(processed_df)"
   ]
  },
  {
   "cell_type": "code",
   "execution_count": 63,
   "id": "ab5d1185-f5a1-4b0d-8c53-519d718e3bb3",
   "metadata": {
    "tags": []
   },
   "outputs": [
    {
     "name": "stdout",
     "output_type": "stream",
     "text": [
      "{'ARTS': 11,\n",
      " 'ARTS & CULTURE': 11,\n",
      " 'BLACK VOICES': 11,\n",
      " 'BUSINESS': 11,\n",
      " 'COLLEGE': 11,\n",
      " 'COMEDY': 11,\n",
      " 'CRIME': 11,\n",
      " 'CULTURE & ARTS': 11,\n",
      " 'DIVORCE': 11,\n",
      " 'EDUCATION': 11,\n",
      " 'ENTERTAINMENT': 11,\n",
      " 'ENVIRONMENT': 11,\n",
      " 'FIFTY': 11,\n",
      " 'FOOD & DRINK': 11,\n",
      " 'GOOD NEWS': 11,\n",
      " 'GREEN': 11,\n",
      " 'HEALTHY LIVING': 11,\n",
      " 'HOME & LIVING': 11,\n",
      " 'IMPACT': 11,\n",
      " 'LATINO VOICES': 11,\n",
      " 'MEDIA': 11,\n",
      " 'MONEY': 11,\n",
      " 'PARENTING': 11,\n",
      " 'PARENTS': 11,\n",
      " 'POLITICS': 11,\n",
      " 'QUEER VOICES': 11,\n",
      " 'RELIGION': 11,\n",
      " 'SCIENCE': 11,\n",
      " 'SPORTS': 11,\n",
      " 'STYLE': 11,\n",
      " 'STYLE & BEAUTY': 11,\n",
      " 'TASTE': 11,\n",
      " 'TECH': 11,\n",
      " 'TRAVEL': 11,\n",
      " 'WEDDINGS': 11,\n",
      " 'WELLNESS': 11,\n",
      " 'WOMEN': 11}\n"
     ]
    }
   ],
   "source": [
    "pprint(category_topic_mapping)"
   ]
  },
  {
   "cell_type": "markdown",
   "id": "c82a29fd-a573-48a3-8233-8d758dd666d8",
   "metadata": {},
   "source": [
    "Vielleicht war das hier der *falsche* Ansatz..."
   ]
  },
  {
   "cell_type": "code",
   "execution_count": 78,
   "id": "d1c578a7",
   "metadata": {
    "tags": []
   },
   "outputs": [],
   "source": [
    "def map_topics_to_categories(processed_df):\n",
    "    \"\"\"\n",
    "    Maps topics to the most common categories in the processed DataFrame.\n",
    "    It does this by inspecting the predicted topics for all documents belonging to one category\n",
    "    and picking the most often predicted topic as the category.\n",
    "\n",
    "    Returns:\n",
    "    dict: A dictionary mapping each topic to the most common category among the documents assigned to that topic.\n",
    "    \"\"\"\n",
    "    topic_category_mapping = {}\n",
    "    for topic in processed_df['dominant_topic'].unique():\n",
    "        # Get documents assigned to the topic\n",
    "        topic_docs = processed_df[processed_df['dominant_topic'] == topic]\n",
    "        # Find the most common category among these documents\n",
    "        if not topic_docs.empty:\n",
    "            for category in topic_docs['category']:\n",
    "                if category not in topic_category_mapping.values():\n",
    "                    topic_category_mapping[topic] = category\n",
    "    return topic_category_mapping\n",
    "\n",
    "# Create the mapping\n",
    "topic_category_mapping = map_topics_to_categories(processed_df)"
   ]
  },
  {
   "cell_type": "code",
   "execution_count": 80,
   "id": "38dbe4db-af5b-496d-a838-d615a765e91c",
   "metadata": {
    "tags": []
   },
   "outputs": [
    {
     "name": "stdout",
     "output_type": "stream",
     "text": [
      "{1: 'BUSINESS',\n",
      " 2: 'IMPACT',\n",
      " 3: 'POLITICS',\n",
      " 6: 'COMEDY',\n",
      " 7: 'ENTERTAINMENT',\n",
      " 9: 'MONEY',\n",
      " 10: 'DIVORCE',\n",
      " 11: 'SPORTS',\n",
      " 12: 'ENVIRONMENT',\n",
      " 13: 'BLACK VOICES',\n",
      " 14: 'FOOD & DRINK',\n",
      " 16: 'MEDIA',\n",
      " 18: 'STYLE & BEAUTY',\n",
      " 19: 'TRAVEL',\n",
      " 20: 'WELLNESS',\n",
      " 21: 'PARENTING',\n",
      " 22: 'PARENTS',\n",
      " 26: 'CRIME',\n",
      " 27: 'GREEN',\n",
      " 28: 'HOME & LIVING',\n",
      " 29: 'WEDDINGS',\n",
      " 30: 'RELIGION',\n",
      " 36: 'QUEER VOICES'}\n"
     ]
    }
   ],
   "source": [
    "pprint(topic_category_mapping)"
   ]
  },
  {
   "cell_type": "code",
   "execution_count": 82,
   "id": "b2a2c012",
   "metadata": {
    "tags": []
   },
   "outputs": [
    {
     "name": "stderr",
     "output_type": "stream",
     "text": [
      "C:\\Users\\JSCHNEE\\AppData\\Local\\Temp\\ipykernel_23152\\600335101.py:12: SettingWithCopyWarning: \n",
      "A value is trying to be set on a copy of a slice from a DataFrame.\n",
      "Try using .loc[row_indexer,col_indexer] = value instead\n",
      "\n",
      "See the caveats in the documentation: https://pandas.pydata.org/pandas-docs/stable/user_guide/indexing.html#returning-a-view-versus-a-copy\n",
      "  processed_df['predicted_category'] = processed_df['dominant_topic'].map(topic_category_mapping)\n"
     ]
    }
   ],
   "source": [
    "def assign_predicted_category(processed_df, topic_category_mapping):\n",
    "    \"\"\"\n",
    "    Assigns predicted categories to the processed DataFrame based on the dominant topic.\n",
    "\n",
    "    Parameters:\n",
    "    processed_df (pandas.DataFrame): The DataFrame containing processed text and dominant topics.\n",
    "    topic_category_mapping (dict): A dictionary mapping each topic to the most common category among the documents assigned to that topic.\n",
    "\n",
    "    Returns:\n",
    "    pandas.DataFrame: The updated DataFrame with a new column 'predicted_category' containing the assigned categories.\n",
    "    \"\"\"\n",
    "    processed_df['predicted_category'] = processed_df['dominant_topic'].map(topic_category_mapping)\n",
    "    return processed_df\n",
    "\n",
    "# Assign predicted categories\n",
    "processed_df = assign_predicted_category(processed_df, topic_category_mapping)\n"
   ]
  },
  {
   "cell_type": "code",
   "execution_count": 86,
   "id": "762a1de2",
   "metadata": {
    "tags": []
   },
   "outputs": [
    {
     "name": "stdout",
     "output_type": "stream",
     "text": [
      "          category  match_count  total_count  match_percentage\n",
      "28          SPORTS         5057         5077         99.606067\n",
      "2     BLACK VOICES           14         4583          0.305477\n",
      "22       PARENTING           17         8791          0.193380\n",
      "11     ENVIRONMENT            2         1444          0.138504\n",
      "26        RELIGION            2         2577          0.077610\n",
      "15           GREEN            2         2622          0.076278\n",
      "21           MONEY            1         1756          0.056948\n",
      "6            CRIME            2         3562          0.056148\n",
      "34        WEDDINGS            2         3653          0.054750\n",
      "20           MEDIA            1         2943          0.033979\n",
      "30  STYLE & BEAUTY            3         9814          0.030569\n",
      "8          DIVORCE            1         3426          0.029189\n",
      "18          IMPACT            1         3484          0.028703\n",
      "23         PARENTS            1         3955          0.025284\n",
      "17   HOME & LIVING            1         4320          0.023148\n",
      "5           COMEDY            1         5398          0.018525\n",
      "35        WELLNESS            3        17945          0.016718\n",
      "3         BUSINESS            1         5991          0.016692\n",
      "13    FOOD & DRINK            1         6340          0.015773\n",
      "25    QUEER VOICES            1         6346          0.015758\n",
      "10   ENTERTAINMENT            2        17361          0.011520\n",
      "33          TRAVEL            1         9900          0.010101\n",
      "24        POLITICS            2        35601          0.005618\n",
      "          category  match_count  total_count  match_percentage\n",
      "0             ARTS            0         1509               0.0\n",
      "1   ARTS & CULTURE            0         1339               0.0\n",
      "4          COLLEGE            0         1144               0.0\n",
      "7   CULTURE & ARTS            0         1074               0.0\n",
      "9        EDUCATION            0         1014               0.0\n",
      "12           FIFTY            0         1400               0.0\n",
      "14       GOOD NEWS            0         1398               0.0\n",
      "16  HEALTHY LIVING            0         6692               0.0\n",
      "19   LATINO VOICES            0         1130               0.0\n",
      "27         SCIENCE            0         2206               0.0\n",
      "29           STYLE            0         2254               0.0\n",
      "31           TASTE            0         2096               0.0\n",
      "32            TECH            0         2104               0.0\n",
      "36           WOMEN            0         3572               0.0\n"
     ]
    },
    {
     "name": "stderr",
     "output_type": "stream",
     "text": [
      "C:\\Users\\JSCHNEE\\AppData\\Local\\Temp\\ipykernel_23152\\71953698.py:5: SettingWithCopyWarning: \n",
      "A value is trying to be set on a copy of a slice from a DataFrame.\n",
      "Try using .loc[row_indexer,col_indexer] = value instead\n",
      "\n",
      "See the caveats in the documentation: https://pandas.pydata.org/pandas-docs/stable/user_guide/indexing.html#returning-a-view-versus-a-copy\n",
      "  processed_df['match'] = processed_df['category'] == processed_df['predicted_category']\n"
     ]
    }
   ],
   "source": [
    "import pandas as pd\n",
    "\n",
    "# Ensure the DataFrame `processed_df` has 'category' and 'predicted_category' columns\n",
    "# Create a new column to indicate matches\n",
    "processed_df['match'] = processed_df['category'] == processed_df['predicted_category']\n",
    "\n",
    "# Group by category and count matches\n",
    "match_counts = processed_df.groupby('category')['match'].sum().reset_index()\n",
    "match_counts.columns = ['category', 'match_count']\n",
    "\n",
    "# Count total entries per category\n",
    "category_counts = processed_df['category'].value_counts(normalize=False).reset_index()\n",
    "category_counts.columns = ['category', 'total_count']\n",
    "\n",
    "# Merge match counts with total counts\n",
    "comparison = pd.merge(match_counts, category_counts, on='category')\n",
    "\n",
    "# Calculate match percentage\n",
    "comparison['match_percentage'] = (comparison['match_count'] / comparison['total_count']) * 100\n",
    "\n",
    "# Split into matched and no-match categories\n",
    "matched_categories = comparison[comparison['match_count'] > 0]\n",
    "no_match_categories = comparison[comparison['match_count'] == 0]\n",
    "\n",
    "# Sort matched categories by match percentage (descending)\n",
    "matched_categories_sorted = matched_categories.sort_values(by='match_percentage', ascending=False)\n",
    "\n",
    "# Save the results as CSV\n",
    "matched_categories_sorted.to_csv('data/vanilla-matched_categories.csv', index=False)\n",
    "no_match_categories.to_csv('data/vanilla-no_match_categories.csv', index=False)\n",
    "\n",
    "# Return or print the data\n",
    "print(matched_categories_sorted)\n",
    "print(no_match_categories)"
   ]
  },
  {
   "cell_type": "code",
   "execution_count": 88,
   "id": "bae7921a",
   "metadata": {
    "tags": []
   },
   "outputs": [
    {
     "name": "stdout",
     "output_type": "stream",
     "text": [
      "                                             headline  \\\n",
      "2   23 Of The Funniest Tweets About Cats And Dogs ...   \n",
      "3   The Funniest Tweets From Parents This Week (Se...   \n",
      "8   How A New Documentary Captures The Complexity ...   \n",
      "13  Twitch Bans Gambling Sites After Streamer Scam...   \n",
      "16  'Reboot' Is A Clever And Not Too Navel-Gazey L...   \n",
      "17  Maury Wills, Base-Stealing Shortstop For Dodge...   \n",
      "20  Golden Globes Returning To NBC In January Afte...   \n",
      "21  Biden Says U.S. Forces Would Defend Taiwan If ...   \n",
      "24  ‘Beautiful And Sad At The Same Time’: Ukrainia...   \n",
      "26  Las Vegas Aces Win First WNBA Title, Chelsea G...   \n",
      "\n",
      "                                    short_description        category  \\\n",
      "2   \"Until you have a dog you don't understand wha...          COMEDY   \n",
      "3   \"Accidentally put grown-up toothpaste on my to...       PARENTING   \n",
      "8   In \"Mija,\" director Isabel Castro combined mus...  CULTURE & ARTS   \n",
      "13  One man's claims that he scammed people on the...            TECH   \n",
      "16  Starring Keegan-Michael Key, Judy Greer and Jo...  CULTURE & ARTS   \n",
      "17  Maury Wills, who helped the Los Angeles Dodger...          SPORTS   \n",
      "20  For the past 18 months, Hollywood has effectiv...   ENTERTAINMENT   \n",
      "21  President issues vow as tensions with China rise.        POLITICS   \n",
      "24  An annual celebration took on a different feel...        POLITICS   \n",
      "26  Las Vegas never had a professional sports cham...          SPORTS   \n",
      "\n",
      "   predicted_category  \n",
      "2              SPORTS  \n",
      "3              SPORTS  \n",
      "8              SPORTS  \n",
      "13             SPORTS  \n",
      "16             SPORTS  \n",
      "17           BUSINESS  \n",
      "20             SPORTS  \n",
      "21             SPORTS  \n",
      "24             SPORTS  \n",
      "26             SPORTS  \n"
     ]
    }
   ],
   "source": [
    "# Prepare a DataFrame with the required columns\n",
    "results_df = processed_df[['headline', 'short_description', 'category', 'predicted_category']]\n",
    "\n",
    "# Save this DataFrame as CSV\n",
    "results_df.to_csv('data/vanilla-predicted_categories.csv', index=False)\n",
    "\n",
    "# Return or print the results\n",
    "print(results_df.head(10))  # Show the first 10 rows for visual confirmation"
   ]
  },
  {
   "cell_type": "markdown",
   "id": "5b442e6a",
   "metadata": {},
   "source": [
    "# <a href=\"https://github.com/NiklasElsaesser/bug-free-fishstick/blob/main/Improved_LDA.ipynb\">Improved_LDA</a>\n",
    "\n",
    "# <a href=\"https://github.com/NiklasElsaesser/bug-free-fishstick/blob/main/Benchmarks%26Visualizations.ipynb\">Benchmarks & Visualizations</a>"
   ]
  },
  {
   "cell_type": "markdown",
   "id": "3b1e889c",
   "metadata": {},
   "source": [
    "# Literaturhinweise\n",
    "* Rosario, B. (2000). Latent semantic indexing: An overview. Techn. rep. INFOSYS, 240, 1-16.\n",
    "* Chen, P., Zhang, N. L., Liu, T., Poon, L. K., Chen, Z., & Khawar, F. (2017). Latent tree models for hierarchical topic detection. Artificial Intelligence, 250, 105-124.\n",
    "* Liu, T., Zhang, N. L., & Chen, P. (2014). Hierarchical latent tree analysis for topic detection. In Machine Learning and Knowledge Discovery in Databases: European Conference, ECML PKDD 2014, Nancy, France, September 15-19, 2014. Proceedings, Part II 14 (pp. 256-272). Springer Berlin Heidelberg.\n",
    "* Rieger, J., Rahnenführer, J., & Jentsch, C. (2020, June). Improving latent Dirichlet allocation: On reliability of the novel method LDAPrototype. In International conference on applications of natural language to information systems (pp. 118-125). Cham: Springer International Publishing.\n",
    "* Blei, D. M., Ng, A. Y., & Jordan, M. I. (2003). Latent dirichlet allocation. Journal of machine Learning research, 3(Jan), 993-1022.\n",
    "* Schütze, H., Manning, C. D., & Raghavan, P. (2008). Introduction to information retrieval (Vol. 39, pp. 234-265). Cambridge: Cambridge University Press.\n",
    "* Rieger, J., Koppers, L., Jentsch, C., Rahnenfu ̈hrer, J.: Improving Reliability of Latent Dirichlet Allocation by Assessing Its Stability Using Clustering Techniques on Replicated Runs (2020)\n",
    "* Heyer, Gerhard, Wiedemann, Gregor, Niekler, Andreas (2020): Topic-Modelle und ihr Potenzial für die philologische Forschung, In Lobin, Henning, Schneider, Roman, Witt, Andreas (Hrsg.): Digitale Infrastrukturen für die germanistische Forschung (S.351-353), de Gruyter, 23.07.2018.\n",
    "* Misra, Rishabh and Jigyasa Grover. \"Sculpting Data for ML: The first act of Machine Learning.\" ISBN 9798585463570 (2021)."
   ]
  }
 ],
 "metadata": {
  "colab": {
   "provenance": []
  },
  "kernelspec": {
   "display_name": "Python 3 (ipykernel)",
   "language": "python",
   "name": "python3"
  },
  "language_info": {
   "codemirror_mode": {
    "name": "ipython",
    "version": 3
   },
   "file_extension": ".py",
   "mimetype": "text/x-python",
   "name": "python",
   "nbconvert_exporter": "python",
   "pygments_lexer": "ipython3",
   "version": "3.11.5"
  }
 },
 "nbformat": 4,
 "nbformat_minor": 5
}
