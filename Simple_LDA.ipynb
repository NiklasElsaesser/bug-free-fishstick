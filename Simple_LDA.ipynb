{
 "cells": [
  {
   "cell_type": "markdown",
   "id": "e6b7cb2d",
   "metadata": {},
   "source": [
    "# Assignment im Kurs Machine Learning Fundamentals\n",
    "\n",
    "### Projekt Teilnehmer\n",
    "* Anna Stöhrer da Silva\n",
    "* Bernice Fabich\n",
    "* Jan Schneeberg\n",
    "* Niklas Elsässer\n",
    "\n",
    "### Dozent\n",
    "* Ruben Nuredini\n",
    "\n",
    "## Abstract\n",
    "Im Rahmen der vorliegenden Untersuchung wird die Leistungsfähigkeit der Latent Dirichlet Allocation Method (LDA) anhand eines umfangreichen News-Category-Datasets evaluiert. Dabei wird die reguläre LDA-Methode mit einem verbesserten Ansatz, LDAPrototype genannt, verglichen.\n",
    "\n",
    "# Inhaltsverzeichnis\n",
    "- [Theoretische Grundlagen](#theoretische-grundlagen)\n",
    "  - [Datenvorbereinigung](#Datenvorbereinigung)\n",
    "  - [LDA Modell](#step-4-das-lda-model-trainieren)\n",
    "  - [PyLDAvis](#step-4-visualisierung-mit-pyldavis)\n",
    "- [Improved LDA](https://github.com/NiklasElsaesser/bug-free-fishstick/blob/main/Improved_LDA.ipynb) (Separates Notebook)\n",
    "- [Benchmarks & Visualizations](https://github.com/NiklasElsaesser/bug-free-fishstick/blob/main/Benchmarks%26Visualizations.ipynb) (Separates Notebook)\n",
    "- [Literaturverzeichnis](#literaturverzeichnis)"
   ]
  },
  {
   "cell_type": "markdown",
   "id": "agJlSZb04_so",
   "metadata": {
    "id": "agJlSZb04_so"
   },
   "source": [
    "# Theoretische Grundlagen\n",
    "Durch die Digitalisierung steigt die Anzahl digitaler Texte drastisch an, sodass diese kaum noch manuell zu erfassen sind. So beheimatet zum Beispiel das Deutsche Textarchiv (digitale Textsammlung) um die 145 Millionen Texte.\n",
    "Diese Masse an Texten muss verwaltet werden, um Texte zu finden und abzubilden. Des Weiteren müssen sie von Computern ausgewertet werden können, da dies manuell nicht machbar ist.\n",
    "Im Jahr 2007 beschäftigte sich Franco Moretti mit seinem Forschungsprogramm damit, tausend Werke der Weltliteratur gleichzeitig miteinander zu vergleichen. Möglich war dies aber nur mit (text-) statischen Verfahren und computergestützten Visualisierungen. (Heyer, Wiedemann, Niekler 2020, S.351-353)\n",
    "\n",
    "## Topic Modeling\n",
    "Topic Modelling ist eine bekannte Klasse dieser statischen Verfahren. Hierbei können große Daten-, Textmengen automatisch in Themenbereiche aufgeteilt werden. Es wird davon ausgegangen, dass jede Wortform zu einem Themenbereich (Topic) gehört. Durch die Untersuchung der Verteilung von zusammengehörigen Wortformen in einem Text sollen die Themenbereiche dieses Textes abgeleitet werden können.\n",
    "Hiermit ist das Klassifizieren und Zusammenfassen von Texten und deren Abschnitten möglich. (Heyer, Wiedemann, Niekler 2020, S.351-353)\n",
    "\n",
    "## Stärken und Schwächen\n",
    "Stärken sind demnach die Unterteilung von großen Texten in Themen (Topics), sowie die Tatsache, dass dies voll automatisch geschieht.\n",
    "Nachteil ist, dass Syntax-Strukturen, Regelmäßigkeiten der Aussagen und weitere Informationen nicht aus dem Topic Modelling resultieren.\n",
    "Dennoch kann Topic Modelling als Vorarbeit für die weitergehenden Untersuchungen genutzt werden. (Heyer, Wiedemann, Niekler 2020, S.351-353)\n"
   ]
  },
  {
   "cell_type": "markdown",
   "id": "203655f7-5563-4bfb-8ebb-4866eb392ed1",
   "metadata": {
    "id": "203655f7-5563-4bfb-8ebb-4866eb392ed1"
   },
   "source": [
    "# Simple LDA\n",
    "## Datenvorbereinigung\n",
    "### Step 0: Libraries importieren"
   ]
  },
  {
   "cell_type": "code",
   "execution_count": 149,
   "id": "4e47e6f8-ef53-4c60-99a6-f6203b7f456c",
   "metadata": {
    "id": "4e47e6f8-ef53-4c60-99a6-f6203b7f456c",
    "tags": []
   },
   "outputs": [],
   "source": [
    "# The Basics\n",
    "import pandas as pd\n",
    "import numpy\n",
    "from pprint import pprint"
   ]
  },
  {
   "cell_type": "code",
   "execution_count": 150,
   "id": "403c71ae-1564-46bf-bc05-23e049ef1811",
   "metadata": {
    "colab": {
     "base_uri": "https://localhost:8080/"
    },
    "id": "403c71ae-1564-46bf-bc05-23e049ef1811",
    "outputId": "87da1721-1bb5-451a-a1d1-b0d8a39a7327",
    "tags": []
   },
   "outputs": [
    {
     "name": "stderr",
     "output_type": "stream",
     "text": [
      "[nltk_data] Downloading package punkt to\n",
      "[nltk_data]     /Users/niklaselsasser/nltk_data...\n",
      "[nltk_data]   Package punkt is already up-to-date!\n",
      "[nltk_data] Downloading package stopwords to\n",
      "[nltk_data]     /Users/niklaselsasser/nltk_data...\n",
      "[nltk_data]   Package stopwords is already up-to-date!\n",
      "[nltk_data] Downloading package wordnet to\n",
      "[nltk_data]     /Users/niklaselsasser/nltk_data...\n",
      "[nltk_data]   Package wordnet is already up-to-date!\n"
     ]
    }
   ],
   "source": [
    "# The Preprocessing\n",
    "import re\n",
    "import nltk\n",
    "nltk.download(\"punkt\")\n",
    "nltk.download(\"stopwords\")\n",
    "nltk.download(\"wordnet\")\n",
    "from nltk.corpus import stopwords\n",
    "from nltk.tokenize import word_tokenize\n",
    "from nltk.stem import WordNetLemmatizer\n",
    "import string\n",
    "import re"
   ]
  },
  {
   "cell_type": "code",
   "execution_count": 151,
   "id": "396fc40c-5d3f-4863-958c-dd34d8e8b49f",
   "metadata": {
    "id": "396fc40c-5d3f-4863-958c-dd34d8e8b49f",
    "tags": []
   },
   "outputs": [],
   "source": [
    "# The Modell\n",
    "import gensim\n",
    "import gensim.corpora as corpora\n",
    "from gensim.models import CoherenceModel\n",
    "from gensim.utils import simple_preprocess\n",
    "from gensim.models.ldamodel import LdaModel"
   ]
  },
  {
   "cell_type": "markdown",
   "id": "5bc0a79e-c3b7-4cdc-82d4-2724f674db7f",
   "metadata": {
    "id": "5bc0a79e-c3b7-4cdc-82d4-2724f674db7f"
   },
   "source": [
    "### Step 1: Das Dataframe (be)laden"
   ]
  },
  {
   "cell_type": "code",
   "execution_count": 153,
   "id": "un27Krsh3cKo",
   "metadata": {
    "id": "un27Krsh3cKo"
   },
   "outputs": [],
   "source": [
    "#code necessary when running in colab\n",
    "import json\n",
    "import pandas as pd\n",
    "\n",
    "dataset_path = \"News_Category_Dataset_v3.json\"\n",
    "\n",
    "with open(dataset_path, 'r') as file:\n",
    "    news_data = [json.loads(line) for line in file]\n",
    "\n",
    "df = pd.DataFrame(news_data)"
   ]
  },
  {
   "cell_type": "code",
   "execution_count": 154,
   "id": "65cefd47-53f8-4026-93d9-aad600d95e5a",
   "metadata": {
    "id": "65cefd47-53f8-4026-93d9-aad600d95e5a",
    "tags": []
   },
   "outputs": [],
   "source": [
    "#code necessary when running locally\n",
    "df = pd.read_json(\"News_Category_Dataset_v3.json\", lines=True)"
   ]
  },
  {
   "cell_type": "markdown",
   "id": "ddd978dd-849d-4019-ad54-b2fc834f4450",
   "metadata": {
    "id": "ddd978dd-849d-4019-ad54-b2fc834f4450",
    "tags": []
   },
   "source": [
    "### Step 2: Data Cleansing"
   ]
  },
  {
   "cell_type": "code",
   "execution_count": 155,
   "id": "ce5dcb8c-f452-4a0f-9060-aa9d591346f4",
   "metadata": {
    "id": "ce5dcb8c-f452-4a0f-9060-aa9d591346f4",
    "outputId": "f2c0fbc6-f96e-454b-9dd4-098bb708adea",
    "tags": []
   },
   "outputs": [
    {
     "data": {
      "text/html": [
       "<div>\n",
       "<style scoped>\n",
       "    .dataframe tbody tr th:only-of-type {\n",
       "        vertical-align: middle;\n",
       "    }\n",
       "\n",
       "    .dataframe tbody tr th {\n",
       "        vertical-align: top;\n",
       "    }\n",
       "\n",
       "    .dataframe thead th {\n",
       "        text-align: right;\n",
       "    }\n",
       "</style>\n",
       "<table border=\"1\" class=\"dataframe\">\n",
       "  <thead>\n",
       "    <tr style=\"text-align: right;\">\n",
       "      <th></th>\n",
       "      <th>headline</th>\n",
       "      <th>category</th>\n",
       "      <th>short_description</th>\n",
       "    </tr>\n",
       "  </thead>\n",
       "  <tbody>\n",
       "    <tr>\n",
       "      <th>0</th>\n",
       "      <td>Over 4 Million Americans Roll Up Sleeves For O...</td>\n",
       "      <td>U.S. NEWS</td>\n",
       "      <td>Health experts said it is too early to predict...</td>\n",
       "    </tr>\n",
       "    <tr>\n",
       "      <th>1</th>\n",
       "      <td>American Airlines Flyer Charged, Banned For Li...</td>\n",
       "      <td>U.S. NEWS</td>\n",
       "      <td>He was subdued by passengers and crew when he ...</td>\n",
       "    </tr>\n",
       "    <tr>\n",
       "      <th>2</th>\n",
       "      <td>23 Of The Funniest Tweets About Cats And Dogs ...</td>\n",
       "      <td>COMEDY</td>\n",
       "      <td>\"Until you have a dog you don't understand wha...</td>\n",
       "    </tr>\n",
       "    <tr>\n",
       "      <th>3</th>\n",
       "      <td>The Funniest Tweets From Parents This Week (Se...</td>\n",
       "      <td>PARENTING</td>\n",
       "      <td>\"Accidentally put grown-up toothpaste on my to...</td>\n",
       "    </tr>\n",
       "    <tr>\n",
       "      <th>4</th>\n",
       "      <td>Woman Who Called Cops On Black Bird-Watcher Lo...</td>\n",
       "      <td>U.S. NEWS</td>\n",
       "      <td>Amy Cooper accused investment firm Franklin Te...</td>\n",
       "    </tr>\n",
       "  </tbody>\n",
       "</table>\n",
       "</div>"
      ],
      "text/plain": [
       "                                            headline   category  \\\n",
       "0  Over 4 Million Americans Roll Up Sleeves For O...  U.S. NEWS   \n",
       "1  American Airlines Flyer Charged, Banned For Li...  U.S. NEWS   \n",
       "2  23 Of The Funniest Tweets About Cats And Dogs ...     COMEDY   \n",
       "3  The Funniest Tweets From Parents This Week (Se...  PARENTING   \n",
       "4  Woman Who Called Cops On Black Bird-Watcher Lo...  U.S. NEWS   \n",
       "\n",
       "                                   short_description  \n",
       "0  Health experts said it is too early to predict...  \n",
       "1  He was subdued by passengers and crew when he ...  \n",
       "2  \"Until you have a dog you don't understand wha...  \n",
       "3  \"Accidentally put grown-up toothpaste on my to...  \n",
       "4  Amy Cooper accused investment firm Franklin Te...  "
      ]
     },
     "execution_count": 155,
     "metadata": {},
     "output_type": "execute_result"
    }
   ],
   "source": [
    "df.drop(columns=[\"link\", \"authors\", \"date\"], inplace=True)\n",
    "df.head()"
   ]
  },
  {
   "cell_type": "markdown",
   "id": "448c8951-15c5-413e-8b06-427a13098c6f",
   "metadata": {
    "id": "448c8951-15c5-413e-8b06-427a13098c6f"
   },
   "source": [
    "Auf den ersten Blick können wir erkennen, dass die Kategorie \"U.S. NEWS\" eher ein mix aus unterschiedlichen Themen ist.\n",
    "<br>Das könnte später unseren Algorithmus verwirren, weshalb wir Kategorien welche aus unterschiedlichen Themen bestehen, entfernen wollen."
   ]
  },
  {
   "cell_type": "code",
   "execution_count": 156,
   "id": "47494bb5-f759-40b9-b93a-cdc7e2f841de",
   "metadata": {
    "id": "47494bb5-f759-40b9-b93a-cdc7e2f841de",
    "outputId": "50bdd971-bde7-4ba9-dd37-a7eb5229d293",
    "tags": []
   },
   "outputs": [
    {
     "data": {
      "text/plain": [
       "array(['U.S. NEWS', 'COMEDY', 'PARENTING', 'WORLD NEWS', 'CULTURE & ARTS',\n",
       "       'TECH', 'SPORTS', 'ENTERTAINMENT', 'POLITICS', 'WEIRD NEWS',\n",
       "       'ENVIRONMENT', 'EDUCATION', 'CRIME', 'SCIENCE', 'WELLNESS',\n",
       "       'BUSINESS', 'STYLE & BEAUTY', 'FOOD & DRINK', 'MEDIA',\n",
       "       'QUEER VOICES', 'HOME & LIVING', 'WOMEN', 'BLACK VOICES', 'TRAVEL',\n",
       "       'MONEY', 'RELIGION', 'LATINO VOICES', 'IMPACT', 'WEDDINGS',\n",
       "       'COLLEGE', 'PARENTS', 'ARTS & CULTURE', 'STYLE', 'GREEN', 'TASTE',\n",
       "       'HEALTHY LIVING', 'THE WORLDPOST', 'GOOD NEWS', 'WORLDPOST',\n",
       "       'FIFTY', 'ARTS', 'DIVORCE'], dtype=object)"
      ]
     },
     "execution_count": 156,
     "metadata": {},
     "output_type": "execute_result"
    }
   ],
   "source": [
    "df.category.unique()"
   ]
  },
  {
   "cell_type": "markdown",
   "id": "b67298b2-0650-44a6-819c-a61ba86fc981",
   "metadata": {},
   "source": [
    "Kategorien welche wahrscheinlich mehrere Themen umfassen werden erfasst. Im unteren Sample können wir erkennen, dass unsere These korrekt ist."
   ]
  },
  {
   "cell_type": "code",
   "execution_count": 157,
   "id": "33d0acb4-ba5e-4029-9671-d5b2f92c2630",
   "metadata": {
    "id": "33d0acb4-ba5e-4029-9671-d5b2f92c2630",
    "tags": []
   },
   "outputs": [
    {
     "data": {
      "text/html": [
       "<div>\n",
       "<style scoped>\n",
       "    .dataframe tbody tr th:only-of-type {\n",
       "        vertical-align: middle;\n",
       "    }\n",
       "\n",
       "    .dataframe tbody tr th {\n",
       "        vertical-align: top;\n",
       "    }\n",
       "\n",
       "    .dataframe thead th {\n",
       "        text-align: right;\n",
       "    }\n",
       "</style>\n",
       "<table border=\"1\" class=\"dataframe\">\n",
       "  <thead>\n",
       "    <tr style=\"text-align: right;\">\n",
       "      <th></th>\n",
       "      <th>headline</th>\n",
       "      <th>category</th>\n",
       "      <th>short_description</th>\n",
       "    </tr>\n",
       "  </thead>\n",
       "  <tbody>\n",
       "    <tr>\n",
       "      <th>4996</th>\n",
       "      <td>93-Year-Old Woman Goes Viral When She Tells In...</td>\n",
       "      <td>WEIRD NEWS</td>\n",
       "      <td>On Monday, Coors Light dropped off 150 cans of...</td>\n",
       "    </tr>\n",
       "    <tr>\n",
       "      <th>6399</th>\n",
       "      <td>Shooting At Brooklyn Community Event Leaves 1 ...</td>\n",
       "      <td>U.S. NEWS</td>\n",
       "      <td>New York City Mayor Bill de Blasio vowed to “d...</td>\n",
       "    </tr>\n",
       "    <tr>\n",
       "      <th>74496</th>\n",
       "      <td>Woman Accused Of Commandeering Bus After Drive...</td>\n",
       "      <td>WEIRD NEWS</td>\n",
       "      <td>She didn't get very far.</td>\n",
       "    </tr>\n",
       "    <tr>\n",
       "      <th>24611</th>\n",
       "      <td>Now I Know What Fear Is</td>\n",
       "      <td>WORLD NEWS</td>\n",
       "      <td>Everywhere I looked on my way home, someone wa...</td>\n",
       "    </tr>\n",
       "    <tr>\n",
       "      <th>127331</th>\n",
       "      <td>Reinventing Europe Along These 7 Points</td>\n",
       "      <td>WORLDPOST</td>\n",
       "      <td>In its present form, the EU is weak, particula...</td>\n",
       "    </tr>\n",
       "  </tbody>\n",
       "</table>\n",
       "</div>"
      ],
      "text/plain": [
       "                                                 headline    category  \\\n",
       "4996    93-Year-Old Woman Goes Viral When She Tells In...  WEIRD NEWS   \n",
       "6399    Shooting At Brooklyn Community Event Leaves 1 ...   U.S. NEWS   \n",
       "74496   Woman Accused Of Commandeering Bus After Drive...  WEIRD NEWS   \n",
       "24611                             Now I Know What Fear Is  WORLD NEWS   \n",
       "127331            Reinventing Europe Along These 7 Points   WORLDPOST   \n",
       "\n",
       "                                        short_description  \n",
       "4996    On Monday, Coors Light dropped off 150 cans of...  \n",
       "6399    New York City Mayor Bill de Blasio vowed to “d...  \n",
       "74496                            She didn't get very far.  \n",
       "24611   Everywhere I looked on my way home, someone wa...  \n",
       "127331  In its present form, the EU is weak, particula...  "
      ]
     },
     "execution_count": 157,
     "metadata": {},
     "output_type": "execute_result"
    }
   ],
   "source": [
    "df[df[\"category\"].isin([\"U.S. NEWS\", \"WORLD NEWS\", \"WEIRD NEWS\", \"THE WORLDPOST\", \"WORLDPOST\"])].sample(5, random_state=0)"
   ]
  },
  {
   "cell_type": "markdown",
   "id": "79611aa7-6a4d-4d24-8487-2815ac8c3bf2",
   "metadata": {
    "id": "79611aa7-6a4d-4d24-8487-2815ac8c3bf2"
   },
   "source": [
    "Was auch ins Auge fällt, ist Zeile `74496`. Ihre short_description ist zu kurz um daraus einen wertvollen Einblick zu erhalten. Das merken wir uns für später ;)"
   ]
  },
  {
   "cell_type": "code",
   "execution_count": 158,
   "id": "47ecd2ef-6643-4681-93a9-418d5d54eafa",
   "metadata": {
    "id": "47ecd2ef-6643-4681-93a9-418d5d54eafa",
    "tags": []
   },
   "outputs": [],
   "source": [
    "# Removal of useless categories\n",
    "df = df[~df[\"category\"].isin([\"U.S. NEWS\", \"WORLD NEWS\", \"WEIRD NEWS\", \"THE WORLDPOST\", \"WORLDPOST\"])]"
   ]
  },
  {
   "cell_type": "code",
   "execution_count": 159,
   "id": "69a69de7-afff-432a-aecd-d78ec66d051b",
   "metadata": {
    "id": "69a69de7-afff-432a-aecd-d78ec66d051b",
    "tags": []
   },
   "outputs": [
    {
     "name": "stdout",
     "output_type": "stream",
     "text": [
      "unique_categories=37\n"
     ]
    }
   ],
   "source": [
    "unique_categories = len(df.category.unique())\n",
    "print(f\"{unique_categories=}\")"
   ]
  },
  {
   "cell_type": "markdown",
   "id": "ee9f5adf-fb9c-4bf5-aa98-6ded0a06d761",
   "metadata": {},
   "source": [
    "Wir haben die alten Kategorien entfernt und sind jetzt bei schlanken 37 Kategorien.\n",
    "<br>Als nächstes bereiten wir den Text aus der Überschrift und der Beschreibung etwas auf.\n",
    "<br>Dazu entfernen wir alle Interpunktierung, Stoppwörter, Sonderzeichen und sorgen dafür, dass alle Buchstaben klein geschrieben sind. Diese Datenbereinigung, sowie die Erstellung des Gensim-Dictionary wird im verbesserten LDA ausführlicher beschrieben."
   ]
  },
  {
   "cell_type": "code",
   "execution_count": 160,
   "id": "ae4e7ba9-afd6-4939-a98f-0f751f004c7f",
   "metadata": {
    "tags": []
   },
   "outputs": [],
   "source": [
    "def preprocess_text(text):\n",
    "    text = text.lower()\n",
    "    text = re.sub(r'[^\\w\\s]', '', text)\n",
    "\n",
    "    tokens = word_tokenize(text)\n",
    "\n",
    "    # Remove stopwords and lemmatize\n",
    "    stop_words = set(stopwords.words('english'))\n",
    "    lemmatizer = WordNetLemmatizer()\n",
    "\n",
    "    tokens = [lemmatizer.lemmatize(word) for word in tokens if word not in stop_words]\n",
    "\n",
    "    return tokens"
   ]
  },
  {
   "cell_type": "markdown",
   "id": "d217b404-4c6a-4f51-9135-60aaef44569e",
   "metadata": {},
   "source": [
    "Ein Beispiel wie diese Textaufbereitung funktiniert und was sie zurückgibt, findet sich in der unteren Zelle"
   ]
  },
  {
   "cell_type": "code",
   "execution_count": 161,
   "id": "b47bc722-60b1-40e1-b0de-8dfb07de094c",
   "metadata": {
    "tags": []
   },
   "outputs": [
    {
     "name": "stdout",
     "output_type": "stream",
     "text": [
      "['important', 'text', 'mentioning', 'president', 'health', 'department', 'germany']\n"
     ]
    }
   ],
   "source": [
    "print(preprocess_text(\"This is a very important text mentioning the President, the Health Department and Germany\"), sep=\" \")"
   ]
  },
  {
   "cell_type": "code",
   "execution_count": 162,
   "id": "53172ae4-1b39-494b-8206-259f8e102578",
   "metadata": {
    "tags": []
   },
   "outputs": [
    {
     "name": "stdout",
     "output_type": "stream",
     "text": [
      "          category                                     processed_text\n",
      "2           COMEDY  [23, funniest, tweet, cat, dog, week, sept, 17...\n",
      "3        PARENTING  [funniest, tweet, parent, week, sept, 1723, ac...\n",
      "8   CULTURE & ARTS  [new, documentary, capture, complexity, child,...\n",
      "13            TECH  [twitch, ban, gambling, site, streamer, scam, ...\n",
      "16  CULTURE & ARTS  [reboot, clever, navelgazey, look, inside, tv,...\n"
     ]
    }
   ],
   "source": [
    "# Apply preprocessing to the headlines and short descriptions\n",
    "df['processed_text'] = df.apply(lambda row: preprocess_text(row['headline'] + ' ' + row['short_description']), axis=1)\n",
    "\n",
    "# Filter out empty processed_text\n",
    "processed_df = df[df['processed_text'].apply(len) > 0]\n",
    "\n",
    "# Inspect the processed text\n",
    "print(processed_df[['category', 'processed_text']].head())"
   ]
  },
  {
   "cell_type": "code",
   "execution_count": 163,
   "id": "de213a5d-35c0-4bbf-8ca9-fb76b5aa9fd5",
   "metadata": {
    "tags": []
   },
   "outputs": [
    {
     "data": {
      "text/html": [
       "<div>\n",
       "<style scoped>\n",
       "    .dataframe tbody tr th:only-of-type {\n",
       "        vertical-align: middle;\n",
       "    }\n",
       "\n",
       "    .dataframe tbody tr th {\n",
       "        vertical-align: top;\n",
       "    }\n",
       "\n",
       "    .dataframe thead th {\n",
       "        text-align: right;\n",
       "    }\n",
       "</style>\n",
       "<table border=\"1\" class=\"dataframe\">\n",
       "  <thead>\n",
       "    <tr style=\"text-align: right;\">\n",
       "      <th></th>\n",
       "      <th>short_description</th>\n",
       "      <th>processed_text</th>\n",
       "    </tr>\n",
       "  </thead>\n",
       "  <tbody>\n",
       "    <tr>\n",
       "      <th>2965</th>\n",
       "      <td>The country singer paid tribute to Elvis Presl...</td>\n",
       "      <td>[eric, church, get, covid19, vaccine, shot, bi...</td>\n",
       "    </tr>\n",
       "    <tr>\n",
       "      <th>167389</th>\n",
       "      <td>Long was last rumored to be dating actress Kat...</td>\n",
       "      <td>[justin, long, describes, wedding, test, hed, ...</td>\n",
       "    </tr>\n",
       "    <tr>\n",
       "      <th>66615</th>\n",
       "      <td>\"African Americans will disproportionately bea...</td>\n",
       "      <td>[federal, court, rule, ohio, voting, cutback, ...</td>\n",
       "    </tr>\n",
       "    <tr>\n",
       "      <th>38088</th>\n",
       "      <td>Drivers in some regions of the country display...</td>\n",
       "      <td>[distracted, driver, safest, driver, region, c...</td>\n",
       "    </tr>\n",
       "    <tr>\n",
       "      <th>14936</th>\n",
       "      <td>\"Yeah but at least I suck while singing our [c...</td>\n",
       "      <td>[pink, clap, back, troll, mocked, national, an...</td>\n",
       "    </tr>\n",
       "  </tbody>\n",
       "</table>\n",
       "</div>"
      ],
      "text/plain": [
       "                                        short_description  \\\n",
       "2965    The country singer paid tribute to Elvis Presl...   \n",
       "167389  Long was last rumored to be dating actress Kat...   \n",
       "66615   \"African Americans will disproportionately bea...   \n",
       "38088   Drivers in some regions of the country display...   \n",
       "14936   \"Yeah but at least I suck while singing our [c...   \n",
       "\n",
       "                                           processed_text  \n",
       "2965    [eric, church, get, covid19, vaccine, shot, bi...  \n",
       "167389  [justin, long, describes, wedding, test, hed, ...  \n",
       "66615   [federal, court, rule, ohio, voting, cutback, ...  \n",
       "38088   [distracted, driver, safest, driver, region, c...  \n",
       "14936   [pink, clap, back, troll, mocked, national, an...  "
      ]
     },
     "execution_count": 163,
     "metadata": {},
     "output_type": "execute_result"
    }
   ],
   "source": [
    "# Overview over preprocessed text\n",
    "processed_df[['short_description', 'processed_text']].sample(5)"
   ]
  },
  {
   "cell_type": "code",
   "execution_count": 164,
   "id": "b790f2dd-498a-4abb-a0d3-3a470d48cfba",
   "metadata": {
    "tags": []
   },
   "outputs": [],
   "source": [
    "# Extract just the processed texts for future use\n",
    "processed_texts = [doc[\"processed_text\"] for _, doc in processed_df.iterrows()] "
   ]
  },
  {
   "cell_type": "markdown",
   "id": "844cdc92-12c6-4e97-a129-f14f140b5611",
   "metadata": {
    "id": "844cdc92-12c6-4e97-a129-f14f140b5611"
   },
   "source": [
    "### Step 3: Hilfsmittel für das LDA Model erstellen\n",
    "Um das LDA Model später geordnet zu erzeugen, erstellen wir zwei Hilfsmittel.\n",
    "### Dictionary: ID zu Wort\n",
    "Corpora weißt jeden Wort eine eindeutige ID zu, mit welcher es später wieder erkannt werden kann.\n",
    "<br>Dies hilft bei der schnellen und effizienten Verarbeitung der Wörter\n",
    "\n",
    "### Liste: Korpus\n",
    "Der Korpus listet für alle Dokumente einen Vektor welchen wir als \"Bag of Words\" bezeichnen.\n",
    "<br>Er enthält alle Wörter und ihre Häufigkeit in dem Dokument. Über diesen Vektor, kann dem Dokument eine Bedeutung zugewiesen werden."
   ]
  },
  {
   "cell_type": "code",
   "execution_count": 165,
   "id": "73c5abc9-1c21-480d-aaf6-f86aefee9cfa",
   "metadata": {
    "id": "73c5abc9-1c21-480d-aaf6-f86aefee9cfa",
    "tags": []
   },
   "outputs": [],
   "source": [
    "id2word = corpora.Dictionary(processed_texts)\n",
    "\n",
    "corpus = [id2word.doc2bow(text) for text in processed_texts]"
   ]
  },
  {
   "cell_type": "markdown",
   "id": "80b11804-c2a6-4e21-a899-88423c638385",
   "metadata": {
    "id": "80b11804-c2a6-4e21-a899-88423c638385"
   },
   "source": [
    "## LDA Modell\n",
    "### Step 4: Das LDA Model trainieren\n",
    "Das Latent Dirichlet Allocation (Latente Dirichlet Zuordnung (LDA)) Verfahren ist ein 3-stufiges Bayesian Model, um Topic Modeling durchzuführen (Blei et al.(2003)). Das Verfahren besteht aus den Teilen:\n",
    "* **Latent:** Die Themen des Korpuses sind verborgen und müssen aus den Dokumenten und deren Wortverteilung abgeleitet werden (Blei et al. (2003), S. 1007).\n",
    "* **Dirichlet:** Eine Verteilung, basierend auf dem Bayesian Modell, welche die Prioriverteilung (Anfangswahrscheinlichkeit) für die Themenverteilung in den Dokumenten darstellt und die Parameter beeinflussen wie stark bestimmte Themen in einem Dokument vertreten sind (Blei et al. (2003), S. 1007).\n",
    "* **Allocation:** Die Prozess der Zuweisung und Verteilung beschreibt wie Wörter den verschiedenen Themen zugeordnet werden und wie die Themen in einem Dokument verteilt sind. Allocation beschreibt wie das Modell Wörter in einem Dokument aufgrund ihrer Wahrscheinlichkeit verschiedenen latenten Themen zugeordnet sind. Die Themen - Wörter verteilung in einem Dokument bildet die Grundlage der Analyse (Blei et al. (2003), S. 1007).\n",
    "\n",
    "LDA nimmt an das es eine Themenverteilung für jeden Text gibt, welche berechnet wird indem ein Thema aus allen verfügbaren Themen $T={T_1,…,T_K}$ jedem Token ($≈$ Wort) eines Textes zugeordnet wird. Der Nutzer definiert dabei die Anzahl der modellierten Themen $K∈N$. Der Text (oder das Dokument) wird als Corpus bezeichnet und besteht aus Texten $M$ sowie Themen $T$ (Rieger at al. (2020 Juni), S. 120); Blei et al. (2003), S. 997).\n",
    "Dabei ist $N^m$ die Größe des Textes und $W={W,…,W_V}$ die Menge der Wörter wobei $V∈N$ die Größe des implizierten Vokabulars (die Menge aller eindeutigen Wörter) ist(Rieger et al. (2020 Juni), S. 120).\n",
    "\n",
    "<img src=\"visuals/page1.png\" alt=\"p1\" width=\"250\" />\n",
    "<br>\n",
    "<img src=\"visuals/page2.png\" alt=\"p2\" width=\"250\" />\n",
    "\n",
    "Somit besteht ein $Dokument$ aus:\n",
    "$$\n",
    "D^{(m)} = (W_1^{(m)}, \\dots, W_{N^{(m)}}^{(m)}), \\quad W_n^{(m)} \\in W; \\quad n = 1, \\dots, N^m\n",
    "$$\n",
    "Die Themenzuweisung für einen Text $m$ ist wie folgt:\n",
    "$$\n",
    "T^{(m)} = (T^{(m)}, \\dots, T_{N^{(m)}}^{(m)}), \\quad T_n^{(m)} \\in T\n",
    "$$\n",
    "Jede Themenzuweisung $T_n^{(m)}$ hängt mit einem Token $W_n^{(m)}$ aus dem Text $m$ zusammen.\n",
    "\n",
    "![page3.png](visuals/page3.png)\n",
    "\n",
    "Um das Wahrscheinlichkeitsmodell für LDA aufzustellen sind folgende Definitionen und Annahmen notwendig: $n_k^{(mv)};k=1,…,K;v=1,…,V$ als Anzahl zugewiesener Wörter $v$ in Text $m$ zugehörig zu Thema $k$, dadurch lässt sich die Summe der Wörter $v$  in Thema $k$ über alle Dokumente $D$ mit $n_k^{(*v)}$ bestimmen. Wenn $w_k$ die Vektoren der Wortanzahl für $k=1,…,K$ Themen ist, dann lässt sich mit diesen Definitionen das Modell wie folgt aufstellen:\n",
    "\n",
    "$$\n",
    "W_n^{(m)} \\mid T_n^{(m)}, \\phi_k \\sim \\text{Discrete}(\\phi_k), \\quad \\phi_k \\sim \\text{Dirichlet}(\\eta)\n",
    "$$\n",
    "\n",
    "$$\n",
    "T_n^{(m)} \\mid \\theta_m \\sim \\text{Discrete}(\\theta_m), \\quad \\theta_m \\sim \\text{Dirichlet}(\\alpha)\n",
    "$$\n",
    "\n",
    "\n",
    "Die Dirichlet Verteilungs Hyperparameter $α$ und $η$ müssen vom Nutzer deklariert werden. Da normalerweise keine a-priori (Anfangswahrscheinlichkeit) Informationen der Themen $θ$  und Wortverteilungen $ϕ$ vorliegen, werden $α$ und $η$ symmetrisch bestimmt (Rieger at al. (2020 Juni), S. 120).\n",
    "\n",
    "Ein hoher $η$ Wert führt zu einem Verlust der Gleichmäßigkeit der Wortmischung pro Thema, ein niedriger $η$ Wert erhöht und verbessert die Gleichmäßigkeit wodurch weniger dominantere Wörter pro Thema zugeordnet werden. Nach dem gleichen Prinzip steuert α die Mischung der Themen in den Texten (Rieger at al. (2020 Juni), S. 120).\n",
    "\n",
    "LDA ist eine Weiterentwicklung von LSI, bzw. pLSI, wobei LSI selbst eine Weiterentwicklung von tf-idf ist (Blei et al. (2003), S. 994). LSI verbessert tf-idf indem eine größere reduktion der Beschreibungslänge in großen Daten möglich ist und die statistische Struktur zwischen oder innerhalb von Dokumenten offenbart (Blei et al. (2003), S. 994; Rosario, B. (2000)). Probability LSI (pLSI) verbessert LSI dahingehend, dass alle Worte in einem Dokument eine Stichprobe aus einem Mischungsmodell sind in welchem wiederum verschiedene Themen Multinomial-Verteilungen abgebildet sind (Blei et al. (2003), S. 994). Durch die linearität des Modelles kommt es zu overfitting, zusätzlich gibt es keine Möglichkeit nicht im Training enthaltenen Dokumenten eine Wahrscheinlichkeit zuzuweisen (Blei et al. (2003), S. 994).\n",
    "Um Repräsentationen von Dokumenten und Wörtern austauschbar abzubilden, ist es notwendig mixture-models zu verwenden und somit den angeführten Limitationen von LSI und verwandten Ansätzen zu entgehen (Blei et al. (2003), S. 995).\n",
    "\n",
    "Außerdem grenzt sich LDA von Hierarchical Latent Tree Analysis (HLTA) wie folgt ab, HLTA stellt Koinzidenz Muster explizit in Modellstrukturen dar (Chen at al. (2017), S. 1). HLTA ist somit eine Methode um Themen zu erkennen, indem ein Thema anhand von Wörtern identifiziert wird, die häufig in einem Thema und selten in einem anderen Thema auftreten (Liu et al. (2014), S. 1)."
   ]
  },
  {
   "cell_type": "code",
   "execution_count": 166,
   "id": "e18d4db6-ea96-4740-87f9-e24fb161928c",
   "metadata": {
    "id": "e18d4db6-ea96-4740-87f9-e24fb161928c",
    "tags": []
   },
   "outputs": [
    {
     "name": "stdout",
     "output_type": "stream",
     "text": [
      "Wall time: 12.961530649662018 m\n"
     ]
    }
   ],
   "source": [
    "import time\n",
    "start_time = time.time()\n",
    "lda_model = LdaModel(corpus=corpus, id2word=id2word,\n",
    "                    num_topics=unique_categories,\n",
    "                    random_state=42,\n",
    "                    passes=10,\n",
    "                    alpha=\"auto\",\n",
    "                    per_word_topics=True)\n",
    "stop_time = time.time()\n",
    "run_time = stop_time - start_time\n",
    "print(\"Wall time:\", run_time/60, \"m\")"
   ]
  },
  {
   "cell_type": "code",
   "execution_count": 167,
   "id": "1f58c95a-2929-4b67-a693-bccfa060899b",
   "metadata": {
    "colab": {
     "base_uri": "https://localhost:8080/"
    },
    "id": "1f58c95a-2929-4b67-a693-bccfa060899b",
    "outputId": "b3592c37-2b94-48ec-9a8e-8a62ced95e90",
    "tags": []
   },
   "outputs": [
    {
     "name": "stdout",
     "output_type": "stream",
     "text": [
      "Coherence Score: 0.2474312675884771\n"
     ]
    }
   ],
   "source": [
    "coherence_model_lda = CoherenceModel(model=lda_model, texts=processed_texts, dictionary=id2word, coherence=\"c_v\")\n",
    "coherence_lda = coherence_model_lda.get_coherence()\n",
    "print(\"Coherence Score:\", coherence_lda)"
   ]
  },
  {
   "cell_type": "code",
   "execution_count": 168,
   "id": "8c72d20e",
   "metadata": {
    "tags": []
   },
   "outputs": [
    {
     "data": {
      "text/html": [
       "<div>\n",
       "<style scoped>\n",
       "    .dataframe tbody tr th:only-of-type {\n",
       "        vertical-align: middle;\n",
       "    }\n",
       "\n",
       "    .dataframe tbody tr th {\n",
       "        vertical-align: top;\n",
       "    }\n",
       "\n",
       "    .dataframe thead th {\n",
       "        text-align: right;\n",
       "    }\n",
       "</style>\n",
       "<table border=\"1\" class=\"dataframe\">\n",
       "  <thead>\n",
       "    <tr style=\"text-align: right;\">\n",
       "      <th></th>\n",
       "      <th>Run</th>\n",
       "      <th>Duration (minutes)</th>\n",
       "      <th>Coherence Score</th>\n",
       "    </tr>\n",
       "  </thead>\n",
       "  <tbody>\n",
       "    <tr>\n",
       "      <th>0</th>\n",
       "      <td>1</td>\n",
       "      <td>12.961531</td>\n",
       "      <td>0.247431</td>\n",
       "    </tr>\n",
       "  </tbody>\n",
       "</table>\n",
       "</div>"
      ],
      "text/plain": [
       "   Run  Duration (minutes)  Coherence Score\n",
       "0    1           12.961531         0.247431"
      ]
     },
     "execution_count": 168,
     "metadata": {},
     "output_type": "execute_result"
    }
   ],
   "source": [
    "data = {\n",
    "    \"Duration (minutes)\": [run_time/60],\n",
    "    \"Coherence Score\": [coherence_lda]\n",
    "}\n",
    "export_df = pd.DataFrame(data)\n",
    "export_df.insert(0, 'Run', 1)\n",
    "export_df.to_csv(r\"data\\vanilla_lda_data.csv\", index=False)\n",
    "export_df.to_csv('data/vanilla_lda_data.csv', index=False) # mac code\n",
    "export_df.head()"
   ]
  },
  {
   "cell_type": "markdown",
   "id": "f7cde344-42b2-4663-8999-915dbc63ba6e",
   "metadata": {
    "id": "f7cde344-42b2-4663-8999-915dbc63ba6e"
   },
   "source": [
    "## PyLDAvis\n",
    "### Step 5: Visualisierung mit pyLDAvis\n",
    "Um zu visualisieren, wie unser LDA Model Wörter kategorisiert, nutzen wir die Library pyLDAvis.\n",
    "<br>Mit ihr können wir uns einen interaktiven und intuitiven Überblick über unser Model verschaffen"
   ]
  },
  {
   "cell_type": "code",
   "execution_count": 169,
   "id": "08eefd02-5e35-4b1e-aa04-89d40b60ad44",
   "metadata": {
    "id": "08eefd02-5e35-4b1e-aa04-89d40b60ad44",
    "tags": []
   },
   "outputs": [],
   "source": [
    "import pyLDAvis\n",
    "from pyLDAvis import gensim_models\n",
    "pyLDAvis.enable_notebook()"
   ]
  },
  {
   "cell_type": "code",
   "execution_count": 170,
   "id": "e86a570a-7fb5-4d36-a708-1abca98b2875",
   "metadata": {
    "id": "e86a570a-7fb5-4d36-a708-1abca98b2875",
    "tags": []
   },
   "outputs": [],
   "source": [
    "visualisation = pyLDAvis.gensim_models.prepare(lda_model, corpus, id2word)"
   ]
  },
  {
   "cell_type": "code",
   "execution_count": 171,
   "id": "628ecef4-8672-4769-b6db-1ca4509d81cb",
   "metadata": {
    "id": "628ecef4-8672-4769-b6db-1ca4509d81cb",
    "outputId": "dacd90ed-aa1e-45c3-ac9c-4ceb7de2be9a",
    "tags": []
   },
   "outputs": [
    {
     "data": {
      "text/html": [
       "\n",
       "<link rel=\"stylesheet\" type=\"text/css\" href=\"https://cdn.jsdelivr.net/gh/bmabey/pyLDAvis@3.4.0/pyLDAvis/js/ldavis.v1.0.0.css\">\n",
       "\n",
       "\n",
       "<div id=\"ldavis_el940014319904336372585482\" style=\"background-color:white;\"></div>\n",
       "<script type=\"text/javascript\">\n",
       "\n",
       "var ldavis_el940014319904336372585482_data = {\"mdsDat\": {\"x\": [-0.39143941332252974, -0.18586249715823622, -0.12625417271665032, -0.053493306961115886, -0.039575055377917154, -0.07481282000563291, -0.02950175343188415, 0.050215287561440475, 0.018797962911018398, -0.0013560528059271264, -0.01565114340385011, 0.0002813478073350178, 0.04207200412926914, -0.004293341387155635, 0.009781275327226368, 0.0030892613680604227, 0.013581422308718567, 0.014273409692507412, -0.0011436572618298828, 0.011837187724783496, 0.03471312008965687, 0.07050493417966584, 0.02472930884131456, 0.03285261669162466, 0.035735981295889216, 0.02550033993453594, 0.034948567112331776, 0.0626004778038817, 0.041307871803398025, 0.030817149083122775, 0.047605112967624146, 0.04449879500476078, 0.061085240685030254, 0.04561214354077383, 0.04143580583760878, 0.06091181789857005, 0.06459477223258199], \"y\": [0.2716245055320695, -0.3689268432337673, -0.12282238622419568, -0.03118997697778421, -0.021187352332784726, -0.049659477580475724, -0.014856491542073564, 0.018255890551467577, 0.008131950658059786, -0.0001941296545755412, -0.0072589129643541445, 0.0005341578995045893, 0.015992515855212983, -0.0016097908667675781, 0.004618277206265346, 0.0017077752540741533, 0.0060093466498305015, 0.006339266953009185, -0.00013876452583449808, 0.005327314984366393, 0.013633817501714817, 0.02347080439822576, 0.010226692381707531, 0.013054662985466786, 0.013915428493956968, 0.010547780160733836, 0.013671412134648763, 0.021572595849257616, 0.015655127389597727, 0.012281123571102049, 0.01753952821833083, 0.016682579197402188, 0.02122850146389896, 0.01690768241322963, 0.015726231147070443, 0.021097740580451874, 0.022091416471956282], \"topics\": [1, 2, 3, 4, 5, 6, 7, 8, 9, 10, 11, 12, 13, 14, 15, 16, 17, 18, 19, 20, 21, 22, 23, 24, 25, 26, 27, 28, 29, 30, 31, 32, 33, 34, 35, 36, 37], \"cluster\": [1, 1, 1, 1, 1, 1, 1, 1, 1, 1, 1, 1, 1, 1, 1, 1, 1, 1, 1, 1, 1, 1, 1, 1, 1, 1, 1, 1, 1, 1, 1, 1, 1, 1, 1, 1, 1], \"Freq\": [19.044307178095714, 5.817402496319604, 4.2945516918483335, 3.079454197726604, 3.0114091813205954, 2.637728513946801, 2.5255032686970704, 2.486118916517597, 2.46045441222239, 2.3388768211596975, 2.326123835780651, 2.2467069239635524, 2.213425021704246, 2.1995252448061735, 2.1811899896328057, 2.1481103159670902, 2.137558647787963, 2.086218852720153, 2.0437315498750888, 2.0154350780500696, 1.9810619491497206, 1.976421551515641, 1.9702400946356977, 1.9360662365717183, 1.9357932151490571, 1.9272815606422153, 1.9065650931564384, 1.843949380252787, 1.8312070137280705, 1.800526723815626, 1.7616125948529973, 1.7529519335522665, 1.7257472517863686, 1.6802415946779619, 1.6352102319881618, 1.579820993936144, 1.4614704424469316]}, \"tinfo\": {\"Term\": [\"photo\", \"day\", \"wedding\", \"love\", \"world\", \"new\", \"one\", \"child\", \"know\", \"fashion\", \"study\", \"woman\", \"time\", \"food\", \"dont\", \"video\", \"divorce\", \"2012\", \"kid\", \"health\", \"u\", \"need\", \"style\", \"check\", \"year\", \"like\", \"make\", \"week\", \"life\", \"get\", \"new\", \"one\", \"time\", \"video\", \"u\", \"year\", \"like\", \"make\", \"week\", \"life\", \"get\", \"look\", \"people\", \"best\", \"want\", \"thing\", \"may\", \"take\", \"home\", \"many\", \"say\", \"first\", \"show\", \"find\", \"see\", \"back\", \"would\", \"even\", \"think\", \"much\", \"way\", \"day\", \"need\", \"go\", \"come\", \"help\", \"could\", \"work\", \"every\", \"10\", \"little\", \"american\", \"5\", \"top\", \"today\", \"huffpost\", \"got\", \"real\", \"three\", \"start\", \"weve\", \"hair\", \"secret\", \"job\", \"sometimes\", \"others\", \"everyone\", \"6\", \"actually\", \"number\", \"break\", \"know\", \"dont\", \"kid\", \"good\", \"youre\", \"parent\", \"marriage\", \"part\", \"couple\", \"often\", \"school\", \"reason\", \"lot\", \"end\", \"high\", \"enough\", \"young\", \"happy\", \"offer\", \"financial\", \"wont\", \"student\", \"picture\", \"probably\", \"spend\", \"reality\", \"mental\", \"heard\", \"michelle\", \"weekly\", \"love\", \"woman\", \"girl\", \"story\", \"men\", \"thought\", \"living\", \"since\", \"read\", \"daughter\", \"dad\", \"gay\", \"together\", \"youve\", \"magazine\", \"true\", \"took\", \"behind\", \"celebrate\", \"20\", \"left\", \"wine\", \"sweet\", \"simply\", \"pregnant\", \"dark\", \"partner\", \"coffee\", \"forget\", \"british\", \"world\", \"around\", \"experience\", \"country\", \"important\", \"list\", \"social\", \"issue\", \"someone\", \"medium\", \"move\", \"asked\", \"park\", \"pick\", \"support\", \"workout\", \"group\", \"sign\", \"expert\", \"answer\", \"memory\", \"talking\", \"learning\", \"consider\", \"situation\", \"egg\", \"forward\", \"thousand\", \"scientist\", \"seeing\", \"photo\", \"style\", \"easy\", \"bad\", \"street\", \"kate\", \"3\", \"bank\", \"dog\", \"yes\", \"actress\", \"remember\", \"wall\", \"london\", \"morning\", \"buy\", \"air\", \"meal\", \"taken\", \"middleton\", \"2011\", \"sale\", \"round\", \"certain\", \"instagram\", \"journal\", \"please\", \"monday\", \"plane\", \"email\", \"child\", \"family\", \"mom\", \"mother\", \"fear\", \"old\", \"risk\", \"gift\", \"room\", \"disease\", \"image\", \"leave\", \"vacation\", \"visit\", \"arent\", \"amazing\", \"although\", \"member\", \"restaurant\", \"alone\", \"inspiration\", \"front\", \"cruise\", \"needed\", \"worry\", \"pair\", \"track\", \"door\", \"china\", \"trust\", \"mean\", \"twitter\", \"doesnt\", \"house\", \"white\", \"fact\", \"learn\", \"husband\", \"president\", \"instead\", \"piece\", \"brand\", \"understand\", \"campaign\", \"former\", \"claim\", \"keeping\", \"he\", \"user\", \"shouldnt\", \"task\", \"tiny\", \"achieve\", \"chinese\", \"calling\", \"bold\", \"2008\", \"focused\", \"grab\", \"capture\", \"state\", \"hotel\", \"case\", \"trip\", \"public\", \"ago\", \"v\", \"decision\", \"service\", \"order\", \"action\", \"hold\", \"several\", \"law\", \"la\", \"spent\", \"watching\", \"government\", \"fix\", \"decade\", \"court\", \"couldnt\", \"resort\", \"ability\", \"annual\", \"detail\", \"older\", \"loving\", \"website\", \"throw\", \"summer\", \"game\", \"7\", \"whats\", \"hard\", \"name\", \"daily\", \"play\", \"2013\", \"youll\", \"late\", \"oscar\", \"center\", \"role\", \"form\", \"walk\", \"date\", \"return\", \"taste\", \"island\", \"david\", \"internet\", \"reveals\", \"performance\", \"routine\", \"playing\", \"brings\", \"player\", \"winner\", \"tom\", \"fashion\", \"york\", \"city\", \"perfect\", \"looking\", \"become\", \"age\", \"cover\", \"trend\", \"benefit\", \"free\", \"deal\", \"cause\", \"blue\", \"12\", \"local\", \"among\", \"system\", \"rate\", \"airport\", \"pet\", \"raise\", \"journey\", \"runway\", \"cat\", \"chicken\", \"clothes\", \"quickly\", \"ice\", \"force\", \"let\", \"long\", \"five\", \"eating\", \"though\", \"music\", \"line\", \"choice\", \"create\", \"bit\", \"using\", \"song\", \"anyone\", \"st\", \"table\", \"chance\", \"jennifer\", \"singer\", \"classic\", \"11\", \"blood\", \"engagement\", \"either\", \"rock\", \"released\", \"mile\", \"essential\", \"customer\", \"delicious\", \"rare\", \"found\", \"body\", \"black\", \"man\", \"death\", \"community\", \"car\", \"affect\", \"impact\", \"society\", \"pant\", \"hate\", \"dead\", \"near\", \"starting\", \"brown\", \"third\", \"shot\", \"police\", \"magic\", \"shoot\", \"gun\", \"breaking\", \"victim\", \"ground\", \"shooting\", \"celebrating\", \"showed\", \"opened\", \"income\", \"health\", \"baby\", \"spring\", \"care\", \"kind\", \"recently\", \"cost\", \"patient\", \"card\", \"trying\", \"9\", \"product\", \"birthday\", \"seem\", \"popular\", \"makeup\", \"longer\", \"touch\", \"outside\", \"wish\", \"teach\", \"birth\", \"february\", \"building\", \"average\", \"trick\", \"brought\", \"garden\", \"thanks\", \"affair\", \"cancer\", \"beauty\", \"lost\", \"event\", \"bring\", \"lady\", \"ring\", \"opportunity\", \"culture\", \"beyond\", \"team\", \"sport\", \"view\", \"including\", \"honor\", \"destination\", \"program\", \"royal\", \"foot\", \"felt\", \"oil\", \"reader\", \"professional\", \"later\", \"pop\", \"land\", \"became\", \"battle\", \"bringing\", \"prince\", \"check\", \"feel\", \"making\", \"money\", \"simple\", \"yet\", \"course\", \"beach\", \"advice\", \"market\", \"process\", \"road\", \"control\", \"follow\", \"shopping\", \"habit\", \"wearing\", \"breast\", \"mistake\", \"phone\", \"spirit\", \"author\", \"middle\", \"strategy\", \"florida\", \"easier\", \"definitely\", \"private\", \"belief\", \"provide\", \"facebook\", \"according\", \"past\", \"step\", \"2\", \"space\", \"eye\", \"post\", \"store\", \"lesson\", \"across\", \"march\", \"met\", \"project\", \"artist\", \"site\", \"six\", \"present\", \"major\", \"dating\", \"mark\", \"hollywood\", \"record\", \"michael\", \"seven\", \"toward\", \"thank\", \"interest\", \"data\", \"buying\", \"recipe\", \"heart\", \"holiday\", \"guide\", \"click\", \"recent\", \"pretty\", \"side\", \"test\", \"early\", \"possible\", \"knew\", \"went\", \"tour\", \"war\", \"add\", \"blog\", \"fresh\", \"christmas\", \"cold\", \"positive\", \"queen\", \"stage\", \"self\", \"race\", \"shape\", \"thanksgiving\", \"related\", \"tree\", \"completely\", \"2012\", \"sure\", \"le\", \"problem\", \"craft\", \"thinking\", \"already\", \"minute\", \"note\", \"natural\", \"april\", \"rest\", \"festival\", \"fitness\", \"weather\", \"vogue\", \"french\", \"solution\", \"option\", \"becoming\", \"certainly\", \"university\", \"chef\", \"serious\", \"beginning\", \"release\", \"adventure\", \"ingredient\", \"waiting\", \"realize\", \"right\", \"dress\", \"wear\", \"model\", \"full\", \"human\", \"hope\", \"dream\", \"anything\", \"shop\", \"drink\", \"collection\", \"avoid\", \"paris\", \"outfit\", \"surprise\", \"july\", \"united\", \"safe\", \"san\", \"published\", \"wardrobe\", \"quick\", \"wouldnt\", \"powerful\", \"include\", \"flavor\", \"walking\", \"smith\", \"nice\", \"there\", \"another\", \"use\", \"color\", \"nothing\", \"working\", \"sex\", \"teen\", \"save\", \"adult\", \"type\", \"california\", \"editor\", \"paul\", \"upon\", \"miss\", \"career\", \"fast\", \"tool\", \"worker\", \"fire\", \"spiritual\", \"safety\", \"passenger\", \"via\", \"column\", \"freedom\", \"print\", \"catch\", \"master\", \"travel\", \"green\", \"run\", \"bill\", \"key\", \"stand\", \"running\", \"choose\", \"truly\", \"expect\", \"leader\", \"potential\", \"bright\", \"wednesday\", \"thursday\", \"republican\", \"doubt\", \"chris\", \"tough\", \"youd\", \"aware\", \"expected\", \"root\", \"push\", \"recovery\", \"miley\", \"cyrus\", \"prepare\", \"measure\", \"jersey\", \"place\", \"married\", \"fun\", \"head\", \"stay\", \"history\", \"practice\", \"shes\", \"fit\", \"50\", \"perhaps\", \"south\", \"hear\", \"given\", \"meet\", \"else\", \"id\", \"difficult\", \"bed\", \"modern\", \"joy\", \"hospital\", \"childrens\", \"clothing\", \"entire\", \"cleaning\", \"huge\", \"discus\", \"skill\", \"museum\", \"weight\", \"healthy\", \"party\", \"loss\", \"challenge\", \"drug\", \"light\", \"doctor\", \"ad\", \"industry\", \"activity\", \"unique\", \"de\", \"fair\", \"quality\", \"article\", \"healthier\", \"scene\", \"romney\", \"depression\", \"debate\", \"crisis\", \"low\", \"ahead\", \"losing\", \"political\", \"particular\", \"mitt\", \"seat\", \"symptom\", \"change\", \"parenting\", \"hour\", \"credit\", \"online\", \"dinner\", \"maybe\", \"lead\", \"success\", \"attention\", \"energy\", \"giving\", \"cake\", \"despite\", \"earth\", \"proposal\", \"nation\", \"generation\", \"paper\", \"earlier\", \"continue\", \"dessert\", \"higher\", \"climate\", \"factor\", \"amount\", \"extreme\", \"busy\", \"target\", \"press\", \"study\", \"report\", \"1\", \"super\", \"diet\", \"bowl\", \"especially\", \"treatment\", \"medical\", \"conversation\", \"nearly\", \"science\", \"ex\", \"condition\", \"attack\", \"25\", \"los\", \"june\", \"angeles\", \"addiction\", \"available\", \"century\", \"due\", \"january\", \"client\", \"write\", \"wellbeing\", \"agree\", \"helped\", \"nine\", \"tip\", \"relationship\", \"million\", \"plan\", \"tax\", \"college\", \"pay\", \"worst\", \"kitchen\", \"price\", \"act\", \"rather\", \"effect\", \"lose\", \"half\", \"wasnt\", \"100\", \"economy\", \"cooking\", \"rise\", \"budget\", \"anniversary\", \"increase\", \"lower\", \"gave\", \"helping\", \"movement\", \"courtesy\", \"heat\", \"diamond\", \"poll\", \"believe\", \"must\", \"power\", \"research\", \"evolution\", \"rule\", \"planning\", \"effort\", \"global\", \"looked\", \"link\", \"official\", \"information\", \"wait\", \"source\", \"expensive\", \"vote\", \"policy\", \"lie\", \"balance\", \"concern\", \"election\", \"prevent\", \"lack\", \"gain\", \"seek\", \"department\", \"evidence\", \"letting\", \"question\", \"whether\", \"different\", \"stress\", \"taking\", \"obama\", \"ask\", \"far\", \"wife\", \"came\", \"interview\", \"apple\", \"begin\", \"within\", \"creative\", \"emotional\", \"youtube\", \"term\", \"anxiety\", \"exactly\", \"14\", \"began\", \"oh\", \"elizabeth\", \"sitting\", \"train\", \"response\", \"hill\", \"lucky\", \"pull\", \"food\", \"sleep\", \"eat\", \"designer\", \"small\", \"8\", \"least\", \"result\", \"likely\", \"worth\", \"sense\", \"pain\", \"skin\", \"town\", \"quite\", \"happiness\", \"clean\", \"saw\", \"decided\", \"reported\", \"google\", \"cook\", \"dangerous\", \"40\", \"wood\", \"snack\", \"sexual\", \"sheer\", \"raising\", \"female\", \"celebrity\", \"red\", \"son\", \"award\", \"future\", \"short\", \"started\", \"chocolate\", \"biggest\", \"carpet\", \"goal\", \"update\", \"dish\", \"win\", \"voice\", \"usually\", \"crazy\", \"surprising\", \"cute\", \"path\", \"gold\", \"page\", \"resolution\", \"europe\", \"bird\", \"sister\", \"academy\", \"lunch\", \"brother\", \"kick\", \"well\", \"art\", \"everything\", \"used\", \"hot\", \"animal\", \"known\", \"inside\", \"wrong\", \"sunday\", \"winter\", \"behavior\", \"account\", \"director\", \"soon\", \"gown\", \"tried\", \"created\", \"meat\", \"training\", \"pressure\", \"stunning\", \"board\", \"greatest\", \"houston\", \"worse\", \"18\", \"breath\", \"bigger\", \"admit\", \"book\", \"national\", \"word\", \"beautiful\", \"done\", \"feature\", \"comment\", \"focus\", \"happens\", \"john\", \"suggests\", \"value\", \"washington\", \"nail\", \"reading\", \"security\", \"myth\", \"drive\", \"therapy\", \"responsibility\", \"tea\", \"gas\", \"apparently\", \"appears\", \"moss\", \"received\", \"pool\", \"sky\", \"led\", \"produce\", \"wedding\", \"company\", \"feeling\", \"business\", \"whole\", \"guest\", \"level\", \"truth\", \"close\", \"dr\", \"jessica\", \"area\", \"clear\", \"treat\", \"debt\", \"caught\", \"planet\", \"based\", \"deep\", \"similar\", \"inner\", \"large\", \"field\", \"romantic\", \"statement\", \"connection\", \"martin\", \"employee\", \"king\", \"continues\", \"divorce\", \"news\", \"network\", \"valentine\", \"hand\", \"learned\", \"15\", \"cut\", \"cool\", \"famous\", \"split\", \"olympic\", \"billion\", \"gone\", \"totally\", \"olympics\", \"approach\", \"announced\", \"anna\", \"engaged\", \"wisdom\", \"leg\", \"traditional\", \"hurricane\", \"involved\", \"diagnosis\", \"personality\", \"strength\", \"opinion\", \"investment\", \"idea\", \"keep\", \"turn\", \"matter\", \"open\", \"common\", \"single\", \"father\", \"boy\", \"linked\", \"wonder\", \"kim\", \"kardashian\", \"letter\", \"review\", \"extra\", \"halloween\", \"reach\", \"peace\", \"wild\", \"hurt\", \"costume\", \"trouble\", \"choosing\", \"anger\", \"ship\", \"excited\", \"computer\", \"missed\", \"excuse\", \"weekend\", \"personal\", \"seems\", \"water\", \"finding\", \"office\", \"special\", \"cocktail\", \"spot\", \"box\", \"item\", \"west\", \"whose\", \"creating\", \"improve\", \"glass\", \"warm\", \"drinking\", \"opening\", \"throughout\", \"accessory\", \"robert\", \"evening\", \"written\", \"marc\", \"grand\", \"whitney\", \"period\", \"aspect\", \"chronic\"], \"Freq\": [31543.0, 22766.0, 10369.0, 12076.0, 10741.0, 22510.0, 21602.0, 9592.0, 10548.0, 8530.0, 7604.0, 8582.0, 18052.0, 7411.0, 9301.0, 17542.0, 6963.0, 7295.0, 8719.0, 7126.0, 16361.0, 9188.0, 7182.0, 6732.0, 15405.0, 15243.0, 15217.0, 15033.0, 14945.0, 14903.0, 22509.059215401132, 21601.239115595738, 18051.29910616544, 17541.825210576895, 16359.939159090454, 15404.259829193132, 15242.637443944248, 15216.088457658449, 15032.676765905037, 14943.984558631062, 14902.545016275328, 12930.638773265735, 12316.090459161256, 11934.1437966199, 10601.15864670397, 10580.9043214553, 10472.722803784363, 10119.781716482234, 9720.520712952417, 9306.816030960219, 9025.88908443192, 8820.23006757344, 7939.406450605452, 7821.49513239335, 7790.430330283864, 7657.300415652794, 7581.599225144629, 7425.838240094527, 7182.333889006429, 6780.904724452713, 14635.65881562975, 22765.10076856546, 9187.718234529651, 7110.381284937397, 7101.2629701091955, 7066.946585134121, 6913.018964094657, 6711.141727474829, 6288.774003463695, 6267.129255222795, 5754.271880043146, 5666.367528637441, 5537.60318944908, 4890.561307346665, 4381.087093930635, 3901.674505663565, 3758.4571421174237, 3349.086249779182, 3226.4019215439043, 3178.076441115765, 3142.633974131966, 3065.5200445533146, 2788.2989219689507, 2730.776474913478, 2673.3769212941493, 2445.918376073505, 2369.3826128452024, 2331.6254007249336, 2216.869778855988, 2110.467129308307, 1982.17715878346, 10547.778823298719, 9300.242645511675, 8718.018154215606, 7790.326057007441, 7020.782853922203, 6267.127621116131, 5469.324063558997, 4691.123373822586, 4316.952126896966, 3850.2850116746868, 3525.2820025216056, 3295.987014205811, 3235.7109313045094, 3108.1594161663966, 2766.5485148255457, 2601.551569418472, 2495.214720899169, 2336.709076020449, 1978.1204117943112, 1849.6686453358257, 1758.42559189989, 1734.7720118590348, 1566.2536182638996, 1559.6242791997556, 1504.8270281325467, 1300.5573516369284, 1270.6182029198483, 1252.125226339373, 1241.1954774408111, 1219.2639595380576, 12075.713659723939, 8581.625169517645, 4371.500635684048, 3637.2362897105704, 3437.1605247695657, 3320.566925708327, 3220.5544642994496, 3172.841733784791, 2912.4223735206556, 2831.454891083393, 2551.7201277983863, 2456.589711216592, 2410.7685478858584, 2309.986448823839, 2132.3268559244666, 1979.2542335968494, 1926.8988565992313, 1740.9642077262442, 1676.7600138553503, 1629.2306352497362, 1501.7971552295683, 1355.2578458225576, 1308.7778366308828, 1212.4035895220084, 1142.3100162364012, 1106.179681862552, 1049.960403580817, 996.068453515749, 932.9226365215752, 892.2343258149043, 10740.808251045988, 5549.427044230315, 3552.5736258052343, 3377.9001139894517, 3104.792007691402, 3041.943273851561, 2618.506589757277, 2554.600257112982, 2480.4277974101587, 1899.2483822869326, 1778.8302959426103, 1778.3992701111447, 1767.3875584059076, 1758.1203072865117, 1716.477770314743, 1714.4745376357153, 1533.508087829111, 1501.5615767650334, 1490.2189617137053, 1479.6417013404111, 1350.9984011218369, 1248.041950266868, 1195.9009394327795, 1129.8114863986857, 1047.1294962820084, 1027.1302500391942, 1008.1964323162107, 939.3728426727108, 911.4739029724146, 900.7618736232058, 31542.360040360014, 7180.989584244346, 2546.3828685200897, 2111.598271756398, 1922.7251168118985, 1867.2045361532269, 1694.700902331028, 1682.2989862183233, 1609.416511687879, 1403.8351292688706, 1371.8797151603208, 1325.413507119697, 1290.7194665551483, 1287.51440090341, 1283.728022223495, 1140.4910690168902, 1051.7776087487503, 902.9512720534103, 869.0684636353939, 834.4820101303293, 826.3407987534165, 809.8631762111883, 796.0543985580905, 730.6982174940574, 698.1211987892375, 674.5593755819999, 671.8039466848385, 630.3441374333312, 593.2239015189905, 574.9702352278686, 9591.020779387376, 6380.585007077734, 5130.383819869722, 4744.949153340646, 2821.165371439149, 2792.551837302096, 2636.137564324601, 2308.9850146278905, 2262.2233976819543, 2118.0286127286, 1805.2353609139593, 1683.4331485037887, 1596.0003699658896, 1562.8201023852055, 1419.9771650866303, 1418.8132792490608, 1309.2330172449158, 1306.4371467734682, 1233.360711259377, 1147.4548557282694, 1000.9747341475917, 893.7659100573435, 877.0388678342041, 872.6783178337306, 749.7948735379252, 716.5783268641377, 690.6331118168974, 662.9309872948212, 640.7301522210704, 628.3361634006905, 6063.975300131196, 6026.880620489462, 5127.449212721356, 4562.598085888274, 3791.549485289451, 3682.9935571807737, 3327.392828503067, 3107.8792910302222, 2986.7920229512647, 2471.780549334003, 2239.4444708666283, 2011.57902299629, 1919.2254746291885, 1912.7316271489094, 1887.1757476933603, 1552.4849331842047, 1552.220719158318, 1206.8146927094188, 1074.4869358153999, 903.9147238703601, 870.5498251610283, 836.5821629553309, 755.0282618971021, 714.7109791335134, 675.2189410039902, 595.304338497505, 592.4065893484569, 572.9122402033071, 532.6553953881476, 496.0414721543724, 4447.520620286935, 4396.565455238311, 2825.7252925005414, 2601.3402774014426, 2208.3442808241566, 2188.2817881073247, 2121.6212793041823, 1663.7131351209362, 1662.0829626289062, 1627.1638777925202, 1536.896814423887, 1485.7524514886682, 1378.3229167706093, 1355.8720206400644, 1341.6340400381375, 1204.190091816894, 1176.2036781454747, 1171.3215570252994, 1168.921558643896, 1164.186733596041, 1144.1485503287122, 1063.3417011510476, 1046.3348422645618, 1013.6998860979655, 983.1565821374924, 973.150284950935, 945.1013384192798, 920.618124331071, 840.8581807879426, 818.0356059689373, 4976.833697431252, 3279.7610176273074, 2791.637441761765, 2744.9405232982604, 2552.2122035727753, 2378.2701350240504, 2247.8246436490294, 2152.3814693705162, 2111.913137798045, 1972.2903245713248, 1906.2818982137421, 1698.0605577052863, 1423.2384897768247, 1399.3871219427895, 1371.7376387487668, 1337.3139401952726, 1301.0616489367417, 1299.316519600101, 1287.496647166514, 1224.2632637870977, 1147.7181572745162, 1063.6022847308604, 973.0525875050342, 925.5001315084742, 886.35277117096, 794.6259211919662, 775.5492965477449, 761.9028077730361, 743.4707818209794, 725.7384647087074, 8529.373333942303, 4596.908766251744, 4504.811009407782, 2707.255774177376, 2620.6668033000487, 2577.2421354845587, 2268.1973376483725, 2148.3586386169895, 1899.8262685463196, 1791.4699273092556, 1730.36888166571, 1720.4768354154728, 1659.443829341697, 1348.5279433368464, 1332.4710584683512, 1316.3171038136513, 1305.9270079127007, 1255.7063966695787, 1207.2779476941882, 1150.7412231893538, 1099.95611031571, 1038.6934328942007, 951.3082478515246, 936.5658874709782, 931.6507845503438, 874.1672516324043, 848.90302538412, 798.9014259561343, 789.1660975149332, 704.4457200220447, 4481.962164192448, 3775.228509851769, 2875.6247837615933, 2399.022664974257, 2201.9338789482513, 2199.1793307384924, 2183.0299850048505, 2017.4239822260074, 1940.5437268056812, 1528.337313979226, 1495.0254184254559, 1466.1682327958974, 1460.5677172702774, 1306.7654398731627, 1296.926203014267, 1257.7636307068356, 1214.3068430400597, 1187.0841755335912, 1107.268651226506, 1091.9049840724688, 1071.4444826978406, 980.6187245633544, 977.6493560579455, 914.8417284825498, 771.4190245139473, 770.1458017079468, 755.5478790952026, 748.8859673025629, 731.0401837956912, 685.944277843138, 4555.943143799748, 4293.207555535532, 4076.0050756004293, 3705.4155267059396, 2666.4043212966913, 2268.6971936481323, 1958.1983128023724, 1303.2947294435376, 1206.6102497663164, 1107.6277494470746, 1085.6151647409317, 1074.2187232267397, 1051.8828546024488, 1043.8067993388047, 1012.2182054354829, 1008.9836397711279, 992.1748183206589, 969.3351763811053, 920.6041901487091, 876.8633868531213, 808.1843297479007, 805.4469192144584, 794.7790534730754, 788.7831223254017, 746.4507693710293, 714.740170677948, 712.7249335433237, 700.343677423113, 665.8420752907102, 644.6838837968161, 7125.2845844192, 4207.8125127627945, 3546.259922463681, 3105.8551696964178, 1937.3389630603717, 1884.940857141934, 1786.2261636570577, 1754.5558601382443, 1550.4170302190366, 1546.7158207520654, 1546.350818134282, 1458.1815978525806, 1414.4752150620416, 1407.4100625500935, 1378.0344288375566, 1296.203644144108, 1154.7175207159291, 1049.6809761722407, 1030.7914115940619, 1007.1394421198099, 1004.0274123582386, 969.7867927162326, 879.7701845278767, 827.7494481392625, 823.7598680181319, 766.9946694786588, 731.7726317129653, 730.694208389056, 718.3448101839688, 675.5915374410026, 3869.8852765387596, 3566.4737984525227, 2531.776180251384, 1904.0940943452708, 1655.4837502509085, 1645.7262853297289, 1507.7879263565176, 1483.6435102732576, 1425.4484877677799, 1401.0973589494195, 1362.867270553248, 1322.2353162823606, 1312.158283113639, 1302.8607469391438, 1283.437547645214, 1237.4441058636567, 1147.4039798901601, 1073.0025655301856, 1071.3743128509946, 1029.4794685335319, 937.6968874747241, 914.9312651835432, 883.7263615477233, 858.4161026518909, 844.1342800858853, 833.6899702777414, 821.5273785813607, 810.7421628942395, 803.401096121677, 751.944866246988, 6731.261846996133, 5079.814533587988, 3395.7366942860403, 3321.8385281672568, 2494.3589086155516, 2442.619720225726, 1834.2586004158686, 1716.8837380755713, 1664.5371674984679, 1529.5938801122306, 1404.2923311577372, 1370.6217156287546, 1293.778234599986, 1262.2024592907107, 1228.2887512587279, 1218.8338352101055, 1189.2224874853841, 1077.1539812265137, 1055.6789018776217, 1008.3736732689675, 1001.4815609804343, 957.7486472155515, 813.2787447569752, 768.8997020101093, 749.807376000503, 737.8029208602492, 703.1491141423664, 686.2807145207752, 680.1314236658781, 677.588307466342, 4567.772089281167, 3256.1313538907066, 3139.7755760772366, 2809.9617447900173, 2151.673346332821, 2002.577083422217, 1897.6959882922863, 1848.8181972886184, 1799.498431063771, 1773.8131543228324, 1634.048529200617, 1574.7218659686027, 1449.603001955888, 1382.1230699549203, 1377.7209634058372, 1376.4214367652548, 1324.3475577349304, 1308.0246250143457, 1297.2460428834972, 1200.4757002013375, 1185.1185548942765, 1111.8896798756612, 1082.7478679052679, 1057.6734506613166, 847.7728044731605, 837.5641633537168, 753.0367149231259, 731.553745810159, 718.5031109272389, 705.3099907914677, 4445.476390219318, 4153.596680887055, 3088.4157711782277, 2380.5009175461937, 2211.2839020484976, 1924.816328558968, 1916.2428306130134, 1791.6447805421337, 1574.396974862461, 1524.1065966083374, 1472.030976982923, 1367.1604881891146, 1331.355041766147, 1330.6345717771103, 1329.4413823486268, 1273.8834233069763, 1061.0584463356465, 1041.4583538689824, 1001.7150704402486, 968.8930722064015, 963.2216593790946, 907.3229246772805, 881.1192698059263, 835.8226178046298, 821.9182114812971, 812.2154619197389, 785.7260870659077, 778.4729083460506, 760.8744830181353, 708.8343241309352, 7294.56422562665, 4458.565408842878, 2797.104387554815, 2735.6611154337475, 1818.8981476180625, 1674.3154824263456, 1536.8139031396656, 1413.3214600379172, 1286.8937086261412, 1252.6436183647281, 1159.1679441125698, 1147.7464649954798, 1051.853438945821, 1047.3978704846372, 1014.360375003, 1008.6281148096691, 1005.8912081542863, 894.8622015705014, 888.8477155216017, 877.0257134793336, 854.1378541676376, 842.7036220817855, 825.5621707881404, 758.0169352230724, 739.9799864041787, 738.099454885499, 728.2875731226109, 672.5774910988466, 645.958724207176, 637.8474375443428, 5608.442944890218, 4940.6771047627835, 2789.748658871711, 2780.6522552792344, 1938.7483735923595, 1878.4776910706128, 1817.1745649070622, 1750.2712736883354, 1539.4362209138462, 1478.2322648856648, 1394.2824527230437, 1380.5488955220223, 1365.6184844811937, 1355.1517775651196, 1291.3074330582474, 1177.9241343246358, 1098.11045043011, 1088.5454450222883, 962.929045026166, 945.020647833137, 923.8822125190165, 819.2273267434662, 802.8512194954138, 730.613636127366, 710.3518805304075, 678.8394237305614, 628.6292697831285, 620.1112494768546, 615.652392505348, 595.9367276736299, 3909.6972574789393, 3761.4877684972244, 3270.3898596687463, 2350.477969631275, 2295.2823084827555, 2060.327637892331, 2060.066878897968, 1942.4666327582522, 1788.1589888649096, 1609.7699621099314, 1451.385592783237, 1188.7817124389226, 1158.6271560211685, 1065.4542973938799, 992.4939951560601, 975.1144403742371, 960.9299880850714, 945.3402701635684, 924.9754433983792, 878.7951542665724, 863.1096315589923, 799.4142573532307, 774.791139632689, 747.1462436695704, 730.8501586055597, 727.3266285498788, 669.3711070820094, 614.5580212284297, 612.0388961880728, 570.9962674795221, 5511.06781272246, 2748.213014898713, 2429.2222492728242, 2173.1786117237803, 2047.7057314167382, 1639.5324379350964, 1589.756773708627, 1527.7438667161787, 1442.4517427518972, 1350.3314030482368, 1049.5801735746277, 1037.295526025901, 939.9228263215513, 898.3239732461018, 887.9267169324428, 867.4699473236726, 857.4435146018881, 854.6263344369082, 808.044133867745, 794.937096842703, 787.9901122099626, 740.736086948713, 728.3417275179629, 685.6989414760934, 677.7034632542023, 670.2164623496989, 670.0086649619085, 669.3349132461332, 650.6007101129037, 643.6016958405619, 4038.422288777027, 2411.59265555542, 2085.877030666582, 2032.5897340067968, 2030.9769932197173, 1914.7221131842125, 1868.2588372374844, 1456.26074780798, 1221.7408567599196, 1212.5779584962843, 1176.595640702068, 1140.037023889202, 1131.3660288545964, 1114.709066218887, 1097.2716666454771, 1091.6153558106532, 1088.8999629012237, 1064.2453786175888, 1024.0403898472766, 1023.3191196088242, 1014.9933276863899, 899.7683580304366, 875.4000022593979, 872.6723149709038, 829.558552953793, 818.8125612859264, 738.7440729304642, 729.3576987140412, 724.1811247956311, 712.6758911873056, 4089.1397748690456, 4007.4212308628726, 2896.5691251454195, 2449.0301049812806, 2192.104932725122, 1999.3992870130485, 1714.7071411865354, 1683.2619660629357, 1556.2462214312866, 1275.6744969560932, 1266.2766340987896, 1228.0178259282015, 1094.7049166762276, 1049.362663493065, 926.4223505776154, 904.7460926865672, 865.124696336228, 861.520743411572, 859.5111854020263, 853.6016237919655, 827.7493210007223, 811.6349775392628, 784.4314755528231, 765.7917348808205, 727.886362766832, 672.0050201359179, 649.9023989335793, 642.3320591006438, 615.4052276395502, 611.5419078953636, 5049.257743901462, 2240.189521306222, 2158.001840520609, 2050.8070990761657, 2005.2580884027066, 1918.9646599892885, 1627.2810492106812, 1610.2962394178744, 1606.2383061970127, 1558.9547649979852, 1437.602680967122, 1345.9005623366888, 1330.5542767734032, 1206.3516991243882, 1180.0434574597614, 1095.089209922921, 1043.3426342315724, 933.2823627962672, 920.3566815844957, 855.1974097811787, 845.9374578259458, 807.2162815503231, 795.5362285531228, 780.6766433215672, 775.6042267954901, 715.3079947467926, 652.0445012650916, 651.4860793229464, 628.6129253150491, 619.5543600922188, 7603.132715646246, 3018.2490487005603, 2197.4276729790104, 2057.167755477861, 1730.0061086135515, 1695.1096229370767, 1519.5006043439812, 1507.6608214678092, 1467.1239935643262, 1227.4626904198233, 1194.5649534158767, 1164.9440117129218, 967.3714949757953, 874.6226664935787, 862.2009226673454, 857.9275716979134, 822.3480288520897, 761.5414089814844, 748.5343218038008, 736.0996747426399, 689.2421408364983, 629.7671222830124, 629.661704106395, 624.8935829782572, 607.9203796239575, 568.9880627200196, 558.9457129966798, 528.3198222588754, 521.623544427935, 495.6860691559119, 5093.632828380669, 3694.494053148398, 3024.392281411051, 2477.7178843634447, 2235.992000413747, 1695.3614258700104, 1592.1803422689156, 1567.9587033511336, 1514.431050074895, 1451.7270577078093, 1418.5553713986626, 1397.7745808029692, 1312.5953365000885, 1224.4404678838034, 1188.8523183500067, 1113.1500613652156, 1065.7555823537048, 949.1776831461118, 944.1793134225462, 940.1740990547601, 927.8088563433839, 892.460072865201, 886.9640101158293, 848.0388015799422, 821.0065478766097, 782.3664966246819, 654.2233070168628, 649.9289077198639, 639.5478069879872, 617.3367066170592, 3125.2677240421795, 2707.2980196130698, 2595.297180462657, 2486.62885919093, 2304.4495371511243, 2106.2229741134133, 2005.1564948046334, 1657.1965139075155, 1246.8568179534193, 1235.1675955884098, 1193.238326439036, 1122.392956429912, 1085.0358912626352, 1047.5756287894478, 1017.2721773885598, 994.6983959724006, 962.1541487147664, 937.4858575183583, 863.2655400762015, 812.1883271664376, 808.4550058139232, 774.162996518201, 765.7383328304238, 739.0128674644421, 722.7009211818631, 703.8982162301369, 667.5200272502876, 652.135718074675, 633.4314161289335, 617.6036941388985, 3601.34769937788, 3326.5720342376244, 3144.338983684817, 2599.516208948129, 2466.6243487890497, 2323.640475582127, 2143.3054652725305, 1848.276975136514, 1525.6569122814706, 1465.8518614976317, 1438.1001944523089, 1369.0941835028966, 1357.4749062909589, 1198.7334663238898, 1194.3180767075646, 1131.5797883899581, 1123.6451802968495, 953.513118285735, 904.5940650877018, 892.5964534399778, 889.6886286487116, 801.7197720799212, 720.7848293536198, 708.3766263463725, 669.5331006465977, 638.8137966174705, 628.5397878633764, 627.0757282251286, 607.4894669671064, 597.3282979314723, 7410.592502946993, 4067.3559829490914, 2484.20401654042, 2475.3903442393407, 2032.0774207199172, 2023.1916548545753, 1793.1154606270745, 1622.4227118754252, 1504.0611131526834, 1435.0311742665147, 1387.3277054462035, 1304.5524731373891, 1274.3075844392592, 1244.9832931055566, 1206.3843285785194, 1192.0870980632424, 1073.8672287338802, 925.4415018811956, 894.275723231121, 833.7146715156473, 812.9133375258366, 803.135413802749, 666.8302418891524, 630.0662107180996, 616.9576462505987, 604.8107584349538, 556.4196504314881, 533.0506269073712, 518.7079282919061, 510.66516558140415, 3455.920833817951, 3352.412148034079, 2361.2885594697977, 2111.6288549050287, 2081.232892822472, 1773.9408163379653, 1440.7148308966155, 1413.621782035451, 1348.9101031331325, 1329.1566324194725, 1224.8405678481492, 1212.8323685232278, 1174.2757088370874, 1152.8211433473139, 1100.2327418696743, 972.4242561455125, 873.8758944834669, 838.3681174074632, 834.4801952192456, 821.6225935619863, 819.1385096852356, 795.7403266180688, 724.4251113844049, 723.3126897534179, 719.963917050481, 686.9813313515393, 660.0448116071589, 640.2060914952209, 591.1088503991732, 590.6974891321304, 5146.672615033413, 3151.1240916453917, 2289.9256764053503, 2223.6862706657053, 2084.6687476961083, 1772.2998262728534, 1702.5784478494127, 1637.9457470678556, 1627.2652211511609, 1536.8210974807578, 1442.6183484325488, 1103.4094440426761, 1088.88335452514, 899.0445151748917, 825.8159257761714, 825.5307273852704, 816.9099992758114, 783.9842267540967, 781.431798006765, 764.1760419883831, 742.0320334058622, 721.7149239046477, 710.5471223512418, 701.274927282144, 635.6769615511195, 613.0645918076725, 589.1586884115278, 560.3027755483803, 496.95534757919324, 493.01088177966966, 2977.040209349264, 2971.3543179613353, 2935.5269653257883, 2257.646621366468, 1549.8980727768944, 1368.3196114094303, 1304.838935880031, 1241.6943345811837, 1200.9942421255564, 1199.2208784704158, 1135.824109324345, 1135.3156231804553, 1130.6327944659572, 1107.6108122786509, 891.332854868126, 856.9648899960924, 816.675972471069, 785.3516331322716, 714.6117093532188, 629.661151466632, 614.9644099899062, 614.672027652812, 581.5830742549963, 579.3122736254285, 545.9854546048205, 537.2386067528743, 533.688233777542, 532.3949200788929, 499.4807342549093, 491.63885264294333, 10368.71790849099, 2352.9907072149535, 2311.9563499715937, 1929.8137683196562, 1499.9066950621004, 1427.2712213844586, 1412.659047056119, 1399.047076721314, 1251.4335463285424, 1108.8756441144885, 1088.9929036887509, 993.3758920413068, 978.2056217960685, 949.1337392646326, 859.443848236003, 848.6694843718254, 828.9323294367388, 827.8154823044085, 788.1312038627601, 774.5317934164957, 769.4077411493362, 748.2838653029257, 705.2744928906344, 704.0136985139847, 655.7326678400741, 641.5778918874631, 612.1370216739837, 605.9985126702068, 595.7150766233405, 557.6376993999568, 6962.602149591745, 3314.9273958065914, 2110.7364987276364, 2085.0752700920325, 1610.5397071040738, 1465.1455291226464, 1362.4427931660719, 1337.1935421063565, 1149.6234255167583, 1080.6508752839125, 872.264730728699, 830.4452335035885, 786.9070904030064, 786.8224840690519, 782.5370563359613, 732.1400074147211, 729.2478206684071, 656.1744141835156, 638.7721348746594, 616.3546450576739, 609.6411430873294, 594.5118086885833, 578.7139141886147, 568.711978721979, 565.8788888621959, 514.3653764587234, 512.2715291273986, 508.502029968447, 457.968346069445, 445.42962891825397, 4389.530099702553, 4332.6342101405735, 3020.2372654761757, 2497.4305212861423, 2448.5831933097106, 2169.315008907186, 2154.582006944878, 2147.2044155473923, 1882.744606862615, 1211.6501650614573, 1167.0993465231245, 1143.3166675232599, 1027.6122023382563, 1007.2667308888708, 1005.8285708821649, 858.5083067178938, 848.0576944506702, 788.8237294790015, 711.2632622755016, 703.6201683648179, 661.1610742289555, 635.1350504589016, 619.0202647729064, 516.6833967284211, 510.5224137336095, 462.1101278755931, 460.1911264385835, 453.43603600222974, 396.81992273002237, 390.31737031555303, 3209.01013797507, 1993.8671488679317, 1961.7460825256373, 1925.762660535086, 1885.206691277744, 1592.9396611771988, 1421.4862379891986, 1220.7801588283048, 1219.1504039583779, 1145.725653239763, 1043.186846009389, 955.7555700350827, 885.6118931945515, 861.2856453470686, 837.0637033312003, 770.5327321157171, 761.1829682613578, 744.5876539617276, 693.8651434909898, 677.9753184978129, 620.4928781748949, 582.1112770230412, 545.2863786605029, 514.1763094156203, 508.99716389038224, 489.04126389020786, 484.3857374395232, 483.9558796179786, 446.09471516785584, 422.78397673745843], \"Total\": [31543.0, 22766.0, 10369.0, 12076.0, 10741.0, 22510.0, 21602.0, 9592.0, 10548.0, 8530.0, 7604.0, 8582.0, 18052.0, 7411.0, 9301.0, 17542.0, 6963.0, 7295.0, 8719.0, 7126.0, 16361.0, 9188.0, 7182.0, 6732.0, 15405.0, 15243.0, 15217.0, 15033.0, 14945.0, 14903.0, 22510.135210074837, 21602.315110269443, 18052.375100839145, 17542.9012052506, 16361.015153764161, 15405.335823866839, 15243.713438617955, 15217.164452332156, 15033.752760578744, 14945.06055330477, 14903.621010949035, 12931.714767939442, 12317.166453834963, 11935.219791293606, 10602.234641377678, 10581.980316129007, 10473.79879845807, 10120.85771115594, 9721.596707626124, 9307.892025633926, 9026.965079105627, 8821.306062247148, 7940.482445279161, 7822.571127067059, 7791.506324957573, 7658.376410326503, 7582.675219818338, 7426.9142347682355, 7183.409883680138, 6781.980719126422, 14640.31970039737, 22766.176688092895, 9188.794154057092, 7111.457204464838, 7102.338889636636, 7068.0225046615615, 6914.094883622098, 6712.21764700227, 6289.849922991136, 6268.2051747502355, 5755.347799570586, 5667.443448164881, 5538.67910897652, 4891.637226874105, 4382.1630134580755, 3902.7504251910023, 3759.533061644861, 3350.162169306619, 3227.4778410713416, 3179.1523606432024, 3143.7098936594034, 3066.595964080752, 2789.374841496388, 2731.8523944409153, 2674.4528408215865, 2446.994295600942, 2370.4585323726396, 2332.701320252371, 2217.945698383425, 2111.5430488357442, 1983.2530783108998, 10548.855438914428, 9301.319261127384, 8719.094769831316, 7791.402672623152, 7021.859469537914, 6268.204236731843, 5470.400679174709, 4692.199989438297, 4318.028742512677, 3851.3616272903946, 3526.3586181373134, 3297.063629821519, 3236.787546920217, 3109.2360317821044, 2767.6251304412535, 2602.6281850341798, 2496.291336514877, 2337.785691636157, 1979.1970274100213, 1850.7452609515358, 1759.5022075156, 1735.848627474745, 1567.3302338796098, 1560.7008948154657, 1505.9036437482569, 1301.6339672526385, 1271.6948185355584, 1253.2018419550832, 1242.2720930565213, 1220.3405751537678, 12076.789560615627, 8582.701070409334, 4372.576536575736, 3638.312190602255, 3438.2364256612505, 3321.6428266000116, 3221.6303651911344, 3173.9176346764757, 2913.4982744123404, 2832.5307919750776, 2552.796028690071, 2457.665612108277, 2411.844448777543, 2311.062349715524, 2133.4027568161514, 1980.3301344885367, 1927.9747574909186, 1742.0401086179315, 1677.8359147470376, 1630.3065361414235, 1502.8730561212556, 1356.3337467142449, 1309.85373752257, 1213.4794904136957, 1143.3859171280885, 1107.2555827542392, 1051.0363044725043, 997.144354407436, 933.9985374132623, 893.3102267065914, 10741.88281121618, 5550.501604400506, 3553.6481859754217, 3378.974674159639, 3105.8665678615894, 3043.0178340217485, 2619.5811499274646, 2555.6748172831694, 2481.502357580346, 1900.3229424571225, 1779.9048561128002, 1779.4738302813346, 1768.4621185760975, 1759.1948674567016, 1717.552330484933, 1715.5490978059051, 1534.582647999301, 1502.6361369352232, 1491.2935218838952, 1480.716261510601, 1352.0729612920268, 1249.116510437058, 1196.9754996029694, 1130.8860465688756, 1048.2040564521983, 1028.204810209384, 1009.2709924864004, 940.4474028429005, 912.5484631426043, 901.8364337933955, 31543.442622902086, 7182.072166786422, 2547.4654510621617, 2112.68085429847, 1923.8076993539732, 1868.2871186953016, 1695.7834848731027, 1683.381568760398, 1610.4990942299537, 1404.9177118109453, 1372.9622977023955, 1326.4960896617717, 1291.802049097223, 1288.5969834454847, 1284.8106047655697, 1141.573651558965, 1052.860191290825, 904.0338545954846, 870.1510461774682, 835.5645926724036, 827.4233812954908, 810.9457587532626, 797.1369811001648, 731.7808000361317, 699.2037813313118, 675.6419581240742, 672.8865292269128, 631.4267199754055, 594.3064840610648, 576.0528177699429, 9592.098902523663, 6381.663130214022, 5131.46194300601, 4746.027276476934, 2822.2434945754335, 2793.6299604383803, 2637.2156874608854, 2310.063137764175, 2263.3015208182387, 2119.1067358648843, 1806.313484050246, 1684.5112716400754, 1597.0784931021763, 1563.8982255214921, 1421.055288222917, 1419.8914023853474, 1310.3111403812024, 1307.5152699097548, 1234.4388343956637, 1148.532978864556, 1002.052857283878, 894.8440331936298, 878.1169909704904, 873.7564409700169, 750.8729966742115, 717.656450000424, 691.7112349531837, 664.0091104311075, 641.8082753573567, 629.4142865369768, 6065.036877949883, 6027.942198308149, 5128.510790540044, 4563.6596637069615, 3792.6110631081337, 3684.0551349994566, 3328.45440632175, 3108.940868848905, 2987.8536007699477, 2472.842127152686, 2240.5060486853113, 2012.6406008149754, 1920.287052447874, 1913.7932049675949, 1888.2373255120458, 1553.5465110028902, 1553.2822969770034, 1207.8762705281042, 1075.5485136340853, 904.9763016890452, 871.6114029797133, 837.6437407740159, 756.0898397157871, 715.7725569521984, 676.2805188226752, 596.36591631619, 593.4681671671419, 573.9738180219921, 533.7169732068326, 497.10304997305735, 4448.591179996909, 4397.636014948285, 2826.795852210511, 2602.410837111412, 2209.414840534126, 2189.3523478172942, 2122.691839014152, 1664.7836948309084, 1663.1535223388785, 1628.2344375024925, 1537.9673741338593, 1486.8230111986404, 1379.3934764805815, 1356.9425803500367, 1342.7045997481098, 1205.2606515268662, 1177.274237855447, 1172.3921167352717, 1169.9921183538684, 1165.2572933060133, 1145.2191100386844, 1064.4122608610198, 1047.405401974534, 1014.7704458079372, 984.227141847464, 974.2208446609067, 946.1718981292515, 921.6886840410427, 841.9287404979143, 819.106165678909, 4977.909676633747, 3280.8369968297975, 2792.713420964255, 2746.0165025007504, 2553.2881827752653, 2379.3461142265405, 2248.9006228515195, 2153.4574485730063, 2112.9891170005353, 1973.3663037738177, 1907.357877416235, 1699.1365369077791, 1424.3144689793176, 1400.4631011452823, 1372.8136179512596, 1338.3899193977654, 1302.1376281392345, 1300.3924988025938, 1288.572626369007, 1225.3392429895905, 1148.794136477009, 1064.6782639333533, 974.1285667075265, 926.5761107109664, 887.4287503734522, 795.7019003944584, 776.6252757502372, 762.9787869755284, 744.5467610234716, 726.8144439111996, 8530.451564299203, 4597.986996608645, 4505.889239764683, 2708.3340045342734, 2621.745033656946, 2578.320365841456, 2269.2755680052696, 2149.4368689738867, 1900.904498903219, 1792.548157666155, 1731.4471120226094, 1721.5550657723722, 1660.5220596985964, 1349.6061736937459, 1333.5492888252506, 1317.3953341705508, 1307.0052382696, 1256.7846270264781, 1208.3561780510877, 1151.8194535462533, 1101.0343406726095, 1039.7716632511, 952.3864782084235, 937.644117827877, 932.7290149072427, 875.2454819893031, 849.9812557410189, 799.9796563130332, 790.2443278718321, 705.5239503789436, 4483.039013617885, 3776.3053592772026, 2876.701633187027, 2400.0995143996906, 2203.0107283736847, 2200.256180163926, 2184.106834430284, 2018.500831651443, 1941.6205762311167, 1529.4141634046616, 1496.1022678508914, 1467.245082221333, 1461.644566695713, 1307.8422892985982, 1298.0030524397025, 1258.840480132271, 1215.3836924654952, 1188.1610249590267, 1108.3455006519416, 1092.9818334979043, 1072.5213321232761, 981.6955739887893, 978.7262054833805, 915.9185779079847, 772.4958739393822, 771.2226511333818, 756.6247285206375, 749.9628167279978, 732.1170332211261, 687.021127268573, 4557.011986544028, 4294.276398279812, 4077.0739183447067, 3706.484369450217, 2667.4731640409686, 2269.7660363924097, 1959.2671555466518, 1304.363572187817, 1207.6790925105959, 1108.696592191354, 1086.6840074852112, 1075.2875659710191, 1052.9516973467282, 1044.8756420830841, 1013.2870481797618, 1010.0524825154067, 993.2436610649378, 970.4040191253841, 921.673032892988, 877.9322295974001, 809.2531724921796, 806.5157619587372, 795.8478962173542, 789.8519650696805, 747.5196121153082, 715.8090134222268, 713.7937762876026, 701.4125201673919, 666.9109180349891, 645.752726541095, 7126.362676366326, 4208.890604709921, 3547.3380144108046, 3106.9332616435413, 1938.4170550074973, 1886.0189490890596, 1787.3042556041833, 1755.6339520853699, 1551.4951221661622, 1547.793912699191, 1547.4289100814076, 1459.2596897997062, 1415.5533070091672, 1408.488154497219, 1379.1125207846821, 1297.2817360912336, 1155.7956126630547, 1050.7590681193662, 1031.8695035411874, 1008.217534066935, 1005.1055043053636, 970.8648846633577, 880.8482764750017, 828.8275400863876, 824.8379599652569, 768.0727614257838, 732.8507236600904, 731.772300336181, 719.4229021310938, 676.6696293881276, 3870.9614147734123, 3567.5499366871754, 2532.852318486037, 1905.1702325799256, 1656.5598884855633, 1646.8024235643836, 1508.8640645911723, 1484.7196485079123, 1426.5246260024346, 1402.1734971840742, 1363.9434087879029, 1323.3114545170154, 1313.2344213482938, 1303.9368851737986, 1284.5136858798687, 1238.5202440983114, 1148.480118124815, 1074.0787037648404, 1072.4504510856493, 1030.5556067681866, 938.7730257093781, 916.0074034181972, 884.8024997823773, 859.4922408865449, 845.2104183205392, 834.7661085123954, 822.6035168160147, 811.8183011288935, 804.477234356331, 753.021004481642, 6732.33941975123, 5080.892106343085, 3396.814267041135, 3322.9161009223512, 2495.436481370646, 2443.6972929808203, 1835.3361731709647, 1717.9613108306673, 1665.614740253564, 1530.6714528673267, 1405.3699039128333, 1371.6992883838507, 1294.855807355082, 1263.2800320458068, 1229.366324013824, 1219.9114079652015, 1190.3000602404802, 1078.2315539816097, 1056.7564746327178, 1009.451246024063, 1002.5591337355298, 958.826219970647, 814.3563175120707, 769.9772747652048, 750.8849487555985, 738.8804936153447, 704.226686897462, 687.3582872758707, 681.2089964209736, 678.6658802214375, 4568.8479659558625, 3257.2072305653996, 3140.8514527519296, 2811.0376214647104, 2152.749223007514, 2003.6529600969118, 1898.7718649669812, 1849.8940739633133, 1800.574307738466, 1774.8890309975272, 1635.1244058753118, 1575.7977426432976, 1450.6788786305829, 1383.1989466296152, 1378.796840080532, 1377.4973134399497, 1325.4234344096253, 1309.1005016890406, 1298.3219195581921, 1201.5515768760324, 1186.1944315689714, 1112.965556550356, 1083.8237445799627, 1058.7493273360114, 848.8486811478547, 838.640040028411, 754.1125915978201, 732.6296224848531, 719.5789876019331, 706.3858674661619, 4446.552925313497, 4154.6732159812345, 3089.492306272404, 2381.57745264037, 2212.360437142674, 1925.892863653146, 1917.3193657071913, 1792.7213156363116, 1575.473509956639, 1525.1831317025153, 1473.1075120771009, 1368.2370232832925, 1332.4315768603249, 1331.7111068712882, 1330.5179174428047, 1274.9599584011542, 1062.1349814298244, 1042.5348889631603, 1002.7916055344261, 969.969607300579, 964.2981944732721, 908.399459771458, 882.1958049001038, 836.8991528988073, 822.9947465754747, 813.2919970139164, 786.8026221600852, 779.5494434402282, 761.9510181123128, 709.9108592251127, 7295.643797160464, 4459.644980376692, 2798.1839590886257, 2736.7406869675583, 1819.9777191518747, 1675.3950539601578, 1537.8934746734778, 1414.4010315717294, 1287.9732801599534, 1253.7231898985403, 1160.247515646382, 1148.826036529292, 1052.9330104796331, 1048.4774420184494, 1015.4399465368117, 1009.7076863434809, 1006.9707796880981, 895.9417731043131, 889.9272870554134, 878.1052850131454, 855.2174257014493, 843.7831936155973, 826.6417423219522, 759.0965067568842, 741.0595579379905, 739.1790264193107, 729.3671446564226, 673.6570626326584, 647.0382957409878, 638.9270090781546, 5609.520794218121, 4941.754954090687, 2790.8265081996115, 2781.7301046071348, 1939.8262229202614, 1879.5555403985147, 1818.2524142349641, 1751.3491230162374, 1540.5140702417482, 1479.3101142135667, 1395.3603020509456, 1381.6267448499243, 1366.6963338090957, 1356.2296268930215, 1292.3852823861494, 1179.0019836525378, 1099.188299758012, 1089.6232943501902, 964.0068943540675, 946.0984971610385, 924.960061846918, 820.3051760713677, 803.9290688233153, 731.6914854552675, 711.429729858309, 679.9172730584629, 629.70711911103, 621.1890988047561, 616.7302418332495, 597.0145770015314, 3910.7714161920985, 3762.5619272103836, 3271.4640183819056, 2351.552128344434, 2296.356467195915, 2061.4017966054903, 2061.141037611127, 1943.5407914714126, 1789.23314757807, 1610.8441208230918, 1452.4597514963973, 1189.855871152083, 1159.701314734329, 1066.5284561070403, 993.56815386922, 976.188599087397, 962.0041467982313, 946.4144288767284, 926.0496021115391, 879.8693129797323, 864.1837902721522, 800.4884160663906, 775.8652983458489, 748.2204023827303, 731.9243173187197, 728.4007872630388, 670.4452657951693, 615.6321799415896, 613.1130549012328, 572.070426192682, 5512.132334265616, 2749.2775364418667, 2430.286770815978, 2174.243133266934, 2048.770252959892, 1640.5969594782514, 1590.821295251782, 1528.8083882593337, 1443.5162642950522, 1351.3959245913918, 1050.6446951177827, 1038.360047569056, 940.9873478647057, 899.3884947892562, 888.9912384755972, 868.5344688668271, 858.5080361450425, 855.6908559800627, 809.1086554108995, 796.0016183858575, 789.0546337531171, 741.8006084918675, 729.4062490611174, 686.7634630192479, 678.7679847973568, 671.2809838928533, 671.073186505063, 670.3994347892876, 651.6652316560582, 644.6662173837163, 4039.498553230849, 2412.6689200092424, 2086.953295120404, 2033.6659984606206, 2032.053257673541, 1915.7983776380363, 1869.3351016913082, 1457.3370122618037, 1222.8171212137433, 1213.654222950108, 1177.6719051558919, 1141.1132883430257, 1132.4422933084202, 1115.7853306727109, 1098.347931099301, 1092.691620264477, 1089.9762273550475, 1065.3216430714126, 1025.1166543011004, 1024.395384062648, 1016.0695921402133, 900.8446224842601, 876.4762667132213, 873.7485794247273, 830.6348174076164, 819.8888257397499, 739.8203373842877, 730.4339631678647, 725.2573892494546, 713.7521556411291, 4090.215063868075, 4008.496519861902, 2897.644414144449, 2450.10539398031, 2193.1802217241516, 2000.4745760120793, 1715.7824301855662, 1684.3372550619665, 1557.3215104303174, 1276.749785955124, 1267.3519230978204, 1229.0931149272324, 1095.7802056752585, 1050.4379524920957, 927.4976395766457, 905.8213816855975, 866.1999853352584, 862.5960324106023, 860.5864744010566, 854.6769127909959, 828.8246099997526, 812.7102665382931, 785.5067645518535, 766.8670238798509, 728.9616517658624, 673.0803091349483, 650.9776879326097, 643.4073480996742, 616.4805166385805, 612.6171968943939, 5050.332307806129, 2241.264085210887, 2159.076404425274, 2051.8816629808307, 2006.3326523073729, 1920.0392238939548, 1628.3556131153475, 1611.3708033225407, 1607.312870101679, 1560.0293289026515, 1438.6772448717884, 1346.9751262413552, 1331.6288406780695, 1207.4262630290546, 1181.1180213644277, 1096.1637738275874, 1044.4171981362388, 934.3569267009332, 921.4312454891617, 856.2719736858447, 847.0120217306118, 808.290845454989, 796.6107924577888, 781.7512072262332, 776.6787907001561, 716.3825586514586, 653.1190651697576, 652.5606432276123, 629.6874892197151, 620.6289239968847, 7604.209540684066, 3019.325873738379, 2198.504498016829, 2058.24458051568, 1731.0829336513711, 1696.1864479748963, 1520.5774293818008, 1508.7376465056288, 1468.2008186021458, 1228.539515457643, 1195.6417784536964, 1166.0208367507414, 968.4483200136144, 875.6994915313978, 863.2777477051645, 859.0043967357326, 823.4248538899088, 762.6182340193036, 749.61114684162, 737.176499780459, 690.3189658743174, 630.8439473208316, 630.7385291442141, 625.9704080160764, 608.9972046617767, 570.0648877578387, 560.022538034499, 529.3966472966946, 522.7003694657542, 496.76289419373114, 5094.708035102644, 3695.5692598703718, 3025.4674881330247, 2478.7930910854184, 2237.0672071357208, 1696.436632591985, 1593.2555489908902, 1569.0339100731082, 1515.5062567968696, 1452.802264429784, 1419.6305781206372, 1398.8497875249438, 1313.670543222063, 1225.515674605778, 1189.9275250719813, 1114.2252680871902, 1066.8307890756794, 950.2528898680861, 945.2545201445205, 941.2493057767343, 928.8840630653582, 893.5352795871753, 888.0392168378036, 849.1140083019164, 822.081754598584, 783.4417033466561, 655.2985137388371, 651.0041144418382, 640.6230137099615, 618.4119133390335, 3126.3373586189064, 2708.3676541897967, 2596.3668150393837, 2487.698493767657, 2305.5191717278512, 2107.2926086901402, 2006.2261293813606, 1658.2661484842426, 1247.9264525301464, 1236.237230165137, 1194.307961015763, 1123.462591006639, 1086.1055258393624, 1048.645263366175, 1018.3418119652869, 995.7680305491276, 963.2237832914934, 938.5554920950854, 864.3351746529286, 813.2579617431646, 809.5246403906502, 775.232631094928, 766.8079674071508, 740.0825020411692, 723.7705557585901, 704.9678508068639, 668.5896618270147, 653.205352651402, 634.5010507056605, 618.6733287156255, 3602.422759643178, 3327.6470945029223, 3145.414043950115, 2600.591269213427, 2467.6994090543476, 2324.7155358474247, 2144.3805255378284, 1849.3520354018124, 1526.731972546769, 1466.92692176293, 1439.1752547176072, 1370.169243768195, 1358.5499665562572, 1199.8085265891882, 1195.393136972863, 1132.6548486552565, 1124.7202405621479, 954.5881785510333, 905.669125353, 893.6715137052761, 890.7636889140099, 802.7948323452194, 721.859889618918, 709.4516866116708, 670.608160911896, 639.8888568827688, 629.6148481286747, 628.1507884904269, 608.5645272324047, 598.4033581967706, 7411.670103918249, 4068.4335839203472, 2485.281617511676, 2476.4679452105966, 2033.1550216911735, 2024.2692558258316, 1794.1930615983308, 1623.5003128466815, 1505.1387141239397, 1436.108775237771, 1388.4053064174598, 1305.6300741086454, 1275.3851854105155, 1246.060894076813, 1207.4619295497757, 1193.1646990344987, 1074.9448297051365, 926.5191028524516, 895.353324202377, 834.7922724869034, 813.9909384970927, 804.213014774005, 667.9078428604084, 631.1438116893556, 618.0352472218548, 605.8883594062098, 557.4972514027442, 534.1282278786273, 519.7855292631622, 511.74276655266016, 3456.9957251975993, 3353.4870394137274, 2362.363450849446, 2112.703746284677, 2082.3077842021203, 1775.0157077176139, 1441.789722276264, 1414.6966734150994, 1349.984994512781, 1330.231523799121, 1225.9154592277978, 1213.9072599028764, 1175.350600216736, 1153.8960347269624, 1101.3076332493229, 973.4991475251609, 874.9507858631154, 839.4430087871116, 835.555086598894, 822.6974849416347, 820.213401064884, 796.8152179977172, 725.5000027640533, 724.3875811330663, 721.0388084301294, 688.0562227311877, 661.1197029868073, 641.2809828748693, 592.1837417788216, 591.7723805117788, 5147.748424634669, 3152.1999012466476, 2291.0014860066062, 2224.762080266961, 2085.7445572973643, 1773.3756358741095, 1703.6542574506689, 1639.0215566691118, 1628.341030752417, 1537.896907082014, 1443.694158033805, 1104.4852536439323, 1089.9591641263962, 900.1203247761475, 826.8917353774273, 826.6065369865263, 817.9858088770673, 785.0600363553525, 782.5076076080209, 765.2518515896389, 743.107843007118, 722.7907335059035, 711.6229319524977, 702.3507368833998, 636.7527711523753, 614.1404014089284, 590.2344980127837, 561.3785851496361, 498.0311571804492, 494.08669138092563, 2978.1126142566727, 2972.426722868744, 2936.599370233197, 2258.719026273877, 1550.970477684304, 1369.3920163168398, 1305.9113407874404, 1242.7667394885932, 1202.0666470329659, 1200.2932833778252, 1136.8965142317545, 1136.3880280878648, 1131.7051993733667, 1108.6832171860603, 892.4052597755351, 858.0372949035016, 817.7483773784782, 786.4240380396807, 715.6841142606279, 630.7335563740411, 616.0368148973154, 615.7444325602211, 582.6554791624054, 580.3846785328376, 547.0578595122296, 538.3110116602834, 534.7606386849511, 533.4673249863021, 500.5531391623184, 492.71125755035246, 10369.794508635227, 2354.06730735919, 2313.0329501158303, 1930.8903684638933, 1500.9832952063375, 1428.3478215286957, 1413.7356472003562, 1400.123676865551, 1252.5101464727795, 1109.9522442587256, 1090.069503832988, 994.4524921855437, 979.2822219403055, 950.2103394088696, 860.5204483802399, 849.7460845160624, 830.0089295809757, 828.8920824486455, 789.2078040069971, 775.6083935607327, 770.4843412935732, 749.3604654471627, 706.3510930348714, 705.0902986582216, 656.8092679843111, 642.6544920317001, 613.2136218182206, 607.0751128144437, 596.7916767675774, 558.7142995441938, 6963.680449057056, 3316.005695271902, 2111.814798192947, 2086.153569557343, 1611.6180065693848, 1466.2238285879573, 1363.5210926313828, 1338.2718415716674, 1150.7017249820692, 1081.7291747492234, 873.3430301940098, 831.5235329688993, 787.9853898683172, 787.9007835343627, 783.6153558012721, 733.218306880032, 730.326120133718, 657.2527136488264, 639.8504343399702, 617.4329445229847, 610.7194425526402, 595.5901081538941, 579.7922136539255, 569.7902781872898, 566.9571883275067, 515.4436759240342, 513.3498285927094, 509.5803294337577, 459.04664553475567, 446.50792838356466, 4390.605097141314, 4333.709207579334, 3021.3122629149366, 2498.505518724903, 2449.6581907484715, 2170.390006345947, 2155.6570043836387, 2148.279412986153, 1883.819604301376, 1212.7251625002184, 1168.1743439618856, 1144.391664962021, 1028.6871997770174, 1008.3417283276319, 1006.903568320926, 859.5833041566549, 849.1326918894313, 789.8987269177626, 712.3382597142627, 704.695165803579, 662.2360716677166, 636.2100478976627, 620.0952622116675, 517.7583941671822, 511.5974111723705, 463.18512531435414, 461.26612387734457, 454.5110334409908, 397.8949201687834, 391.3923677543141, 3210.0867278444593, 1994.9437387373214, 1962.822672395027, 1926.8392504044757, 1886.2832811471337, 1594.0162510465884, 1422.5628278585882, 1221.8567486976945, 1220.2269938277675, 1146.8022431091526, 1044.2634358787786, 956.8321599044722, 886.688483063941, 862.3622352164581, 838.1402932005898, 771.6093219851066, 762.2595581307473, 745.6642438311171, 694.9417333603793, 679.0519083672024, 621.5694680442845, 583.1878668924307, 546.3629685298924, 515.2528992850098, 510.07375375977176, 490.1178537595974, 485.46232730891273, 485.03246948736813, 447.17130503724536, 423.86056660684795], \"Category\": [\"Default\", \"Default\", \"Default\", \"Default\", \"Default\", \"Default\", \"Default\", \"Default\", \"Default\", \"Default\", \"Default\", \"Default\", \"Default\", \"Default\", \"Default\", \"Default\", \"Default\", \"Default\", \"Default\", \"Default\", \"Default\", \"Default\", \"Default\", \"Default\", \"Default\", \"Default\", \"Default\", \"Default\", \"Default\", \"Default\", \"Topic1\", \"Topic1\", \"Topic1\", \"Topic1\", \"Topic1\", \"Topic1\", \"Topic1\", \"Topic1\", \"Topic1\", \"Topic1\", \"Topic1\", \"Topic1\", \"Topic1\", \"Topic1\", \"Topic1\", \"Topic1\", \"Topic1\", \"Topic1\", \"Topic1\", \"Topic1\", \"Topic1\", \"Topic1\", \"Topic1\", \"Topic1\", \"Topic1\", \"Topic1\", \"Topic1\", \"Topic1\", \"Topic1\", \"Topic1\", \"Topic1\", \"Topic2\", \"Topic2\", \"Topic2\", \"Topic2\", \"Topic2\", \"Topic2\", \"Topic2\", \"Topic2\", \"Topic2\", \"Topic2\", \"Topic2\", \"Topic2\", \"Topic2\", \"Topic2\", \"Topic2\", \"Topic2\", \"Topic2\", \"Topic2\", \"Topic2\", \"Topic2\", \"Topic2\", \"Topic2\", \"Topic2\", \"Topic2\", \"Topic2\", \"Topic2\", \"Topic2\", \"Topic2\", \"Topic2\", \"Topic2\", \"Topic3\", \"Topic3\", \"Topic3\", \"Topic3\", \"Topic3\", \"Topic3\", \"Topic3\", \"Topic3\", \"Topic3\", \"Topic3\", \"Topic3\", \"Topic3\", \"Topic3\", \"Topic3\", \"Topic3\", \"Topic3\", \"Topic3\", \"Topic3\", \"Topic3\", \"Topic3\", \"Topic3\", \"Topic3\", \"Topic3\", \"Topic3\", \"Topic3\", \"Topic3\", \"Topic3\", \"Topic3\", \"Topic3\", \"Topic3\", \"Topic4\", \"Topic4\", \"Topic4\", \"Topic4\", \"Topic4\", \"Topic4\", \"Topic4\", \"Topic4\", \"Topic4\", \"Topic4\", \"Topic4\", \"Topic4\", \"Topic4\", \"Topic4\", \"Topic4\", \"Topic4\", \"Topic4\", \"Topic4\", \"Topic4\", \"Topic4\", \"Topic4\", \"Topic4\", \"Topic4\", \"Topic4\", \"Topic4\", \"Topic4\", \"Topic4\", \"Topic4\", \"Topic4\", \"Topic4\", \"Topic5\", \"Topic5\", \"Topic5\", \"Topic5\", \"Topic5\", \"Topic5\", \"Topic5\", \"Topic5\", \"Topic5\", \"Topic5\", \"Topic5\", \"Topic5\", \"Topic5\", \"Topic5\", \"Topic5\", \"Topic5\", \"Topic5\", \"Topic5\", \"Topic5\", \"Topic5\", \"Topic5\", \"Topic5\", \"Topic5\", \"Topic5\", \"Topic5\", \"Topic5\", \"Topic5\", \"Topic5\", \"Topic5\", \"Topic5\", \"Topic6\", \"Topic6\", \"Topic6\", \"Topic6\", \"Topic6\", \"Topic6\", \"Topic6\", \"Topic6\", \"Topic6\", \"Topic6\", \"Topic6\", \"Topic6\", \"Topic6\", \"Topic6\", \"Topic6\", \"Topic6\", \"Topic6\", \"Topic6\", \"Topic6\", \"Topic6\", \"Topic6\", \"Topic6\", \"Topic6\", \"Topic6\", \"Topic6\", \"Topic6\", \"Topic6\", \"Topic6\", \"Topic6\", \"Topic6\", \"Topic7\", \"Topic7\", \"Topic7\", \"Topic7\", \"Topic7\", \"Topic7\", \"Topic7\", \"Topic7\", \"Topic7\", \"Topic7\", \"Topic7\", \"Topic7\", \"Topic7\", \"Topic7\", \"Topic7\", \"Topic7\", \"Topic7\", \"Topic7\", \"Topic7\", \"Topic7\", \"Topic7\", \"Topic7\", \"Topic7\", \"Topic7\", \"Topic7\", \"Topic7\", \"Topic7\", \"Topic7\", \"Topic7\", \"Topic7\", \"Topic8\", \"Topic8\", \"Topic8\", \"Topic8\", \"Topic8\", \"Topic8\", \"Topic8\", \"Topic8\", \"Topic8\", \"Topic8\", \"Topic8\", \"Topic8\", \"Topic8\", \"Topic8\", \"Topic8\", \"Topic8\", \"Topic8\", \"Topic8\", \"Topic8\", \"Topic8\", \"Topic8\", \"Topic8\", \"Topic8\", \"Topic8\", \"Topic8\", \"Topic8\", \"Topic8\", \"Topic8\", \"Topic8\", \"Topic8\", \"Topic9\", \"Topic9\", \"Topic9\", \"Topic9\", \"Topic9\", \"Topic9\", \"Topic9\", \"Topic9\", \"Topic9\", \"Topic9\", \"Topic9\", \"Topic9\", \"Topic9\", \"Topic9\", \"Topic9\", \"Topic9\", \"Topic9\", \"Topic9\", \"Topic9\", \"Topic9\", \"Topic9\", \"Topic9\", \"Topic9\", \"Topic9\", \"Topic9\", \"Topic9\", \"Topic9\", \"Topic9\", \"Topic9\", \"Topic9\", \"Topic10\", \"Topic10\", \"Topic10\", \"Topic10\", \"Topic10\", \"Topic10\", \"Topic10\", \"Topic10\", \"Topic10\", \"Topic10\", \"Topic10\", \"Topic10\", \"Topic10\", \"Topic10\", \"Topic10\", \"Topic10\", \"Topic10\", \"Topic10\", \"Topic10\", \"Topic10\", \"Topic10\", \"Topic10\", \"Topic10\", \"Topic10\", \"Topic10\", \"Topic10\", \"Topic10\", \"Topic10\", \"Topic10\", \"Topic10\", \"Topic11\", \"Topic11\", \"Topic11\", \"Topic11\", \"Topic11\", \"Topic11\", \"Topic11\", \"Topic11\", \"Topic11\", \"Topic11\", \"Topic11\", \"Topic11\", \"Topic11\", \"Topic11\", \"Topic11\", \"Topic11\", \"Topic11\", \"Topic11\", \"Topic11\", \"Topic11\", \"Topic11\", \"Topic11\", \"Topic11\", \"Topic11\", \"Topic11\", \"Topic11\", \"Topic11\", \"Topic11\", \"Topic11\", \"Topic11\", \"Topic12\", \"Topic12\", \"Topic12\", \"Topic12\", \"Topic12\", \"Topic12\", \"Topic12\", \"Topic12\", \"Topic12\", \"Topic12\", \"Topic12\", \"Topic12\", \"Topic12\", \"Topic12\", \"Topic12\", \"Topic12\", \"Topic12\", \"Topic12\", \"Topic12\", \"Topic12\", \"Topic12\", \"Topic12\", \"Topic12\", \"Topic12\", \"Topic12\", \"Topic12\", \"Topic12\", \"Topic12\", \"Topic12\", \"Topic12\", \"Topic13\", \"Topic13\", \"Topic13\", \"Topic13\", \"Topic13\", \"Topic13\", \"Topic13\", \"Topic13\", \"Topic13\", \"Topic13\", \"Topic13\", \"Topic13\", \"Topic13\", \"Topic13\", \"Topic13\", \"Topic13\", \"Topic13\", \"Topic13\", \"Topic13\", \"Topic13\", \"Topic13\", \"Topic13\", \"Topic13\", \"Topic13\", \"Topic13\", \"Topic13\", \"Topic13\", \"Topic13\", \"Topic13\", \"Topic13\", \"Topic14\", \"Topic14\", \"Topic14\", \"Topic14\", \"Topic14\", \"Topic14\", \"Topic14\", \"Topic14\", \"Topic14\", \"Topic14\", \"Topic14\", \"Topic14\", \"Topic14\", \"Topic14\", \"Topic14\", \"Topic14\", \"Topic14\", \"Topic14\", \"Topic14\", \"Topic14\", \"Topic14\", \"Topic14\", \"Topic14\", \"Topic14\", \"Topic14\", \"Topic14\", \"Topic14\", \"Topic14\", \"Topic14\", \"Topic14\", \"Topic15\", \"Topic15\", \"Topic15\", \"Topic15\", \"Topic15\", \"Topic15\", \"Topic15\", \"Topic15\", \"Topic15\", \"Topic15\", \"Topic15\", \"Topic15\", \"Topic15\", \"Topic15\", \"Topic15\", \"Topic15\", \"Topic15\", \"Topic15\", \"Topic15\", \"Topic15\", \"Topic15\", \"Topic15\", \"Topic15\", \"Topic15\", \"Topic15\", \"Topic15\", \"Topic15\", \"Topic15\", \"Topic15\", \"Topic15\", \"Topic16\", \"Topic16\", \"Topic16\", \"Topic16\", \"Topic16\", \"Topic16\", \"Topic16\", \"Topic16\", \"Topic16\", \"Topic16\", \"Topic16\", \"Topic16\", \"Topic16\", \"Topic16\", \"Topic16\", \"Topic16\", \"Topic16\", \"Topic16\", \"Topic16\", \"Topic16\", \"Topic16\", \"Topic16\", \"Topic16\", \"Topic16\", \"Topic16\", \"Topic16\", \"Topic16\", \"Topic16\", \"Topic16\", \"Topic16\", \"Topic17\", \"Topic17\", \"Topic17\", \"Topic17\", \"Topic17\", \"Topic17\", \"Topic17\", \"Topic17\", \"Topic17\", \"Topic17\", \"Topic17\", \"Topic17\", \"Topic17\", \"Topic17\", \"Topic17\", \"Topic17\", \"Topic17\", \"Topic17\", \"Topic17\", \"Topic17\", \"Topic17\", \"Topic17\", \"Topic17\", \"Topic17\", \"Topic17\", \"Topic17\", \"Topic17\", \"Topic17\", \"Topic17\", \"Topic17\", \"Topic18\", \"Topic18\", \"Topic18\", \"Topic18\", \"Topic18\", \"Topic18\", \"Topic18\", \"Topic18\", \"Topic18\", \"Topic18\", \"Topic18\", \"Topic18\", \"Topic18\", \"Topic18\", \"Topic18\", \"Topic18\", \"Topic18\", \"Topic18\", \"Topic18\", \"Topic18\", \"Topic18\", \"Topic18\", \"Topic18\", \"Topic18\", \"Topic18\", \"Topic18\", \"Topic18\", \"Topic18\", \"Topic18\", \"Topic18\", \"Topic19\", \"Topic19\", \"Topic19\", \"Topic19\", \"Topic19\", \"Topic19\", \"Topic19\", \"Topic19\", \"Topic19\", \"Topic19\", \"Topic19\", \"Topic19\", \"Topic19\", \"Topic19\", \"Topic19\", \"Topic19\", \"Topic19\", \"Topic19\", \"Topic19\", \"Topic19\", \"Topic19\", \"Topic19\", \"Topic19\", \"Topic19\", \"Topic19\", \"Topic19\", \"Topic19\", \"Topic19\", \"Topic19\", \"Topic19\", \"Topic20\", \"Topic20\", \"Topic20\", \"Topic20\", \"Topic20\", \"Topic20\", \"Topic20\", \"Topic20\", \"Topic20\", \"Topic20\", \"Topic20\", \"Topic20\", \"Topic20\", \"Topic20\", \"Topic20\", \"Topic20\", \"Topic20\", \"Topic20\", \"Topic20\", \"Topic20\", \"Topic20\", \"Topic20\", \"Topic20\", \"Topic20\", \"Topic20\", \"Topic20\", \"Topic20\", \"Topic20\", \"Topic20\", \"Topic20\", \"Topic21\", \"Topic21\", \"Topic21\", \"Topic21\", \"Topic21\", \"Topic21\", \"Topic21\", \"Topic21\", \"Topic21\", \"Topic21\", \"Topic21\", \"Topic21\", \"Topic21\", \"Topic21\", \"Topic21\", \"Topic21\", \"Topic21\", \"Topic21\", \"Topic21\", \"Topic21\", \"Topic21\", \"Topic21\", \"Topic21\", \"Topic21\", \"Topic21\", \"Topic21\", \"Topic21\", \"Topic21\", \"Topic21\", \"Topic21\", \"Topic22\", \"Topic22\", \"Topic22\", \"Topic22\", \"Topic22\", \"Topic22\", \"Topic22\", \"Topic22\", \"Topic22\", \"Topic22\", \"Topic22\", \"Topic22\", \"Topic22\", \"Topic22\", \"Topic22\", \"Topic22\", \"Topic22\", \"Topic22\", \"Topic22\", \"Topic22\", \"Topic22\", \"Topic22\", \"Topic22\", \"Topic22\", \"Topic22\", \"Topic22\", \"Topic22\", \"Topic22\", \"Topic22\", \"Topic22\", \"Topic23\", \"Topic23\", \"Topic23\", \"Topic23\", \"Topic23\", \"Topic23\", \"Topic23\", \"Topic23\", \"Topic23\", \"Topic23\", \"Topic23\", \"Topic23\", \"Topic23\", \"Topic23\", \"Topic23\", \"Topic23\", \"Topic23\", \"Topic23\", \"Topic23\", \"Topic23\", \"Topic23\", \"Topic23\", \"Topic23\", \"Topic23\", \"Topic23\", \"Topic23\", \"Topic23\", \"Topic23\", \"Topic23\", \"Topic23\", \"Topic24\", \"Topic24\", \"Topic24\", \"Topic24\", \"Topic24\", \"Topic24\", \"Topic24\", \"Topic24\", \"Topic24\", \"Topic24\", \"Topic24\", \"Topic24\", \"Topic24\", \"Topic24\", \"Topic24\", \"Topic24\", \"Topic24\", \"Topic24\", \"Topic24\", \"Topic24\", \"Topic24\", \"Topic24\", \"Topic24\", \"Topic24\", \"Topic24\", \"Topic24\", \"Topic24\", \"Topic24\", \"Topic24\", \"Topic24\", \"Topic25\", \"Topic25\", \"Topic25\", \"Topic25\", \"Topic25\", \"Topic25\", \"Topic25\", \"Topic25\", \"Topic25\", \"Topic25\", \"Topic25\", \"Topic25\", \"Topic25\", \"Topic25\", \"Topic25\", \"Topic25\", \"Topic25\", \"Topic25\", \"Topic25\", \"Topic25\", \"Topic25\", \"Topic25\", \"Topic25\", \"Topic25\", \"Topic25\", \"Topic25\", \"Topic25\", \"Topic25\", \"Topic25\", \"Topic25\", \"Topic26\", \"Topic26\", \"Topic26\", \"Topic26\", \"Topic26\", \"Topic26\", \"Topic26\", \"Topic26\", \"Topic26\", \"Topic26\", \"Topic26\", \"Topic26\", \"Topic26\", \"Topic26\", \"Topic26\", \"Topic26\", \"Topic26\", \"Topic26\", \"Topic26\", \"Topic26\", \"Topic26\", \"Topic26\", \"Topic26\", \"Topic26\", \"Topic26\", \"Topic26\", \"Topic26\", \"Topic26\", \"Topic26\", \"Topic26\", \"Topic27\", \"Topic27\", \"Topic27\", \"Topic27\", \"Topic27\", \"Topic27\", \"Topic27\", \"Topic27\", \"Topic27\", \"Topic27\", \"Topic27\", \"Topic27\", \"Topic27\", \"Topic27\", \"Topic27\", \"Topic27\", \"Topic27\", \"Topic27\", \"Topic27\", \"Topic27\", \"Topic27\", \"Topic27\", \"Topic27\", \"Topic27\", \"Topic27\", \"Topic27\", \"Topic27\", \"Topic27\", \"Topic27\", \"Topic27\", \"Topic28\", \"Topic28\", \"Topic28\", \"Topic28\", \"Topic28\", \"Topic28\", \"Topic28\", \"Topic28\", \"Topic28\", \"Topic28\", \"Topic28\", \"Topic28\", \"Topic28\", \"Topic28\", \"Topic28\", \"Topic28\", \"Topic28\", \"Topic28\", \"Topic28\", \"Topic28\", \"Topic28\", \"Topic28\", \"Topic28\", \"Topic28\", \"Topic28\", \"Topic28\", \"Topic28\", \"Topic28\", \"Topic28\", \"Topic28\", \"Topic29\", \"Topic29\", \"Topic29\", \"Topic29\", \"Topic29\", \"Topic29\", \"Topic29\", \"Topic29\", \"Topic29\", \"Topic29\", \"Topic29\", \"Topic29\", \"Topic29\", \"Topic29\", \"Topic29\", \"Topic29\", \"Topic29\", \"Topic29\", \"Topic29\", \"Topic29\", \"Topic29\", \"Topic29\", \"Topic29\", \"Topic29\", \"Topic29\", \"Topic29\", \"Topic29\", \"Topic29\", \"Topic29\", \"Topic29\", \"Topic30\", \"Topic30\", \"Topic30\", \"Topic30\", \"Topic30\", \"Topic30\", \"Topic30\", \"Topic30\", \"Topic30\", \"Topic30\", \"Topic30\", \"Topic30\", \"Topic30\", \"Topic30\", \"Topic30\", \"Topic30\", \"Topic30\", \"Topic30\", \"Topic30\", \"Topic30\", \"Topic30\", \"Topic30\", \"Topic30\", \"Topic30\", \"Topic30\", \"Topic30\", \"Topic30\", \"Topic30\", \"Topic30\", \"Topic30\", \"Topic31\", \"Topic31\", \"Topic31\", \"Topic31\", \"Topic31\", \"Topic31\", \"Topic31\", \"Topic31\", \"Topic31\", \"Topic31\", \"Topic31\", \"Topic31\", \"Topic31\", \"Topic31\", \"Topic31\", \"Topic31\", \"Topic31\", \"Topic31\", \"Topic31\", \"Topic31\", \"Topic31\", \"Topic31\", \"Topic31\", \"Topic31\", \"Topic31\", \"Topic31\", \"Topic31\", \"Topic31\", \"Topic31\", \"Topic31\", \"Topic32\", \"Topic32\", \"Topic32\", \"Topic32\", \"Topic32\", \"Topic32\", \"Topic32\", \"Topic32\", \"Topic32\", \"Topic32\", \"Topic32\", \"Topic32\", \"Topic32\", \"Topic32\", \"Topic32\", \"Topic32\", \"Topic32\", \"Topic32\", \"Topic32\", \"Topic32\", \"Topic32\", \"Topic32\", \"Topic32\", \"Topic32\", \"Topic32\", \"Topic32\", \"Topic32\", \"Topic32\", \"Topic32\", \"Topic32\", \"Topic33\", \"Topic33\", \"Topic33\", \"Topic33\", \"Topic33\", \"Topic33\", \"Topic33\", \"Topic33\", \"Topic33\", \"Topic33\", \"Topic33\", \"Topic33\", \"Topic33\", \"Topic33\", \"Topic33\", \"Topic33\", \"Topic33\", \"Topic33\", \"Topic33\", \"Topic33\", \"Topic33\", \"Topic33\", \"Topic33\", \"Topic33\", \"Topic33\", \"Topic33\", \"Topic33\", \"Topic33\", \"Topic33\", \"Topic33\", \"Topic34\", \"Topic34\", \"Topic34\", \"Topic34\", \"Topic34\", \"Topic34\", \"Topic34\", \"Topic34\", \"Topic34\", \"Topic34\", \"Topic34\", \"Topic34\", \"Topic34\", \"Topic34\", \"Topic34\", \"Topic34\", \"Topic34\", \"Topic34\", \"Topic34\", \"Topic34\", \"Topic34\", \"Topic34\", \"Topic34\", \"Topic34\", \"Topic34\", \"Topic34\", \"Topic34\", \"Topic34\", \"Topic34\", \"Topic34\", \"Topic35\", \"Topic35\", \"Topic35\", \"Topic35\", \"Topic35\", \"Topic35\", \"Topic35\", \"Topic35\", \"Topic35\", \"Topic35\", \"Topic35\", \"Topic35\", \"Topic35\", \"Topic35\", \"Topic35\", \"Topic35\", \"Topic35\", \"Topic35\", \"Topic35\", \"Topic35\", \"Topic35\", \"Topic35\", \"Topic35\", \"Topic35\", \"Topic35\", \"Topic35\", \"Topic35\", \"Topic35\", \"Topic35\", \"Topic35\", \"Topic36\", \"Topic36\", \"Topic36\", \"Topic36\", \"Topic36\", \"Topic36\", \"Topic36\", \"Topic36\", \"Topic36\", \"Topic36\", \"Topic36\", \"Topic36\", \"Topic36\", \"Topic36\", \"Topic36\", \"Topic36\", \"Topic36\", \"Topic36\", \"Topic36\", \"Topic36\", \"Topic36\", \"Topic36\", \"Topic36\", \"Topic36\", \"Topic36\", \"Topic36\", \"Topic36\", \"Topic36\", \"Topic36\", \"Topic36\", \"Topic37\", \"Topic37\", \"Topic37\", \"Topic37\", \"Topic37\", \"Topic37\", \"Topic37\", \"Topic37\", \"Topic37\", \"Topic37\", \"Topic37\", \"Topic37\", \"Topic37\", \"Topic37\", \"Topic37\", \"Topic37\", \"Topic37\", \"Topic37\", \"Topic37\", \"Topic37\", \"Topic37\", \"Topic37\", \"Topic37\", \"Topic37\", \"Topic37\", \"Topic37\", \"Topic37\", \"Topic37\", \"Topic37\", \"Topic37\"], \"logprob\": [30.0, 29.0, 28.0, 27.0, 26.0, 25.0, 24.0, 23.0, 22.0, 21.0, 20.0, 19.0, 18.0, 17.0, 16.0, 15.0, 14.0, 13.0, 12.0, 11.0, 10.0, 9.0, 8.0, 7.0, 6.0, 5.0, 4.0, 3.0, 2.0, 1.0, -3.3852, -3.4264, -3.6059, -3.6346, -3.7043, -3.7645, -3.7751, -3.7768, -3.7889, -3.7949, -3.7976, -3.9396, -3.9883, -4.0198, -4.1382, -4.1401, -4.1504, -4.1847, -4.2249, -4.2684, -4.2991, -4.3221, -4.4273, -4.4423, -4.4463, -4.4635, -4.4734, -4.4942, -4.5275, -4.5851, -3.8157, -2.188, -3.0954, -3.3517, -3.353, -3.3578, -3.3798, -3.4095, -3.4745, -3.4779, -3.5633, -3.5787, -3.6017, -3.7259, -3.836, -3.9518, -3.9892, -4.1046, -4.1419, -4.157, -4.1682, -4.193, -4.2878, -4.3087, -4.3299, -4.4188, -4.4506, -4.4667, -4.5172, -4.5663, -4.6291, -2.6538, -2.7797, -2.8444, -2.9569, -3.0609, -3.1744, -3.3106, -3.4641, -3.5472, -3.6616, -3.7498, -3.817, -3.8355, -3.8757, -3.9921, -4.0536, -4.0954, -4.161, -4.3276, -4.3947, -4.4453, -4.4589, -4.5611, -4.5653, -4.6011, -4.747, -4.7702, -4.7849, -4.7937, -4.8115, -2.186, -2.5275, -3.202, -3.3859, -3.4425, -3.477, -3.5076, -3.5225, -3.6082, -3.6364, -3.7404, -3.7784, -3.7972, -3.8399, -3.9199, -3.9944, -4.0212, -4.1227, -4.1603, -4.189, -4.2705, -4.3732, -4.4081, -4.4845, -4.5441, -4.5762, -4.6284, -4.6811, -4.7466, -4.7912, -2.2808, -2.9411, -3.3871, -3.4376, -3.5219, -3.5423, -3.6922, -3.7169, -3.7464, -4.0133, -4.0788, -4.0791, -4.0853, -4.0906, -4.1145, -4.1157, -4.2272, -4.2483, -4.2559, -4.263, -4.354, -4.4332, -4.4759, -4.5328, -4.6088, -4.628, -4.6466, -4.7173, -4.7475, -4.7593, -1.071, -2.5509, -3.5876, -3.7749, -3.8686, -3.8979, -3.9948, -4.0022, -4.0464, -4.1831, -4.2061, -4.2406, -4.2671, -4.2696, -4.2725, -4.3909, -4.4718, -4.6244, -4.6626, -4.7033, -4.7131, -4.7332, -4.7504, -4.8361, -4.8817, -4.916, -4.9201, -4.9838, -5.0445, -5.0758, -2.218, -2.6256, -2.8437, -2.9218, -3.4417, -3.4519, -3.5095, -3.642, -3.6625, -3.7284, -3.8881, -3.958, -4.0113, -4.0323, -4.1282, -4.129, -4.2094, -4.2115, -4.2691, -4.3413, -4.4779, -4.5911, -4.61, -4.615, -4.7668, -4.8121, -4.849, -4.8899, -4.924, -4.9435, -2.6608, -2.6669, -2.8285, -2.9452, -3.1303, -3.1594, -3.2609, -3.3292, -3.3689, -3.5582, -3.6569, -3.7642, -3.8112, -3.8146, -3.828, -4.0233, -4.0234, -4.2751, -4.3913, -4.5641, -4.6017, -4.6415, -4.7441, -4.799, -4.8558, -4.9818, -4.9867, -5.0201, -5.093, -5.1642, -2.9604, -2.9719, -3.414, -3.4967, -3.6605, -3.6696, -3.7006, -3.9437, -3.9447, -3.9659, -4.023, -4.0568, -4.1319, -4.1483, -4.1589, -4.2669, -4.2905, -4.2946, -4.2967, -4.3007, -4.3181, -4.3913, -4.4074, -4.4391, -4.4697, -4.48, -4.5092, -4.5355, -4.6261, -4.6536, -2.7973, -3.2143, -3.3754, -3.3923, -3.4651, -3.5357, -3.5921, -3.6355, -3.6545, -3.7229, -3.7569, -3.8726, -4.0491, -4.066, -4.086, -4.1114, -4.1389, -4.1402, -4.1494, -4.1997, -4.2643, -4.3404, -4.4294, -4.4795, -4.5227, -4.632, -4.6563, -4.674, -4.6985, -4.7226, -2.2531, -2.8712, -2.8915, -3.4007, -3.4332, -3.4499, -3.5776, -3.6319, -3.7548, -3.8136, -3.8483, -3.854, -3.8901, -4.0976, -4.1096, -4.1218, -4.1297, -4.1689, -4.2082, -4.2562, -4.3013, -4.3586, -4.4465, -4.4621, -4.4674, -4.5311, -4.5604, -4.6211, -4.6334, -4.7469, -2.8618, -3.0334, -3.3056, -3.4868, -3.5725, -3.5738, -3.5811, -3.66, -3.6989, -3.9377, -3.9597, -3.9792, -3.983, -4.0943, -4.1019, -4.1325, -4.1677, -4.1904, -4.26, -4.2739, -4.2929, -4.3814, -4.3845, -4.4509, -4.6214, -4.623, -4.6422, -4.651, -4.6751, -4.7388, -2.8305, -2.8899, -2.9418, -3.0371, -3.3662, -3.5277, -3.6749, -4.082, -4.1591, -4.2447, -4.2648, -4.2753, -4.2964, -4.3041, -4.3348, -4.338, -4.3548, -4.3781, -4.4297, -4.4783, -4.5599, -4.5633, -4.5766, -4.5842, -4.6394, -4.6828, -4.6856, -4.7031, -4.7536, -4.7859, -2.377, -2.9037, -3.0747, -3.2073, -3.6793, -3.7067, -3.7605, -3.7784, -3.9021, -3.9045, -3.9047, -3.9634, -3.9939, -3.9989, -4.02, -4.0812, -4.1968, -4.2922, -4.3103, -4.3335, -4.3366, -4.3713, -4.4687, -4.5297, -4.5345, -4.6059, -4.6529, -4.6544, -4.6714, -4.7328, -2.979, -3.0607, -3.4033, -3.6883, -3.8282, -3.8341, -3.9216, -3.9378, -3.9778, -3.995, -4.0227, -4.0529, -4.0606, -4.0677, -4.0827, -4.1192, -4.1948, -4.2618, -4.2633, -4.3032, -4.3966, -4.4212, -4.4559, -4.4849, -4.5017, -4.5142, -4.5289, -4.5421, -4.5512, -4.6174, -2.4102, -2.6917, -3.0945, -3.1165, -3.403, -3.4239, -3.7103, -3.7765, -3.8074, -3.892, -3.9775, -4.0017, -4.0594, -4.0841, -4.1114, -4.1191, -4.1437, -4.2427, -4.2628, -4.3086, -4.3155, -4.3602, -4.5237, -4.5798, -4.6049, -4.6211, -4.6692, -4.6935, -4.7025, -4.7062, -2.793, -3.1315, -3.1679, -3.2789, -3.5458, -3.6176, -3.6714, -3.6975, -3.7246, -3.7389, -3.821, -3.858, -3.9408, -3.9884, -3.9916, -3.9926, -4.0311, -4.0435, -4.0518, -4.1293, -4.1422, -4.206, -4.2326, -4.256, -4.4772, -4.4893, -4.5957, -4.6246, -4.6426, -4.6612, -2.7959, -2.8638, -3.1601, -3.4204, -3.4942, -3.6329, -3.6374, -3.7046, -3.8339, -3.8663, -3.9011, -3.975, -4.0016, -4.0021, -4.003, -4.0457, -4.2285, -4.2471, -4.286, -4.3194, -4.3252, -4.385, -4.4143, -4.4671, -4.4839, -4.4957, -4.5289, -4.5382, -4.561, -4.6319, -2.28, -2.7723, -3.2386, -3.2608, -3.6689, -3.7518, -3.8375, -3.9212, -4.0149, -4.0419, -4.1195, -4.1294, -4.2166, -4.2209, -4.2529, -4.2586, -4.2613, -4.3783, -4.385, -4.3984, -4.4248, -4.4383, -4.4589, -4.5442, -4.5683, -4.5709, -4.5842, -4.6638, -4.7042, -4.7168, -2.529, -2.6557, -3.2273, -3.2305, -3.5912, -3.6228, -3.6559, -3.6935, -3.8218, -3.8624, -3.9209, -3.9308, -3.9416, -3.9493, -3.9976, -4.0895, -4.1596, -4.1684, -4.291, -4.3098, -4.3324, -4.4526, -4.4728, -4.5671, -4.5952, -4.6406, -4.7174, -4.7311, -4.7383, -4.7709, -2.8726, -2.9112, -3.0511, -3.3814, -3.4052, -3.5132, -3.5133, -3.5721, -3.6548, -3.7599, -3.8635, -4.0631, -4.0888, -4.1726, -4.2436, -4.2612, -4.2759, -4.2922, -4.314, -4.3652, -4.3832, -4.4599, -4.4912, -4.5275, -4.5496, -4.5544, -4.6374, -4.7229, -4.727, -4.7964, -2.5269, -3.2227, -3.3461, -3.4575, -3.517, -3.7393, -3.7701, -3.8099, -3.8673, -3.9333, -4.1853, -4.1971, -4.2956, -4.3409, -4.3526, -4.3759, -4.3875, -4.3908, -4.4468, -4.4632, -4.472, -4.5338, -4.5507, -4.611, -4.6227, -4.6338, -4.6341, -4.6352, -4.6635, -4.6744, -2.8347, -3.3503, -3.4954, -3.5212, -3.522, -3.581, -3.6055, -3.8547, -4.0303, -4.0378, -4.0679, -4.0995, -4.1071, -4.122, -4.1377, -4.1429, -4.1454, -4.1683, -4.2068, -4.2075, -4.2157, -4.3362, -4.3636, -4.3667, -4.4174, -4.4305, -4.5334, -4.5461, -4.5533, -4.5693, -2.8047, -2.8249, -3.1495, -3.3174, -3.4282, -3.5202, -3.6738, -3.6923, -3.7708, -3.9696, -3.977, -4.0077, -4.1226, -4.1649, -4.2895, -4.3132, -4.3579, -4.3621, -4.3644, -4.3713, -4.4021, -4.4218, -4.4559, -4.4799, -4.5307, -4.6105, -4.644, -4.6557, -4.6985, -4.7048, -2.5937, -3.4064, -3.4437, -3.4947, -3.5171, -3.5611, -3.726, -3.7365, -3.739, -3.7689, -3.8499, -3.9159, -3.9273, -4.0253, -4.0474, -4.1221, -4.1705, -4.282, -4.2959, -4.3693, -4.3802, -4.4271, -4.4417, -4.4605, -4.467, -4.548, -4.6406, -4.6414, -4.6772, -4.6917, -2.1799, -3.1038, -3.4212, -3.4872, -3.6604, -3.6808, -3.7901, -3.7979, -3.8252, -4.0036, -4.0307, -4.0558, -4.2417, -4.3425, -4.3568, -4.3617, -4.4041, -4.4809, -4.4981, -4.5149, -4.5807, -4.6709, -4.6711, -4.6787, -4.7062, -4.7724, -4.7902, -4.8466, -4.8593, -4.9103, -2.5697, -2.8909, -3.091, -3.2904, -3.393, -3.6698, -3.7326, -3.7479, -3.7827, -3.8249, -3.8481, -3.8628, -3.9257, -3.9952, -4.0247, -4.0905, -4.134, -4.2499, -4.2551, -4.2594, -4.2726, -4.3115, -4.3177, -4.3625, -4.3949, -4.4431, -4.622, -4.6286, -4.6447, -4.68, -3.0248, -3.1684, -3.2106, -3.2534, -3.3295, -3.4194, -3.4686, -3.6592, -3.9437, -3.9531, -3.9876, -4.0488, -4.0827, -4.1178, -4.1472, -4.1696, -4.2029, -4.2289, -4.3113, -4.3723, -4.3769, -4.4203, -4.4312, -4.4667, -4.4891, -4.5154, -4.5685, -4.5918, -4.6209, -4.6462, -2.8761, -2.9554, -3.0118, -3.202, -3.2545, -3.3142, -3.395, -3.5431, -3.7349, -3.7749, -3.794, -3.8432, -3.8517, -3.9761, -3.9798, -4.0338, -4.0408, -4.205, -4.2576, -4.271, -4.2743, -4.3784, -4.4848, -4.5022, -4.5585, -4.6055, -4.6217, -4.6241, -4.6558, -4.6727, -2.1376, -2.7375, -3.2305, -3.2341, -3.4314, -3.4358, -3.5565, -3.6566, -3.7323, -3.7793, -3.8131, -3.8746, -3.8981, -3.9214, -3.9528, -3.9648, -4.0692, -4.218, -4.2522, -4.3223, -4.3476, -4.3597, -4.5457, -4.6024, -4.6234, -4.6433, -4.7267, -4.7696, -4.7969, -4.8125, -2.8785, -2.9089, -3.2594, -3.3712, -3.3857, -3.5454, -3.7535, -3.7725, -3.8193, -3.8341, -3.9158, -3.9257, -3.958, -3.9764, -4.0231, -4.1466, -4.2534, -4.2949, -4.2996, -4.3151, -4.3181, -4.3471, -4.441, -4.4425, -4.4472, -4.4941, -4.5341, -4.5646, -4.6444, -4.6451, -2.4753, -2.9659, -3.2852, -3.3145, -3.3791, -3.5414, -3.5816, -3.6203, -3.6268, -3.684, -3.7472, -4.0153, -4.0285, -4.2201, -4.3051, -4.3054, -4.3159, -4.3571, -4.3603, -4.3827, -4.4121, -4.4398, -4.4554, -4.4686, -4.5668, -4.603, -4.6428, -4.693, -4.813, -4.8209, -3.0071, -3.009, -3.0212, -3.2837, -3.6599, -3.7845, -3.832, -3.8816, -3.9149, -3.9164, -3.9707, -3.9711, -3.9753, -3.9959, -4.2131, -4.2524, -4.3006, -4.3397, -4.4341, -4.5606, -4.5842, -4.5847, -4.6401, -4.644, -4.7032, -4.7194, -4.726, -4.7284, -4.7922, -4.8081, -1.7325, -3.2156, -3.2332, -3.4139, -3.6659, -3.7156, -3.7259, -3.7355, -3.847, -3.968, -3.9861, -4.078, -4.0934, -4.1235, -4.2228, -4.2354, -4.259, -4.2603, -4.3094, -4.3268, -4.3335, -4.3613, -4.4205, -4.4223, -4.4933, -4.5152, -4.5621, -4.5722, -4.5893, -4.6554, -2.1036, -2.8457, -3.2971, -3.3094, -3.5676, -3.6622, -3.7349, -3.7536, -3.9047, -3.9666, -4.1808, -4.23, -4.2838, -4.2839, -4.2894, -4.356, -4.3599, -4.4655, -4.4924, -4.5281, -4.5391, -4.5642, -4.5911, -4.6085, -4.6135, -4.709, -4.7131, -4.7205, -4.8251, -4.8529, -2.5305, -2.5435, -2.9044, -3.0944, -3.1142, -3.2353, -3.2421, -3.2455, -3.377, -3.8177, -3.8552, -3.8758, -3.9825, -4.0025, -4.0039, -4.1623, -4.1745, -4.2469, -4.3504, -4.3612, -4.4235, -4.4636, -4.4893, -4.67, -4.682, -4.7817, -4.7858, -4.8006, -4.934, -4.9505, -2.7659, -3.2418, -3.258, -3.2765, -3.2978, -3.4663, -3.5801, -3.7323, -3.7337, -3.7958, -3.8896, -3.9771, -4.0533, -4.0812, -4.1097, -4.1925, -4.2047, -4.2268, -4.2973, -4.3205, -4.4091, -4.4729, -4.5383, -4.597, -4.6072, -4.6471, -4.6567, -4.6576, -4.7391, -4.7927], \"loglift\": [30.0, 29.0, 28.0, 27.0, 26.0, 25.0, 24.0, 23.0, 22.0, 21.0, 20.0, 19.0, 18.0, 17.0, 16.0, 15.0, 14.0, 13.0, 12.0, 11.0, 10.0, 9.0, 8.0, 7.0, 6.0, 5.0, 4.0, 3.0, 2.0, 1.0, 1.6584, 1.6584, 1.6583, 1.6583, 1.6583, 1.6583, 1.6583, 1.6583, 1.6583, 1.6583, 1.6583, 1.6583, 1.6583, 1.6583, 1.6583, 1.6583, 1.6583, 1.6583, 1.6583, 1.6583, 1.6583, 1.6583, 1.6583, 1.6583, 1.6583, 1.6583, 1.6583, 1.6583, 1.6583, 1.6582, 1.6581, 2.8443, 2.8442, 2.8442, 2.8442, 2.8442, 2.8442, 2.8442, 2.8441, 2.8441, 2.8441, 2.8441, 2.8441, 2.8441, 2.8441, 2.844, 2.844, 2.844, 2.844, 2.844, 2.844, 2.844, 2.8439, 2.8439, 2.8439, 2.8439, 2.8439, 2.8439, 2.8438, 2.8438, 2.8438, 3.1477, 3.1477, 3.1477, 3.1477, 3.1477, 3.1477, 3.1476, 3.1476, 3.1476, 3.1475, 3.1475, 3.1475, 3.1475, 3.1475, 3.1474, 3.1474, 3.1474, 3.1474, 3.1473, 3.1472, 3.1472, 3.1472, 3.1471, 3.1471, 3.1471, 3.147, 3.147, 3.147, 3.147, 3.1469, 3.4803, 3.4803, 3.4802, 3.4801, 3.4801, 3.4801, 3.4801, 3.4801, 3.48, 3.48, 3.48, 3.48, 3.48, 3.48, 3.4799, 3.4799, 3.4799, 3.4798, 3.4798, 3.4798, 3.4797, 3.4796, 3.4796, 3.4795, 3.4795, 3.4794, 3.4794, 3.4793, 3.4793, 3.4792, 3.5027, 3.5026, 3.5025, 3.5024, 3.5024, 3.5024, 3.5024, 3.5023, 3.5023, 3.5022, 3.5022, 3.5022, 3.5022, 3.5022, 3.5021, 3.5021, 3.5021, 3.502, 3.502, 3.502, 3.502, 3.5019, 3.5019, 3.5018, 3.5017, 3.5017, 3.5017, 3.5016, 3.5016, 3.5016, 3.6352, 3.6351, 3.6348, 3.6347, 3.6347, 3.6347, 3.6346, 3.6346, 3.6346, 3.6345, 3.6345, 3.6344, 3.6344, 3.6344, 3.6344, 3.6343, 3.6342, 3.6341, 3.634, 3.634, 3.6339, 3.6339, 3.6339, 3.6338, 3.6337, 3.6336, 3.6336, 3.6335, 3.6334, 3.6334, 3.6786, 3.6786, 3.6785, 3.6785, 3.6783, 3.6783, 3.6783, 3.6783, 3.6783, 3.6782, 3.6781, 3.6781, 3.6781, 3.678, 3.678, 3.678, 3.6779, 3.6779, 3.6779, 3.6778, 3.6777, 3.6775, 3.6775, 3.6775, 3.6773, 3.6772, 3.6772, 3.6771, 3.677, 3.677, 3.6943, 3.6943, 3.6942, 3.6942, 3.6942, 3.6942, 3.6941, 3.6941, 3.6941, 3.694, 3.694, 3.6939, 3.6939, 3.6939, 3.6939, 3.6938, 3.6938, 3.6936, 3.6935, 3.6933, 3.6932, 3.6932, 3.693, 3.693, 3.6929, 3.6927, 3.6927, 3.6926, 3.6925, 3.6923, 3.7046, 3.7046, 3.7044, 3.7044, 3.7043, 3.7043, 3.7043, 3.7042, 3.7042, 3.7042, 3.7041, 3.7041, 3.704, 3.704, 3.704, 3.7039, 3.7039, 3.7039, 3.7039, 3.7039, 3.7039, 3.7038, 3.7038, 3.7038, 3.7037, 3.7037, 3.7037, 3.7037, 3.7036, 3.7035, 3.7553, 3.7552, 3.7551, 3.7551, 3.7551, 3.755, 3.755, 3.755, 3.755, 3.755, 3.7549, 3.7549, 3.7547, 3.7547, 3.7547, 3.7547, 3.7547, 3.7547, 3.7547, 3.7546, 3.7546, 3.7545, 3.7544, 3.7543, 3.7543, 3.7541, 3.7541, 3.7541, 3.7541, 3.754, 3.7608, 3.7607, 3.7607, 3.7606, 3.7606, 3.7605, 3.7605, 3.7605, 3.7604, 3.7604, 3.7603, 3.7603, 3.7603, 3.7602, 3.7602, 3.7601, 3.7601, 3.7601, 3.7601, 3.76, 3.76, 3.7599, 3.7598, 3.7598, 3.7598, 3.7597, 3.7597, 3.7596, 3.7596, 3.7594, 3.7955, 3.7954, 3.7953, 3.7953, 3.7952, 3.7952, 3.7952, 3.7952, 3.7951, 3.795, 3.795, 3.795, 3.795, 3.7949, 3.7949, 3.7948, 3.7948, 3.7948, 3.7947, 3.7947, 3.7947, 3.7946, 3.7946, 3.7945, 3.7943, 3.7943, 3.7943, 3.7943, 3.7942, 3.7941, 3.8104, 3.8104, 3.8104, 3.8103, 3.8102, 3.8102, 3.8101, 3.8098, 3.8097, 3.8097, 3.8096, 3.8096, 3.8096, 3.8096, 3.8096, 3.8096, 3.8096, 3.8095, 3.8095, 3.8094, 3.8093, 3.8093, 3.8093, 3.8093, 3.8092, 3.8091, 3.8091, 3.8091, 3.809, 3.809, 3.8168, 3.8167, 3.8166, 3.8166, 3.8164, 3.8164, 3.8163, 3.8163, 3.8162, 3.8162, 3.8162, 3.8162, 3.8162, 3.8162, 3.8161, 3.8161, 3.816, 3.8159, 3.8159, 3.8159, 3.8159, 3.8158, 3.8157, 3.8156, 3.8156, 3.8155, 3.8155, 3.8155, 3.8154, 3.8153, 3.825, 3.825, 3.8249, 3.8247, 3.8246, 3.8246, 3.8246, 3.8246, 3.8245, 3.8245, 3.8245, 3.8245, 3.8245, 3.8245, 3.8245, 3.8244, 3.8244, 3.8243, 3.8243, 3.8243, 3.8242, 3.8241, 3.8241, 3.824, 3.824, 3.824, 3.824, 3.824, 3.824, 3.8239, 3.8404, 3.8404, 3.8403, 3.8403, 3.8401, 3.8401, 3.84, 3.84, 3.8399, 3.8399, 3.8398, 3.8398, 3.8397, 3.8397, 3.8397, 3.8397, 3.8397, 3.8396, 3.8396, 3.8395, 3.8395, 3.8395, 3.8393, 3.8392, 3.8391, 3.8391, 3.8391, 3.839, 3.839, 3.839, 3.8453, 3.8452, 3.8452, 3.8451, 3.845, 3.845, 3.8449, 3.8449, 3.8449, 3.8449, 3.8448, 3.8448, 3.8448, 3.8447, 3.8447, 3.8447, 3.8447, 3.8447, 3.8447, 3.8446, 3.8446, 3.8445, 3.8445, 3.8445, 3.8442, 3.8442, 3.8441, 3.844, 3.844, 3.844, 3.8696, 3.8696, 3.8695, 3.8694, 3.8693, 3.8693, 3.8693, 3.8692, 3.8691, 3.8691, 3.8691, 3.869, 3.869, 3.869, 3.869, 3.869, 3.8688, 3.8688, 3.8687, 3.8687, 3.8687, 3.8686, 3.8686, 3.8685, 3.8685, 3.8685, 3.8684, 3.8684, 3.8684, 3.8683, 3.8902, 3.8902, 3.89, 3.89, 3.8898, 3.8897, 3.8897, 3.8896, 3.8896, 3.8895, 3.8895, 3.8895, 3.8894, 3.8894, 3.8893, 3.8893, 3.8893, 3.8892, 3.8892, 3.8892, 3.8891, 3.8891, 3.8891, 3.889, 3.8889, 3.8889, 3.8889, 3.8888, 3.8887, 3.8887, 3.9041, 3.9041, 3.9039, 3.9039, 3.9038, 3.9038, 3.9037, 3.9037, 3.9036, 3.9036, 3.9036, 3.9036, 3.9035, 3.9035, 3.9035, 3.9034, 3.9034, 3.9033, 3.9032, 3.9032, 3.9032, 3.903, 3.903, 3.9029, 3.9028, 3.9027, 3.9026, 3.9026, 3.9026, 3.9025, 3.9213, 3.9213, 3.9212, 3.9211, 3.9211, 3.921, 3.921, 3.921, 3.9209, 3.9209, 3.9208, 3.9206, 3.9206, 3.9205, 3.9205, 3.9204, 3.9204, 3.9204, 3.9204, 3.9203, 3.9203, 3.9202, 3.9202, 3.9201, 3.9201, 3.9201, 3.9199, 3.9198, 3.9198, 3.9197, 3.9237, 3.9235, 3.9234, 3.9234, 3.9234, 3.9232, 3.9232, 3.9232, 3.9231, 3.9231, 3.9229, 3.9229, 3.9228, 3.9227, 3.9227, 3.9227, 3.9226, 3.9226, 3.9226, 3.9225, 3.9225, 3.9224, 3.9224, 3.9223, 3.9223, 3.9223, 3.9223, 3.9223, 3.9222, 3.9222, 3.9267, 3.9266, 3.9265, 3.9265, 3.9265, 3.9265, 3.9264, 3.9263, 3.9261, 3.9261, 3.9261, 3.9261, 3.9261, 3.926, 3.926, 3.926, 3.926, 3.926, 3.926, 3.926, 3.926, 3.9258, 3.9258, 3.9258, 3.9257, 3.9257, 3.9256, 3.9255, 3.9255, 3.9255, 3.9442, 3.9442, 3.9441, 3.9441, 3.944, 3.944, 3.9439, 3.9439, 3.9438, 3.9437, 3.9437, 3.9436, 3.9435, 3.9435, 3.9434, 3.9433, 3.9433, 3.9433, 3.9433, 3.9433, 3.9432, 3.9432, 3.9431, 3.9431, 3.943, 3.9429, 3.9429, 3.9428, 3.9428, 3.9428, 3.9444, 3.9442, 3.9442, 3.9441, 3.9441, 3.9441, 3.944, 3.944, 3.944, 3.944, 3.9439, 3.9439, 3.9438, 3.9438, 3.9437, 3.9437, 3.9436, 3.9435, 3.9435, 3.9434, 3.9434, 3.9433, 3.9433, 3.9433, 3.9433, 3.9432, 3.943, 3.943, 3.9429, 3.9429, 3.9489, 3.9487, 3.9486, 3.9485, 3.9484, 3.9484, 3.9484, 3.9483, 3.9483, 3.9482, 3.9482, 3.9481, 3.9479, 3.9478, 3.9478, 3.9478, 3.9478, 3.9476, 3.9476, 3.9476, 3.9475, 3.9474, 3.9474, 3.9473, 3.9473, 3.9472, 3.9471, 3.947, 3.947, 3.9469, 3.9597, 3.9596, 3.9595, 3.9594, 3.9594, 3.9592, 3.9592, 3.9592, 3.9592, 3.9591, 3.9591, 3.9591, 3.959, 3.959, 3.959, 3.9589, 3.9589, 3.9587, 3.9587, 3.9587, 3.9587, 3.9587, 3.9587, 3.9586, 3.9586, 3.9585, 3.9582, 3.9582, 3.9582, 3.9581, 3.9929, 3.9929, 3.9928, 3.9928, 3.9928, 3.9928, 3.9927, 3.9926, 3.9924, 3.9924, 3.9924, 3.9923, 3.9923, 3.9922, 3.9922, 3.9922, 3.9921, 3.9921, 3.992, 3.9919, 3.9919, 3.9919, 3.9919, 3.9918, 3.9918, 3.9917, 3.9917, 3.9916, 3.9916, 3.9915, 3.9999, 3.9999, 3.9999, 3.9998, 3.9998, 3.9997, 3.9997, 3.9996, 3.9995, 3.9995, 3.9994, 3.9994, 3.9994, 3.9993, 3.9993, 3.9992, 3.9992, 3.9991, 3.999, 3.999, 3.999, 3.9989, 3.9987, 3.9987, 3.9986, 3.9985, 3.9985, 3.9985, 3.9984, 3.9984, 4.0169, 4.0168, 4.0167, 4.0167, 4.0166, 4.0166, 4.0165, 4.0164, 4.0164, 4.0163, 4.0163, 4.0163, 4.0162, 4.0162, 4.0162, 4.0162, 4.0161, 4.0159, 4.0159, 4.0158, 4.0158, 4.0158, 4.0155, 4.0154, 4.0153, 4.0153, 4.0152, 4.0151, 4.015, 4.015, 4.0386, 4.0386, 4.0385, 4.0384, 4.0384, 4.0383, 4.0382, 4.0382, 4.0381, 4.0381, 4.0381, 4.0381, 4.038, 4.038, 4.038, 4.0378, 4.0377, 4.0377, 4.0377, 4.0376, 4.0376, 4.0376, 4.0375, 4.0375, 4.0374, 4.0374, 4.0373, 4.0373, 4.0371, 4.0371, 4.0437, 4.0435, 4.0434, 4.0434, 4.0434, 4.0433, 4.0432, 4.0432, 4.0432, 4.0432, 4.0431, 4.0429, 4.0429, 4.0427, 4.0426, 4.0426, 4.0426, 4.0425, 4.0425, 4.0425, 4.0424, 4.0424, 4.0424, 4.0423, 4.0422, 4.0421, 4.042, 4.042, 4.0417, 4.0417, 4.0591, 4.0591, 4.0591, 4.059, 4.0588, 4.0587, 4.0587, 4.0586, 4.0586, 4.0586, 4.0586, 4.0586, 4.0586, 4.0585, 4.0583, 4.0583, 4.0582, 4.0581, 4.058, 4.0578, 4.0578, 4.0578, 4.0577, 4.0577, 4.0575, 4.0575, 4.0575, 4.0575, 4.0574, 4.0573, 4.0861, 4.0858, 4.0858, 4.0857, 4.0855, 4.0855, 4.0855, 4.0855, 4.0854, 4.0853, 4.0852, 4.0851, 4.0851, 4.0851, 4.085, 4.085, 4.0849, 4.0849, 4.0849, 4.0848, 4.0848, 4.0848, 4.0847, 4.0847, 4.0846, 4.0846, 4.0845, 4.0845, 4.0844, 4.0843, 4.1132, 4.1131, 4.1129, 4.1129, 4.1127, 4.1127, 4.1126, 4.1126, 4.1125, 4.1124, 4.1122, 4.1121, 4.112, 4.112, 4.112, 4.1119, 4.1119, 4.1118, 4.1117, 4.1117, 4.1116, 4.1116, 4.1115, 4.1115, 4.1115, 4.1113, 4.1113, 4.1113, 4.111, 4.111, 4.1476, 4.1476, 4.1475, 4.1474, 4.1474, 4.1474, 4.1474, 4.1474, 4.1473, 4.147, 4.1469, 4.1469, 4.1468, 4.1468, 4.1468, 4.1466, 4.1466, 4.1465, 4.1463, 4.1463, 4.1462, 4.1462, 4.1461, 4.1458, 4.1458, 4.1455, 4.1455, 4.1455, 4.1452, 4.1451, 4.2254, 4.2252, 4.2252, 4.2252, 4.2252, 4.2251, 4.225, 4.2248, 4.2248, 4.2248, 4.2247, 4.2246, 4.2245, 4.2245, 4.2244, 4.2243, 4.2243, 4.2243, 4.2242, 4.2241, 4.224, 4.2239, 4.2238, 4.2236, 4.2236, 4.2235, 4.2235, 4.2235, 4.2233, 4.2232]}, \"token.table\": {\"Topic\": [26, 2, 27, 12, 11, 29, 35, 32, 17, 4, 8, 6, 19, 10, 26, 6, 30, 2, 23, 2, 10, 30, 14, 9, 31, 37, 17, 32, 8, 17, 27, 9, 24, 6, 2, 24, 18, 26, 32, 21, 19, 16, 14, 13, 11, 9, 26, 24, 6, 11, 7, 19, 7, 7, 2, 11, 25, 26, 36, 32, 35, 27, 35, 9, 21, 5, 29, 12, 20, 33, 33, 29, 35, 19, 34, 7, 5, 32, 24, 17, 29, 5, 37, 26, 25, 16, 26, 14, 20, 31, 22, 14, 1, 6, 28, 6, 34, 15, 16, 33, 15, 15, 11, 19, 23, 29, 29, 19, 32, 4, 16, 28, 11, 1, 15, 32, 31, 22, 35, 31, 14, 14, 12, 13, 18, 12, 11, 32, 13, 8, 33, 26, 37, 36, 8, 2, 13, 16, 32, 22, 15, 15, 10, 4, 31, 14, 13, 27, 14, 34, 25, 6, 17, 25, 21, 8, 29, 8, 15, 8, 13, 14, 14, 21, 31, 9, 11, 21, 34, 11, 4, 13, 31, 10, 26, 6, 19, 24, 12, 25, 16, 19, 11, 7, 23, 7, 8, 31, 12, 22, 36, 22, 18, 37, 11, 8, 12, 30, 23, 34, 18, 26, 25, 34, 11, 23, 37, 4, 18, 20, 27, 21, 21, 2, 33, 36, 13, 34, 18, 36, 28, 26, 34, 5, 25, 34, 16, 26, 30, 27, 35, 14, 36, 2, 9, 5, 3, 16, 9, 27, 11, 19, 31, 12, 32, 37, 29, 25, 24, 7, 15, 12, 35, 31, 22, 4, 10, 30, 4, 17, 10, 17, 4, 10, 2, 24, 13, 11, 13, 24, 34, 9, 30, 9, 34, 16, 12, 28, 24, 30, 25, 25, 15, 9, 35, 27, 26, 29, 23, 25, 32, 23, 7, 31, 35, 24, 8, 6, 33, 3, 7, 22, 34, 20, 20, 20, 37, 33, 24, 26, 25, 18, 25, 16, 6, 30, 12, 27, 21, 27, 28, 5, 12, 28, 29, 23, 6, 29, 34, 3, 25, 35, 12, 3, 23, 26, 12, 31, 1, 37, 15, 2, 2, 32, 28, 28, 26, 29, 36, 36, 22, 22, 28, 5, 5, 36, 25, 17, 17, 8, 25, 24, 7, 35, 29, 11, 21, 36, 7, 33, 14, 16, 34, 15, 30, 19, 34, 3, 1, 37, 21, 1, 23, 19, 12, 9, 20, 16, 33, 8, 16, 30, 15, 11, 4, 10, 8, 5, 13, 11, 21, 19, 18, 7, 20, 23, 31, 28, 10, 14, 33, 27, 4, 25, 1, 7, 4, 23, 25, 37, 28, 2, 31, 31, 35, 3, 30, 2, 9, 32, 8, 37, 32, 22, 13, 5, 34, 18, 13, 16, 2, 27, 36, 35, 33, 30, 3, 10, 13, 8, 23, 14, 24, 24, 23, 3, 18, 27, 2, 26, 27, 3, 25, 29, 23, 9, 18, 17, 1, 15, 20, 23, 32, 9, 25, 8, 32, 2, 23, 20, 35, 36, 8, 11, 23, 36, 7, 13, 5, 37, 20, 15, 13, 27, 24, 28, 19, 34, 32, 7, 6, 8, 17, 10, 29, 35, 35, 10, 5, 37, 26, 12, 22, 34, 2, 33, 6, 11, 23, 20, 26, 36, 6, 36, 8, 22, 31, 3, 36, 14, 34, 27, 18, 3, 32, 9, 28, 15, 15, 34, 10, 15, 9, 19, 25, 22, 8, 35, 5, 30, 7, 33, 4, 35, 17, 12, 36, 28, 34, 28, 1, 24, 1, 30, 12, 28, 36, 5, 2, 4, 11, 6, 12, 14, 1, 28, 11, 26, 27, 24, 24, 15, 3, 4, 9, 24, 27, 29, 31, 4, 13, 17, 1, 14, 16, 13, 1, 37, 17, 17, 16, 3, 23, 34, 21, 36, 1, 25, 6, 8, 22, 32, 26, 5, 23, 7, 5, 4, 3, 17, 17, 3, 16, 6, 12, 22, 27, 19, 21, 36, 16, 24, 20, 23, 7, 6, 16, 6, 33, 7, 5, 27, 1, 23, 12, 28, 33, 33, 10, 25, 33, 19, 13, 26, 2, 7, 35, 1, 35, 20, 26, 19, 21, 2, 29, 3, 37, 28, 3, 29, 15, 7, 9, 35, 35, 1, 25, 36, 13, 37, 35, 15, 19, 9, 10, 2, 20, 14, 31, 30, 7, 13, 25, 3, 25, 20, 5, 3, 24, 4, 24, 21, 17, 31, 14, 21, 27, 36, 1, 11, 10, 23, 37, 37, 35, 11, 16, 6, 5, 3, 8, 23, 27, 6, 34, 28, 10, 10, 10, 6, 13, 28, 24, 28, 33, 15, 14, 18, 18, 17, 22, 28, 20, 23, 4, 22, 17, 8, 25, 32, 18, 28, 27, 15, 21, 16, 3, 19, 16, 33, 14, 15, 15, 17, 25, 16, 9, 20, 29, 22, 24, 18, 29, 20, 11, 30, 18, 11, 30, 12, 11, 27, 36, 4, 15, 33, 2, 3, 19, 3, 33, 18, 14, 18, 17, 22, 31, 18, 27, 19, 12, 6, 26, 30, 22, 28, 31, 9, 29, 33, 19, 7, 30, 10, 10, 36, 20, 15, 27, 7, 16, 37, 12, 10, 34, 24, 7, 22, 6, 10, 15, 28, 22, 22, 11, 20, 21, 6, 20, 21, 30, 1, 24, 3, 26, 5, 24, 2, 33, 1, 5, 28, 14, 37, 18, 30, 19, 9, 17, 9, 21, 30, 18, 30, 23, 36, 13, 13, 20, 16, 31, 13, 8, 1, 13, 18, 5, 34, 16, 4, 4, 12, 36, 31, 17, 29, 5, 17, 23, 30, 33, 30, 30, 20, 30, 5, 13, 19, 5, 2, 31, 12, 32, 28, 23, 17, 37, 3, 9, 16, 21, 35, 15, 37, 14, 12, 18, 22, 2, 31, 13, 9, 34, 23, 17, 17, 4, 16, 6, 35, 29, 3, 26, 32, 6, 25, 33, 10, 32, 26, 5, 19, 20, 31, 4, 24, 11, 12, 1, 6, 29, 5, 25, 8, 10, 27, 33, 14, 15, 21, 29, 18, 17, 14, 18, 33, 21, 1, 1, 19, 13, 12, 4, 5, 2, 37, 9, 22, 1, 8, 27, 2, 4, 10, 4, 21, 2, 35, 14, 22, 18, 17, 30, 7, 35, 29, 32, 22, 34, 26, 18, 11, 14, 32, 9, 36, 4, 22, 7, 34, 14, 36, 8, 21, 1, 8, 24, 20, 19, 31, 21, 21, 32, 8, 12, 31, 9, 7, 35, 33, 21, 13, 1, 15, 7, 19, 31, 28, 28, 19, 10, 20, 6, 1, 18, 20, 37, 33, 27, 9, 37, 1, 2, 20, 16, 19, 9, 34, 22, 1, 37, 3, 24, 32, 26, 18, 37, 2, 10, 29, 8, 37, 34, 37, 29, 36, 31, 4, 10, 32, 35, 14, 29, 4, 36, 3, 30, 33, 2, 21, 21, 5, 5, 7, 32, 27, 30, 1, 20, 26, 37, 32, 1, 6, 16, 11, 22, 10, 3, 3, 29, 4], \"Freq\": [0.9993156720770022, 0.9998077320833259, 0.9992212550629522, 0.9991016927566289, 0.9988382215503895, 0.9991426582341485, 0.9988844377695344, 0.9979084617775816, 0.9996519692124346, 0.9991985947964633, 0.9975261231379097, 0.9982797424780743, 0.9999117559493907, 0.9995318873189752, 0.9988307431957865, 0.9995379805971154, 0.998187716225413, 0.9998773879181013, 0.9994609478237403, 0.9996993527434129, 0.9997445420074614, 0.9993729807325885, 0.9990765908067903, 0.999240768381539, 0.9983063536274162, 0.9974749917346767, 0.9996293663620567, 0.9991199999431493, 0.9985585843658517, 0.9993123423078565, 0.9995558153435438, 0.99937100477544, 0.9989332693838379, 0.9992991084285374, 0.9995736151772722, 0.9991514209355831, 0.9992470678041073, 0.9984040460041667, 0.9978006058453256, 0.9994759760971407, 0.9981255741138894, 0.9996309229026934, 0.9990104042518753, 0.998954607275999, 0.999437896382769, 0.9993823069097844, 0.9973618131058698, 0.998869394754433, 0.9991829957121179, 0.9992885572962583, 0.9986652722274709, 0.9994190269428983, 0.9989993671420507, 0.9993722038292154, 0.9997453087660982, 0.9992308842840363, 0.9980700833168508, 0.9991847148428956, 0.998832263105082, 0.9992242839890876, 0.9986708857346522, 0.9982817918640161, 0.9980940152504326, 0.9987531924336484, 0.9995848766769557, 0.9995162736243132, 0.9992611812258265, 0.9995590126967939, 0.9990171655871273, 0.9988750141621465, 0.9976142055707984, 0.9991466428154676, 0.9981842082637341, 0.9989247849018776, 0.9985394051531294, 0.9992573911573585, 0.9997294650992776, 0.9996193448118017, 0.9990932189257123, 0.9994220757856643, 0.9993562124252727, 0.9991717606315674, 0.997380634615748, 0.9985198880562355, 0.9993401861852331, 0.9991383006081411, 0.9980893384949276, 0.9989840914144007, 0.9994904985168469, 0.9996668977910819, 0.9986634211270001, 0.9997883991784143, 0.9998202738736311, 0.9996777296972779, 0.9981166226269351, 0.9991792896001497, 0.9989237652674758, 0.9989920144350583, 0.9994404351107287, 0.9996816663491506, 0.9995655459027394, 0.9992663332897594, 0.9994878969041441, 0.9987412841808271, 0.9989107051412975, 0.9990099184583718, 0.9988591022822766, 0.998570212168994, 0.9986552526264773, 0.999402936469266, 0.9982252195327344, 0.9994950263906449, 0.9991363369181832, 0.9998977990087374, 0.9991630870313617, 0.9979295327901029, 0.9992703663249706, 0.9994282455131566, 0.998749482057679, 0.9985592891561674, 0.9991091606288165, 0.9989026856131268, 0.9990753561471449, 0.9997365958120419, 0.9989314150746673, 0.9985815367231304, 0.9995508514220213, 0.9991246319862283, 0.999702767553499, 0.9977096002993809, 0.9996264028931121, 0.9993005203075919, 0.9993004520927884, 0.9995649242106279, 0.999681711272884, 0.9993681702428179, 0.9989346001649508, 0.9988578019470289, 0.997544286180299, 0.9989507320508121, 0.9990583567208129, 0.9981637337972492, 0.9991948810195069, 0.9985332903761531, 0.9980010566057321, 0.9988391583270306, 0.9989579922492883, 0.9990482525209435, 0.9990015533432911, 0.9995388819176712, 0.9976084318847467, 0.99862150676234, 0.998038087212683, 0.9995277658016559, 0.9992806934244446, 0.9981065271185035, 0.9993681200139022, 0.9995855325614408, 0.9997516341109103, 0.9977810436425262, 0.999353250248153, 0.9990363346008625, 0.9996996196683519, 0.9989561928588631, 0.9990742034171587, 0.9997184613774325, 0.9992184065300947, 0.998184584568319, 0.9991219912281357, 0.9990833848368912, 0.9995017899308922, 0.998887947311994, 0.9997119680564424, 0.9990771216554027, 0.9986621932025886, 0.9989330137712097, 0.998576472292469, 0.999461867423178, 0.9993323378573091, 0.9997361940314164, 0.9998010469069192, 0.9992236753975796, 0.9985769912385354, 0.9998854366979709, 0.9983156797630616, 0.9987406280218082, 0.9989206669846522, 0.999507545731752, 0.9992564622080363, 0.9994712298378647, 0.9985352353998971, 0.999192633676947, 0.9992105981641078, 0.9979696941054529, 0.9998026494400183, 0.9990045286755581, 0.9987860277764017, 0.9991210435372803, 0.9989159191931322, 0.9986906512631619, 0.9993850743668011, 0.9983625464055611, 0.9990390712297093, 0.9987943040006244, 0.9988455560232755, 0.9991432553455822, 0.9992988141215347, 0.9988523683633389, 0.9990003735237876, 0.9995463718024709, 0.9991531469172592, 0.9993399557995226, 0.9980769003994323, 0.9998114860952932, 0.9993021419150163, 0.9993595591843482, 0.9996625042492806, 0.9995466113666955, 0.9987169385940835, 0.9966754746753866, 0.9984099855379062, 0.9992012196670634, 0.9989815802428597, 0.9992165023420672, 0.9988051861075785, 0.9987215298681696, 0.9993390713080013, 0.998746873471897, 0.9984916747780488, 0.9986728229087668, 0.9993901764750721, 0.9992702666039687, 0.9980980371157903, 0.9998416446923962, 0.9986732012464067, 0.9997115473616619, 0.999761756446281, 0.9992719736087061, 0.9989354787848037, 0.9984575912508648, 0.9993315137584977, 0.9994627850980888, 0.9989133264653538, 0.9996803823369439, 0.9986497384833474, 0.9984203445364045, 0.9988345784079111, 0.9995703148983992, 0.999126051967673, 0.998727970211286, 0.9989312305061938, 0.9987161807138673, 0.9990496388460406, 0.9981388580790956, 0.9984007906639034, 0.9996881737980141, 0.9995995275014076, 0.9986407662821858, 0.9988660407102071, 0.999195380059856, 0.9991263380193842, 0.9987086889103284, 0.9994595674019098, 0.999308721683204, 0.9999483141983383, 0.9992879907200206, 0.9990961623889051, 0.999096708665735, 0.9994477305110965, 0.9990050850447686, 0.9982331060428583, 0.9989210165744201, 0.9984885026214845, 0.9995292512574806, 0.9984695995137595, 0.9982581079071765, 0.9984742422721522, 0.9981547110008983, 0.9992079898487192, 0.9994072423939767, 0.9988187576560771, 0.998402993845288, 0.9987725318939633, 0.9987468501956231, 0.9971991587219571, 0.9977168723490302, 0.9993744183884438, 0.9995504426665753, 0.9987593952680787, 0.9994587486125167, 0.9987553610941668, 0.9980368339368481, 0.9994777347237148, 0.9988508958803552, 0.9999022860020598, 0.9992060645467838, 0.9997054134032768, 0.9990691741241429, 0.9993742771392059, 0.9998581640850779, 0.9984802762262519, 0.9982434222144104, 0.9991420853792123, 0.9992296664334328, 0.9998472295575762, 0.999025124873521, 0.9991091917889152, 0.9981892236620458, 0.9992628869020576, 0.9988291041214556, 0.9985145214079943, 0.9992242690874803, 0.9990534211279444, 0.9988083409658896, 0.9994247415361215, 0.9994843169874008, 0.9995418879954378, 0.998681519539225, 0.9993952626202812, 0.9994895651535137, 0.9992576064652944, 0.9988282390848389, 0.9992580095645628, 0.9989463236670807, 0.9979537907385857, 0.9993670489901719, 0.9981723589617726, 0.999421846243775, 0.9982290283496231, 0.9996024644737582, 0.9995292586476902, 0.9976791900469584, 0.9992914565296825, 0.9997586343536153, 0.9992357442833932, 0.9996202565087162, 0.999174321830772, 0.9980844769164928, 0.9998769024739836, 0.9975053790091963, 0.9993857595715524, 0.9998648738838698, 0.9993847045401888, 0.9995628610401507, 0.99763428176519, 0.9993866021810119, 0.9985044942681154, 0.9992485900076506, 0.9972551119368973, 0.9964425270673952, 0.9989670498734012, 0.998920722788978, 0.9987294922397871, 0.9998175998462707, 0.9991326175129754, 0.9993214105557493, 0.9982865832136338, 0.9995934925194425, 0.9998144026760836, 0.9997135941345089, 0.9991260342006453, 0.9986310924041879, 0.9998960881825801, 0.9993259174604472, 0.99926891398937, 0.9998298373435144, 0.9985054867787602, 0.9994044475879538, 0.9995593950069073, 0.9989834785800901, 0.9990369777660275, 0.9998244193491195, 0.9995534217894394, 0.9984905164185511, 0.9985485548576216, 0.9991138937896836, 0.9980872217114206, 0.9995973184601578, 0.9997991546460188, 0.9993196773994872, 0.9986301637620634, 0.9998519423044693, 0.9993317715302086, 0.9985908690456847, 0.9997560980329234, 0.9991520298826763, 0.9988770666718391, 0.9988214589238137, 0.9993830382933255, 0.9983033755348841, 0.9989867392713128, 0.9999095879998903, 0.9986475355722206, 0.9978399735712373, 0.9989309004529838, 0.9994073354600941, 0.9993447192811369, 0.9987406826354246, 0.9997779276097986, 0.9991642181776381, 0.9978443194860132, 0.9990359405578791, 0.9985277337196007, 0.9990567817828349, 0.9995740737440812, 0.9995432120485719, 0.9993719544190143, 0.9986270993694873, 0.9997448831409161, 0.9989446166029703, 0.9987910039931246, 0.9986841277129278, 0.9997291689703443, 0.9985477426643325, 0.9999583315391221, 0.9995397797805632, 0.9998681471734312, 0.9992961632931333, 0.9992760621763846, 0.999210323193687, 0.9989991968087132, 0.9997950905949455, 0.9992532444053079, 0.9985206276033668, 0.9988567297390897, 0.9998199717455137, 0.998782617286966, 0.9995922201986993, 0.9988125843603006, 0.9992662325309724, 0.9986566415481887, 0.9977192143664579, 0.9980768342475249, 0.9995353192157093, 0.9979671274295961, 0.9996203215251648, 0.999056377229425, 0.9997575335457891, 0.9981206046673459, 0.9992528900383661, 0.9998056594061518, 0.9992205196934786, 0.9986660602044294, 0.9996165303645991, 0.9991126556621477, 0.9990238572801885, 0.9996639163123601, 0.9994954808532952, 0.9988025845255112, 0.9992745361843055, 0.9996725133521804, 0.9998087837473042, 0.9986146555580997, 0.9996266630507257, 0.9987263869276671, 0.9990409829327985, 0.9998379617490384, 0.9990274877788834, 0.9998553337003544, 0.9986600938000675, 0.9981597822269385, 0.9997741274877231, 0.9992332611313183, 0.9981679741369227, 0.999583266356546, 0.9994464632357439, 0.9995169736239917, 0.9991324470513276, 0.9999386204093762, 0.9988215883594639, 0.9993111989154206, 0.9990624104721513, 0.9996430256549109, 0.9998553734447045, 0.9995014514432801, 0.999855452913764, 0.9988177968177304, 0.9998077188881568, 0.998891166756529, 0.9991723892350716, 0.9986130367302791, 0.9981334878593916, 0.9996973667597436, 0.9984253884172973, 0.9991043590396311, 0.9998621836562555, 0.9992728371559843, 0.999437687946403, 0.999720989990183, 0.9986394960249013, 0.99865090490445, 0.9992814949983766, 0.9988343424500477, 0.9988297624495638, 0.9994127385307818, 0.9993846695458256, 0.9990246333496593, 0.9980734958336972, 0.9993767277404284, 0.9989492996539805, 0.9982783540886754, 0.9996594496901201, 0.9991405991983813, 0.9993629400013789, 0.999183383181614, 0.9966228407432235, 0.9983117096895263, 0.9989070430925537, 0.999735953385538, 0.9987901176701496, 0.9984497541678496, 0.998861517992982, 0.9989665700392676, 0.9990188663849164, 0.999687979320314, 0.9989225271892002, 0.9990498545622349, 0.9985442063278432, 0.99894732393481, 0.9989189297609213, 0.999189326989934, 0.9993319642966624, 0.9993110701870062, 0.9998363509074181, 0.9991744598007078, 0.9996240413200167, 0.9986948013506294, 0.9998744399665085, 0.9987839259891261, 0.9992689627839186, 0.9986734453605898, 0.9990061032146095, 0.999095899860739, 0.9999189069449873, 0.9996159681767545, 0.9994752384491407, 0.9989353590686174, 0.9995127384117842, 0.9990822477043771, 0.9981844979687434, 0.9992880846157333, 0.9982638111019994, 0.9993053646015047, 0.9995768830405949, 0.9991492936823019, 0.9993863814086926, 0.999563038532543, 0.9991653193979695, 0.9991850295989408, 0.9993350427978648, 0.9991028426668799, 0.9968971542863209, 0.99941907527206, 0.9990092042399374, 0.9994991061514265, 0.9997682345358296, 0.998669371414533, 0.9989116571147113, 0.9994796430281623, 0.9984531823820473, 0.9999290365334428, 0.9995439805351768, 0.999953197846389, 0.9992434490500748, 0.9994932324679197, 0.9986981400018593, 0.9994020388768685, 0.9996655182199825, 0.9997658178762564, 0.9998043334834606, 0.9989408386880091, 0.99953671826556, 0.999654328992756, 0.9993116320443356, 0.9999447275204976, 0.9989048377315926, 0.9997158252814895, 0.9982696005796063, 0.9987632352346162, 0.9986807923797736, 0.9995488381916036, 0.9996634945986325, 0.9997566887202818, 0.999934621646617, 0.999252801891824, 0.9980817930285895, 0.9986880344794402, 0.9974291514500201, 0.9980024624009172, 0.9993424791396422, 0.9989381531216508, 0.9989818245087921, 0.9999234777059942, 0.9990119832449846, 0.9997602850856359, 0.9995995209200256, 0.9999041645915671, 0.9978949048998168, 0.9994937531500969, 0.9989930558286372, 0.9995613344287118, 0.9997439530928619, 0.9997227468702006, 0.9980208824868858, 0.9981288559176078, 0.9993974322995807, 0.9999237336449324, 0.9991674956597755, 0.9988563983635909, 0.9998290401244463, 0.9989791819115965, 0.9980733636409883, 0.9991821155614876, 0.9993038328235874, 0.9987727649307339, 0.9988411072936384, 0.9992064324021379, 0.9996403895753002, 0.9994536279259527, 0.9995320269422936, 0.9992922523616644, 0.9989759948213991, 0.998334491324124, 0.998127502426354, 0.9984146586830859, 0.99809173219026, 0.9995149549156351, 0.9990094523827004, 0.998782408349669, 0.9977508630459424, 0.9992841542485172, 0.9978126639308195, 0.9997375357854, 0.9986378462023969, 0.999715102046503, 0.9977404821014526, 0.999724308139439, 0.9993690861808247, 0.9980662749034027, 0.9997835502374742, 0.9994916266958357, 0.9980184393652469, 0.9998553934068766, 0.9989461949288917, 0.9994290754980031, 0.9994735662805939, 0.9990848317169674, 0.9993837579793131, 0.9994342503520224, 0.9986430727694184, 0.9995200141158175, 0.9994231662105582, 0.9991619652637912, 0.9994632351718871, 0.9999135736372176, 0.9991342656436648, 0.9996141715676753, 0.9999495689357597, 0.9996967148538569, 0.9983005825307867, 0.9984642689648361, 0.9992443320254031, 0.9994092958931715, 0.999269231647162, 0.9996922049874959, 0.9993951954285281, 0.9993624587917964, 0.9989821193124784, 0.9996464556117644, 0.9988087859828699, 0.999176557391182, 0.9997745011160027, 0.9987614321123164, 0.9981677812972296, 0.9983384118091431, 0.9999391217902929, 0.9993357769929925, 0.9997313132293488, 0.9986341233733689, 0.998644874361156, 0.997719958211357, 0.9995152967035659, 0.9989580193023616, 0.9992418551812564, 0.999331109135086, 0.9995936665636166, 0.9989281196520656, 0.9991573512559452, 0.9989769045830151, 0.9995174175893002, 0.9990852865595737, 0.999370555303566, 0.9984467148295998, 0.9998078817016226, 0.9994359945268261, 0.9990933490401338, 0.9991732259567568, 0.999744258675888, 0.998498123744126, 0.9990140164824998, 0.9997776075831446, 0.9983689266172856, 0.9997289102128075, 0.9991521975520757, 0.9996389041778232, 0.9985668867077215, 0.9992119600702565, 0.998121314282909, 0.9999052985246781, 0.9995074446017219, 0.9993782370338424, 0.9994294632036731, 0.9978713394415443, 0.9995269346603636, 0.9973705482742444, 0.99906057364934, 0.9985623416388072, 0.9999542655213848, 0.9993207873221975, 0.9991512740258209, 0.9993278086947388, 0.9996290249368575, 0.9996800495014002, 0.9978016661502038, 0.9987844352692867, 0.999236462442775, 0.9993232053069021, 0.9987171504735953, 0.9991178852355254, 0.9986824981799958, 0.9992697704403096, 0.9984552582237964, 0.9983949773596308, 0.9995722283088805, 0.9985776090648302, 0.9985679088966457, 0.999193306733196, 0.9986537416737763, 0.9992481797370382, 0.9995166891035021, 0.9986901965534595, 0.9997192208905512, 0.9979903428289485, 0.9992857879306389, 0.9987878833320165, 0.9979125358455478, 0.9991593451475874, 0.9997143097072334, 0.9989866344081509, 0.9985091759997647, 0.9993118696181819, 0.998537322476638, 0.9994477814018973, 0.9986441221751248, 0.99897312070066, 0.998023902088598, 0.9995509102238654, 0.9997293543480077, 0.9990252360542096, 0.998556441446277, 0.999136761051846, 0.9990930181791138, 0.9987112374855635, 0.9991332073867345, 0.9989383212113243, 0.9990188394011789, 0.9993596311076719, 0.9989620504857247, 0.9976548290086482, 0.9988883173605488, 0.9983852901476609, 0.9984594224970035, 0.9996050547817106, 0.9988443398064021, 0.9987753984675708, 0.9987892541255352, 0.9987913087178091, 0.9992578531629845, 0.9984887434933486, 0.9985136886945053, 0.9988776669696223, 0.9993925098087569, 0.9988622251345188, 0.9994857472799971, 0.9989002234977163, 0.9984253120875951, 0.9996531005820355, 0.9995129450609094, 0.9985491158379858, 0.9996774008812269, 0.9975645832392692, 0.9995363897597853, 0.9994597354975931, 0.999650757487973, 0.9992399644461729, 0.9988685606649729, 0.9995565692080363, 0.9980123859323273, 0.999575367214082, 0.9984049514702519, 0.9980635832632296, 0.9988721492106674, 0.9995608709381418, 0.9990509345701738, 0.998233266586611, 0.9993410717436313, 0.9979324565701744, 0.9986582062953995, 0.999023453575623, 0.99883697899592, 0.9992809733562555, 0.9988344222851933, 0.99907587769783, 0.9989291703821146, 0.9988414602075156, 0.9991026267565695, 0.9997288905284585, 0.9994273409968137, 0.9986727153273134, 0.9995390261529743, 0.9994902028529339, 0.9979631488241338, 0.9989970965431416, 0.9989552733348807, 0.998453675138778, 0.9993185177567835, 0.9994249459003729, 0.9980720633214653, 0.9985736691094226, 0.9983900111723325, 0.9989956939272147, 0.9993888378964845, 0.9994705271692913, 0.9994837287794466, 0.9993130465859806, 0.9989555112520827, 0.9988847312185585, 0.9988337583086734, 0.9988389188183526, 0.9993107954769678, 0.9983604192857171, 0.999893089305523, 0.9993090248642384, 0.9996147249090533, 0.9991245124284519, 0.9983031442108052, 0.9975984372601859, 0.9995071148287655, 0.9987910841292531, 0.99980667089331, 0.9990725216213796, 0.9991180512342902, 0.998943438400623, 0.9995808727876456, 0.9989256138022211, 0.9989878269616486, 0.9985555107326619, 0.9993064246184223, 0.9990001973653219, 0.9989897904373617, 0.9994464048843307, 0.9973143340187295, 0.9984113983432025, 0.9978877209259128, 0.9990825648078967, 0.9974413571386822, 0.9984514456850131, 0.9988697915127402, 0.9991143748690833, 0.9988885948906076, 0.999427775363791, 0.9985531602325292, 0.9989211853534474, 0.999813305389266, 0.9979861777102941, 0.9995976420707333, 0.9995766527108015, 0.9992155918298671, 0.999424356668114, 0.9987807866343161, 0.9997108826434403, 0.9990228387107154, 0.9996952184961232, 0.9984649179873774, 0.9989130189762689, 0.9990931203236939, 0.9988513148324635, 0.9989260530841154, 0.9982662855034737, 0.9989139081852596, 0.9972494566816444, 0.9996476324632623, 0.9994319067268108, 0.9988159461240642, 0.9985337902727155, 0.9997781515844697, 0.9993717016934478, 0.998948845636419, 0.9993945774116406, 0.9994567708207783, 0.9994228445885599, 0.999151414963717, 0.9989215814606972, 0.9992287053554992, 0.9990243840340846, 0.9996741151736774, 0.9989013997638749, 0.9993999325574326, 0.9989540424096073, 0.9984448461112508, 0.9981406151088298, 0.9984621962418233, 0.9990089600505317, 0.9989944544466121, 0.9996228116955956, 0.9993559702836571, 0.9986445130508876, 0.999636132765697, 0.9996375258205714, 0.9994522625150793, 0.9987298286481864, 0.9998671084905335, 0.9987678797730813, 0.9994816781156873, 0.9996308759951176, 0.9991256635554001, 0.9996393408444595, 0.9987307745342188, 0.9995801558782386, 0.9988611620185525, 0.9997726404681787, 0.9995111166599938, 0.9998409380123476, 0.998905999386478, 0.9998507162332091, 0.9991831894548346, 0.9992114372587726, 0.999817257304202, 0.9994167963548898, 0.9993953194253677, 0.9990961961057135, 0.9998553740534213, 0.9991501425218695, 0.9982809925486228, 0.9993482191956906, 0.9989925243732583, 0.9993756869636967, 0.9992272341441593, 0.9999152531158505, 0.9986771880784093, 0.9997165744532007, 0.9991061598916283, 0.9989082056869718, 0.9992985371948748, 0.9987795593846827, 0.9995229436414264, 0.9983169595189076, 0.9989001111817335, 0.999308322631405, 0.9992072245264036, 0.9993838405248994, 0.9990647193067185, 0.9985246346365033, 0.9980221617537073, 0.9989798938927253, 0.9990441114354834, 0.9998027457731473, 0.9999073598608463, 0.9998037305815807, 0.9991673283522831, 0.998747879182431, 0.9995412058776351, 0.9998064732924131, 0.9984609422722365, 0.9995421065165699, 0.9984509161166608, 0.9986495454127218, 0.9988849851014314, 0.9999238271511941, 0.9992314862003016, 0.9998610253820698, 0.9997346028765923, 0.9996498742785956, 0.9988794335087552, 0.9994944137690956, 0.9988665811106167, 0.9998697313712055, 0.9992147221251899, 0.9992776002202628, 0.9986297817932297, 0.9994660201693752, 0.9992368119838526, 0.9991486017402071, 0.998971774756222, 0.9986336248827268, 0.9986109198914654, 0.9983641312503347, 0.9997945741870933, 0.9987262405399393, 0.9995110836484148, 0.9987518645034836, 0.9995241744633984, 0.9986033075514975, 0.998794833765612, 0.9994578730263135, 0.9982337194324609, 0.9993283268959192, 0.9989496035946691, 0.9977530117011514, 0.9991974445657068, 0.9994870682119389, 0.9995656645852056, 0.9998436948668131, 0.9989949797267061, 0.9999379528865037, 0.9993297603885662, 0.9991106329423243, 0.9994279726274006, 0.9990718070453131, 0.9992526118486605, 0.9984216947140332, 0.9995524883129756, 0.999657455386479, 0.9985602568229552, 0.9992632403047722, 0.9984600422825515, 0.999674074681291, 0.9993247087686458, 0.9994470351683707, 0.9987785615005111, 0.9987371408534345, 0.9989213610811167, 0.9999486284942236, 0.9990600144740142, 0.9994256496319045, 0.999299117602993, 0.9988126539671165, 0.9983426743456446, 0.9986823560129606, 0.9983953102191598, 0.9989614989043022, 0.998085770006196, 0.9993791238388393, 0.9998835489479869, 0.9988591529487089, 0.9984089140121991, 0.998347599426846, 0.9993768700773337, 0.9989003407818119, 0.9989176371872639, 0.9995644419199476, 0.9997049449407002, 0.0002732180773273299, 0.999703848233782, 0.99890778780586, 0.9985819481085783, 0.9988968894239612, 0.9999233824127792, 0.99845617906244, 0.9999499286312119, 0.9996614646467235, 0.9989014745710648, 0.9997029339902421, 0.9998546112643951, 0.9981741127096638, 0.9989255907131095, 0.9991302968907784, 0.9997741860147988, 0.9996298265142163, 0.9998055399251948, 0.9998388806292114, 0.9969877635675276, 0.9993448993006931, 0.9992235344463233, 0.9995205625087238, 0.9990135226729046, 0.9992234701394269, 0.9990166530048553, 0.9979225468372928, 0.9995191793012792, 0.9988219753580578, 0.9987923895133785, 0.9993261203173087, 0.9999183158770669, 0.9989947185812156, 0.9991462315254943, 0.9983249382191253, 0.9997958964919517, 0.9998185924434656, 0.9990119976149773, 0.999319978954225, 0.9990970250820065, 0.9999178159702825, 0.9988373577448141, 0.998143093327988, 0.9993410530731869, 0.9992279308803838, 0.9999109522960218, 0.9990549494301724, 0.998131988514453, 0.9975683799416784, 0.9991764435538436, 0.999913288234537, 0.9993467860763444, 0.9997146565645331, 0.9997853415833117, 0.9987416880032373, 0.9993076278989842, 0.9994826979944257, 0.9998776008631841, 0.9993596269221687, 0.9995403197513669], \"Term\": [\"1\", \"10\", \"100\", \"11\", \"12\", \"14\", \"15\", \"18\", \"2\", \"20\", \"2008\", \"2011\", \"2012\", \"2013\", \"25\", \"3\", \"40\", \"5\", \"50\", \"6\", \"7\", \"8\", \"9\", \"ability\", \"academy\", \"accessory\", \"according\", \"account\", \"achieve\", \"across\", \"act\", \"action\", \"activity\", \"actress\", \"actually\", \"ad\", \"add\", \"addiction\", \"admit\", \"adult\", \"adventure\", \"advice\", \"affair\", \"affect\", \"age\", \"ago\", \"agree\", \"ahead\", \"air\", \"airport\", \"alone\", \"already\", \"although\", \"amazing\", \"american\", \"among\", \"amount\", \"angeles\", \"anger\", \"animal\", \"anna\", \"anniversary\", \"announced\", \"annual\", \"another\", \"answer\", \"anxiety\", \"anyone\", \"anything\", \"apparently\", \"appears\", \"apple\", \"approach\", \"april\", \"area\", \"arent\", \"around\", \"art\", \"article\", \"artist\", \"ask\", \"asked\", \"aspect\", \"attack\", \"attention\", \"author\", \"available\", \"average\", \"avoid\", \"award\", \"aware\", \"baby\", \"back\", \"bad\", \"balance\", \"bank\", \"based\", \"battle\", \"beach\", \"beautiful\", \"beauty\", \"became\", \"become\", \"becoming\", \"bed\", \"began\", \"begin\", \"beginning\", \"behavior\", \"behind\", \"belief\", \"believe\", \"benefit\", \"best\", \"beyond\", \"bigger\", \"biggest\", \"bill\", \"billion\", \"bird\", \"birth\", \"birthday\", \"bit\", \"black\", \"blog\", \"blood\", \"blue\", \"board\", \"body\", \"bold\", \"book\", \"bowl\", \"box\", \"boy\", \"brand\", \"break\", \"breaking\", \"breast\", \"breath\", \"bright\", \"bring\", \"bringing\", \"brings\", \"british\", \"brother\", \"brought\", \"brown\", \"budget\", \"building\", \"business\", \"busy\", \"buy\", \"buying\", \"cake\", \"california\", \"calling\", \"came\", \"campaign\", \"cancer\", \"capture\", \"car\", \"card\", \"care\", \"career\", \"carpet\", \"case\", \"cat\", \"catch\", \"caught\", \"cause\", \"celebrate\", \"celebrating\", \"celebrity\", \"center\", \"century\", \"certain\", \"certainly\", \"challenge\", \"chance\", \"change\", \"check\", \"chef\", \"chicken\", \"child\", \"childrens\", \"china\", \"chinese\", \"chocolate\", \"choice\", \"choose\", \"choosing\", \"chris\", \"christmas\", \"chronic\", \"city\", \"claim\", \"classic\", \"clean\", \"cleaning\", \"clear\", \"click\", \"client\", \"climate\", \"close\", \"clothes\", \"clothing\", \"cocktail\", \"coffee\", \"cold\", \"collection\", \"college\", \"color\", \"column\", \"come\", \"comment\", \"common\", \"community\", \"company\", \"completely\", \"computer\", \"concern\", \"condition\", \"connection\", \"consider\", \"continue\", \"continues\", \"control\", \"conversation\", \"cook\", \"cooking\", \"cool\", \"cost\", \"costume\", \"could\", \"couldnt\", \"country\", \"couple\", \"course\", \"court\", \"courtesy\", \"cover\", \"craft\", \"crazy\", \"create\", \"created\", \"creating\", \"creative\", \"credit\", \"crisis\", \"cruise\", \"culture\", \"customer\", \"cut\", \"cute\", \"cyrus\", \"dad\", \"daily\", \"dangerous\", \"dark\", \"data\", \"date\", \"dating\", \"daughter\", \"david\", \"day\", \"de\", \"dead\", \"deal\", \"death\", \"debate\", \"debt\", \"decade\", \"decided\", \"decision\", \"deep\", \"definitely\", \"delicious\", \"department\", \"depression\", \"designer\", \"despite\", \"dessert\", \"destination\", \"detail\", \"diagnosis\", \"diamond\", \"diet\", \"different\", \"difficult\", \"dinner\", \"director\", \"discus\", \"disease\", \"dish\", \"divorce\", \"doctor\", \"doesnt\", \"dog\", \"done\", \"dont\", \"door\", \"doubt\", \"dr\", \"dream\", \"dress\", \"drink\", \"drinking\", \"drive\", \"drug\", \"due\", \"earlier\", \"early\", \"earth\", \"easier\", \"easy\", \"eat\", \"eating\", \"economy\", \"editor\", \"effect\", \"effort\", \"egg\", \"either\", \"election\", \"elizabeth\", \"else\", \"email\", \"emotional\", \"employee\", \"end\", \"energy\", \"engaged\", \"engagement\", \"enough\", \"entire\", \"especially\", \"essential\", \"europe\", \"even\", \"evening\", \"event\", \"every\", \"everyone\", \"everything\", \"evidence\", \"evolution\", \"ex\", \"exactly\", \"excited\", \"excuse\", \"expect\", \"expected\", \"expensive\", \"experience\", \"expert\", \"extra\", \"extreme\", \"eye\", \"facebook\", \"fact\", \"factor\", \"fair\", \"family\", \"famous\", \"far\", \"fashion\", \"fast\", \"father\", \"fear\", \"feature\", \"february\", \"feel\", \"feeling\", \"felt\", \"female\", \"festival\", \"field\", \"financial\", \"find\", \"finding\", \"fire\", \"first\", \"fit\", \"fitness\", \"five\", \"fix\", \"flavor\", \"florida\", \"focus\", \"focused\", \"follow\", \"food\", \"foot\", \"force\", \"forget\", \"form\", \"former\", \"forward\", \"found\", \"free\", \"freedom\", \"french\", \"fresh\", \"front\", \"full\", \"fun\", \"future\", \"gain\", \"game\", \"garden\", \"gas\", \"gave\", \"gay\", \"generation\", \"get\", \"gift\", \"girl\", \"given\", \"giving\", \"glass\", \"global\", \"go\", \"goal\", \"gold\", \"gone\", \"good\", \"google\", \"got\", \"government\", \"gown\", \"grab\", \"grand\", \"greatest\", \"green\", \"ground\", \"group\", \"guest\", \"guide\", \"gun\", \"habit\", \"hair\", \"half\", \"halloween\", \"hand\", \"happens\", \"happiness\", \"happy\", \"hard\", \"hate\", \"he\", \"head\", \"health\", \"healthier\", \"healthy\", \"hear\", \"heard\", \"heart\", \"heat\", \"help\", \"helped\", \"helping\", \"high\", \"higher\", \"hill\", \"history\", \"hold\", \"holiday\", \"hollywood\", \"home\", \"honor\", \"hope\", \"hospital\", \"hot\", \"hotel\", \"hour\", \"house\", \"houston\", \"huffpost\", \"huge\", \"human\", \"hurricane\", \"hurt\", \"husband\", \"ice\", \"id\", \"idea\", \"image\", \"impact\", \"important\", \"improve\", \"include\", \"including\", \"income\", \"increase\", \"industry\", \"information\", \"ingredient\", \"inner\", \"inside\", \"inspiration\", \"instagram\", \"instead\", \"interest\", \"internet\", \"interview\", \"investment\", \"involved\", \"island\", \"issue\", \"item\", \"january\", \"jennifer\", \"jersey\", \"jessica\", \"job\", \"john\", \"journal\", \"journey\", \"joy\", \"july\", \"june\", \"kardashian\", \"kate\", \"keep\", \"keeping\", \"key\", \"kick\", \"kid\", \"kim\", \"kind\", \"king\", \"kitchen\", \"knew\", \"know\", \"known\", \"la\", \"lack\", \"lady\", \"land\", \"large\", \"late\", \"later\", \"law\", \"le\", \"lead\", \"leader\", \"learn\", \"learned\", \"learning\", \"least\", \"leave\", \"led\", \"left\", \"leg\", \"lesson\", \"let\", \"letter\", \"letting\", \"level\", \"lie\", \"life\", \"light\", \"like\", \"likely\", \"line\", \"link\", \"linked\", \"list\", \"little\", \"living\", \"local\", \"london\", \"long\", \"longer\", \"look\", \"looked\", \"looking\", \"los\", \"lose\", \"losing\", \"loss\", \"lost\", \"lot\", \"love\", \"loving\", \"low\", \"lower\", \"lucky\", \"lunch\", \"magazine\", \"magic\", \"major\", \"make\", \"makeup\", \"making\", \"man\", \"many\", \"marc\", \"march\", \"mark\", \"market\", \"marriage\", \"married\", \"martin\", \"master\", \"matter\", \"may\", \"maybe\", \"meal\", \"mean\", \"measure\", \"meat\", \"medical\", \"medium\", \"meet\", \"member\", \"memory\", \"men\", \"mental\", \"met\", \"michael\", \"michelle\", \"middle\", \"middleton\", \"mile\", \"miley\", \"million\", \"minute\", \"miss\", \"missed\", \"mistake\", \"mitt\", \"model\", \"modern\", \"mom\", \"monday\", \"money\", \"morning\", \"moss\", \"mother\", \"move\", \"movement\", \"much\", \"museum\", \"music\", \"must\", \"myth\", \"nail\", \"name\", \"nation\", \"national\", \"natural\", \"near\", \"nearly\", \"need\", \"needed\", \"network\", \"new\", \"news\", \"nice\", \"nine\", \"note\", \"nothing\", \"number\", \"obama\", \"offer\", \"office\", \"official\", \"often\", \"oh\", \"oil\", \"old\", \"older\", \"olympic\", \"olympics\", \"one\", \"online\", \"open\", \"opened\", \"opening\", \"opinion\", \"opportunity\", \"option\", \"order\", \"oscar\", \"others\", \"outfit\", \"outside\", \"page\", \"pain\", \"pair\", \"pant\", \"paper\", \"parent\", \"parenting\", \"paris\", \"park\", \"part\", \"particular\", \"partner\", \"party\", \"passenger\", \"past\", \"path\", \"patient\", \"paul\", \"pay\", \"peace\", \"people\", \"perfect\", \"performance\", \"perhaps\", \"period\", \"personal\", \"personality\", \"pet\", \"phone\", \"photo\", \"pick\", \"picture\", \"piece\", \"place\", \"plan\", \"plane\", \"planet\", \"planning\", \"play\", \"player\", \"playing\", \"please\", \"police\", \"policy\", \"political\", \"poll\", \"pool\", \"pop\", \"popular\", \"positive\", \"possible\", \"post\", \"potential\", \"power\", \"powerful\", \"practice\", \"pregnant\", \"prepare\", \"present\", \"president\", \"press\", \"pressure\", \"pretty\", \"prevent\", \"price\", \"prince\", \"print\", \"private\", \"probably\", \"problem\", \"process\", \"produce\", \"product\", \"professional\", \"program\", \"project\", \"proposal\", \"provide\", \"public\", \"published\", \"pull\", \"push\", \"quality\", \"queen\", \"question\", \"quick\", \"quickly\", \"quite\", \"race\", \"raise\", \"raising\", \"rare\", \"rate\", \"rather\", \"reach\", \"read\", \"reader\", \"reading\", \"real\", \"reality\", \"realize\", \"reason\", \"received\", \"recent\", \"recently\", \"recipe\", \"record\", \"recovery\", \"red\", \"related\", \"relationship\", \"release\", \"released\", \"remember\", \"report\", \"reported\", \"republican\", \"research\", \"resolution\", \"resort\", \"response\", \"responsibility\", \"rest\", \"restaurant\", \"result\", \"return\", \"reveals\", \"review\", \"right\", \"ring\", \"rise\", \"risk\", \"road\", \"robert\", \"rock\", \"role\", \"romantic\", \"romney\", \"room\", \"root\", \"round\", \"routine\", \"royal\", \"rule\", \"run\", \"running\", \"runway\", \"safe\", \"safety\", \"sale\", \"san\", \"save\", \"saw\", \"say\", \"scene\", \"school\", \"science\", \"scientist\", \"seat\", \"secret\", \"security\", \"see\", \"seeing\", \"seek\", \"seem\", \"seems\", \"self\", \"sense\", \"serious\", \"service\", \"seven\", \"several\", \"sex\", \"sexual\", \"shape\", \"sheer\", \"shes\", \"ship\", \"shoot\", \"shooting\", \"shop\", \"shopping\", \"short\", \"shot\", \"shouldnt\", \"show\", \"showed\", \"side\", \"sign\", \"similar\", \"simple\", \"simply\", \"since\", \"singer\", \"single\", \"sister\", \"site\", \"sitting\", \"situation\", \"six\", \"skill\", \"skin\", \"sky\", \"sleep\", \"small\", \"smith\", \"snack\", \"social\", \"society\", \"solution\", \"someone\", \"sometimes\", \"son\", \"song\", \"soon\", \"source\", \"south\", \"space\", \"special\", \"spend\", \"spent\", \"spirit\", \"spiritual\", \"split\", \"sport\", \"spot\", \"spring\", \"st\", \"stage\", \"stand\", \"start\", \"started\", \"starting\", \"state\", \"statement\", \"stay\", \"step\", \"store\", \"story\", \"strategy\", \"street\", \"strength\", \"stress\", \"student\", \"study\", \"stunning\", \"style\", \"success\", \"suggests\", \"summer\", \"sunday\", \"super\", \"support\", \"sure\", \"surprise\", \"surprising\", \"sweet\", \"symptom\", \"system\", \"table\", \"take\", \"taken\", \"taking\", \"talking\", \"target\", \"task\", \"taste\", \"tax\", \"tea\", \"teach\", \"team\", \"teen\", \"term\", \"test\", \"thank\", \"thanks\", \"thanksgiving\", \"therapy\", \"there\", \"thing\", \"think\", \"thinking\", \"third\", \"though\", \"thought\", \"thousand\", \"three\", \"throughout\", \"throw\", \"thursday\", \"time\", \"tiny\", \"tip\", \"today\", \"together\", \"tom\", \"took\", \"tool\", \"top\", \"totally\", \"touch\", \"tough\", \"tour\", \"toward\", \"town\", \"track\", \"traditional\", \"train\", \"training\", \"travel\", \"treat\", \"treatment\", \"tree\", \"trend\", \"trick\", \"tried\", \"trip\", \"trouble\", \"true\", \"truly\", \"trust\", \"truth\", \"trying\", \"turn\", \"twitter\", \"type\", \"u\", \"understand\", \"unique\", \"united\", \"university\", \"update\", \"upon\", \"use\", \"used\", \"user\", \"using\", \"usually\", \"v\", \"vacation\", \"valentine\", \"value\", \"via\", \"victim\", \"video\", \"view\", \"visit\", \"vogue\", \"voice\", \"vote\", \"wait\", \"waiting\", \"walk\", \"walking\", \"wall\", \"want\", \"war\", \"wardrobe\", \"warm\", \"washington\", \"wasnt\", \"watching\", \"water\", \"way\", \"way\", \"wear\", \"wearing\", \"weather\", \"website\", \"wedding\", \"wednesday\", \"week\", \"weekend\", \"weekly\", \"weight\", \"well\", \"wellbeing\", \"went\", \"west\", \"weve\", \"whats\", \"whether\", \"white\", \"whitney\", \"whole\", \"whose\", \"wife\", \"wild\", \"win\", \"wine\", \"winner\", \"winter\", \"wisdom\", \"wish\", \"within\", \"woman\", \"wonder\", \"wont\", \"wood\", \"word\", \"work\", \"worker\", \"working\", \"workout\", \"world\", \"worry\", \"worse\", \"worst\", \"worth\", \"would\", \"wouldnt\", \"write\", \"written\", \"wrong\", \"year\", \"yes\", \"yet\", \"york\", \"youd\", \"youll\", \"young\", \"youre\", \"youtube\", \"youve\"]}, \"R\": 30, \"lambda.step\": 0.01, \"plot.opts\": {\"xlab\": \"PC1\", \"ylab\": \"PC2\"}, \"topic.order\": [12, 22, 21, 15, 10, 19, 3, 31, 27, 20, 23, 8, 14, 9, 25, 5, 35, 29, 4, 11, 17, 37, 33, 7, 28, 2, 36, 26, 18, 6, 30, 13, 16, 32, 34, 24, 1]};\n",
       "\n",
       "function LDAvis_load_lib(url, callback){\n",
       "  var s = document.createElement('script');\n",
       "  s.src = url;\n",
       "  s.async = true;\n",
       "  s.onreadystatechange = s.onload = callback;\n",
       "  s.onerror = function(){console.warn(\"failed to load library \" + url);};\n",
       "  document.getElementsByTagName(\"head\")[0].appendChild(s);\n",
       "}\n",
       "\n",
       "if(typeof(LDAvis) !== \"undefined\"){\n",
       "   // already loaded: just create the visualization\n",
       "   !function(LDAvis){\n",
       "       new LDAvis(\"#\" + \"ldavis_el940014319904336372585482\", ldavis_el940014319904336372585482_data);\n",
       "   }(LDAvis);\n",
       "}else if(typeof define === \"function\" && define.amd){\n",
       "   // require.js is available: use it to load d3/LDAvis\n",
       "   require.config({paths: {d3: \"https://d3js.org/d3.v5\"}});\n",
       "   require([\"d3\"], function(d3){\n",
       "      window.d3 = d3;\n",
       "      LDAvis_load_lib(\"https://cdn.jsdelivr.net/gh/bmabey/pyLDAvis@3.4.0/pyLDAvis/js/ldavis.v3.0.0.js\", function(){\n",
       "        new LDAvis(\"#\" + \"ldavis_el940014319904336372585482\", ldavis_el940014319904336372585482_data);\n",
       "      });\n",
       "    });\n",
       "}else{\n",
       "    // require.js not available: dynamically load d3 & LDAvis\n",
       "    LDAvis_load_lib(\"https://d3js.org/d3.v5.js\", function(){\n",
       "         LDAvis_load_lib(\"https://cdn.jsdelivr.net/gh/bmabey/pyLDAvis@3.4.0/pyLDAvis/js/ldavis.v3.0.0.js\", function(){\n",
       "                 new LDAvis(\"#\" + \"ldavis_el940014319904336372585482\", ldavis_el940014319904336372585482_data);\n",
       "            })\n",
       "         });\n",
       "}\n",
       "</script>"
      ],
      "text/plain": [
       "PreparedData(topic_coordinates=              x         y  topics  cluster       Freq\n",
       "topic                                                \n",
       "11    -0.391439  0.271625       1        1  19.044307\n",
       "21    -0.185862 -0.368927       2        1   5.817402\n",
       "20    -0.126254 -0.122822       3        1   4.294552\n",
       "14    -0.053493 -0.031190       4        1   3.079454\n",
       "9     -0.039575 -0.021187       5        1   3.011409\n",
       "18    -0.074813 -0.049659       6        1   2.637729\n",
       "2     -0.029502 -0.014856       7        1   2.525503\n",
       "30     0.050215  0.018256       8        1   2.486119\n",
       "26     0.018798  0.008132       9        1   2.460454\n",
       "19    -0.001356 -0.000194      10        1   2.338877\n",
       "22    -0.015651 -0.007259      11        1   2.326124\n",
       "7      0.000281  0.000534      12        1   2.246707\n",
       "13     0.042072  0.015993      13        1   2.213425\n",
       "8     -0.004293 -0.001610      14        1   2.199525\n",
       "24     0.009781  0.004618      15        1   2.181190\n",
       "4      0.003089  0.001708      16        1   2.148110\n",
       "34     0.013581  0.006009      17        1   2.137559\n",
       "28     0.014273  0.006339      18        1   2.086219\n",
       "3     -0.001144 -0.000139      19        1   2.043732\n",
       "10     0.011837  0.005327      20        1   2.015435\n",
       "16     0.034713  0.013634      21        1   1.981062\n",
       "36     0.070505  0.023471      22        1   1.976422\n",
       "32     0.024729  0.010227      23        1   1.970240\n",
       "6      0.032853  0.013055      24        1   1.936066\n",
       "27     0.035736  0.013915      25        1   1.935793\n",
       "1      0.025500  0.010548      26        1   1.927282\n",
       "35     0.034949  0.013671      27        1   1.906565\n",
       "25     0.062600  0.021573      28        1   1.843949\n",
       "17     0.041308  0.015655      29        1   1.831207\n",
       "5      0.030817  0.012281      30        1   1.800527\n",
       "29     0.047605  0.017540      31        1   1.761613\n",
       "12     0.044499  0.016683      32        1   1.752952\n",
       "15     0.061085  0.021229      33        1   1.725747\n",
       "31     0.045612  0.016908      34        1   1.680242\n",
       "33     0.041436  0.015726      35        1   1.635210\n",
       "23     0.060912  0.021098      36        1   1.579821\n",
       "0      0.064595  0.022091      37        1   1.461470, topic_info=         Term          Freq         Total Category  logprob  loglift\n",
       "1564    photo  31543.000000  31543.000000  Default  30.0000  30.0000\n",
       "145       day  22766.000000  22766.000000  Default  29.0000  29.0000\n",
       "3310  wedding  10369.000000  10369.000000  Default  28.0000  28.0000\n",
       "921      love  12076.000000  12076.000000  Default  27.0000  27.0000\n",
       "104     world  10741.000000  10741.000000  Default  26.0000  26.0000\n",
       "...       ...           ...           ...      ...      ...      ...\n",
       "582     grand    489.041264    490.117854  Topic37  -4.6471   4.2235\n",
       "4103  whitney    484.385737    485.462327  Topic37  -4.6567   4.2235\n",
       "7507   period    483.955880    485.032469  Topic37  -4.6576   4.2235\n",
       "174    aspect    446.094715    447.171305  Topic37  -4.7391   4.2233\n",
       "2475  chronic    422.783977    423.860567  Topic37  -4.7927   4.2232\n",
       "\n",
       "[1141 rows x 6 columns], token_table=      Topic      Freq     Term\n",
       "term                          \n",
       "571      26  0.999316        1\n",
       "212       2  0.999808       10\n",
       "817      27  0.999221      100\n",
       "590      12  0.999102       11\n",
       "5244     11  0.998838       12\n",
       "...     ...       ...      ...\n",
       "2062     10  0.999308    youll\n",
       "1575      3  0.999483    young\n",
       "966       3  0.999878    youre\n",
       "688      29  0.999360  youtube\n",
       "7473      4  0.999540    youve\n",
       "\n",
       "[1112 rows x 3 columns], R=30, lambda_step=0.01, plot_opts={'xlab': 'PC1', 'ylab': 'PC2'}, topic_order=[12, 22, 21, 15, 10, 19, 3, 31, 27, 20, 23, 8, 14, 9, 25, 5, 35, 29, 4, 11, 17, 37, 33, 7, 28, 2, 36, 26, 18, 6, 30, 13, 16, 32, 34, 24, 1])"
      ]
     },
     "execution_count": 171,
     "metadata": {},
     "output_type": "execute_result"
    }
   ],
   "source": [
    "visualisation"
   ]
  },
  {
   "cell_type": "markdown",
   "id": "CgrgUiuKwjFf",
   "metadata": {
    "id": "CgrgUiuKwjFf"
   },
   "source": [
    "saving the pyldavis visual for later comparison in Benchmarks&Visualization (link)!"
   ]
  },
  {
   "cell_type": "code",
   "execution_count": 172,
   "id": "97a27fc9-3a24-4b6a-8f85-8e92daa76afd",
   "metadata": {
    "tags": []
   },
   "outputs": [],
   "source": [
    "import pickle"
   ]
  },
  {
   "cell_type": "code",
   "execution_count": 173,
   "id": "1bf7da07-7175-47d7-b6b9-8574d1ec4996",
   "metadata": {
    "id": "1bf7da07-7175-47d7-b6b9-8574d1ec4996",
    "tags": []
   },
   "outputs": [],
   "source": [
    "with open('visuals/vanilla_lda.pkl', 'wb') as f:\n",
    "    pickle.dump(visualisation, f)"
   ]
  },
  {
   "cell_type": "markdown",
   "id": "3bf8ee8e-cf8d-4003-bda1-536718792061",
   "metadata": {},
   "source": [
    "### Step 6: Topics matchen und Prediction gegen Docs laufen lassen"
   ]
  },
  {
   "cell_type": "code",
   "execution_count": 174,
   "id": "bd43f701-e235-4290-b6c4-8b6932fab9ef",
   "metadata": {
    "tags": []
   },
   "outputs": [
    {
     "name": "stderr",
     "output_type": "stream",
     "text": [
      "/var/folders/3t/mgckmfnn5p745wd8_80ywb0c0000gn/T/ipykernel_9400/1755556973.py:18: SettingWithCopyWarning: \n",
      "A value is trying to be set on a copy of a slice from a DataFrame.\n",
      "Try using .loc[row_indexer,col_indexer] = value instead\n",
      "\n",
      "See the caveats in the documentation: https://pandas.pydata.org/pandas-docs/stable/user_guide/indexing.html#returning-a-view-versus-a-copy\n",
      "  processed_df[\"dominant_topic\"] = dominant_topics\n"
     ]
    }
   ],
   "source": [
    "def get_dominant_topics():\n",
    "    \"\"\"\n",
    "        Gets the dominant topic for every row in the dataset\n",
    "    \"\"\"\n",
    "    dominant_topics = []\n",
    "    for doc in processed_texts:\n",
    "        bow = id2word.doc2bow(doc)\n",
    "        \n",
    "        # Gets all the topics slightly dominant in the document\n",
    "        topics = lda_model.get_document_topics(bow, minimum_probability=1/unique_categories)\n",
    "        \n",
    "        # Sorts the topics based off lowest probability and selects the last element\n",
    "        dominant_topic, _ = sorted(topics, key=lambda x: x[1])[-1]\n",
    "        dominant_topics.append(dominant_topic)\n",
    "    return dominant_topics\n",
    "\n",
    "dominant_topics = get_dominant_topics()\n",
    "processed_df[\"dominant_topic\"] = dominant_topics"
   ]
  },
  {
   "cell_type": "code",
   "execution_count": 175,
   "id": "d0fe89a6-c901-41cb-8a07-7d6b579078ec",
   "metadata": {
    "tags": []
   },
   "outputs": [],
   "source": [
    "def map_categories_to_topics(df):\n",
    "    category_topic_mapping = {}\n",
    "    for category in df[\"category\"].unique():\n",
    "        # Get all documents assigned to this category\n",
    "        category_docs = df[df[\"category\"] == category]\n",
    "        \n",
    "        # Get the most often predicted topic\n",
    "        most_often_predicted = category_docs[\"dominant_topic\"].mode()[0]\n",
    "        category_topic_mapping[category] = most_often_predicted\n",
    "    return category_topic_mapping\n",
    "\n",
    "category_topic_mapping = map_categories_to_topics(processed_df)"
   ]
  },
  {
   "cell_type": "code",
   "execution_count": 176,
   "id": "ab5d1185-f5a1-4b0d-8c53-519d718e3bb3",
   "metadata": {
    "tags": []
   },
   "outputs": [
    {
     "name": "stdout",
     "output_type": "stream",
     "text": [
      "{'ARTS': 11,\n",
      " 'ARTS & CULTURE': 11,\n",
      " 'BLACK VOICES': 11,\n",
      " 'BUSINESS': 11,\n",
      " 'COLLEGE': 11,\n",
      " 'COMEDY': 11,\n",
      " 'CRIME': 11,\n",
      " 'CULTURE & ARTS': 11,\n",
      " 'DIVORCE': 11,\n",
      " 'EDUCATION': 11,\n",
      " 'ENTERTAINMENT': 11,\n",
      " 'ENVIRONMENT': 11,\n",
      " 'FIFTY': 11,\n",
      " 'FOOD & DRINK': 11,\n",
      " 'GOOD NEWS': 11,\n",
      " 'GREEN': 11,\n",
      " 'HEALTHY LIVING': 11,\n",
      " 'HOME & LIVING': 11,\n",
      " 'IMPACT': 11,\n",
      " 'LATINO VOICES': 11,\n",
      " 'MEDIA': 11,\n",
      " 'MONEY': 11,\n",
      " 'PARENTING': 11,\n",
      " 'PARENTS': 11,\n",
      " 'POLITICS': 11,\n",
      " 'QUEER VOICES': 11,\n",
      " 'RELIGION': 11,\n",
      " 'SCIENCE': 11,\n",
      " 'SPORTS': 11,\n",
      " 'STYLE': 11,\n",
      " 'STYLE & BEAUTY': 11,\n",
      " 'TASTE': 11,\n",
      " 'TECH': 11,\n",
      " 'TRAVEL': 11,\n",
      " 'WEDDINGS': 11,\n",
      " 'WELLNESS': 11,\n",
      " 'WOMEN': 11}\n"
     ]
    }
   ],
   "source": [
    "pprint(category_topic_mapping)"
   ]
  },
  {
   "cell_type": "markdown",
   "id": "c82a29fd-a573-48a3-8233-8d758dd666d8",
   "metadata": {},
   "source": [
    "Vielleicht war das hier der *falsche* Ansatz..."
   ]
  },
  {
   "cell_type": "code",
   "execution_count": 177,
   "id": "d1c578a7",
   "metadata": {
    "tags": []
   },
   "outputs": [],
   "source": [
    "def map_topics_to_categories(processed_df):\n",
    "    \"\"\"\n",
    "    Maps topics to the most common categories in the processed DataFrame.\n",
    "    It does this by inspecting the predicted topics for all documents belonging to one category\n",
    "    and picking the most often predicted topic as the category.\n",
    "\n",
    "    Returns:\n",
    "    dict: A dictionary mapping each topic to the most common category among the documents assigned to that topic.\n",
    "    \"\"\"\n",
    "    topic_category_mapping = {}\n",
    "    for topic in processed_df['dominant_topic'].unique():\n",
    "        # Get documents assigned to the topic\n",
    "        topic_docs = processed_df[processed_df['dominant_topic'] == topic]\n",
    "        # Find the most common category among these documents\n",
    "        if not topic_docs.empty:\n",
    "            for category in topic_docs['category']:\n",
    "                if category not in topic_category_mapping.values():\n",
    "                    topic_category_mapping[topic] = category\n",
    "    return topic_category_mapping\n",
    "\n",
    "# Create the mapping\n",
    "topic_category_mapping = map_topics_to_categories(processed_df)"
   ]
  },
  {
   "cell_type": "code",
   "execution_count": 178,
   "id": "38dbe4db-af5b-496d-a838-d615a765e91c",
   "metadata": {
    "tags": []
   },
   "outputs": [
    {
     "name": "stdout",
     "output_type": "stream",
     "text": [
      "{1: 'BUSINESS',\n",
      " 2: 'IMPACT',\n",
      " 3: 'POLITICS',\n",
      " 6: 'COMEDY',\n",
      " 7: 'ENTERTAINMENT',\n",
      " 10: 'DIVORCE',\n",
      " 11: 'SPORTS',\n",
      " 12: 'ENVIRONMENT',\n",
      " 13: 'BLACK VOICES',\n",
      " 14: 'PARENTING',\n",
      " 16: 'MEDIA',\n",
      " 18: 'STYLE & BEAUTY',\n",
      " 19: 'TRAVEL',\n",
      " 20: 'MONEY',\n",
      " 21: 'WELLNESS',\n",
      " 22: 'FOOD & DRINK',\n",
      " 26: 'CRIME',\n",
      " 27: 'GREEN',\n",
      " 28: 'HOME & LIVING',\n",
      " 29: 'WEDDINGS',\n",
      " 30: 'RELIGION',\n",
      " 36: 'QUEER VOICES'}\n"
     ]
    }
   ],
   "source": [
    "pprint(topic_category_mapping)"
   ]
  },
  {
   "cell_type": "code",
   "execution_count": 179,
   "id": "b2a2c012",
   "metadata": {
    "tags": []
   },
   "outputs": [
    {
     "name": "stderr",
     "output_type": "stream",
     "text": [
      "/var/folders/3t/mgckmfnn5p745wd8_80ywb0c0000gn/T/ipykernel_9400/600335101.py:12: SettingWithCopyWarning: \n",
      "A value is trying to be set on a copy of a slice from a DataFrame.\n",
      "Try using .loc[row_indexer,col_indexer] = value instead\n",
      "\n",
      "See the caveats in the documentation: https://pandas.pydata.org/pandas-docs/stable/user_guide/indexing.html#returning-a-view-versus-a-copy\n",
      "  processed_df['predicted_category'] = processed_df['dominant_topic'].map(topic_category_mapping)\n"
     ]
    }
   ],
   "source": [
    "def assign_predicted_category(processed_df, topic_category_mapping):\n",
    "    \"\"\"\n",
    "    Assigns predicted categories to the processed DataFrame based on the dominant topic.\n",
    "\n",
    "    Parameters:\n",
    "    processed_df (pandas.DataFrame): The DataFrame containing processed text and dominant topics.\n",
    "    topic_category_mapping (dict): A dictionary mapping each topic to the most common category among the documents assigned to that topic.\n",
    "\n",
    "    Returns:\n",
    "    pandas.DataFrame: The updated DataFrame with a new column 'predicted_category' containing the assigned categories.\n",
    "    \"\"\"\n",
    "    processed_df['predicted_category'] = processed_df['dominant_topic'].map(topic_category_mapping)\n",
    "    return processed_df\n",
    "\n",
    "# Assign predicted categories\n",
    "processed_df = assign_predicted_category(processed_df, topic_category_mapping)\n"
   ]
  },
  {
   "cell_type": "code",
   "execution_count": 180,
   "id": "762a1de2",
   "metadata": {
    "tags": []
   },
   "outputs": [
    {
     "name": "stderr",
     "output_type": "stream",
     "text": [
      "/var/folders/3t/mgckmfnn5p745wd8_80ywb0c0000gn/T/ipykernel_9400/71953698.py:5: SettingWithCopyWarning: \n",
      "A value is trying to be set on a copy of a slice from a DataFrame.\n",
      "Try using .loc[row_indexer,col_indexer] = value instead\n",
      "\n",
      "See the caveats in the documentation: https://pandas.pydata.org/pandas-docs/stable/user_guide/indexing.html#returning-a-view-versus-a-copy\n",
      "  processed_df['match'] = processed_df['category'] == processed_df['predicted_category']\n"
     ]
    },
    {
     "name": "stdout",
     "output_type": "stream",
     "text": [
      "          category  match_count  total_count  match_percentage\n",
      "28          SPORTS         5059         5077         99.645460\n",
      "2     BLACK VOICES           14         4583          0.305477\n",
      "11     ENVIRONMENT            2         1444          0.138504\n",
      "26        RELIGION            2         2577          0.077610\n",
      "15           GREEN            2         2622          0.076278\n",
      "21           MONEY            1         1756          0.056948\n",
      "6            CRIME            2         3562          0.056148\n",
      "34        WEDDINGS            2         3653          0.054750\n",
      "35        WELLNESS            8        17945          0.044581\n",
      "22       PARENTING            3         8791          0.034126\n",
      "20           MEDIA            1         2943          0.033979\n",
      "30  STYLE & BEAUTY            3         9814          0.030569\n",
      "8          DIVORCE            1         3426          0.029189\n",
      "18          IMPACT            1         3484          0.028703\n",
      "17   HOME & LIVING            1         4320          0.023148\n",
      "5           COMEDY            1         5398          0.018525\n",
      "3         BUSINESS            1         5991          0.016692\n",
      "13    FOOD & DRINK            1         6340          0.015773\n",
      "25    QUEER VOICES            1         6346          0.015758\n",
      "10   ENTERTAINMENT            2        17361          0.011520\n",
      "33          TRAVEL            1         9900          0.010101\n",
      "24        POLITICS            2        35601          0.005618\n",
      "          category  match_count  total_count  match_percentage\n",
      "0             ARTS            0         1509               0.0\n",
      "1   ARTS & CULTURE            0         1339               0.0\n",
      "4          COLLEGE            0         1144               0.0\n",
      "7   CULTURE & ARTS            0         1074               0.0\n",
      "9        EDUCATION            0         1014               0.0\n",
      "12           FIFTY            0         1400               0.0\n",
      "14       GOOD NEWS            0         1398               0.0\n",
      "16  HEALTHY LIVING            0         6692               0.0\n",
      "19   LATINO VOICES            0         1130               0.0\n",
      "23         PARENTS            0         3955               0.0\n",
      "27         SCIENCE            0         2206               0.0\n",
      "29           STYLE            0         2254               0.0\n",
      "31           TASTE            0         2096               0.0\n",
      "32            TECH            0         2104               0.0\n",
      "36           WOMEN            0         3572               0.0\n"
     ]
    }
   ],
   "source": [
    "import pandas as pd\n",
    "\n",
    "# Ensure the DataFrame `processed_df` has 'category' and 'predicted_category' columns\n",
    "# Create a new column to indicate matches\n",
    "processed_df['match'] = processed_df['category'] == processed_df['predicted_category']\n",
    "\n",
    "# Group by category and count matches\n",
    "match_counts = processed_df.groupby('category')['match'].sum().reset_index()\n",
    "match_counts.columns = ['category', 'match_count']\n",
    "\n",
    "# Count total entries per category\n",
    "category_counts = processed_df['category'].value_counts(normalize=False).reset_index()\n",
    "category_counts.columns = ['category', 'total_count']\n",
    "\n",
    "# Merge match counts with total counts\n",
    "comparison = pd.merge(match_counts, category_counts, on='category')\n",
    "\n",
    "# Calculate match percentage\n",
    "comparison['match_percentage'] = (comparison['match_count'] / comparison['total_count']) * 100\n",
    "\n",
    "# Split into matched and no-match categories\n",
    "matched_categories = comparison[comparison['match_count'] > 0]\n",
    "no_match_categories = comparison[comparison['match_count'] == 0]\n",
    "\n",
    "# Sort matched categories by match percentage (descending)\n",
    "matched_categories_sorted = matched_categories.sort_values(by='match_percentage', ascending=False)\n",
    "\n",
    "# Save the results as CSV\n",
    "matched_categories_sorted.to_csv('data/vanilla-matched_categories.csv', index=False)\n",
    "no_match_categories.to_csv('data/vanilla-no_match_categories.csv', index=False)\n",
    "\n",
    "# Return or print the data\n",
    "print(matched_categories_sorted)\n",
    "print(no_match_categories)"
   ]
  },
  {
   "cell_type": "code",
   "execution_count": 181,
   "id": "bae7921a",
   "metadata": {
    "tags": []
   },
   "outputs": [
    {
     "name": "stdout",
     "output_type": "stream",
     "text": [
      "                                             headline  \\\n",
      "2   23 Of The Funniest Tweets About Cats And Dogs ...   \n",
      "3   The Funniest Tweets From Parents This Week (Se...   \n",
      "8   How A New Documentary Captures The Complexity ...   \n",
      "13  Twitch Bans Gambling Sites After Streamer Scam...   \n",
      "16  'Reboot' Is A Clever And Not Too Navel-Gazey L...   \n",
      "17  Maury Wills, Base-Stealing Shortstop For Dodge...   \n",
      "20  Golden Globes Returning To NBC In January Afte...   \n",
      "21  Biden Says U.S. Forces Would Defend Taiwan If ...   \n",
      "24  ‘Beautiful And Sad At The Same Time’: Ukrainia...   \n",
      "26  Las Vegas Aces Win First WNBA Title, Chelsea G...   \n",
      "\n",
      "                                    short_description        category  \\\n",
      "2   \"Until you have a dog you don't understand wha...          COMEDY   \n",
      "3   \"Accidentally put grown-up toothpaste on my to...       PARENTING   \n",
      "8   In \"Mija,\" director Isabel Castro combined mus...  CULTURE & ARTS   \n",
      "13  One man's claims that he scammed people on the...            TECH   \n",
      "16  Starring Keegan-Michael Key, Judy Greer and Jo...  CULTURE & ARTS   \n",
      "17  Maury Wills, who helped the Los Angeles Dodger...          SPORTS   \n",
      "20  For the past 18 months, Hollywood has effectiv...   ENTERTAINMENT   \n",
      "21  President issues vow as tensions with China rise.        POLITICS   \n",
      "24  An annual celebration took on a different feel...        POLITICS   \n",
      "26  Las Vegas never had a professional sports cham...          SPORTS   \n",
      "\n",
      "   predicted_category  \n",
      "2              SPORTS  \n",
      "3              SPORTS  \n",
      "8              SPORTS  \n",
      "13             SPORTS  \n",
      "16             SPORTS  \n",
      "17           BUSINESS  \n",
      "20             SPORTS  \n",
      "21             SPORTS  \n",
      "24             SPORTS  \n",
      "26             SPORTS  \n"
     ]
    }
   ],
   "source": [
    "# Prepare a DataFrame with the required columns\n",
    "results_df = processed_df[['headline', 'short_description', 'category', 'predicted_category']]\n",
    "\n",
    "# Save this DataFrame as CSV\n",
    "results_df.to_csv('data/vanilla-predicted_categories.csv', index=False)\n",
    "\n",
    "# Return or print the results\n",
    "print(results_df.head(10))  # Show the first 10 rows for visual confirmation"
   ]
  },
  {
   "cell_type": "markdown",
   "id": "5b442e6a",
   "metadata": {},
   "source": [
    "# <a href=\"https://github.com/NiklasElsaesser/bug-free-fishstick/blob/main/Improved_LDA.ipynb\">Improved_LDA</a>\n",
    "\n",
    "# <a href=\"https://github.com/NiklasElsaesser/bug-free-fishstick/blob/main/Benchmarks%26Visualizations.ipynb\">Benchmarks & Visualizations</a>"
   ]
  },
  {
   "cell_type": "markdown",
   "id": "3b1e889c",
   "metadata": {},
   "source": [
    "# Literaturhinweise\n",
    "* Rosario, B. (2000). Latent semantic indexing: An overview. Techn. rep. INFOSYS, 240, 1-16.\n",
    "* Chen, P., Zhang, N. L., Liu, T., Poon, L. K., Chen, Z., & Khawar, F. (2017). Latent tree models for hierarchical topic detection. Artificial Intelligence, 250, 105-124.\n",
    "* Liu, T., Zhang, N. L., & Chen, P. (2014). Hierarchical latent tree analysis for topic detection. In Machine Learning and Knowledge Discovery in Databases: European Conference, ECML PKDD 2014, Nancy, France, September 15-19, 2014. Proceedings, Part II 14 (pp. 256-272). Springer Berlin Heidelberg.\n",
    "* Rieger, J., Rahnenführer, J., & Jentsch, C. (2020, June). Improving latent Dirichlet allocation: On reliability of the novel method LDAPrototype. In International conference on applications of natural language to information systems (pp. 118-125). Cham: Springer International Publishing.\n",
    "* Blei, D. M., Ng, A. Y., & Jordan, M. I. (2003). Latent dirichlet allocation. Journal of machine Learning research, 3(Jan), 993-1022.\n",
    "* Schütze, H., Manning, C. D., & Raghavan, P. (2008). Introduction to information retrieval (Vol. 39, pp. 234-265). Cambridge: Cambridge University Press.\n",
    "* Rieger, J., Koppers, L., Jentsch, C., Rahnenfu ̈hrer, J.: Improving Reliability of Latent Dirichlet Allocation by Assessing Its Stability Using Clustering Techniques on Replicated Runs (2020)\n",
    "* Heyer, Gerhard, Wiedemann, Gregor, Niekler, Andreas (2020): Topic-Modelle und ihr Potenzial für die philologische Forschung, In Lobin, Henning, Schneider, Roman, Witt, Andreas (Hrsg.): Digitale Infrastrukturen für die germanistische Forschung (S.351-353), de Gruyter, 23.07.2018.\n",
    "* Misra, Rishabh and Jigyasa Grover. \"Sculpting Data for ML: The first act of Machine Learning.\" ISBN 9798585463570 (2021)."
   ]
  }
 ],
 "metadata": {
  "colab": {
   "provenance": []
  },
  "kernelspec": {
   "display_name": "Python 3 (ipykernel)",
   "language": "python",
   "name": "python3"
  },
  "language_info": {
   "codemirror_mode": {
    "name": "ipython",
    "version": 3
   },
   "file_extension": ".py",
   "mimetype": "text/x-python",
   "name": "python",
   "nbconvert_exporter": "python",
   "pygments_lexer": "ipython3",
   "version": "3.11.5"
  }
 },
 "nbformat": 4,
 "nbformat_minor": 5
}
