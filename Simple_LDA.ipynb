{
 "cells": [
  {
   "cell_type": "markdown",
   "id": "agJlSZb04_so",
   "metadata": {
    "id": "agJlSZb04_so"
   },
   "source": [
    "# Theoretische Grundlagen\n",
    "Durch die Digitalisierung stieg die Anzahl von digitalen Texten drastisch an und steigt immer noch an, sodass diese kaum noch zu fassen sind. So umfasst das Deutsche Textarchiv (digitale Textsammlung) um die 145 Millionen Texte.\n",
    "Diese Masse an Texten muss verwaltet werden, sodass Texte gefunden und abgebildet werden können. Des Weiteren müssen sie mit Unterstützung von Computern ausgewertet werden können, da dies manuell kaum machbar wäre.\n",
    "Im Jahr 2007 beschäftigte sich Franco Moretti innerhalb seines Forschungsprogramms damit, tausend Werke der Weltliteratur gleichzeitig miteinander zu vergleichen. Möglich war dies aber nur mithilfe von (text-) statischen Verfahren und mit computergestützten Visualisierungen. (Heyer, Wiedemann, Niekler 2020, S.351-353)\n",
    "\n",
    "# Topic Modeling\n",
    "Topic Modelling ist eine bekannte Klasse dieser statischen Verfahren. Hierbei können große Datenmengen/Textmengen automatisch in Themenbereiche aufgeteilt werden. Es wird davon ausgegangen, dass jede Wortform zu einem Themenbereich (Topic) gehört. Durch die Untersuchung der Verteilung von zusammengehörigen Wortformen in einem Text sollen die Themenbereiche dieses Textes abgeleitet werden können.\n",
    "Hiermit ist das Klassifizieren und Zusammenfassen von Texten und deren Abschnitten möglich. (Heyer, Wiedemann, Niekler 2020, S.351-353)\n",
    "\n",
    "# Stärke und Schwächen\n",
    "Stärken sind demnach die Unterteilung in Themen von großen Texten.\n",
    "Eine Stärke ist ebenfalls die Tatsache, dass dies voll automatisch geschieht.\n",
    "Nachteil ist, dass Syntax-Strukturen, Regelmäßigkeiten der Aussagen und weitere Informationen nicht aus dem Topic Modelling resultieren.\n",
    "Dennoch kann Topic Modelling als Vorarbeit für die weitergehenden Untersuchungen genutzt werden. (Heyer, Wiedemann, Niekler 2020, S.351-353)\n"
   ]
  },
  "nbformat": 4,
  "nbformat_minor": 5
}