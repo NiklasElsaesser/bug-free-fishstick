{
 "cells": [
  {
   "cell_type": "markdown",
   "id": "203655f7-5563-4bfb-8ebb-4866eb392ed1",
   "metadata": {},
   "source": [
    "# Step 0: Import Everything we need"
   ]
  },
  {
   "cell_type": "code",
   "execution_count": 1,
   "id": "4e47e6f8-ef53-4c60-99a6-f6203b7f456c",
   "metadata": {
    "tags": []
   },
   "outputs": [],
   "source": [
    "# The Basics\n",
    "import pandas as pd\n",
    "import numpy\n",
    "from pprint import pprint"
   ]
  },
  {
   "cell_type": "code",
   "execution_count": 3,
   "id": "403c71ae-1564-46bf-bc05-23e049ef1811",
   "metadata": {
    "tags": []
   },
   "outputs": [
    {
     "name": "stderr",
     "output_type": "stream",
     "text": [
      "[nltk_data] Downloading package stopwords to\n",
      "[nltk_data]     C:\\Users\\JSCHNEE\\AppData\\Roaming\\nltk_data...\n",
      "[nltk_data]   Package stopwords is already up-to-date!\n"
     ]
    }
   ],
   "source": [
    "# The Processing\n",
    "import re\n",
    "import nltk\n",
    "nltk.download(\"stopwords\")\n",
    "from nltk.corpus import stopwords"
   ]
  },
  {
   "cell_type": "code",
   "execution_count": 4,
   "id": "396fc40c-5d3f-4863-958c-dd34d8e8b49f",
   "metadata": {
    "tags": []
   },
   "outputs": [],
   "source": [
    "# The Modell\n",
    "import gensim\n",
    "import gensim.corpora as corpora\n",
    "from gensim.models import CoherenceModel\n",
    "from gensim.utils import simple_preprocess\n",
    "from gensim.models.ldamodel import LdaModel"
   ]
  },
  {
   "cell_type": "markdown",
   "id": "5bc0a79e-c3b7-4cdc-82d4-2724f674db7f",
   "metadata": {},
   "source": [
    "# Step 1: Loading and Cleaning"
   ]
  },
  {
   "cell_type": "code",
   "execution_count": 7,
   "id": "65cefd47-53f8-4026-93d9-aad600d95e5a",
   "metadata": {
    "tags": []
   },
   "outputs": [
    {
     "data": {
      "text/html": [
       "<div>\n",
       "<style scoped>\n",
       "    .dataframe tbody tr th:only-of-type {\n",
       "        vertical-align: middle;\n",
       "    }\n",
       "\n",
       "    .dataframe tbody tr th {\n",
       "        vertical-align: top;\n",
       "    }\n",
       "\n",
       "    .dataframe thead th {\n",
       "        text-align: right;\n",
       "    }\n",
       "</style>\n",
       "<table border=\"1\" class=\"dataframe\">\n",
       "  <thead>\n",
       "    <tr style=\"text-align: right;\">\n",
       "      <th></th>\n",
       "      <th>link</th>\n",
       "      <th>headline</th>\n",
       "      <th>category</th>\n",
       "      <th>short_description</th>\n",
       "      <th>authors</th>\n",
       "      <th>date</th>\n",
       "    </tr>\n",
       "  </thead>\n",
       "  <tbody>\n",
       "    <tr>\n",
       "      <th>0</th>\n",
       "      <td>https://www.huffpost.com/entry/covid-boosters-...</td>\n",
       "      <td>Over 4 Million Americans Roll Up Sleeves For O...</td>\n",
       "      <td>U.S. NEWS</td>\n",
       "      <td>Health experts said it is too early to predict...</td>\n",
       "      <td>Carla K. Johnson, AP</td>\n",
       "      <td>2022-09-23</td>\n",
       "    </tr>\n",
       "    <tr>\n",
       "      <th>1</th>\n",
       "      <td>https://www.huffpost.com/entry/american-airlin...</td>\n",
       "      <td>American Airlines Flyer Charged, Banned For Li...</td>\n",
       "      <td>U.S. NEWS</td>\n",
       "      <td>He was subdued by passengers and crew when he ...</td>\n",
       "      <td>Mary Papenfuss</td>\n",
       "      <td>2022-09-23</td>\n",
       "    </tr>\n",
       "    <tr>\n",
       "      <th>2</th>\n",
       "      <td>https://www.huffpost.com/entry/funniest-tweets...</td>\n",
       "      <td>23 Of The Funniest Tweets About Cats And Dogs ...</td>\n",
       "      <td>COMEDY</td>\n",
       "      <td>\"Until you have a dog you don't understand wha...</td>\n",
       "      <td>Elyse Wanshel</td>\n",
       "      <td>2022-09-23</td>\n",
       "    </tr>\n",
       "    <tr>\n",
       "      <th>3</th>\n",
       "      <td>https://www.huffpost.com/entry/funniest-parent...</td>\n",
       "      <td>The Funniest Tweets From Parents This Week (Se...</td>\n",
       "      <td>PARENTING</td>\n",
       "      <td>\"Accidentally put grown-up toothpaste on my to...</td>\n",
       "      <td>Caroline Bologna</td>\n",
       "      <td>2022-09-23</td>\n",
       "    </tr>\n",
       "    <tr>\n",
       "      <th>4</th>\n",
       "      <td>https://www.huffpost.com/entry/amy-cooper-lose...</td>\n",
       "      <td>Woman Who Called Cops On Black Bird-Watcher Lo...</td>\n",
       "      <td>U.S. NEWS</td>\n",
       "      <td>Amy Cooper accused investment firm Franklin Te...</td>\n",
       "      <td>Nina Golgowski</td>\n",
       "      <td>2022-09-22</td>\n",
       "    </tr>\n",
       "  </tbody>\n",
       "</table>\n",
       "</div>"
      ],
      "text/plain": [
       "                                                link  \\\n",
       "0  https://www.huffpost.com/entry/covid-boosters-...   \n",
       "1  https://www.huffpost.com/entry/american-airlin...   \n",
       "2  https://www.huffpost.com/entry/funniest-tweets...   \n",
       "3  https://www.huffpost.com/entry/funniest-parent...   \n",
       "4  https://www.huffpost.com/entry/amy-cooper-lose...   \n",
       "\n",
       "                                            headline   category  \\\n",
       "0  Over 4 Million Americans Roll Up Sleeves For O...  U.S. NEWS   \n",
       "1  American Airlines Flyer Charged, Banned For Li...  U.S. NEWS   \n",
       "2  23 Of The Funniest Tweets About Cats And Dogs ...     COMEDY   \n",
       "3  The Funniest Tweets From Parents This Week (Se...  PARENTING   \n",
       "4  Woman Who Called Cops On Black Bird-Watcher Lo...  U.S. NEWS   \n",
       "\n",
       "                                   short_description               authors  \\\n",
       "0  Health experts said it is too early to predict...  Carla K. Johnson, AP   \n",
       "1  He was subdued by passengers and crew when he ...        Mary Papenfuss   \n",
       "2  \"Until you have a dog you don't understand wha...         Elyse Wanshel   \n",
       "3  \"Accidentally put grown-up toothpaste on my to...      Caroline Bologna   \n",
       "4  Amy Cooper accused investment firm Franklin Te...        Nina Golgowski   \n",
       "\n",
       "        date  \n",
       "0 2022-09-23  \n",
       "1 2022-09-23  \n",
       "2 2022-09-23  \n",
       "3 2022-09-23  \n",
       "4 2022-09-22  "
      ]
     },
     "execution_count": 7,
     "metadata": {},
     "output_type": "execute_result"
    }
   ],
   "source": [
    "df = pd.read_json(\"News_Category_Dataset_v3.json\", lines=True)\n",
    "df.head()"
   ]
  },
  {
   "cell_type": "code",
   "execution_count": 15,
   "id": "69a69de7-afff-432a-aecd-d78ec66d051b",
   "metadata": {
    "tags": []
   },
   "outputs": [],
   "source": [
    "unique_categories = len(df.category.unique())"
   ]
  },
  {
   "cell_type": "code",
   "execution_count": 17,
   "id": "af8de0e6-62cf-49e3-bfda-73edbb70084e",
   "metadata": {
    "tags": []
   },
   "outputs": [
    {
     "data": {
      "text/plain": [
       "0    health experts said it is too early to predict...\n",
       "1    he was subdued by passengers and crew when he ...\n",
       "2    \"until you have a dog you don't understand wha...\n",
       "3    \"accidentally put grown-up toothpaste on my to...\n",
       "4    amy cooper accused investment firm franklin te...\n",
       "Name: short_description, dtype: object"
      ]
     },
     "execution_count": 17,
     "metadata": {},
     "output_type": "execute_result"
    }
   ],
   "source": [
    "df = df[\"short_description\"]\n",
    "\n",
    "df = df.map(lambda x: re.sub('[,\\.!?]', '', x))\n",
    "df = df.map(lambda x: x.lower())\n",
    "\n",
    "df.head()"
   ]
  },
  {
   "cell_type": "code",
   "execution_count": 19,
   "id": "ab495224-702b-4f22-8c26-a51e91ebf6b9",
   "metadata": {
    "tags": []
   },
   "outputs": [],
   "source": [
    "def preprocess_data(documents):\n",
    "    stop_words = stopwords.words(\"english\")\n",
    "    texts = [[word for word in simple_preprocess(str(doc)) if word not in stop_words] for doc in documents]\n",
    "    return texts\n",
    "\n",
    "processed_texts = preprocess_data(df)"
   ]
  },
  {
   "cell_type": "markdown",
   "id": "844cdc92-12c6-4e97-a129-f14f140b5611",
   "metadata": {},
   "source": [
    "# Step 2: Create a Dictionary and Corpus\n",
    "Dictionary: Mapping between Words and ID\n",
    "<br>Corpus: List of Documents as \"Bag of Words\""
   ]
  },
  {
   "cell_type": "code",
   "execution_count": 21,
   "id": "73c5abc9-1c21-480d-aaf6-f86aefee9cfa",
   "metadata": {
    "tags": []
   },
   "outputs": [],
   "source": [
    "id2word = corpora.Dictionary(processed_texts)\n",
    "\n",
    "corpus = [id2word.doc2bow(text) for text in processed_texts]"
   ]
  },
  {
   "cell_type": "markdown",
   "id": "80b11804-c2a6-4e21-a899-88423c638385",
   "metadata": {},
   "source": [
    "# Step 3: Train the LDA Model"
   ]
  },
  {
   "cell_type": "code",
   "execution_count": 23,
   "id": "e18d4db6-ea96-4740-87f9-e24fb161928c",
   "metadata": {
    "tags": []
   },
   "outputs": [],
   "source": [
    "lda_model = LdaModel(corpus=corpus, id2word=id2word, \n",
    "                    num_topics=unique_categories, \n",
    "                    random_state=42,\n",
    "                    passes=10,\n",
    "                    alpha=\"auto\",\n",
    "                    per_word_topics=True)"
   ]
  },
  {
   "cell_type": "code",
   "execution_count": null,
   "id": "1f58c95a-2929-4b67-a693-bccfa060899b",
   "metadata": {
    "tags": []
   },
   "outputs": [],
   "source": [
    "coherence_model_lda = CoherenceModel(model=lda_model, texts=processed_texts, dictionary=id2word, coherence=\"c_v\")\n",
    "coherence_lda = coherence_model_lda.get_coherence()\n",
    "print(\"Coherence Score:\", coherence_lda)"
   ]
  },
  {
   "cell_type": "markdown",
   "id": "f7cde344-42b2-4663-8999-915dbc63ba6e",
   "metadata": {},
   "source": [
    "# Step 4: pyLDAvis"
   ]
  },
  {
   "cell_type": "code",
   "execution_count": null,
   "id": "08eefd02-5e35-4b1e-aa04-89d40b60ad44",
   "metadata": {
    "tags": []
   },
   "outputs": [],
   "source": [
    "import pyLDAvis\n",
    "from pyLDAvis import gensim_models\n",
    "pyLDAvis.enable_notebook()"
   ]
  },
  {
   "cell_type": "code",
   "execution_count": null,
   "id": "e86a570a-7fb5-4d36-a708-1abca98b2875",
   "metadata": {
    "tags": []
   },
   "outputs": [],
   "source": [
    "visualisation = pyLDAvis.gensim_models.prepare(lda_model, corpus, id2word)"
   ]
  },
  {
   "cell_type": "code",
   "execution_count": null,
   "id": "628ecef4-8672-4769-b6db-1ca4509d81cb",
   "metadata": {
    "tags": []
   },
   "outputs": [],
   "source": [
    "visualisation"
   ]
  },
  {
   "cell_type": "code",
   "execution_count": null,
   "id": "1bf7da07-7175-47d7-b6b9-8574d1ec4996",
   "metadata": {},
   "outputs": [],
   "source": []
  }
 ],
 "metadata": {
  "kernelspec": {
   "display_name": "Python 3 (ipykernel)",
   "language": "python",
   "name": "python3"
  },
  "language_info": {
   "codemirror_mode": {
    "name": "ipython",
    "version": 3
   },
   "file_extension": ".py",
   "mimetype": "text/x-python",
   "name": "python",
   "nbconvert_exporter": "python",
   "pygments_lexer": "ipython3",
   "version": "3.11.5"
  }
 },
 "nbformat": 4,
 "nbformat_minor": 5
}
