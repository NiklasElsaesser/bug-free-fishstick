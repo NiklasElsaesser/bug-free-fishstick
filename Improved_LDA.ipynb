{
  "cells": [
    {
      "cell_type": "markdown",
      "metadata": {
        "id": "view-in-github",
        "colab_type": "text"
      },
      "source": [
        "<a href=\"https://colab.research.google.com/github/NiklasElsaesser/bug-free-fishstick/blob/main/Improved_LDA.ipynb\" target=\"_parent\"><img src=\"https://colab.research.google.com/assets/colab-badge.svg\" alt=\"Open In Colab\"/></a>"
      ]
    },
    {
      "cell_type": "markdown",
      "metadata": {
        "id": "zFSUE1lr3tRw"
      },
      "source": [
        "Version based on: [LDAPrototype](https://github.com/JonasRieger/ldaPrototype?tab=readme-ov-file)"
      ]
    },
    {
      "cell_type": "markdown",
      "metadata": {
        "id": "NGBaBfNf7QzK"
      },
      "source": [
        "# Setup\n",
        "Installing the necessary Libraries via pip to among other things enable the setup in various development environments. The primary (default) development of the Notebook was done in Google Colab, but also occasionally run Visual Studio Code.\n",
        "\n",
        "Notable Libraries here are:\n",
        "\n",
        "\n",
        "*   gensim ->  library for topic modelling, document indexing and similarity retrieval with large corpora\n",
        "*   scikit-learn -> module for machine learning built on top of SciPy\n",
        "\n",
        "\n"
      ]
    },
    {
      "cell_type": "code",
      "execution_count": null,
      "metadata": {
        "colab": {
          "base_uri": "https://localhost:8080/"
        },
        "id": "Pg31CMXsgOat",
        "outputId": "d0cdf39f-066e-4fed-919d-06a9eb3c8be9"
      },
      "outputs": [
        {
          "name": "stdout",
          "output_type": "stream",
          "text": [
            "Requirement already satisfied: pandas in /opt/homebrew/anaconda3/lib/python3.11/site-packages (2.2.3)\n",
            "Requirement already satisfied: numpy>=1.23.2 in /opt/homebrew/anaconda3/lib/python3.11/site-packages (from pandas) (1.24.4)\n",
            "Requirement already satisfied: python-dateutil>=2.8.2 in /opt/homebrew/anaconda3/lib/python3.11/site-packages (from pandas) (2.8.2)\n",
            "Requirement already satisfied: pytz>=2020.1 in /opt/homebrew/anaconda3/lib/python3.11/site-packages (from pandas) (2023.3.post1)\n",
            "Requirement already satisfied: tzdata>=2022.7 in /opt/homebrew/anaconda3/lib/python3.11/site-packages (from pandas) (2023.3)\n",
            "Requirement already satisfied: six>=1.5 in /opt/homebrew/anaconda3/lib/python3.11/site-packages (from python-dateutil>=2.8.2->pandas) (1.16.0)\n",
            "Note: you may need to restart the kernel to use updated packages.\n",
            "Requirement already satisfied: numpy in /opt/homebrew/anaconda3/lib/python3.11/site-packages (1.24.4)\n",
            "Note: you may need to restart the kernel to use updated packages.\n",
            "Requirement already satisfied: gensim in /opt/homebrew/anaconda3/lib/python3.11/site-packages (4.3.3)\n",
            "Requirement already satisfied: numpy<2.0,>=1.18.5 in /opt/homebrew/anaconda3/lib/python3.11/site-packages (from gensim) (1.24.4)\n",
            "Requirement already satisfied: scipy<1.14.0,>=1.7.0 in /opt/homebrew/anaconda3/lib/python3.11/site-packages (from gensim) (1.10.1)\n",
            "Requirement already satisfied: smart-open>=1.8.1 in /opt/homebrew/anaconda3/lib/python3.11/site-packages (from gensim) (5.2.1)\n",
            "Note: you may need to restart the kernel to use updated packages.\n",
            "Requirement already satisfied: matplotlib in /opt/homebrew/anaconda3/lib/python3.11/site-packages (3.7.2)\n",
            "Requirement already satisfied: contourpy>=1.0.1 in /opt/homebrew/anaconda3/lib/python3.11/site-packages (from matplotlib) (1.0.5)\n",
            "Requirement already satisfied: cycler>=0.10 in /opt/homebrew/anaconda3/lib/python3.11/site-packages (from matplotlib) (0.11.0)\n",
            "Requirement already satisfied: fonttools>=4.22.0 in /opt/homebrew/anaconda3/lib/python3.11/site-packages (from matplotlib) (4.25.0)\n",
            "Requirement already satisfied: kiwisolver>=1.0.1 in /opt/homebrew/anaconda3/lib/python3.11/site-packages (from matplotlib) (1.4.4)\n",
            "Requirement already satisfied: numpy>=1.20 in /opt/homebrew/anaconda3/lib/python3.11/site-packages (from matplotlib) (1.24.4)\n",
            "Requirement already satisfied: packaging>=20.0 in /opt/homebrew/anaconda3/lib/python3.11/site-packages (from matplotlib) (24.1)\n",
            "Requirement already satisfied: pillow>=6.2.0 in /opt/homebrew/anaconda3/lib/python3.11/site-packages (from matplotlib) (9.4.0)\n",
            "Requirement already satisfied: pyparsing<3.1,>=2.3.1 in /opt/homebrew/anaconda3/lib/python3.11/site-packages (from matplotlib) (3.0.9)\n",
            "Requirement already satisfied: python-dateutil>=2.7 in /opt/homebrew/anaconda3/lib/python3.11/site-packages (from matplotlib) (2.8.2)\n",
            "Requirement already satisfied: six>=1.5 in /opt/homebrew/anaconda3/lib/python3.11/site-packages (from python-dateutil>=2.7->matplotlib) (1.16.0)\n",
            "Note: you may need to restart the kernel to use updated packages.\n",
            "Requirement already satisfied: wordcloud in /opt/homebrew/anaconda3/lib/python3.11/site-packages (1.9.3)\n",
            "Requirement already satisfied: numpy>=1.6.1 in /opt/homebrew/anaconda3/lib/python3.11/site-packages (from wordcloud) (1.24.4)\n",
            "Requirement already satisfied: pillow in /opt/homebrew/anaconda3/lib/python3.11/site-packages (from wordcloud) (9.4.0)\n",
            "Requirement already satisfied: matplotlib in /opt/homebrew/anaconda3/lib/python3.11/site-packages (from wordcloud) (3.7.2)\n",
            "Requirement already satisfied: contourpy>=1.0.1 in /opt/homebrew/anaconda3/lib/python3.11/site-packages (from matplotlib->wordcloud) (1.0.5)\n",
            "Requirement already satisfied: cycler>=0.10 in /opt/homebrew/anaconda3/lib/python3.11/site-packages (from matplotlib->wordcloud) (0.11.0)\n",
            "Requirement already satisfied: fonttools>=4.22.0 in /opt/homebrew/anaconda3/lib/python3.11/site-packages (from matplotlib->wordcloud) (4.25.0)\n",
            "Requirement already satisfied: kiwisolver>=1.0.1 in /opt/homebrew/anaconda3/lib/python3.11/site-packages (from matplotlib->wordcloud) (1.4.4)\n",
            "Requirement already satisfied: packaging>=20.0 in /opt/homebrew/anaconda3/lib/python3.11/site-packages (from matplotlib->wordcloud) (24.1)\n",
            "Requirement already satisfied: pyparsing<3.1,>=2.3.1 in /opt/homebrew/anaconda3/lib/python3.11/site-packages (from matplotlib->wordcloud) (3.0.9)\n",
            "Requirement already satisfied: python-dateutil>=2.7 in /opt/homebrew/anaconda3/lib/python3.11/site-packages (from matplotlib->wordcloud) (2.8.2)\n",
            "Requirement already satisfied: six>=1.5 in /opt/homebrew/anaconda3/lib/python3.11/site-packages (from python-dateutil>=2.7->matplotlib->wordcloud) (1.16.0)\n",
            "Note: you may need to restart the kernel to use updated packages.\n",
            "Requirement already satisfied: seaborn in /opt/homebrew/anaconda3/lib/python3.11/site-packages (0.12.2)\n",
            "Requirement already satisfied: numpy!=1.24.0,>=1.17 in /opt/homebrew/anaconda3/lib/python3.11/site-packages (from seaborn) (1.24.4)\n",
            "Requirement already satisfied: pandas>=0.25 in /opt/homebrew/anaconda3/lib/python3.11/site-packages (from seaborn) (2.2.3)\n",
            "Requirement already satisfied: matplotlib!=3.6.1,>=3.1 in /opt/homebrew/anaconda3/lib/python3.11/site-packages (from seaborn) (3.7.2)\n",
            "Requirement already satisfied: contourpy>=1.0.1 in /opt/homebrew/anaconda3/lib/python3.11/site-packages (from matplotlib!=3.6.1,>=3.1->seaborn) (1.0.5)\n",
            "Requirement already satisfied: cycler>=0.10 in /opt/homebrew/anaconda3/lib/python3.11/site-packages (from matplotlib!=3.6.1,>=3.1->seaborn) (0.11.0)\n",
            "Requirement already satisfied: fonttools>=4.22.0 in /opt/homebrew/anaconda3/lib/python3.11/site-packages (from matplotlib!=3.6.1,>=3.1->seaborn) (4.25.0)\n",
            "Requirement already satisfied: kiwisolver>=1.0.1 in /opt/homebrew/anaconda3/lib/python3.11/site-packages (from matplotlib!=3.6.1,>=3.1->seaborn) (1.4.4)\n",
            "Requirement already satisfied: packaging>=20.0 in /opt/homebrew/anaconda3/lib/python3.11/site-packages (from matplotlib!=3.6.1,>=3.1->seaborn) (24.1)\n",
            "Requirement already satisfied: pillow>=6.2.0 in /opt/homebrew/anaconda3/lib/python3.11/site-packages (from matplotlib!=3.6.1,>=3.1->seaborn) (9.4.0)\n",
            "Requirement already satisfied: pyparsing<3.1,>=2.3.1 in /opt/homebrew/anaconda3/lib/python3.11/site-packages (from matplotlib!=3.6.1,>=3.1->seaborn) (3.0.9)\n",
            "Requirement already satisfied: python-dateutil>=2.7 in /opt/homebrew/anaconda3/lib/python3.11/site-packages (from matplotlib!=3.6.1,>=3.1->seaborn) (2.8.2)\n",
            "Requirement already satisfied: pytz>=2020.1 in /opt/homebrew/anaconda3/lib/python3.11/site-packages (from pandas>=0.25->seaborn) (2023.3.post1)\n",
            "Requirement already satisfied: tzdata>=2022.7 in /opt/homebrew/anaconda3/lib/python3.11/site-packages (from pandas>=0.25->seaborn) (2023.3)\n",
            "Requirement already satisfied: six>=1.5 in /opt/homebrew/anaconda3/lib/python3.11/site-packages (from python-dateutil>=2.7->matplotlib!=3.6.1,>=3.1->seaborn) (1.16.0)\n",
            "Note: you may need to restart the kernel to use updated packages.\n",
            "Requirement already satisfied: scikit-learn in /opt/homebrew/anaconda3/lib/python3.11/site-packages (1.3.0)\n",
            "Requirement already satisfied: numpy>=1.17.3 in /opt/homebrew/anaconda3/lib/python3.11/site-packages (from scikit-learn) (1.24.4)\n",
            "Requirement already satisfied: scipy>=1.5.0 in /opt/homebrew/anaconda3/lib/python3.11/site-packages (from scikit-learn) (1.10.1)\n",
            "Requirement already satisfied: joblib>=1.1.1 in /opt/homebrew/anaconda3/lib/python3.11/site-packages (from scikit-learn) (1.2.0)\n",
            "Requirement already satisfied: threadpoolctl>=2.0.0 in /opt/homebrew/anaconda3/lib/python3.11/site-packages (from scikit-learn) (2.2.0)\n",
            "Note: you may need to restart the kernel to use updated packages.\n",
            "Requirement already satisfied: bottleneck in /opt/homebrew/anaconda3/lib/python3.11/site-packages (1.4.1)\n",
            "Requirement already satisfied: numpy in /opt/homebrew/anaconda3/lib/python3.11/site-packages (from bottleneck) (1.24.4)\n",
            "Note: you may need to restart the kernel to use updated packages.\n",
            "Requirement already satisfied: pyldavis in /opt/homebrew/anaconda3/lib/python3.11/site-packages (3.4.1)\n",
            "Requirement already satisfied: numpy>=1.24.2 in /opt/homebrew/anaconda3/lib/python3.11/site-packages (from pyldavis) (1.24.4)\n",
            "Requirement already satisfied: scipy in /opt/homebrew/anaconda3/lib/python3.11/site-packages (from pyldavis) (1.10.1)\n",
            "Requirement already satisfied: pandas>=2.0.0 in /opt/homebrew/anaconda3/lib/python3.11/site-packages (from pyldavis) (2.2.3)\n",
            "Requirement already satisfied: joblib>=1.2.0 in /opt/homebrew/anaconda3/lib/python3.11/site-packages (from pyldavis) (1.2.0)\n",
            "Requirement already satisfied: jinja2 in /opt/homebrew/anaconda3/lib/python3.11/site-packages (from pyldavis) (3.1.2)\n",
            "Requirement already satisfied: numexpr in /opt/homebrew/anaconda3/lib/python3.11/site-packages (from pyldavis) (2.8.4)\n",
            "Requirement already satisfied: funcy in /opt/homebrew/anaconda3/lib/python3.11/site-packages (from pyldavis) (2.0)\n",
            "Requirement already satisfied: scikit-learn>=1.0.0 in /opt/homebrew/anaconda3/lib/python3.11/site-packages (from pyldavis) (1.3.0)\n",
            "Requirement already satisfied: gensim in /opt/homebrew/anaconda3/lib/python3.11/site-packages (from pyldavis) (4.3.3)\n",
            "Requirement already satisfied: setuptools in /opt/homebrew/anaconda3/lib/python3.11/site-packages (from pyldavis) (68.0.0)\n",
            "Requirement already satisfied: python-dateutil>=2.8.2 in /opt/homebrew/anaconda3/lib/python3.11/site-packages (from pandas>=2.0.0->pyldavis) (2.8.2)\n",
            "Requirement already satisfied: pytz>=2020.1 in /opt/homebrew/anaconda3/lib/python3.11/site-packages (from pandas>=2.0.0->pyldavis) (2023.3.post1)\n",
            "Requirement already satisfied: tzdata>=2022.7 in /opt/homebrew/anaconda3/lib/python3.11/site-packages (from pandas>=2.0.0->pyldavis) (2023.3)\n",
            "Requirement already satisfied: threadpoolctl>=2.0.0 in /opt/homebrew/anaconda3/lib/python3.11/site-packages (from scikit-learn>=1.0.0->pyldavis) (2.2.0)\n",
            "Requirement already satisfied: smart-open>=1.8.1 in /opt/homebrew/anaconda3/lib/python3.11/site-packages (from gensim->pyldavis) (5.2.1)\n",
            "Requirement already satisfied: MarkupSafe>=2.0 in /opt/homebrew/anaconda3/lib/python3.11/site-packages (from jinja2->pyldavis) (2.1.1)\n",
            "Requirement already satisfied: six>=1.5 in /opt/homebrew/anaconda3/lib/python3.11/site-packages (from python-dateutil>=2.8.2->pandas>=2.0.0->pyldavis) (1.16.0)\n",
            "Note: you may need to restart the kernel to use updated packages.\n",
            "\u001b[31mERROR: Could not find a version that satisfies the requirement ldatuning (from versions: none)\u001b[0m\u001b[31m\n",
            "\u001b[0m\u001b[31mERROR: No matching distribution found for ldatuning\u001b[0m\u001b[31m\n",
            "\u001b[0mNote: you may need to restart the kernel to use updated packages.\n"
          ]
        }
      ],
      "source": [
        "%pip install pandas\n",
        "%pip install numpy\n",
        "%pip install --upgrade gensim\n",
        "%pip install matplotlib\n",
        "%pip install wordcloud\n",
        "%pip install seaborn\n",
        "%pip install scikit-learn\n",
        "%pip install --upgrade bottleneck\n",
        "%pip install pyldavis\n",
        "%pip install ldatuning"
      ]
    },
    {
      "cell_type": "markdown",
      "metadata": {
        "id": "p99nDfU07QzO"
      },
      "source": [
        "Here the required Moduels are imported from the previously installed libraries.\n",
        "\n",
        "Notable Modules are:\n",
        "\n",
        "\n",
        "**Gensim**\n",
        "*   models.LdaModel **->** to get the functionality for LDA-Modeling\n",
        "*   corpora **->** for the creation of dicitonaries and document-term matrices (corpus) for topic modeling.\n",
        "*   models.CoherenceModel **->** to assess the coherence (quality) of topics and validate the results generated by the LDA models.\n",
        "\n",
        "Rehurek, R., & Sojka, P. (2011). Gensim–python framework for vector space modelling. NLP Centre, Faculty of Informatics, Masaryk University, Brno, Czech Republic, 3(2).\n",
        "\n",
        "**Sklearn**\n",
        "* metrics.pairwise.cosine_similarity **->** computing the cosine similarity between samples in X and Y, in this case calculating vectors, document similarity and clustering text based on the content.\n",
        "* feature_extraction.text.TfidfVectorizer **->**  reshaping raw text into matrix of TF-IDF features, weighing the significance of terms in a document by their relation of occurrence in the entire corpus.\n",
        "\n",
        "Pedregosa, F., Varoquaux, G., Gramfort, A., Michel, V., Thirion, B., Grisel, O., Blondel, M., Prettenhofer, P., Weiss, R., Dubourg, V., Vanderplas, J., Passos, A., Cournapeau, D., Brucher, M., Perrot, M., & Duchesnay, E. (2011). Scikit-learn: Machine learning in Python. Journal of Machine Learning Research, 12, 2825–2830.\n",
        "\n",
        "\n",
        "Other:\n",
        "* matplotlib, seaborn and pyldavis for visualizations\n",
        "* pandas and numpy for data manipulation and scientific computing\n",
        "* random to create a seed with random parameters when running multiple ldas\n",
        "* re to prepare the dataset and remove values based on regex"
      ]
    },
    {
      "cell_type": "markdown",
      "metadata": {
        "id": "OadSZwUM7QzP"
      },
      "source": []
    },
    {
      "cell_type": "code",
      "execution_count": null,
      "metadata": {
        "id": "cDcgsNkTXidV"
      },
      "outputs": [],
      "source": [
        "import pandas as pd\n",
        "import gensim\n",
        "from gensim import corpora\n",
        "from gensim.models import CoherenceModel\n",
        "from sklearn.metrics.pairwise import cosine_similarity\n",
        "from sklearn.feature_extraction.text import TfidfVectorizer\n",
        "import numpy as np\n",
        "import matplotlib.pyplot as plt\n",
        "import seaborn as sns\n",
        "import random\n",
        "import re\n",
        "import time\n",
        "import pandas as pd\n",
        "from gensim.models.coherencemodel import CoherenceModel\n",
        "from sklearn.cluster import AgglomerativeClustering\n",
        "import numpy as np\n",
        "from sklearn.metrics.pairwise import cosine_similarity\n",
        "import pandas as pd\n",
        "from gensim.models.coherencemodel import CoherenceModel"
      ]
    },
    {
      "cell_type": "code",
      "execution_count": null,
      "metadata": {
        "id": "zaFZQ5LJfCo6"
      },
      "outputs": [],
      "source": [
        "#from google.colab import drive\n",
        "#drive.mount('/content/drive')"
      ]
    },
    {
      "cell_type": "markdown",
      "metadata": {
        "id": "MZxMPl9n9zGH"
      },
      "source": [
        "# Datenbereinigung:\n",
        "Bei dem gewählten Datensatz (siehe: https://www.kaggle.com/datasets/rmisra/news-category-dataset/data) handelt es sich um eine Auflistung von Schlagzeilen der HuffPost, welche im Zeitraum zwischen 2012 und 2022 veröffentlicht wurden. Neben den Schlagzeilen, wurden ebenfalls die Kategorien der Artikel, Kurzbeschreibungen, Verfassenden, Veröffentlichungsdaten, sowie Links zu den originalen Artikeln erhoben.\n",
        "Der Datensatz umfasst 210.000 Einträge und stammt von der Website kaggle.com. Das dort angewendete Verfahren zur Datenerhebung wird nicht näher beschrieben, könnte jedoch Webscraping sein. Mit dieser Methode können relevante Informationen mittels eines Programms, wie bspw. eines Python-Skripts, von einer Website automatisiert entnommen und gespeichert werden. Die Vermutung, dass Webscraping verwendet wurde, lässt sich daraus schließen, da die Daten in einer strukturierten Form (in Kategorien geordnet) vorliegen, da dies auf ein systematisches Verfahren hindeutet. Zudem ist Webscraping eine der gängisten Methoden um Informationen von Websiten zu beschaffen und wird auf kaggle.com oft angwandt.\n",
        "\n",
        "Da mit dem Modell der Inhalt der Daten lediglich kategorisiert und nicht bewertet werden soll, können mögliche Verzerrungen in dieser Hinsicht vernachlässigt werden (bspw. politische Ausrichtung der Texte).\n",
        "Ein Problem könnte jedoch sein, dass die Kategorien nicht ausgewogen sind. Manche davon könnten häufiger im Rahmen der Artikel behandelt werden als andere, weshalb das Modell ggf. eine stärkere Gewichtung auf manche Themen als auf andere legen könnte.\n",
        "Da die Daten von einer seriösen Quelle stammen und ihre Struktur für maschinelles Lernen geeignet ist, kann von einer hohen Vollständigkeit ausgegangen werden. Darüber hinaus werden mögliche Lücken im folgenden Code berücksichtigt. Dublikate sind recht unwahrscheinlich, da Artikel in der Regel nur einmal veröffentlicht werden. Die Formatierung ist ebenfalls zu vernachlässigen, da diese in der Datenbereinigung vereinheitlicht wird. Da normalerweise Nachrichtenagenturen darauf, ihre Artikel korrekt zu kategorisieren, um ihren Lesenden die Suche danach zu vereinfachen, kann davon ausgegangen werden, dass dies auch bei dem gewählten Datensatz der Fall ist.\n",
        "Somit sind sowohl die Datenintegrität als auch die Datenqualität gegeben.\n",
        "\n",
        "Der erste Schritt im Code bezogen auf den Datensatz ist es ihn in einen Data Frame zu konvertieren, um durch die daraus folgende Tabellenstruktur Arbeit mit ihm zu vereinfachen."
      ]
    },
    {
      "cell_type": "code",
      "execution_count": null,
      "metadata": {
        "colab": {
          "base_uri": "https://localhost:8080/"
        },
        "id": "aRtrhvARgPAu",
        "outputId": "0ea80cd7-1cf5-4c62-a98f-6b4eb28a63c5"
      },
      "outputs": [
        {
          "name": "stdout",
          "output_type": "stream",
          "text": [
            "                                                link  \\\n",
            "0  https://www.huffpost.com/entry/covid-boosters-...   \n",
            "1  https://www.huffpost.com/entry/american-airlin...   \n",
            "2  https://www.huffpost.com/entry/funniest-tweets...   \n",
            "3  https://www.huffpost.com/entry/funniest-parent...   \n",
            "4  https://www.huffpost.com/entry/amy-cooper-lose...   \n",
            "\n",
            "                                            headline   category  \\\n",
            "0  Over 4 Million Americans Roll Up Sleeves For O...  U.S. NEWS   \n",
            "1  American Airlines Flyer Charged, Banned For Li...  U.S. NEWS   \n",
            "2  23 Of The Funniest Tweets About Cats And Dogs ...     COMEDY   \n",
            "3  The Funniest Tweets From Parents This Week (Se...  PARENTING   \n",
            "4  Woman Who Called Cops On Black Bird-Watcher Lo...  U.S. NEWS   \n",
            "\n",
            "                                   short_description               authors  \\\n",
            "0  Health experts said it is too early to predict...  Carla K. Johnson, AP   \n",
            "1  He was subdued by passengers and crew when he ...        Mary Papenfuss   \n",
            "2  \"Until you have a dog you don't understand wha...         Elyse Wanshel   \n",
            "3  \"Accidentally put grown-up toothpaste on my to...      Caroline Bologna   \n",
            "4  Amy Cooper accused investment firm Franklin Te...        Nina Golgowski   \n",
            "\n",
            "         date  \n",
            "0  2022-09-23  \n",
            "1  2022-09-23  \n",
            "2  2022-09-23  \n",
            "3  2022-09-23  \n",
            "4  2022-09-22  \n"
          ]
        }
      ],
      "source": [
        "import json\n",
        "import pandas as pd\n",
        "\n",
        "# Load the dataset\n",
        "dataset_path = \"/Users/niklaselsasser/Code/bug-free-fishstick/News_Category_Dataset_v3.json\"\n",
        "\n",
        "with open(dataset_path, 'r') as file:\n",
        "    news_data = [json.loads(line) for line in file]\n",
        "\n",
        "# Convert to DataFrame for easy inspection\n",
        "df = pd.DataFrame(news_data)\n",
        "\n",
        "# Check the structure of the data\n",
        "print(df.head())\n",
        "\n",
        "# Example columns to expect: 'category', 'headline', 'short_description', 'link', 'authors', 'date'\n"
      ]
    },
    {
      "cell_type": "markdown",
      "metadata": {
        "id": "qWeEkEAg9-PW"
      },
      "source": [
        "Die Spalten aus dem Originaldatensatz, welche nicht zur Verarbeitung benötigt werden, werden entfernt. Dadurch entsteht ein neuer, bereinigter Dataframe, welcher im folgenden Code verwendet wird."
      ]
    },
    {
      "cell_type": "code",
      "execution_count": null,
      "metadata": {
        "colab": {
          "base_uri": "https://localhost:8080/",
          "height": 204
        },
        "id": "nKPsCA2NepVr",
        "outputId": "e1cf2808-0062-4574-cb59-9ef234332340"
      },
      "outputs": [
        {
          "data": {
            "text/html": [
              "<div>\n",
              "<style scoped>\n",
              "    .dataframe tbody tr th:only-of-type {\n",
              "        vertical-align: middle;\n",
              "    }\n",
              "\n",
              "    .dataframe tbody tr th {\n",
              "        vertical-align: top;\n",
              "    }\n",
              "\n",
              "    .dataframe thead th {\n",
              "        text-align: right;\n",
              "    }\n",
              "</style>\n",
              "<table border=\"1\" class=\"dataframe\">\n",
              "  <thead>\n",
              "    <tr style=\"text-align: right;\">\n",
              "      <th></th>\n",
              "      <th>headline</th>\n",
              "      <th>category</th>\n",
              "      <th>short_description</th>\n",
              "    </tr>\n",
              "  </thead>\n",
              "  <tbody>\n",
              "    <tr>\n",
              "      <th>0</th>\n",
              "      <td>Over 4 Million Americans Roll Up Sleeves For O...</td>\n",
              "      <td>U.S. NEWS</td>\n",
              "      <td>Health experts said it is too early to predict...</td>\n",
              "    </tr>\n",
              "    <tr>\n",
              "      <th>1</th>\n",
              "      <td>American Airlines Flyer Charged, Banned For Li...</td>\n",
              "      <td>U.S. NEWS</td>\n",
              "      <td>He was subdued by passengers and crew when he ...</td>\n",
              "    </tr>\n",
              "    <tr>\n",
              "      <th>2</th>\n",
              "      <td>23 Of The Funniest Tweets About Cats And Dogs ...</td>\n",
              "      <td>COMEDY</td>\n",
              "      <td>\"Until you have a dog you don't understand wha...</td>\n",
              "    </tr>\n",
              "    <tr>\n",
              "      <th>3</th>\n",
              "      <td>The Funniest Tweets From Parents This Week (Se...</td>\n",
              "      <td>PARENTING</td>\n",
              "      <td>\"Accidentally put grown-up toothpaste on my to...</td>\n",
              "    </tr>\n",
              "    <tr>\n",
              "      <th>4</th>\n",
              "      <td>Woman Who Called Cops On Black Bird-Watcher Lo...</td>\n",
              "      <td>U.S. NEWS</td>\n",
              "      <td>Amy Cooper accused investment firm Franklin Te...</td>\n",
              "    </tr>\n",
              "  </tbody>\n",
              "</table>\n",
              "</div>"
            ],
            "text/plain": [
              "                                            headline   category  \\\n",
              "0  Over 4 Million Americans Roll Up Sleeves For O...  U.S. NEWS   \n",
              "1  American Airlines Flyer Charged, Banned For Li...  U.S. NEWS   \n",
              "2  23 Of The Funniest Tweets About Cats And Dogs ...     COMEDY   \n",
              "3  The Funniest Tweets From Parents This Week (Se...  PARENTING   \n",
              "4  Woman Who Called Cops On Black Bird-Watcher Lo...  U.S. NEWS   \n",
              "\n",
              "                                   short_description  \n",
              "0  Health experts said it is too early to predict...  \n",
              "1  He was subdued by passengers and crew when he ...  \n",
              "2  \"Until you have a dog you don't understand wha...  \n",
              "3  \"Accidentally put grown-up toothpaste on my to...  \n",
              "4  Amy Cooper accused investment firm Franklin Te...  "
            ]
          },
          "execution_count": 7,
          "metadata": {},
          "output_type": "execute_result"
        }
      ],
      "source": [
        "clean_df=df.drop(columns=['link','authors','date'])\n",
        "clean_df.head(5)"
      ]
    },
    {
      "cell_type": "markdown",
      "metadata": {
        "id": "1rj3kwmz9_cH"
      },
      "source": [
        "\n",
        "Für die weitere Datenbereinigung wird die Bibliothek NLTK importiert. Der Vorteil von NLKT ist, dass die Bibliothek zahlreiche Datensätze bereitstellt, welche nach ihrem Download dabei unterstützen die Textdaten für die spätere Verarbeitung vorzubereiten.\n",
        "Für die Datenbereinigung wird die Funktion \"preprocess_text\" erstellt. Im Rahmen dieser werden zunächst häufig verwendete Wörte (stopwords), wie zum Beispiel \"and\", \"or\" oder \"in\" entfernt, da diese keine Bedeutung für die Auswertung der Texte haben (siehe: https://www.nltk.org/howto/corpus.html).\n",
        "Darüber hinaus ist es durch NLTK möglich, die Texte in einzelne Wörter aufzuteilen, wobei von Tokens die Rede ist (tokenize) (siehe: https://www.nltk.org/api/nltk.tokenize.html).\n",
        "Durch den Lemmatizer (WordNetLemmatizer) wird die Grundform der Wörter ermittelt (siehe: https://www.nltk.org/api/nltk.stem.wordnet.html). So wird beispielsweise aus \"going\" das Wort \"go\".\n",
        "Bevor jedoch diese Tools Anwendung finden, werden die Textdaten zunächst in Kleinbuchstaben umgewandelt. Hierdurch wird gewährleistet, dass das Modell besipielsweise nicht zwischen \"Go\" und \"go\" unterscheidet. Desweiteren werden alle Satzzeichen entfernt, da diese nicht relevant für die Verarbeitung sind. Denn ebenso wie stopwords beeinflussen sie nicht die Bedeutung des Textes. Darüber hinaus entsteht durch Satzzeichen das Risiko von Overfitting. Das Modell könnte versuchen, Zusammenhänge auf Basis der Satzzeichen aufzustellen, welche nicht dem eigentlichen Zweck des Modells dienlich sind.\n",
        "\n",
        "Anchließend wird eine neue Spalte erstellt, in der die Spalten \"headline\" (= Überschrift der Artikel), sowie \"short description\" (= kurze Beschreibung der Artikelinhalte) zusammengefügt werden. Diese Zusammenführung wird vorgenommen, um sowohl Überschrift als auch Kurzbeschreibung für die Verarbeitung verwenden zu können.\n",
        "Anschließend wird die beschriebene Funktion und somit die Datenbereinigung auf die neue Spalte angewendet.\n",
        "Im letzten Schritt wird nur die neue Spalte beibehalten, deren Inhalt nicht leer ist. Somit wird gewährleistet, dass nur relevante Daten später verarbeitet werden.\n",
        "\n"
      ]
    },
    {
      "cell_type": "code",
      "execution_count": null,
      "metadata": {
        "colab": {
          "base_uri": "https://localhost:8080/"
        },
        "id": "JxwcpqmnESk7",
        "outputId": "4fd489f6-3c50-499c-a9fb-b2a86cd5574c"
      },
      "outputs": [
        {
          "name": "stderr",
          "output_type": "stream",
          "text": [
            "[nltk_data] Downloading package punkt to\n",
            "[nltk_data]     /Users/niklaselsasser/nltk_data...\n",
            "[nltk_data]   Package punkt is already up-to-date!\n",
            "[nltk_data] Downloading package stopwords to\n",
            "[nltk_data]     /Users/niklaselsasser/nltk_data...\n",
            "[nltk_data]   Package stopwords is already up-to-date!\n",
            "[nltk_data] Downloading package wordnet to\n",
            "[nltk_data]     /Users/niklaselsasser/nltk_data...\n",
            "[nltk_data]   Package wordnet is already up-to-date!\n"
          ]
        },
        {
          "name": "stdout",
          "output_type": "stream",
          "text": [
            "    category                                     processed_text\n",
            "0  U.S. NEWS  [4, million, american, roll, sleeve, omicronta...\n",
            "1  U.S. NEWS  [american, airline, flyer, charged, banned, li...\n",
            "2     COMEDY  [23, funniest, tweet, cat, dog, week, sept, 17...\n",
            "3  PARENTING  [funniest, tweet, parent, week, sept, 1723, ac...\n",
            "4  U.S. NEWS  [woman, called, cop, black, birdwatcher, loses...\n"
          ]
        }
      ],
      "source": [
        "import nltk\n",
        "from nltk.corpus import stopwords\n",
        "from nltk.tokenize import word_tokenize\n",
        "from nltk.stem import WordNetLemmatizer\n",
        "import string\n",
        "import re\n",
        "\n",
        "# Download necessary NLTK datasets\n",
        "nltk.download('punkt')\n",
        "nltk.download('stopwords')\n",
        "nltk.download('wordnet')\n",
        "\n",
        "# Preprocessing function\n",
        "def preprocess_text(text):\n",
        "    # Lowercase the text\n",
        "    text = text.lower()\n",
        "\n",
        "    # Remove punctuation and non-alphabetical characters\n",
        "    text = re.sub(r'[^\\w\\s]', '', text)\n",
        "\n",
        "    # Tokenize\n",
        "    tokens = word_tokenize(text)\n",
        "\n",
        "    # Remove stopwords and lemmatize\n",
        "    stop_words = set(stopwords.words('english'))\n",
        "    lemmatizer = WordNetLemmatizer()\n",
        "\n",
        "    tokens = [lemmatizer.lemmatize(word) for word in tokens if word not in stop_words]\n",
        "\n",
        "    return tokens\n",
        "\n",
        "# Apply preprocessing to the headlines and short descriptions\n",
        "clean_df['processed_text'] = clean_df.apply(lambda row: preprocess_text(row['headline'] + ' ' + row['short_description']), axis=1)\n",
        "\n",
        "# Filter out empty processed_text\n",
        "processed_df = clean_df[clean_df['processed_text'].apply(len) > 0]\n",
        "\n",
        "# Inspect the processed text\n",
        "print(processed_df[['category', 'processed_text']].head())\n"
      ]
    },
    {
      "cell_type": "code",
      "execution_count": null,
      "metadata": {
        "colab": {
          "base_uri": "https://localhost:8080/",
          "height": 289
        },
        "id": "tZ_G1bIFhIr5",
        "outputId": "fef69a67-c53f-4356-a2b7-614edccd0a86"
      },
      "outputs": [
        {
          "data": {
            "text/html": [
              "<div>\n",
              "<style scoped>\n",
              "    .dataframe tbody tr th:only-of-type {\n",
              "        vertical-align: middle;\n",
              "    }\n",
              "\n",
              "    .dataframe tbody tr th {\n",
              "        vertical-align: top;\n",
              "    }\n",
              "\n",
              "    .dataframe thead th {\n",
              "        text-align: right;\n",
              "    }\n",
              "</style>\n",
              "<table border=\"1\" class=\"dataframe\">\n",
              "  <thead>\n",
              "    <tr style=\"text-align: right;\">\n",
              "      <th></th>\n",
              "      <th>headline</th>\n",
              "      <th>category</th>\n",
              "      <th>short_description</th>\n",
              "      <th>processed_text</th>\n",
              "    </tr>\n",
              "  </thead>\n",
              "  <tbody>\n",
              "    <tr>\n",
              "      <th>0</th>\n",
              "      <td>Over 4 Million Americans Roll Up Sleeves For O...</td>\n",
              "      <td>U.S. NEWS</td>\n",
              "      <td>Health experts said it is too early to predict...</td>\n",
              "      <td>[4, million, american, roll, sleeve, omicronta...</td>\n",
              "    </tr>\n",
              "    <tr>\n",
              "      <th>1</th>\n",
              "      <td>American Airlines Flyer Charged, Banned For Li...</td>\n",
              "      <td>U.S. NEWS</td>\n",
              "      <td>He was subdued by passengers and crew when he ...</td>\n",
              "      <td>[american, airline, flyer, charged, banned, li...</td>\n",
              "    </tr>\n",
              "    <tr>\n",
              "      <th>2</th>\n",
              "      <td>23 Of The Funniest Tweets About Cats And Dogs ...</td>\n",
              "      <td>COMEDY</td>\n",
              "      <td>\"Until you have a dog you don't understand wha...</td>\n",
              "      <td>[23, funniest, tweet, cat, dog, week, sept, 17...</td>\n",
              "    </tr>\n",
              "    <tr>\n",
              "      <th>3</th>\n",
              "      <td>The Funniest Tweets From Parents This Week (Se...</td>\n",
              "      <td>PARENTING</td>\n",
              "      <td>\"Accidentally put grown-up toothpaste on my to...</td>\n",
              "      <td>[funniest, tweet, parent, week, sept, 1723, ac...</td>\n",
              "    </tr>\n",
              "    <tr>\n",
              "      <th>4</th>\n",
              "      <td>Woman Who Called Cops On Black Bird-Watcher Lo...</td>\n",
              "      <td>U.S. NEWS</td>\n",
              "      <td>Amy Cooper accused investment firm Franklin Te...</td>\n",
              "      <td>[woman, called, cop, black, birdwatcher, loses...</td>\n",
              "    </tr>\n",
              "  </tbody>\n",
              "</table>\n",
              "</div>"
            ],
            "text/plain": [
              "                                            headline   category  \\\n",
              "0  Over 4 Million Americans Roll Up Sleeves For O...  U.S. NEWS   \n",
              "1  American Airlines Flyer Charged, Banned For Li...  U.S. NEWS   \n",
              "2  23 Of The Funniest Tweets About Cats And Dogs ...     COMEDY   \n",
              "3  The Funniest Tweets From Parents This Week (Se...  PARENTING   \n",
              "4  Woman Who Called Cops On Black Bird-Watcher Lo...  U.S. NEWS   \n",
              "\n",
              "                                   short_description  \\\n",
              "0  Health experts said it is too early to predict...   \n",
              "1  He was subdued by passengers and crew when he ...   \n",
              "2  \"Until you have a dog you don't understand wha...   \n",
              "3  \"Accidentally put grown-up toothpaste on my to...   \n",
              "4  Amy Cooper accused investment firm Franklin Te...   \n",
              "\n",
              "                                      processed_text  \n",
              "0  [4, million, american, roll, sleeve, omicronta...  \n",
              "1  [american, airline, flyer, charged, banned, li...  \n",
              "2  [23, funniest, tweet, cat, dog, week, sept, 17...  \n",
              "3  [funniest, tweet, parent, week, sept, 1723, ac...  \n",
              "4  [woman, called, cop, black, birdwatcher, loses...  "
            ]
          },
          "execution_count": 9,
          "metadata": {},
          "output_type": "execute_result"
        }
      ],
      "source": [
        "processed_df.head(5)"
      ]
    },
    {
      "cell_type": "markdown",
      "metadata": {
        "id": "f0IInK5ELjtL"
      },
      "source": [
        "Step 1-4 are from LDAPrototype **Paper**\n",
        "\n",
        "Um die Qualität des Modells zu verbessern, werden auch während der Datenverarbeitung einige Bereinigungen vorgenommen. So wird geprüft, ob die Wörter des Datensatzes Ziffern enthalten. Falls ja, werden diese entfernt. Darüber hinaus werden Wörter entfernt, welche durch ihre Kürze vermutlich keine Relevanz besitzen. Beispielhaft sind hierfür die Worte \"to\" und \"in\"."
      ]
    },
    {
      "cell_type": "code",
      "execution_count": null,
      "metadata": {
        "colab": {
          "base_uri": "https://localhost:8080/"
        },
        "id": "IzHEi_WYGSXb",
        "outputId": "2fe1e73e-0e61-4e8e-ca30-376b807ad2b8"
      },
      "outputs": [
        {
          "name": "stderr",
          "output_type": "stream",
          "text": [
            "/var/folders/3t/mgckmfnn5p745wd8_80ywb0c0000gn/T/ipykernel_12256/2393919608.py:4: SettingWithCopyWarning: \n",
            "A value is trying to be set on a copy of a slice from a DataFrame.\n",
            "Try using .loc[row_indexer,col_indexer] = value instead\n",
            "\n",
            "See the caveats in the documentation: https://pandas.pydata.org/pandas-docs/stable/user_guide/indexing.html#returning-a-view-versus-a-copy\n",
            "  processed_df['processed_text'] = processed_df['processed_text'].apply(lambda x: [word for word in x if not re.search(r'\\d', word)])\n"
          ]
        },
        {
          "name": "stdout",
          "output_type": "stream",
          "text": [
            "                                            headline   category  \\\n",
            "0  Over 4 Million Americans Roll Up Sleeves For O...  U.S. NEWS   \n",
            "1  American Airlines Flyer Charged, Banned For Li...  U.S. NEWS   \n",
            "2  23 Of The Funniest Tweets About Cats And Dogs ...     COMEDY   \n",
            "3  The Funniest Tweets From Parents This Week (Se...  PARENTING   \n",
            "4  Woman Who Called Cops On Black Bird-Watcher Lo...  U.S. NEWS   \n",
            "\n",
            "                                   short_description  \\\n",
            "0  Health experts said it is too early to predict...   \n",
            "1  He was subdued by passengers and crew when he ...   \n",
            "2  \"Until you have a dog you don't understand wha...   \n",
            "3  \"Accidentally put grown-up toothpaste on my to...   \n",
            "4  Amy Cooper accused investment firm Franklin Te...   \n",
            "\n",
            "                                      processed_text  \n",
            "0  [million, american, roll, sleeve, omicrontarge...  \n",
            "1  [american, airline, flyer, charged, banned, li...  \n",
            "2  [funniest, tweet, cat, dog, week, sept, dog, d...  \n",
            "3  [funniest, tweet, parent, week, sept, accident...  \n",
            "4  [woman, called, cop, black, birdwatcher, loses...  \n"
          ]
        },
        {
          "name": "stderr",
          "output_type": "stream",
          "text": [
            "/var/folders/3t/mgckmfnn5p745wd8_80ywb0c0000gn/T/ipykernel_12256/2393919608.py:17: SettingWithCopyWarning: \n",
            "A value is trying to be set on a copy of a slice from a DataFrame.\n",
            "Try using .loc[row_indexer,col_indexer] = value instead\n",
            "\n",
            "See the caveats in the documentation: https://pandas.pydata.org/pandas-docs/stable/user_guide/indexing.html#returning-a-view-versus-a-copy\n",
            "  processed_df['processed_text'] = processed_df['processed_text'].apply(lambda x: [word for word in x if len(word) > 2])\n"
          ]
        }
      ],
      "source": [
        "from sklearn.feature_extraction.text import TfidfVectorizer\n",
        "\n",
        "# 1. Remove all numbers from the processed_text column\n",
        "processed_df['processed_text'] = processed_df['processed_text'].apply(lambda x: [word for word in x if not re.search(r'\\d', word)])\n",
        "\n",
        "# 2. Flatten processed_text for TF-IDF input\n",
        "corpus = [\" \".join(tokens) for tokens in processed_df['processed_text']]\n",
        "\n",
        "# 3. Initialize TF-IDF Vectorizer\n",
        "vectorizer = TfidfVectorizer(min_df=10)  # min_df removes terms that appear in fewer than 10 documents\n",
        "tfidf_matrix = vectorizer.fit_transform(corpus)\n",
        "\n",
        "# 4. Get feature names (words) and sort them by importance\n",
        "feature_names = vectorizer.get_feature_names_out()\n",
        "\n",
        "#Some very short words (e.g., one or two characters like \"a\", \"is\", etc.) may still remain despite removing stopwords, which might not be very informative.\n",
        "processed_df['processed_text'] = processed_df['processed_text'].apply(lambda x: [word for word in x if len(word) > 2])\n",
        "\n",
        "\n",
        "# Show the modified DataFrame\n",
        "print(processed_df.head())"
      ]
    },
    {
      "cell_type": "code",
      "execution_count": null,
      "metadata": {
        "colab": {
          "base_uri": "https://localhost:8080/",
          "height": 289
        },
        "id": "2SPM4DI0Izqo",
        "outputId": "b7feda94-529d-45e4-864a-43556a7577bd"
      },
      "outputs": [
        {
          "data": {
            "text/html": [
              "<div>\n",
              "<style scoped>\n",
              "    .dataframe tbody tr th:only-of-type {\n",
              "        vertical-align: middle;\n",
              "    }\n",
              "\n",
              "    .dataframe tbody tr th {\n",
              "        vertical-align: top;\n",
              "    }\n",
              "\n",
              "    .dataframe thead th {\n",
              "        text-align: right;\n",
              "    }\n",
              "</style>\n",
              "<table border=\"1\" class=\"dataframe\">\n",
              "  <thead>\n",
              "    <tr style=\"text-align: right;\">\n",
              "      <th></th>\n",
              "      <th>headline</th>\n",
              "      <th>category</th>\n",
              "      <th>short_description</th>\n",
              "      <th>processed_text</th>\n",
              "    </tr>\n",
              "  </thead>\n",
              "  <tbody>\n",
              "    <tr>\n",
              "      <th>0</th>\n",
              "      <td>Over 4 Million Americans Roll Up Sleeves For O...</td>\n",
              "      <td>U.S. NEWS</td>\n",
              "      <td>Health experts said it is too early to predict...</td>\n",
              "      <td>[million, american, roll, sleeve, omicrontarge...</td>\n",
              "    </tr>\n",
              "    <tr>\n",
              "      <th>1</th>\n",
              "      <td>American Airlines Flyer Charged, Banned For Li...</td>\n",
              "      <td>U.S. NEWS</td>\n",
              "      <td>He was subdued by passengers and crew when he ...</td>\n",
              "      <td>[american, airline, flyer, charged, banned, li...</td>\n",
              "    </tr>\n",
              "    <tr>\n",
              "      <th>2</th>\n",
              "      <td>23 Of The Funniest Tweets About Cats And Dogs ...</td>\n",
              "      <td>COMEDY</td>\n",
              "      <td>\"Until you have a dog you don't understand wha...</td>\n",
              "      <td>[funniest, tweet, cat, dog, week, sept, dog, d...</td>\n",
              "    </tr>\n",
              "    <tr>\n",
              "      <th>3</th>\n",
              "      <td>The Funniest Tweets From Parents This Week (Se...</td>\n",
              "      <td>PARENTING</td>\n",
              "      <td>\"Accidentally put grown-up toothpaste on my to...</td>\n",
              "      <td>[funniest, tweet, parent, week, sept, accident...</td>\n",
              "    </tr>\n",
              "    <tr>\n",
              "      <th>4</th>\n",
              "      <td>Woman Who Called Cops On Black Bird-Watcher Lo...</td>\n",
              "      <td>U.S. NEWS</td>\n",
              "      <td>Amy Cooper accused investment firm Franklin Te...</td>\n",
              "      <td>[woman, called, cop, black, birdwatcher, loses...</td>\n",
              "    </tr>\n",
              "  </tbody>\n",
              "</table>\n",
              "</div>"
            ],
            "text/plain": [
              "                                            headline   category  \\\n",
              "0  Over 4 Million Americans Roll Up Sleeves For O...  U.S. NEWS   \n",
              "1  American Airlines Flyer Charged, Banned For Li...  U.S. NEWS   \n",
              "2  23 Of The Funniest Tweets About Cats And Dogs ...     COMEDY   \n",
              "3  The Funniest Tweets From Parents This Week (Se...  PARENTING   \n",
              "4  Woman Who Called Cops On Black Bird-Watcher Lo...  U.S. NEWS   \n",
              "\n",
              "                                   short_description  \\\n",
              "0  Health experts said it is too early to predict...   \n",
              "1  He was subdued by passengers and crew when he ...   \n",
              "2  \"Until you have a dog you don't understand wha...   \n",
              "3  \"Accidentally put grown-up toothpaste on my to...   \n",
              "4  Amy Cooper accused investment firm Franklin Te...   \n",
              "\n",
              "                                      processed_text  \n",
              "0  [million, american, roll, sleeve, omicrontarge...  \n",
              "1  [american, airline, flyer, charged, banned, li...  \n",
              "2  [funniest, tweet, cat, dog, week, sept, dog, d...  \n",
              "3  [funniest, tweet, parent, week, sept, accident...  \n",
              "4  [woman, called, cop, black, birdwatcher, loses...  "
            ]
          },
          "execution_count": 11,
          "metadata": {},
          "output_type": "execute_result"
        }
      ],
      "source": [
        "processed_df.head(5)"
      ]
    },
    {
      "cell_type": "markdown",
      "metadata": {
        "id": "uZ_Bpqtg7Qze"
      },
      "source": [
        "For further settings and performance of the LDAProtoype is it helpful to visualize the following parameter:\n",
        "* Size of Corpus C\n",
        "* Amount of texts M\n",
        "* Vocabulary size V\n",
        "* *avg.M* size in column processed_text\n",
        "\n",
        "Where Corpus is the total amount of texts in the column *processed_text*, the total amount of texts M measured by rows in the Dataset and the Vocabulary V with all unique Words in M.\n",
        "\n",
        "With *avg.M* beeing the average amount of Words in column *processed_text* over C."
      ]
    },
    {
      "cell_type": "code",
      "execution_count": null,
      "metadata": {
        "id": "VCjiR6qX7Qzf",
        "outputId": "ba0bd9b8-f881-4d3c-b0bb-5b618e30c022"
      },
      "outputs": [
        {
          "name": "stdout",
          "output_type": "stream",
          "text": [
            "Größe des Korpus (C) in 'processed_text': 3586718\n"
          ]
        }
      ],
      "source": [
        "# Annahme: processed_df ist bereits definiert und enthält keine NaN-Werte in 'processed_text'\n",
        "df = processed_df\n",
        "\n",
        "\n",
        "# Wörter in 'processed_text' zählen und die Gesamtanzahl berechnen\n",
        "corpus_size = df['processed_text'].apply(len).sum()\n",
        "\n",
        "print(f\"Größe des Korpus (C) in 'processed_text': {corpus_size}\")"
      ]
    },
    {
      "cell_type": "code",
      "execution_count": null,
      "metadata": {
        "id": "9icqabBh7Qzg",
        "outputId": "c130dc84-d1e0-48d4-9922-97f7922b35f4"
      },
      "outputs": [
        {
          "name": "stdout",
          "output_type": "stream",
          "text": [
            "Anzahl der Zeilen (M) in 'processed_text': 209516\n"
          ]
        }
      ],
      "source": [
        "# Annahme: processed_df ist bereits definiert\n",
        "df = processed_df\n",
        "\n",
        "# Anzahl der Zeilen in der Spalte 'processed_text' zählen\n",
        "row_count = len(df['processed_text'])\n",
        "\n",
        "print(f\"Anzahl der Zeilen (M) in 'processed_text': {row_count}\")"
      ]
    },
    {
      "cell_type": "code",
      "execution_count": null,
      "metadata": {
        "id": "Lml9BnST7Qzg",
        "outputId": "7752fce2-e0b3-4357-d165-07a8c794ca58"
      },
      "outputs": [
        {
          "name": "stdout",
          "output_type": "stream",
          "text": [
            "Größe des Vokabulars (V) in 'processed_text': 99325\n"
          ]
        }
      ],
      "source": [
        "# Annahme: processed_df ist bereits definiert und enthält keine NaN-Werte in 'processed_text'\n",
        "df = processed_df\n",
        "\n",
        "# Überprüfen und Entfernen von NaN-Werten in 'processed_text'\n",
        "df = df.dropna(subset=['processed_text'])\n",
        "\n",
        "# Alle Wörter in 'processed_text' sammeln und die Größe des Vokabulars berechnen\n",
        "vocabulary = set(word for text in df['processed_text'] for word in text)\n",
        "vocabulary_size = len(vocabulary)\n",
        "\n",
        "print(f\"Größe des Vokabulars (V) in 'processed_text': {vocabulary_size}\")"
      ]
    },
    {
      "cell_type": "markdown",
      "metadata": {
        "id": "GsK1uCFp7Qzh"
      },
      "source": [
        "The value of the average wordcount per headline, short_description and processed_text is relevant to choose a viable size for num_topics when training multiple LDAs later on."
      ]
    },
    {
      "cell_type": "code",
      "execution_count": null,
      "metadata": {
        "id": "Q9cw6ek17Qzh",
        "outputId": "55c4210c-d06e-4c19-c71f-90d1ff326167"
      },
      "outputs": [
        {
          "name": "stdout",
          "output_type": "stream",
          "text": [
            "Avg headline word count: 9.60\n",
            "Avg short description word count: 19.67\n",
            "Avg processed_text (avg.M) word count: 17.12\n"
          ]
        }
      ],
      "source": [
        "df = processed_df.copy()\n",
        "\n",
        "# Wörter in 'headline', 'short_description' und 'processed_text' zählen\n",
        "df.loc[:, 'headline_word_count'] = df['headline'].apply(lambda x: len(x.split()))\n",
        "df.loc[:, 'short_description_word_count'] = df['short_description'].apply(lambda x: len(x.split()))\n",
        "df.loc[:, 'processed_text_word_count'] = df['processed_text'].apply(lambda x: len(x))\n",
        "\n",
        "# Max, Min und Durchschnitt Wortanzahl berechnen\n",
        "max_headline_word_count = df['headline_word_count'].max()\n",
        "min_headline_word_count = df['headline_word_count'].min()\n",
        "avg_headline_word_count = df['headline_word_count'].mean()\n",
        "\n",
        "max_short_description_word_count = df['short_description_word_count'].max()\n",
        "min_short_description_word_count = df['short_description_word_count'].min()\n",
        "avg_short_description_word_count = df['short_description_word_count'].mean()\n",
        "\n",
        "max_processed_text_word_count = df['processed_text_word_count'].max()\n",
        "min_processed_text_word_count = df['processed_text_word_count'].min()\n",
        "avg_processed_text_word_count = df['processed_text_word_count'].mean()\n",
        "\n",
        "# Ausgabe der Wortanzahl und der Max/Min/Durchschnitt Werte\n",
        "#print(f\"Max headline word count: {max_headline_word_count}\")\n",
        "#print(f\"Min headline word count: {min_headline_word_count}\")\n",
        "print(f\"Avg headline word count: {avg_headline_word_count:.2f}\")\n",
        "\n",
        "#print(f\"Max short description word count: {max_short_description_word_count}\")\n",
        "#print(f\"Min short description word count: {min_short_description_word_count}\")\n",
        "print(f\"Avg short description word count: {avg_short_description_word_count:.2f}\")\n",
        "\n",
        "#print(f\"Max processed text word count: {max_processed_text_word_count}\")\n",
        "#print(f\"Min processed text word count: {min_processed_text_word_count}\")\n",
        "print(f\"Avg processed_text (avg.M) word count: {avg_processed_text_word_count:.2f}\")"
      ]
    },
    {
      "cell_type": "markdown",
      "metadata": {
        "id": "EdlM_2KL7Qzi"
      },
      "source": [
        "optional version to the code above (hidden)"
      ]
    },
    {
      "cell_type": "code",
      "execution_count": null,
      "metadata": {
        "id": "Sx5pqQlV7Qzj",
        "outputId": "24fe8f57-1934-4661-8d65-3f1e81c22b83"
      },
      "outputs": [
        {
          "name": "stderr",
          "output_type": "stream",
          "text": [
            "/var/folders/3t/mgckmfnn5p745wd8_80ywb0c0000gn/T/ipykernel_12256/2845539341.py:25: SettingWithCopyWarning: \n",
            "A value is trying to be set on a copy of a slice from a DataFrame.\n",
            "Try using .loc[row_indexer,col_indexer] = value instead\n",
            "\n",
            "See the caveats in the documentation: https://pandas.pydata.org/pandas-docs/stable/user_guide/indexing.html#returning-a-view-versus-a-copy\n",
            "  df['headline_word_count'] = count_words(df, 'headline')\n",
            "/var/folders/3t/mgckmfnn5p745wd8_80ywb0c0000gn/T/ipykernel_12256/2845539341.py:26: SettingWithCopyWarning: \n",
            "A value is trying to be set on a copy of a slice from a DataFrame.\n",
            "Try using .loc[row_indexer,col_indexer] = value instead\n",
            "\n",
            "See the caveats in the documentation: https://pandas.pydata.org/pandas-docs/stable/user_guide/indexing.html#returning-a-view-versus-a-copy\n",
            "  df['short_description_word_count'] = count_words(df, 'short_description')\n",
            "/var/folders/3t/mgckmfnn5p745wd8_80ywb0c0000gn/T/ipykernel_12256/2845539341.py:27: SettingWithCopyWarning: \n",
            "A value is trying to be set on a copy of a slice from a DataFrame.\n",
            "Try using .loc[row_indexer,col_indexer] = value instead\n",
            "\n",
            "See the caveats in the documentation: https://pandas.pydata.org/pandas-docs/stable/user_guide/indexing.html#returning-a-view-versus-a-copy\n",
            "  df['processed_text_word_count'] = df['processed_text'].apply(lambda x: len(x))\n"
          ]
        }
      ],
      "source": [
        "import pandas as pd\n",
        "\n",
        "def count_words(df, column_name):\n",
        "    \"\"\"Zählt die Wörter in einer angegebenen Spalte.\"\"\"\n",
        "    return df[column_name].apply(lambda x: len(x.split()))\n",
        "\n",
        "def calculate_statistics(df, column_name):\n",
        "    \"\"\"Berechnet die Max-, Min- und Durchschnittswerte der Wortanzahl in einer angegebenen Spalte.\"\"\"\n",
        "    max_count = df[column_name].max()\n",
        "    min_count = df[column_name].min()\n",
        "    avg_count = df[column_name].mean()\n",
        "    return max_count, min_count, avg_count\n",
        "\n",
        "def print_statistics(statistics, column_label):\n",
        "    \"\"\"Gibt die Max-, Min- und Durchschnittswerte der Wortanzahl aus.\"\"\"\n",
        "    max_count, min_count, avg_count = statistics\n",
        "    print(f\"Max {column_label} word count: {max_count}\")\n",
        "    print(f\"Min {column_label} word count: {min_count}\")\n",
        "    print(f\"Avg {column_label} word count: {avg_count:.2f}\")\n",
        "\n",
        "# Annahme: processed_df ist bereits definiert\n",
        "df = processed_df\n",
        "\n",
        "# Wörter in 'headline', 'short_description' und 'processed_text' zählen\n",
        "df['headline_word_count'] = count_words(df, 'headline')\n",
        "df['short_description_word_count'] = count_words(df, 'short_description')\n",
        "df['processed_text_word_count'] = df['processed_text'].apply(lambda x: len(x))\n",
        "\n",
        "# Max, Min und Durchschnitt Wortanzahl berechnen und ausgeben\n",
        "headline_stats = calculate_statistics(df, 'headline_word_count')\n",
        "short_description_stats = calculate_statistics(df, 'short_description_word_count')\n",
        "processed_text_stats = calculate_statistics(df, 'processed_text_word_count')\n",
        "\n",
        "#print_statistics(headline_stats, 'headline')\n",
        "#print_statistics(short_description_stats, 'short description')\n",
        "#print_statistics(processed_text_stats, 'processed text')"
      ]
    },
    {
      "cell_type": "markdown",
      "metadata": {
        "id": "OqWb2G2F-DlH"
      },
      "source": [
        "Now the *processed_text* colum, that contains the cleaned texts gets converted into a gensim dictionary, which maps the unique Words (tokens) *V* from *C(M)* to unique integer IDs.\n",
        "\n",
        "For Example with a df and a column *['animals']* looking like this:\n",
        "1. [['cat', 'miau'],['dog', 'bark'],['cat', 'dog']]\n",
        "2. {0: 'cat', 1: 'miau', 2: 'dog', 3: 'bark'}\n",
        "\n",
        "When the Dictionary is created, certain words are filtered out with *filter_extremes* to further improve the data, in this case for *no_below*, 2 was chosen  and for *no_above* 0.5 was defined as the right amount, to not change data in a meaningful way.\n",
        "\n",
        "Lastly, a Bag of Words is created to convert the corpus in a format functionable for the LDA process. This is done with doc2bow by converting the dictionary into a list of tuples, where each tuple consists of an ID (the word from the dictionary) and the frequency (count of the word in the document)."
      ]
    },
    {
      "cell_type": "markdown",
      "metadata": {
        "id": "wmTImUve7Qzk"
      },
      "source": [
        "Im letzten Schritt vor der tatsächlichen Ausführung des Modells, wird ein Gensim-Wörterbuch aus der finalen Spalte erstellt. Das bedeutet, dass für jede Zeile (= entspricht einem Dokument) eine Liste von tokenisierten Wörtern erstellt wird. Dieses Wörterbuch wird wiederum ebenfalls bereinigt. So werden zum einen Wörter, welche in weniger als einem Dokument vorkommen, entfernt, da sie durch ihre Seltenheit nicht besonders aussagekräftig sind. Darüber hinaus werden aus demselben Grund Wörter entfernt, welche in mehr als 50% der Dokumente vorkommen. Der Vorteil dieser Filterung ist, dass nur die relevantesten Wörter übrig bleiben."
      ]
    },
    {
      "cell_type": "code",
      "execution_count": null,
      "metadata": {
        "id": "41VJNNFpmztq"
      },
      "outputs": [],
      "source": [
        "# Create a Gensim dictionary from the 'processed_text' column\n",
        "dictionary = corpora.Dictionary(processed_df['processed_text'])\n",
        "\n",
        "# Filter out extremes to limit the number of features\n",
        "dictionary.filter_extremes(no_below=2, no_above=0.5)\n",
        "\n",
        "# Convert tokenized documents into a Bag of Words (BOW) format\n",
        "corpus = [dictionary.doc2bow(text) for text in processed_df['processed_text']]"
      ]
    },
    {
      "cell_type": "markdown",
      "source": [
        "Bei der Entwicklung des Modells wurde kein Data Splitting angewendet, da dies bei LDAs nicht notwendig ist. LDAs treffen keine Vorhersagen, sondern beziehen sich auf bereits vorhandene Daten, dementsprechend müssen sie nicht für unbekannte Daten vorbereitet werden. Zudem verbessert sich ein LDA je mehr Daten zur Verfügung stehen. Diese Anzahl und somit die Qualität des Modells würde sich durch Data Splitting verringern, was vermieden werden soll."
      ],
      "metadata": {
        "id": "9ezVkSpK8SRQ"
      }
    },
    {
      "cell_type": "markdown",
      "metadata": {
        "id": "9lSGvM8jzzu4"
      },
      "source": [
        "# Improved LDA (LDAPrototype)\n",
        "Von Rieger et al. (2020) wurde mit LDAPrototype eine Methode vorgestellt, um das klassische LDA-Modell und damit einhergehende Probleme zu verbessern. Das herkömmliche LDA-Verfahren ist empfindlich, wenn es um die zufällige Initialisierung der Themenzuweisung geht, LDAPrototype hingegen reduziert die vom Zufall (stochastischen) abhängigen Komponenten. Dadurch erhöht sich die Zuverlässigkeit der aus dem resultierenden Prototypenmodell generierten Schlussfolgerungen.\n",
        "\n",
        "Das Prototypenmodell wird aus einer Menge (in der Regel etwa 100) unabhängig voneinander modellierter LDA-Läufe als das mit den zentralsten Werten ausgewählt. Das Verfahren kann mit der Berechnung des Medians in Abhängigkeit von nur einer Variable (univariant) verglichen werden (Rieger et al. (2020, Juni)).\n",
        "\n",
        "LDAPrototype nutzt dabei die Ähnlichkeit der Themen, gemessen durch den abgewandelten Jaccard-Koeffizienten für die Wortzahlvektoren $w_i$ und $w_j$ der entsprechenden Themen und $c$ als Vektor der Untergrenze:\n",
        "\n",
        "$$\n",
        "J_m(w_i, w_j) = \\frac{\\sum_{v=1}^{V} 1\\{n_i^{(*v)} > c_i \\land n_j^{(*v)} > c_j\\}}{\\sum_{v=1}^{V} 1\\{n_i^{(*v)} > c_i \\lor n_j^{(*v)} > c_j\\}}\n",
        "$$\n",
        "\n",
        "Wörter werden als relevant für ein Thema angenommen, wenn die Anzahl der Wörter den Wert $c$ als Grenze überschreiten. Der Wert $c$ stellt somit den Schwellenwert als veränderten, herkömmlichen Jaccard-Koeffizienten dar und kann absolut, relativ oder als Kombination beider Werte gewählt werden.\n",
        "\n",
        "Die Kernfunktionalität von LDAPrototype besteht darin, zwei unabhängige LDAs mithilfe von Complete Linkage anhand der zugrundeliegenden Themenähnlichkeit der LDAs zu clustern.\n",
        "$G$ ist dann ein beschnittenes (pruned) Clusterergebnis, mit dem Ziel nur eine Teilmenge der gesamten Cluster für die weitere Analyse oder Berechnung zu berücksichtigen, um die Effizienz zu steigern und Übersichtlichkeit zu erhöhen (Schütze et al. (2008)). $G$ besteht somit aus einzelnen Gruppen $g$, welche aus Themen bestehen und wiederum in Gruppen von $g|1$ und $g|2$ unterteilt werden und sich auf Themen des LDA-Durchlaufes beschränken. Die Methode hat das Ziel einen pruning Zustand zu erreichen in welchem $g|1$ und $g|2$ jeweils nur aus einem Thema für alle $g∈G$ bestehen. Erreicht wird dies, indem das LDA-Ähnlichkeitsmaßes (s. h. Wahrscheinlichkeitsmodell LDA) $S-CLOP$ (Similarity of Multiple Sets by Clustering with Local Pruning - Ähnlichkeit mehrerer Mengen durch Clustering mit lokalem Pruning) maximiert wird. $S-CLOP$ ist ein Maß um die Stabilität von LDA-Modellen zu bewerten (Rieger at al. (2020))\n",
        "\n",
        "$$\n",
        "S\\text{-}CLOP(G) = 1 - \\frac{1}{2K} \\sum_{g \\in G} |g| \\left( \\left( |g_{|1}| - 1 \\right) + \\left| |g_{|2}| - 1 \\right| \\right)\n",
        "$$\n",
        "\n",
        "Der beste Pruning Zustand ist $G^* = \\arg\\max \\{ S\\text{-}CLOP(G) \\}$ bestimmt. Das Prototypmodell einer Menge von LDAs wird durch Maximierung der mittleren paarweisen Ähnlichkeit eines LDA-Modelles mit allen anderen Modellen ausgewählt (Rieger et al. (2020 Juni)\n",
        "\n",
        "Im Rahmen des Projektes wurde LDAPrototype anhand eines Corpuses mit folgenden Parametern umgesetzt.\n",
        "* $M$ = 209.516\n",
        "* $V$ = 104.639\n",
        "* $∅M$ von Processed_Text: 17.74\n",
        "\n",
        "Aufgrund der Tatsache das die vorgestellte methode für LDAPrototype in R programmiert wurde und dieses Projekt in Python umgesetzt ist, kommt es vor das die implementierte Lösung davon abweicht.\n",
        "Der LDAPrototype Ablauf sieht anschließen wie folgt aus: Anfangs wird mit num_runs die Anzahl N von LDAs definiert.\n",
        "\n",
        "\n",
        "To achieve good results in an executable and viable time-frame (in contrast to the version proposed by (Rieger et al.(2020 June))) the number of LDA runs (*num_runs*) the amount of collected topics (*num_topics*) and iterations (*passes*) for each LDA per Corpus has to be rather limited. Therefore the following parameter were chosen:\n",
        "* *num_topics* = 20, since the $∅M$ is 17.74 and the average wordcount for *short_description* is 19.67\n",
        "* *num_runs* = 300, to get good results (took about XX hours to complete)\n",
        "* *passes* = 20, was chosen because the tradeoff for bigger values wasnt really worth the results"
      ]
    },
    {
      "cell_type": "markdown",
      "metadata": {
        "id": "fi64N0vS7Qzm"
      },
      "source": [
        "1. V0 10 topics, 4 runs, 15 passes - complete\n",
        "2. V1 15 topics, 5 runs, 15 passes - complete\n",
        "3. V2 30 topics, 10 runs, 20 passes - complete\n",
        "4. V3 10 topics, 4 runs, 30 passes - complete\n",
        "5. V4 30 topics, 10 runs, 30 passes - complete\n",
        "6. V5 10 topics, 2 runs, 50 passes - complete\n",
        "7. V6 num_topics=10, runs=40, passes=10, corpus large - complete\n",
        "8.  VSC1 num_topics=15, num runs=2, passes=20, corpus[:1000] - complete\n",
        "9.  VSC2 num_topics=15, runs=40, passes=20, corpus large - complete, about 6 h\n",
        "10. VSC3 num_topics=30, runs=150, passes=20 corpus large - complete\n",
        "11. VSC4 num_topics=20, runs=200, passes=20, corpus large - completion about 14 h\n",
        "12. VSC5 num_topics=20, runs=300, passes=20, corpus large -"
      ]
    },
    {
      "cell_type": "markdown",
      "metadata": {
        "id": "bXyAKQgL7Qzn"
      },
      "source": [
        "\n",
        "*We'll run multiple LDA models with different random seeds to capture variability and then analyze the similarities between topics across these models.*\n"
      ]
    },
    {
      "cell_type": "code",
      "execution_count": null,
      "metadata": {
        "id": "eQcPr5Xy7Qzn",
        "outputId": "fdb2ee34-a326-4d24-ad60-6c2cce982c16"
      },
      "outputs": [
        {
          "name": "stdout",
          "output_type": "stream",
          "text": [
            "Run 1/4 started at 2024-10-14 16:56:25 and ended at 2024-10-14 16:56:28\n",
            "Run 1 completed in 0.05 minutes\n",
            "Run 2/4 started at 2024-10-14 16:56:28 and ended at 2024-10-14 16:56:31\n",
            "Run 2 completed in 0.05 minutes\n",
            "Run 3/4 started at 2024-10-14 16:56:31 and ended at 2024-10-14 16:56:33\n",
            "Run 3 completed in 0.05 minutes\n",
            "Run 4/4 started at 2024-10-14 16:56:33 and ended at 2024-10-14 16:56:36\n",
            "Run 4 completed in 0.05 minutes\n"
          ]
        }
      ],
      "source": [
        "\n",
        "\n",
        "def run_multiple_ldas(corpus, dictionary, num_topics=10, num_runs=4, passes=15, random_state=None):\n",
        "    \"\"\"\n",
        "    Run multiple LDA models on the given corpus and dictionary.\n",
        "\n",
        "    Parameters:\n",
        "    corpus (list of list of (int, int)): The corpus in Bag of Words (BOW) format.\n",
        "    dictionary (gensim.corpora.Dictionary): The dictionary mapping of word IDs to words.\n",
        "    num_topics (int, optional): The number of topics to extract. Default is 10.\n",
        "    num_runs (int, optional): The number of LDA models to run. Default is 4.\n",
        "    passes (int, optional): The number of passes through the corpus during training. Default is 15.\n",
        "    random_state (int, optional): The seed for random number generation. If None, a random seed is used for each run. Default is None.\n",
        "\n",
        "    Returns:\n",
        "    tuple: A tuple containing:\n",
        "        - lda_models (list of gensim.models.LdaModel): The list of trained LDA models.\n",
        "        - run_df (pandas.DataFrame): A DataFrame containing the run details (start time, end time, duration) for each LDA model.\n",
        "    \"\"\"\n",
        "    lda_models = []\n",
        "    run_data = []\n",
        "\n",
        "    for i in range(num_runs):\n",
        "        seed = random.randint(1, 10000) if random_state is None else random_state + i\n",
        "\n",
        "        start_time = time.time()  # Start the timer\n",
        "        start_clock_time = time.strftime(\"%Y-%m-%d %H:%M:%S\", time.localtime(start_time))  # Record start clock time\n",
        "\n",
        "        lda = gensim.models.LdaModel(\n",
        "            corpus=corpus,\n",
        "            id2word=dictionary,\n",
        "            num_topics=num_topics,\n",
        "            random_state=seed,\n",
        "            passes=passes,\n",
        "            alpha='auto',\n",
        "            eta='auto'\n",
        "        )\n",
        "\n",
        "        end_time = time.time()  # End the timer\n",
        "        end_clock_time = time.strftime(\"%Y-%m-%d %H:%M:%S\", time.localtime(end_time))  # Record end clock time\n",
        "        duration = (end_time - start_time) / 60  # Calculate time taken in minutes\n",
        "\n",
        "        print(f'Run {i+1}/{num_runs} started at {start_clock_time} and ended at {end_clock_time}')\n",
        "        print(f'Run {i+1} completed in {duration:.2f} minutes')\n",
        "\n",
        "        # Append the run details to the list\n",
        "        run_data.append({\n",
        "            'Run': i + 1,\n",
        "            'Start Time': start_clock_time,\n",
        "            'End Time': end_clock_time,\n",
        "            'Duration (minutes)': duration\n",
        "        })\n",
        "\n",
        "        lda_models.append(lda)\n",
        "\n",
        "    # Convert the run data to a pandas DataFrame\n",
        "    run_df = pd.DataFrame(run_data)\n",
        "\n",
        "    return lda_models, run_df\n",
        "\n",
        "# Example usage of the function\n",
        "#lda_models, run_df = run_multiple_ldas(corpus, dictionary, num_topics=20, num_runs=200, passes=20, random_state=42)\n",
        "\n",
        "# test if model is working on small data corpus\n",
        "small_corpus = corpus[:1000]  # Use the first 1000 documents as a subset\n",
        "lda_models, run_df = run_multiple_ldas(small_corpus, dictionary, num_topics=10, num_runs=4, passes=15, random_state=42)\n",
        "\n",
        "# Display the DataFrame\n",
        "#print(run_df)\n"
      ]
    },
    {
      "cell_type": "code",
      "execution_count": null,
      "metadata": {
        "id": "BaQpRh3b7Qzo"
      },
      "outputs": [],
      "source": [
        "# Save the run_df DataFrame to a CSV filen_df DataFrame to a CSV filen_df DataFrame to a CSV file\n",
        "run_df.to_csv('/Users/niklaselsasser/Code/bug-free-fishstick/visuals/VSC5_run_data.csv', index=False)"
      ]
    },
    {
      "cell_type": "markdown",
      "metadata": {
        "id": "BrvEKYi77Qzo"
      },
      "source": [
        "In the following Code, the pruning result is created by the method described before ($g|1$, $g|2$ for $g∈G$)."
      ]
    },
    {
      "cell_type": "code",
      "execution_count": null,
      "metadata": {
        "id": "tvX_5TCrnExG"
      },
      "outputs": [],
      "source": [
        "def extract_topics(lda_models, num_words=10):\n",
        "    \"\"\"\n",
        "    Extracts topics from a list of LDA models.\n",
        "\n",
        "    Args:\n",
        "        lda_models (list): A list of LDA model instances.\n",
        "        num_words (int, optional): The number of words to display for each topic. Defaults to 10.\n",
        "\n",
        "    Returns:\n",
        "        list: A list of topics for each LDA model. Each element in the list is a list of tuples,\n",
        "              where each tuple contains the topic ID and a list of word-probability pairs.\n",
        "    \"\"\"\n",
        "    all_topics = []\n",
        "    for lda in lda_models:\n",
        "        topics = lda.show_topics(num_topics=-1, num_words=num_words, formatted=False)\n",
        "        all_topics.append(topics)\n",
        "    return all_topics\n",
        "\n",
        "all_topics = extract_topics(lda_models, num_words=10)"
      ]
    },
    {
      "cell_type": "markdown",
      "metadata": {
        "id": "Ww9lzVgx7Qzp"
      },
      "source": [
        "Now the LDAPrototype Method measures the similarity between topics from the different LDA runs, by measuring the *cosine*, *jaccard* and *jsd* similarity for the wordcount vectors $w_i$ and $w_j$ of the Topics and takes $c$ as vector of the lower bounds (Rieger et al.(2020 June)), as described previously."
      ]
    },
    {
      "cell_type": "code",
      "execution_count": null,
      "metadata": {
        "id": "gwvXALvFnIB7"
      },
      "outputs": [],
      "source": [
        "import numpy as np\n",
        "from sklearn.metrics.pairwise import cosine_similarity\n",
        "from scipy.spatial.distance import jensenshannon\n",
        "\n",
        "def get_topic_vectors(lda_models, dictionary, num_words=100):\n",
        "    topic_vectors = []\n",
        "    for lda in lda_models:\n",
        "        for t in range(lda.num_topics):\n",
        "            topic = lda.get_topic_terms(t, topn=num_words)\n",
        "            vec = np.zeros(len(dictionary))\n",
        "            for term_id, weight in topic:\n",
        "                vec[term_id] = weight\n",
        "            topic_vectors.append(vec)\n",
        "    return topic_vectors\n",
        "\n",
        "def calculate_similarity_matrix(topic_vectors, similarity='jaccard'):\n",
        "    topic_vectors = np.array(topic_vectors)\n",
        "\n",
        "    if similarity == 'cosine':\n",
        "        return cosine_similarity(topic_vectors)\n",
        "\n",
        "    elif similarity == 'jaccard':\n",
        "        bin_vectors = (topic_vectors > 0).astype(int)\n",
        "        intersection = np.dot(bin_vectors, bin_vectors.T)\n",
        "        row_sums = bin_vectors.sum(axis=1)\n",
        "        union = row_sums[:, None] + row_sums - intersection\n",
        "        return intersection / union\n",
        "\n",
        "    elif similarity == 'jsd':\n",
        "        n = len(topic_vectors)\n",
        "        js_matrix = np.zeros((n, n))\n",
        "        for i in range(n):\n",
        "            for j in range(n):\n",
        "                js_matrix[i, j] = jensenshannon(topic_vectors[i], topic_vectors[j])\n",
        "        return 1 - js_matrix\n",
        "\n",
        "    else:\n",
        "        raise ValueError(f\"Unknown similarity measure: {similarity}\")\n"
      ]
    },
    {
      "cell_type": "markdown",
      "metadata": {
        "id": "WOLZriEC7Qzq"
      },
      "source": [
        "This code includes the core functionality of LDAPrototype by clustering independent LDAs using Complete Linkage, based on the underlying topic similarity. By selecting the LDA-Model based on the $S-CLOP$ score (Rieger et. al(2020 June), S. 121)."
      ]
    },
    {
      "cell_type": "code",
      "execution_count": null,
      "metadata": {
        "id": "2OK9Edn5nMHN",
        "outputId": "0bf4dc51-a57e-49bf-abf5-4309e07bf653"
      },
      "outputs": [
        {
          "name": "stdout",
          "output_type": "stream",
          "text": [
            "Prototype Topic for Cluster 1: [0.00101142 0.         0.         ... 0.         0.         0.        ]\n",
            "Prototype Topic for Cluster 2: [0. 0. 0. ... 0. 0. 0.]\n",
            "Prototype Topic for Cluster 3: [0.00044024 0.         0.         ... 0.         0.         0.        ]\n",
            "Prototype Topic for Cluster 4: [0.00036998 0.         0.00052489 ... 0.         0.         0.        ]\n",
            "Prototype Topic for Cluster 5: [0. 0. 0. ... 0. 0. 0.]\n"
          ]
        }
      ],
      "source": [
        "\n",
        "topic_vectors = get_topic_vectors(lda_models, dictionary, num_words=100)\n",
        "\n",
        "cosine_sim_matrix = cosine_similarity(topic_vectors)\n",
        "\n",
        "clustering_model_cosine = AgglomerativeClustering(n_clusters=5, metric='precomputed', linkage='average')\n",
        "\n",
        "cluster_labels = clustering_model_cosine.fit_predict(1 - cosine_sim_matrix)\n",
        "\n",
        "def select_prototype_topics(all_topics, cluster_labels):\n",
        "    \"\"\"\n",
        "    Select prototype topics for each cluster.\n",
        "\n",
        "    Parameters:\n",
        "    all_topics (np.ndarray): The topic vectors for each topic.\n",
        "    cluster_labels (np.ndarray): The cluster labels assigned to each topic.\n",
        "\n",
        "    Returns:\n",
        "    list: A list of prototype topics for each cluster.\n",
        "    \"\"\"\n",
        "    prototypes = []\n",
        "    for cluster in np.unique(cluster_labels):\n",
        "        # Get the indices of topics in the current cluster\n",
        "        cluster_indices = np.where(cluster_labels == cluster)[0]\n",
        "\n",
        "        # Select the first topic as the prototype (or modify this selection logic as needed)\n",
        "        prototype_topic = all_topics[cluster_indices[0]]\n",
        "        prototypes.append(prototype_topic)\n",
        "\n",
        "    return prototypes\n",
        "\n",
        "# Select prototype topics based on clustering\n",
        "prototype_topics_cosine = select_prototype_topics(topic_vectors, cluster_labels)\n",
        "\n",
        "# Print the prototype topics for verification\n",
        "for i, prototype in enumerate(prototype_topics_cosine):\n",
        "    print(f'Prototype Topic for Cluster {i + 1}: {prototype}')"
      ]
    },
    {
      "cell_type": "markdown",
      "metadata": {
        "id": "4pcmrNLN7Qzr"
      },
      "source": [
        "The Prototype model is chosen from a set of LDAs by maximizing the mean pairwise similarity compared to all other LDA Models (Rieger et al.(2020 June), S. 121)"
      ]
    },
    {
      "cell_type": "code",
      "execution_count": null,
      "metadata": {
        "id": "oKkcmxdenPup"
      },
      "outputs": [],
      "source": [
        "def assign_prototype_topics(lda_models, corpus, prototype_topics, dictionary):\n",
        "    doc_topics = []\n",
        "\n",
        "    for i, bow in enumerate(corpus):\n",
        "        print(f\"\\nProcessing document {i + 1}/{len(corpus)}...\")  # Print the current document number for debugging and transparency reasons\n",
        "        topic_probs = []\n",
        "\n",
        "        for j, lda in enumerate(lda_models):\n",
        "            probs = lda.get_document_topics(bow, minimum_probability=0)\n",
        "            prob_values = [prob for _, prob in probs]\n",
        "            topic_probs.extend(prob_values)\n",
        "\n",
        "        if topic_probs:\n",
        "            dominant_topic = np.argmax(topic_probs)\n",
        "            doc_topics.append(dominant_topic)\n",
        "        else:\n",
        "            doc_topics.append(None)\n",
        "            print(f\"  Document {i + 1}: No topics found, assigned None.\")\n",
        "\n",
        "    return doc_topics\n",
        "\n",
        "processed_df.loc[:, 'dominant_topic'] = assign_prototype_topics(lda_models, corpus, prototype_topics_cosine, dictionary)\n"
      ]
    },
    {
      "cell_type": "markdown",
      "metadata": {
        "id": "v-0idJfZ7Qzs"
      },
      "source": [
        "The $S-CLOP$ Score is used to asses the models stability by the formula previously described. The score is calculated based on the cluster labels and topic vectors (Rieger et al. (2020 June), S. 121) To actually calculate the score, this code uses the euclidean norm (linalg.norm) to measure the distance and is used as equivalent for $S-CLOP$."
      ]
    },
    {
      "cell_type": "code",
      "execution_count": null,
      "metadata": {
        "id": "bLObxTVC7Qzs",
        "outputId": "105a075d-4eb7-44a4-8371-c4962e97f1b9"
      },
      "outputs": [
        {
          "name": "stdout",
          "output_type": "stream",
          "text": [
            "S-CLOP score: 59.0115138047158\n"
          ]
        }
      ],
      "source": [
        "def calculate_sclop(cluster_labels, topic_vectors):\n",
        "    \"\"\"\n",
        "    Calculate the S-CLOP score for given cluster labels and topic vectors.\n",
        "\n",
        "    Parameters:\n",
        "    cluster_labels (numpy.ndarray): Cluster labels for each topic.\n",
        "    topic_vectors (list): List of topic vectors for the LDA models.\n",
        "\n",
        "    Returns:\n",
        "    float: The S-CLOP score.\n",
        "    \"\"\"\n",
        "    K = len(np.unique(cluster_labels))\n",
        "    S_CLOP_score = 0.0\n",
        "\n",
        "    for cluster in np.unique(cluster_labels):\n",
        "        cluster_indices = np.where(cluster_labels == cluster)[0]\n",
        "        cluster_size = len(cluster_indices)\n",
        "\n",
        "        if cluster_size > 1:\n",
        "            for i in range(cluster_size):\n",
        "                for j in range(i + 1, cluster_size):\n",
        "                    distance = np.linalg.norm(topic_vectors[cluster_indices[i]] - topic_vectors[cluster_indices[j]])\n",
        "                    S_CLOP_score += (1 - distance)\n",
        "    if K > 0:\n",
        "        S_CLOP_score = S_CLOP_score / (2 * K)\n",
        "\n",
        "    print(f\"S-CLOP score: {S_CLOP_score}\")\n",
        "    return S_CLOP_score\n",
        "\n",
        "# Example usage\n",
        "sclop_score = calculate_sclop(cluster_labels, topic_vectors)\n"
      ]
    },
    {
      "cell_type": "markdown",
      "metadata": {
        "id": "whQcGR647Qzt"
      },
      "source": [
        "The coherence of the topics (additionally used, since its a standard measure for LDA topic quality) is calculated by measurig the meaning of the generated topics based on the frequency of the words from the same topic."
      ]
    },
    {
      "cell_type": "code",
      "execution_count": null,
      "metadata": {
        "id": "BzKVFWWQ7Qzt",
        "outputId": "b60dc1bd-348b-480b-c8e6-ed4bc817ffb7"
      },
      "outputs": [
        {
          "name": "stdout",
          "output_type": "stream",
          "text": [
            "LDA Model 1 Coherence: 0.2984\n",
            "LDA Model 2 Coherence: 0.3140\n",
            "LDA Model 3 Coherence: 0.2895\n",
            "LDA Model 4 Coherence: 0.2862\n",
            "Coherence scores saved to 'visuals/VSC5_lda_scores.csv'.\n"
          ]
        }
      ],
      "source": [
        "\n",
        "def compute_coherence(lda_model, texts, dictionary, coherence='c_v'):\n",
        "    coherence_model = CoherenceModel(model=lda_model, texts=texts, dictionary=dictionary, coherence=coherence)\n",
        "    return coherence_model.get_coherence()\n",
        "\n",
        "scores = []\n",
        "\n",
        "for i, lda in enumerate(lda_models):\n",
        "    coherence = compute_coherence(lda, processed_df['processed_text'], dictionary)\n",
        "    print(f'LDA Model {i + 1} Coherence: {coherence:.4f}')\n",
        "    scores.append({'Model': f'LDA Model {i + 1}', 'Coherence Score': coherence})\n",
        "\n",
        "scores_df = pd.DataFrame(scores)\n",
        "scores_df.to_csv('visuals/VSC5_lda_scores.csv', index=False)\n",
        "\n",
        "print(\"Coherence scores saved to 'visuals/VSC5_lda_scores.csv'.\")"
      ]
    },
    {
      "cell_type": "markdown",
      "metadata": {
        "id": "aJezzW5Jn72T"
      },
      "source": [
        "# visualization"
      ]
    },
    {
      "cell_type": "code",
      "execution_count": null,
      "metadata": {
        "id": "S7jPokr4nZR0",
        "outputId": "630a9c02-c394-45f2-b9a3-df406babe70b"
      },
      "outputs": [
        {
          "data": {
            "image/png": "[encoded data removed]",
            "text/plain": [
              "<Figure size 1000x600 with 1 Axes>"
            ]
          },
          "metadata": {},
          "output_type": "display_data"
        }
      ],
      "source": [
        "import matplotlib.pyplot as plt\n",
        "import seaborn as sns\n",
        "\n",
        "# Plot the distribution of dominant topics\n",
        "plt.figure(figsize=(10,6))\n",
        "sns.countplot(x='dominant_topic', data=processed_df)\n",
        "plt.title('Distribution of Dominant Topics')\n",
        "plt.xlabel('Topic')\n",
        "plt.ylabel('Number of Documents')\n",
        "plt.show()\n"
      ]
    },
    {
      "cell_type": "code",
      "execution_count": null,
      "metadata": {
        "id": "9nQr5trZnb6T",
        "outputId": "b088d20b-a7cf-44e3-b643-6458c3bb81c4"
      },
      "outputs": [
        {
          "ename": "KeyboardInterrupt",
          "evalue": "",
          "output_type": "error",
          "traceback": [
            "\u001b[0;31m---------------------------------------------------------------------------\u001b[0m",
            "\u001b[0;31mKeyboardInterrupt\u001b[0m                         Traceback (most recent call last)",
            "Cell \u001b[0;32mIn[40], line 5\u001b[0m\n\u001b[1;32m      2\u001b[0m \u001b[38;5;28;01mimport\u001b[39;00m \u001b[38;5;21;01mpyLDAvis\u001b[39;00m\n\u001b[1;32m      4\u001b[0m \u001b[38;5;66;03m# Prepare visualization for the first LDA model\u001b[39;00m\n\u001b[0;32m----> 5\u001b[0m lda_visualization \u001b[38;5;241m=\u001b[39m pyLDAvis\u001b[38;5;241m.\u001b[39mgensim_models\u001b[38;5;241m.\u001b[39mprepare(lda_models[\u001b[38;5;241m0\u001b[39m], corpus, dictionary)\n\u001b[1;32m      6\u001b[0m pyLDAvis\u001b[38;5;241m.\u001b[39mdisplay(lda_visualization)\n",
            "File \u001b[0;32m/opt/homebrew/anaconda3/lib/python3.11/site-packages/pyLDAvis/gensim_models.py:122\u001b[0m, in \u001b[0;36mprepare\u001b[0;34m(topic_model, corpus, dictionary, doc_topic_dist, **kwargs)\u001b[0m\n\u001b[1;32m     77\u001b[0m \u001b[38;5;28;01mdef\u001b[39;00m \u001b[38;5;21mprepare\u001b[39m(topic_model, corpus, dictionary, doc_topic_dist\u001b[38;5;241m=\u001b[39m\u001b[38;5;28;01mNone\u001b[39;00m, \u001b[38;5;241m*\u001b[39m\u001b[38;5;241m*\u001b[39mkwargs):\n\u001b[1;32m     78\u001b[0m \u001b[38;5;250m    \u001b[39m\u001b[38;5;124;03m\"\"\"Transforms the Gensim TopicModel and related corpus and dictionary into\u001b[39;00m\n\u001b[1;32m     79\u001b[0m \u001b[38;5;124;03m    the data structures needed for the visualization.\u001b[39;00m\n\u001b[1;32m     80\u001b[0m \n\u001b[0;32m   (...)\u001b[0m\n\u001b[1;32m    120\u001b[0m \u001b[38;5;124;03m    See `pyLDAvis.prepare` for **kwargs.\u001b[39;00m\n\u001b[1;32m    121\u001b[0m \u001b[38;5;124;03m    \"\"\"\u001b[39;00m\n\u001b[0;32m--> 122\u001b[0m     opts \u001b[38;5;241m=\u001b[39m fp\u001b[38;5;241m.\u001b[39mmerge(_extract_data(topic_model, corpus, dictionary, doc_topic_dist), kwargs)\n\u001b[1;32m    123\u001b[0m     \u001b[38;5;28;01mreturn\u001b[39;00m pyLDAvis\u001b[38;5;241m.\u001b[39mprepare(\u001b[38;5;241m*\u001b[39m\u001b[38;5;241m*\u001b[39mopts)\n",
            "File \u001b[0;32m/opt/homebrew/anaconda3/lib/python3.11/site-packages/pyLDAvis/gensim_models.py:49\u001b[0m, in \u001b[0;36m_extract_data\u001b[0;34m(topic_model, corpus, dictionary, doc_topic_dists)\u001b[0m\n\u001b[1;32m     47\u001b[0m         gamma \u001b[38;5;241m=\u001b[39m topic_model\u001b[38;5;241m.\u001b[39minference(corpus)\n\u001b[1;32m     48\u001b[0m     \u001b[38;5;28;01melse\u001b[39;00m:\n\u001b[0;32m---> 49\u001b[0m         gamma, _ \u001b[38;5;241m=\u001b[39m topic_model\u001b[38;5;241m.\u001b[39minference(corpus)\n\u001b[1;32m     50\u001b[0m     doc_topic_dists \u001b[38;5;241m=\u001b[39m gamma \u001b[38;5;241m/\u001b[39m gamma\u001b[38;5;241m.\u001b[39msum(axis\u001b[38;5;241m=\u001b[39m\u001b[38;5;241m1\u001b[39m)[:, \u001b[38;5;28;01mNone\u001b[39;00m]\n\u001b[1;32m     51\u001b[0m \u001b[38;5;28;01melse\u001b[39;00m:\n",
            "File \u001b[0;32m/opt/homebrew/anaconda3/lib/python3.11/site-packages/gensim/models/ldamodel.py:720\u001b[0m, in \u001b[0;36mLdaModel.inference\u001b[0;34m(self, chunk, collect_sstats)\u001b[0m\n\u001b[1;32m    716\u001b[0m \u001b[38;5;66;03m# We represent phi implicitly to save memory and time.\u001b[39;00m\n\u001b[1;32m    717\u001b[0m \u001b[38;5;66;03m# Substituting the value of the optimal phi back into\u001b[39;00m\n\u001b[1;32m    718\u001b[0m \u001b[38;5;66;03m# the update for gamma gives this update. Cf. Lee&Seung 2001.\u001b[39;00m\n\u001b[1;32m    719\u001b[0m gammad \u001b[38;5;241m=\u001b[39m \u001b[38;5;28mself\u001b[39m\u001b[38;5;241m.\u001b[39malpha \u001b[38;5;241m+\u001b[39m expElogthetad \u001b[38;5;241m*\u001b[39m np\u001b[38;5;241m.\u001b[39mdot(cts \u001b[38;5;241m/\u001b[39m phinorm, expElogbetad\u001b[38;5;241m.\u001b[39mT)\n\u001b[0;32m--> 720\u001b[0m Elogthetad \u001b[38;5;241m=\u001b[39m dirichlet_expectation(gammad)\n\u001b[1;32m    721\u001b[0m expElogthetad \u001b[38;5;241m=\u001b[39m np\u001b[38;5;241m.\u001b[39mexp(Elogthetad)\n\u001b[1;32m    722\u001b[0m phinorm \u001b[38;5;241m=\u001b[39m np\u001b[38;5;241m.\u001b[39mdot(expElogthetad, expElogbetad) \u001b[38;5;241m+\u001b[39m epsilon\n",
            "\u001b[0;31mKeyboardInterrupt\u001b[0m: "
          ]
        }
      ],
      "source": [
        "import pyLDAvis.gensim_models\n",
        "import pyLDAvis\n",
        "\n",
        "# Prepare visualization for the first LDA model\n",
        "lda_visualization = pyLDAvis.gensim_models.prepare(lda_models[0], corpus, dictionary)\n",
        "pyLDAvis.display(lda_visualization)\n",
        "\n",
        "# Save the visualization to an HTML file in folder B:\n",
        "#pyLDAvis.save_html(lda_visualization, '/Users/niklaselsasser/Code/bug-free-fishstick/visuals/VSC5_lda_visualization.html')"
      ]
    },
    {
      "cell_type": "markdown",
      "metadata": {
        "id": "JTWgp-hyfepT"
      },
      "source": [
        "# Evaluating topics against values of category"
      ]
    },
    {
      "cell_type": "code",
      "execution_count": null,
      "metadata": {
        "id": "IHnt4BE0oqAv"
      },
      "outputs": [],
      "source": [
        "def get_top_words_per_topic(lda_model, num_words=10):\n",
        "    top_words_per_topic = {}\n",
        "    for topic_id in range(lda_model.num_topics):\n",
        "        top_words = lda_model.show_topic(topic_id, topn=num_words)\n",
        "        top_words_per_topic[topic_id] = [word for word, _ in top_words]\n",
        "    return top_words_per_topic\n",
        "\n",
        "# Get top words for the first LDA model as an example\n",
        "top_words = get_top_words_per_topic(lda_models[0], num_words=10)\n"
      ]
    },
    {
      "cell_type": "code",
      "execution_count": null,
      "metadata": {
        "id": "bp_GFDgf7Qzv",
        "outputId": "1a0147f4-afdf-47b2-c1c9-ea65ce7c5c3a"
      },
      "outputs": [
        {
          "name": "stdout",
          "output_type": "stream",
          "text": [
            "209516\n",
            "209516\n"
          ]
        }
      ],
      "source": [
        "print(len(corpus))  # Should be equal to the number of rows in processed_df\n",
        "print(processed_df.shape[0])  # Number of rows in processed_df"
      ]
    },
    {
      "cell_type": "code",
      "execution_count": null,
      "metadata": {
        "id": "Nrq7_Z4_otZY"
      },
      "outputs": [],
      "source": [
        "# Define the function to assign dominant topics\n",
        "def assign_dominant_topic(lda_model, corpus):\n",
        "    dominant_topics = []\n",
        "    for bow in corpus:\n",
        "        topic_probs = lda_model.get_document_topics(bow, minimum_probability=0)\n",
        "        dominant_topic = sorted(topic_probs, key=lambda x: x[1], reverse=True)[0][0]\n",
        "        dominant_topics.append(dominant_topic)\n",
        "    return dominant_topics\n",
        "\n",
        "# Step to assign dominant topics\n",
        "dominant_topics = assign_dominant_topic(lda_models[0], corpus)\n",
        "\n",
        "# Use .loc to avoid SettingWithCopyWarning\n",
        "processed_df.loc[:, 'dominant_topic'] = dominant_topics"
      ]
    },
    {
      "cell_type": "code",
      "execution_count": null,
      "metadata": {
        "id": "FTbaQoQ_ho-r",
        "outputId": "7101f885-8132-4640-8b08-8d71d8b5a10b"
      },
      "outputs": [
        {
          "name": "stdout",
          "output_type": "stream",
          "text": [
            "                                            headline   category  \\\n",
            "0  Over 4 Million Americans Roll Up Sleeves For O...  U.S. NEWS   \n",
            "1  American Airlines Flyer Charged, Banned For Li...  U.S. NEWS   \n",
            "2  23 Of The Funniest Tweets About Cats And Dogs ...     COMEDY   \n",
            "3  The Funniest Tweets From Parents This Week (Se...  PARENTING   \n",
            "4  Woman Who Called Cops On Black Bird-Watcher Lo...  U.S. NEWS   \n",
            "\n",
            "                                   short_description  \\\n",
            "0  Health experts said it is too early to predict...   \n",
            "1  He was subdued by passengers and crew when he ...   \n",
            "2  \"Until you have a dog you don't understand wha...   \n",
            "3  \"Accidentally put grown-up toothpaste on my to...   \n",
            "4  Amy Cooper accused investment firm Franklin Te...   \n",
            "\n",
            "                                      processed_text  headline_word_count  \\\n",
            "0  [million, american, roll, sleeve, omicrontarge...                   11   \n",
            "1  [american, airline, flyer, charged, banned, li...                   13   \n",
            "2  [funniest, tweet, cat, dog, week, sept, dog, d...                   13   \n",
            "3  [funniest, tweet, parent, week, sept, accident...                    9   \n",
            "4  [woman, called, cop, black, birdwatcher, loses...                   11   \n",
            "\n",
            "   short_description_word_count  processed_text_word_count  dominant_topic  \n",
            "0                            29                         22               9  \n",
            "1                            28                         22               6  \n",
            "2                            12                         11               0  \n",
            "3                            25                         20               4  \n",
            "4                            25                         25               5  \n"
          ]
        }
      ],
      "source": [
        "# Checking the DataFrame after assigning dominant topics\n",
        "print(processed_df.head())"
      ]
    },
    {
      "cell_type": "code",
      "execution_count": null,
      "metadata": {
        "id": "yGoqr6ZCovlv",
        "outputId": "9316f09d-dae0-43bb-bf48-3873451d6b87"
      },
      "outputs": [
        {
          "name": "stdout",
          "output_type": "stream",
          "text": [
            "Topic to Category Mapping:\n",
            "{9: 'POLITICS', 6: 'WELLNESS', 0: 'POLITICS', 4: 'ENTERTAINMENT', 5: 'POLITICS', 2: 'POLITICS', 7: 'POLITICS', 1: 'POLITICS', 8: 'POLITICS', 3: 'POLITICS'}\n"
          ]
        }
      ],
      "source": [
        "def map_topics_to_categories(processed_df):\n",
        "    topic_category_mapping = {}\n",
        "    for topic in processed_df['dominant_topic'].unique():\n",
        "        # Get documents assigned to the topic\n",
        "        topic_docs = processed_df[processed_df['dominant_topic'] == topic]\n",
        "        # Find the most common category among these documents\n",
        "        if not topic_docs.empty:\n",
        "            most_common_category = topic_docs['category'].mode()[0]\n",
        "            topic_category_mapping[topic] = most_common_category\n",
        "    return topic_category_mapping\n",
        "\n",
        "# Create the mapping\n",
        "topic_category_mapping = map_topics_to_categories(processed_df)\n",
        "print(\"Topic to Category Mapping:\")\n",
        "print(topic_category_mapping)\n"
      ]
    },
    {
      "cell_type": "code",
      "execution_count": null,
      "metadata": {
        "id": "PifCpRG8oxoO",
        "outputId": "c3ee25ff-0c09-4ae2-ca14-e3b2ab11ac93"
      },
      "outputs": [
        {
          "name": "stderr",
          "output_type": "stream",
          "text": [
            "/var/folders/3t/mgckmfnn5p745wd8_80ywb0c0000gn/T/ipykernel_1277/1491127418.py:2: SettingWithCopyWarning: \n",
            "A value is trying to be set on a copy of a slice from a DataFrame\n",
            "\n",
            "See the caveats in the documentation: https://pandas.pydata.org/pandas-docs/stable/user_guide/indexing.html#returning-a-view-versus-a-copy\n",
            "  processed_df.loc['predicted_category'] = processed_df['dominant_topic'].map(topic_category_mapping)\n"
          ]
        }
      ],
      "source": [
        "def assign_predicted_category(processed_df, topic_category_mapping):\n",
        "    processed_df['predicted_category'] = processed_df['dominant_topic'].map(topic_category_mapping)\n",
        "    return processed_df\n",
        "\n",
        "# Assign predicted categories\n",
        "processed_df = assign_predicted_category(processed_df, topic_category_mapping)\n"
      ]
    },
    {
      "cell_type": "code",
      "execution_count": null,
      "metadata": {
        "id": "q0w9NMgho0Pt",
        "outputId": "6f121dfc-9b26-433f-8af5-4314d12f2875"
      },
      "outputs": [
        {
          "name": "stdout",
          "output_type": "stream",
          "text": [
            "Classification Report:\n"
          ]
        },
        {
          "name": "stderr",
          "output_type": "stream",
          "text": [
            "/opt/homebrew/anaconda3/lib/python3.11/site-packages/sklearn/metrics/_classification.py:1469: UndefinedMetricWarning: Precision and F-score are ill-defined and being set to 0.0 in labels with no predicted samples. Use `zero_division` parameter to control this behavior.\n",
            "  _warn_prf(average, modifier, msg_start, len(result))\n",
            "/opt/homebrew/anaconda3/lib/python3.11/site-packages/sklearn/metrics/_classification.py:1469: UndefinedMetricWarning: Precision and F-score are ill-defined and being set to 0.0 in labels with no predicted samples. Use `zero_division` parameter to control this behavior.\n",
            "  _warn_prf(average, modifier, msg_start, len(result))\n",
            "/opt/homebrew/anaconda3/lib/python3.11/site-packages/sklearn/metrics/_classification.py:1469: UndefinedMetricWarning: Precision and F-score are ill-defined and being set to 0.0 in labels with no predicted samples. Use `zero_division` parameter to control this behavior.\n",
            "  _warn_prf(average, modifier, msg_start, len(result))\n"
          ]
        },
        {
          "name": "stdout",
          "output_type": "stream",
          "text": [
            "                precision    recall  f1-score   support\n",
            "\n",
            "          ARTS       0.00      0.00      0.00      1509\n",
            "ARTS & CULTURE       0.00      0.00      0.00      1339\n",
            "  BLACK VOICES       0.00      0.00      0.00      4583\n",
            "      BUSINESS       0.00      0.00      0.00      5991\n",
            "       COLLEGE       0.00      0.00      0.00      1144\n",
            "        COMEDY       0.00      0.00      0.00      5398\n",
            "         CRIME       0.00      0.00      0.00      3562\n",
            "CULTURE & ARTS       0.00      0.00      0.00      1074\n",
            "       DIVORCE       0.00      0.00      0.00      3426\n",
            "     EDUCATION       0.00      0.00      0.00      1014\n",
            " ENTERTAINMENT       0.11      0.07      0.09     17361\n",
            "   ENVIRONMENT       0.00      0.00      0.00      1444\n",
            "         FIFTY       0.00      0.00      0.00      1400\n",
            "  FOOD & DRINK       0.00      0.00      0.00      6340\n",
            "     GOOD NEWS       0.00      0.00      0.00      1398\n",
            "         GREEN       0.00      0.00      0.00      2622\n",
            "HEALTHY LIVING       0.00      0.00      0.00      6692\n",
            " HOME & LIVING       0.00      0.00      0.00      4320\n",
            "        IMPACT       0.00      0.00      0.00      3484\n",
            " LATINO VOICES       0.00      0.00      0.00      1130\n",
            "         MEDIA       0.00      0.00      0.00      2943\n",
            "         MONEY       0.00      0.00      0.00      1756\n",
            "     PARENTING       0.00      0.00      0.00      8791\n",
            "       PARENTS       0.00      0.00      0.00      3955\n",
            "      POLITICS       0.18      0.96      0.30     35601\n",
            "  QUEER VOICES       0.00      0.00      0.00      6346\n",
            "      RELIGION       0.00      0.00      0.00      2577\n",
            "       SCIENCE       0.00      0.00      0.00      2206\n",
            "        SPORTS       0.00      0.00      0.00      5077\n",
            "         STYLE       0.00      0.00      0.00      2254\n",
            "STYLE & BEAUTY       0.00      0.00      0.00      9814\n",
            "         TASTE       0.00      0.00      0.00      2096\n",
            "          TECH       0.00      0.00      0.00      2104\n",
            " THE WORLDPOST       0.00      0.00      0.00      3664\n",
            "        TRAVEL       0.00      0.00      0.00      9900\n",
            "     U.S. NEWS       0.00      0.00      0.00      1377\n",
            "      WEDDINGS       0.00      0.00      0.00      3653\n",
            "    WEIRD NEWS       0.00      0.00      0.00      2777\n",
            "      WELLNESS       0.11      0.03      0.05     17945\n",
            "         WOMEN       0.00      0.00      0.00      3572\n",
            "    WORLD NEWS       0.00      0.00      0.00      3299\n",
            "     WORLDPOST       0.00      0.00      0.00      2578\n",
            "\n",
            "      accuracy                           0.17    209516\n",
            "     macro avg       0.01      0.03      0.01    209516\n",
            "  weighted avg       0.05      0.17      0.06    209516\n",
            "\n",
            "Confusion Matrix:\n",
            "[[0 0 0 ... 0 0 0]\n",
            " [0 0 0 ... 0 0 0]\n",
            " [0 0 0 ... 0 0 0]\n",
            " ...\n",
            " [0 0 0 ... 0 0 0]\n",
            " [0 0 0 ... 0 0 0]\n",
            " [0 0 0 ... 0 0 0]]\n",
            "Accuracy Score: 0.1725\n"
          ]
        }
      ],
      "source": [
        "from sklearn.metrics import classification_report, confusion_matrix, accuracy_score\n",
        "\n",
        "# Remove any rows where 'predicted_category' is NaN\n",
        "evaluation_df = processed_df.dropna(subset=['predicted_category'])\n",
        "\n",
        "# Actual and predicted categories\n",
        "y_true = evaluation_df['category']\n",
        "y_pred = evaluation_df['predicted_category']\n",
        "\n",
        "# Calculate metrics\n",
        "print(\"Classification Report:\")\n",
        "print(classification_report(y_true, y_pred))\n",
        "\n",
        "print(\"Confusion Matrix:\")\n",
        "print(confusion_matrix(y_true, y_pred))\n",
        "\n",
        "print(f\"Accuracy Score: {accuracy_score(y_true, y_pred):.4f}\")\n"
      ]
    },
    {
      "cell_type": "code",
      "execution_count": null,
      "metadata": {
        "id": "xf31r6FX7Qzz",
        "outputId": "16046c14-9bf0-42fd-fdd0-bc9fb69af630"
      },
      "outputs": [
        {
          "data": {
            "image/png": "[encoded data removed]",
            "text/plain": [
              "<Figure size 800x600 with 2 Axes>"
            ]
          },
          "metadata": {},
          "output_type": "display_data"
        }
      ],
      "source": [
        "import seaborn as sns\n",
        "import matplotlib.pyplot as plt\n",
        "from sklearn.metrics import confusion_matrix\n",
        "\n",
        "def plot_confusion_matrix(y_true, y_pred, labels, save_path=None):\n",
        "    cm = confusion_matrix(y_true, y_pred, labels=labels)\n",
        "    plt.figure(figsize=(8,6))\n",
        "    sns.heatmap(cm, annot=True, fmt='d', cmap='Blues',\n",
        "                xticklabels=labels, yticklabels=labels)\n",
        "    plt.ylabel('Actual Category')\n",
        "    plt.xlabel('Predicted Category')\n",
        "    plt.title('Confusion Matrix')\n",
        "    if save_path:\n",
        "        plt.savefig(save_path, format='png')\n",
        "    plt.show()\n",
        "\n",
        "# Get list of unique categories\n",
        "categories = sorted(processed_df['category'].unique())\n",
        "\n",
        "# Plot and save confusion matrix\n",
        "plot_confusion_matrix(y_true, y_pred, labels=categories, save_path='/Users/niklaselsasser/Code/bug-free-fishstick/visuals/VSC5_confusion_matrix.png')"
      ]
    },
    {
      "cell_type": "markdown",
      "metadata": {
        "id": "inqpgRJqoSYe"
      },
      "source": [
        "# further visualization"
      ]
    },
    {
      "cell_type": "code",
      "execution_count": null,
      "metadata": {
        "id": "4PqeCJCdq22F",
        "outputId": "8c09e600-51e9-450c-9244-8448fd78aefb"
      },
      "outputs": [
        {
          "data": {
            "text/html": [
              "<div>\n",
              "<style scoped>\n",
              "    .dataframe tbody tr th:only-of-type {\n",
              "        vertical-align: middle;\n",
              "    }\n",
              "\n",
              "    .dataframe tbody tr th {\n",
              "        vertical-align: top;\n",
              "    }\n",
              "\n",
              "    .dataframe thead th {\n",
              "        text-align: right;\n",
              "    }\n",
              "</style>\n",
              "<table border=\"1\" class=\"dataframe\">\n",
              "  <thead>\n",
              "    <tr style=\"text-align: right;\">\n",
              "      <th></th>\n",
              "      <th>headline</th>\n",
              "      <th>category</th>\n",
              "      <th>short_description</th>\n",
              "      <th>processed_text</th>\n",
              "      <th>headline_word_count</th>\n",
              "      <th>short_description_word_count</th>\n",
              "      <th>processed_text_word_count</th>\n",
              "      <th>dominant_topic</th>\n",
              "      <th>predicted_category</th>\n",
              "    </tr>\n",
              "  </thead>\n",
              "  <tbody>\n",
              "    <tr>\n",
              "      <th>0</th>\n",
              "      <td>Over 4 Million Americans Roll Up Sleeves For O...</td>\n",
              "      <td>U.S. NEWS</td>\n",
              "      <td>Health experts said it is too early to predict...</td>\n",
              "      <td>[million, american, roll, sleeve, omicrontarge...</td>\n",
              "      <td>11</td>\n",
              "      <td>29</td>\n",
              "      <td>22</td>\n",
              "      <td>9</td>\n",
              "      <td>POLITICS</td>\n",
              "    </tr>\n",
              "    <tr>\n",
              "      <th>1</th>\n",
              "      <td>American Airlines Flyer Charged, Banned For Li...</td>\n",
              "      <td>U.S. NEWS</td>\n",
              "      <td>He was subdued by passengers and crew when he ...</td>\n",
              "      <td>[american, airline, flyer, charged, banned, li...</td>\n",
              "      <td>13</td>\n",
              "      <td>28</td>\n",
              "      <td>22</td>\n",
              "      <td>6</td>\n",
              "      <td>WELLNESS</td>\n",
              "    </tr>\n",
              "    <tr>\n",
              "      <th>2</th>\n",
              "      <td>23 Of The Funniest Tweets About Cats And Dogs ...</td>\n",
              "      <td>COMEDY</td>\n",
              "      <td>\"Until you have a dog you don't understand wha...</td>\n",
              "      <td>[funniest, tweet, cat, dog, week, sept, dog, d...</td>\n",
              "      <td>13</td>\n",
              "      <td>12</td>\n",
              "      <td>11</td>\n",
              "      <td>0</td>\n",
              "      <td>POLITICS</td>\n",
              "    </tr>\n",
              "    <tr>\n",
              "      <th>3</th>\n",
              "      <td>The Funniest Tweets From Parents This Week (Se...</td>\n",
              "      <td>PARENTING</td>\n",
              "      <td>\"Accidentally put grown-up toothpaste on my to...</td>\n",
              "      <td>[funniest, tweet, parent, week, sept, accident...</td>\n",
              "      <td>9</td>\n",
              "      <td>25</td>\n",
              "      <td>20</td>\n",
              "      <td>4</td>\n",
              "      <td>ENTERTAINMENT</td>\n",
              "    </tr>\n",
              "    <tr>\n",
              "      <th>4</th>\n",
              "      <td>Woman Who Called Cops On Black Bird-Watcher Lo...</td>\n",
              "      <td>U.S. NEWS</td>\n",
              "      <td>Amy Cooper accused investment firm Franklin Te...</td>\n",
              "      <td>[woman, called, cop, black, birdwatcher, loses...</td>\n",
              "      <td>11</td>\n",
              "      <td>25</td>\n",
              "      <td>25</td>\n",
              "      <td>5</td>\n",
              "      <td>POLITICS</td>\n",
              "    </tr>\n",
              "  </tbody>\n",
              "</table>\n",
              "</div>"
            ],
            "text/plain": [
              "                                            headline   category  \\\n",
              "0  Over 4 Million Americans Roll Up Sleeves For O...  U.S. NEWS   \n",
              "1  American Airlines Flyer Charged, Banned For Li...  U.S. NEWS   \n",
              "2  23 Of The Funniest Tweets About Cats And Dogs ...     COMEDY   \n",
              "3  The Funniest Tweets From Parents This Week (Se...  PARENTING   \n",
              "4  Woman Who Called Cops On Black Bird-Watcher Lo...  U.S. NEWS   \n",
              "\n",
              "                                   short_description  \\\n",
              "0  Health experts said it is too early to predict...   \n",
              "1  He was subdued by passengers and crew when he ...   \n",
              "2  \"Until you have a dog you don't understand wha...   \n",
              "3  \"Accidentally put grown-up toothpaste on my to...   \n",
              "4  Amy Cooper accused investment firm Franklin Te...   \n",
              "\n",
              "                                      processed_text  headline_word_count  \\\n",
              "0  [million, american, roll, sleeve, omicrontarge...                   11   \n",
              "1  [american, airline, flyer, charged, banned, li...                   13   \n",
              "2  [funniest, tweet, cat, dog, week, sept, dog, d...                   13   \n",
              "3  [funniest, tweet, parent, week, sept, accident...                    9   \n",
              "4  [woman, called, cop, black, birdwatcher, loses...                   11   \n",
              "\n",
              "   short_description_word_count  processed_text_word_count  dominant_topic  \\\n",
              "0                            29                         22               9   \n",
              "1                            28                         22               6   \n",
              "2                            12                         11               0   \n",
              "3                            25                         20               4   \n",
              "4                            25                         25               5   \n",
              "\n",
              "  predicted_category  \n",
              "0           POLITICS  \n",
              "1           WELLNESS  \n",
              "2           POLITICS  \n",
              "3      ENTERTAINMENT  \n",
              "4           POLITICS  "
            ]
          },
          "execution_count": 130,
          "metadata": {},
          "output_type": "execute_result"
        }
      ],
      "source": [
        "processed_df.head(5)"
      ]
    },
    {
      "cell_type": "code",
      "execution_count": null,
      "metadata": {
        "id": "us6SJNjYoR8L",
        "outputId": "c051acf6-0152-4de1-8b0c-cd51bae3110b"
      },
      "outputs": [
        {
          "name": "stderr",
          "output_type": "stream",
          "text": [
            "/var/folders/3t/mgckmfnn5p745wd8_80ywb0c0000gn/T/ipykernel_1277/14035858.py:12: SettingWithCopyWarning: \n",
            "A value is trying to be set on a copy of a slice from a DataFrame.\n",
            "Try using .loc[row_indexer,col_indexer] = value instead\n",
            "\n",
            "See the caveats in the documentation: https://pandas.pydata.org/pandas-docs/stable/user_guide/indexing.html#returning-a-view-versus-a-copy\n",
            "  processed_df['generated_topic'] = processed_df['dominant_topic'].apply(\n"
          ]
        }
      ],
      "source": [
        "import pandas as pd\n",
        "import matplotlib.pyplot as plt\n",
        "from matplotlib.table import Table\n",
        "\n",
        "# Assuming 'processed_df' already contains 'headline', 'category', and 'dominant_topic'\n",
        "\n",
        "# Add a column for the top words of the dominant topic for each document\n",
        "def get_top_words_for_topic(lda_model, topic_id, num_words=5):\n",
        "    return \", \".join([word for word, _ in lda_model.show_topic(topic_id, topn=num_words)])\n",
        "\n",
        "# Add the top words for the dominant topic to the dataframe\n",
        "processed_df['generated_topic'] = processed_df['dominant_topic'].apply(\n",
        "    lambda topic_id: get_top_words_for_topic(lda_models[0], topic_id, num_words=5)\n",
        ")"
      ]
    },
    {
      "cell_type": "code",
      "execution_count": null,
      "metadata": {
        "id": "R97J8zY1tMJJ",
        "outputId": "19ab5be6-a60a-4eb5-e903-d57515bcd9fa"
      },
      "outputs": [
        {
          "data": {
            "text/html": [
              "<div>\n",
              "<style scoped>\n",
              "    .dataframe tbody tr th:only-of-type {\n",
              "        vertical-align: middle;\n",
              "    }\n",
              "\n",
              "    .dataframe tbody tr th {\n",
              "        vertical-align: top;\n",
              "    }\n",
              "\n",
              "    .dataframe thead th {\n",
              "        text-align: right;\n",
              "    }\n",
              "</style>\n",
              "<table border=\"1\" class=\"dataframe\">\n",
              "  <thead>\n",
              "    <tr style=\"text-align: right;\">\n",
              "      <th></th>\n",
              "      <th>headline</th>\n",
              "      <th>short_description</th>\n",
              "      <th>category</th>\n",
              "      <th>predicted_category</th>\n",
              "    </tr>\n",
              "  </thead>\n",
              "  <tbody>\n",
              "    <tr>\n",
              "      <th>0</th>\n",
              "      <td>Over 4 Million Americans Roll Up Sleeves For O...</td>\n",
              "      <td>Health experts said it is too early to predict...</td>\n",
              "      <td>U.S. NEWS</td>\n",
              "      <td>POLITICS</td>\n",
              "    </tr>\n",
              "    <tr>\n",
              "      <th>1</th>\n",
              "      <td>American Airlines Flyer Charged, Banned For Li...</td>\n",
              "      <td>He was subdued by passengers and crew when he ...</td>\n",
              "      <td>U.S. NEWS</td>\n",
              "      <td>WELLNESS</td>\n",
              "    </tr>\n",
              "    <tr>\n",
              "      <th>2</th>\n",
              "      <td>23 Of The Funniest Tweets About Cats And Dogs ...</td>\n",
              "      <td>\"Until you have a dog you don't understand wha...</td>\n",
              "      <td>COMEDY</td>\n",
              "      <td>POLITICS</td>\n",
              "    </tr>\n",
              "    <tr>\n",
              "      <th>3</th>\n",
              "      <td>The Funniest Tweets From Parents This Week (Se...</td>\n",
              "      <td>\"Accidentally put grown-up toothpaste on my to...</td>\n",
              "      <td>PARENTING</td>\n",
              "      <td>ENTERTAINMENT</td>\n",
              "    </tr>\n",
              "    <tr>\n",
              "      <th>4</th>\n",
              "      <td>Woman Who Called Cops On Black Bird-Watcher Lo...</td>\n",
              "      <td>Amy Cooper accused investment firm Franklin Te...</td>\n",
              "      <td>U.S. NEWS</td>\n",
              "      <td>POLITICS</td>\n",
              "    </tr>\n",
              "    <tr>\n",
              "      <th>5</th>\n",
              "      <td>Cleaner Was Dead In Belk Bathroom For 4 Days B...</td>\n",
              "      <td>The 63-year-old woman was seen working at the ...</td>\n",
              "      <td>U.S. NEWS</td>\n",
              "      <td>POLITICS</td>\n",
              "    </tr>\n",
              "    <tr>\n",
              "      <th>6</th>\n",
              "      <td>Reporter Gets Adorable Surprise From Her Boyfr...</td>\n",
              "      <td>\"Who's that behind you?\" an anchor for New Yor...</td>\n",
              "      <td>U.S. NEWS</td>\n",
              "      <td>POLITICS</td>\n",
              "    </tr>\n",
              "    <tr>\n",
              "      <th>7</th>\n",
              "      <td>Puerto Ricans Desperate For Water After Hurric...</td>\n",
              "      <td>More than half a million people remained witho...</td>\n",
              "      <td>WORLD NEWS</td>\n",
              "      <td>POLITICS</td>\n",
              "    </tr>\n",
              "    <tr>\n",
              "      <th>8</th>\n",
              "      <td>How A New Documentary Captures The Complexity ...</td>\n",
              "      <td>In \"Mija,\" director Isabel Castro combined mus...</td>\n",
              "      <td>CULTURE &amp; ARTS</td>\n",
              "      <td>POLITICS</td>\n",
              "    </tr>\n",
              "    <tr>\n",
              "      <th>9</th>\n",
              "      <td>Biden At UN To Call Russian War An Affront To ...</td>\n",
              "      <td>White House officials say the crux of the pres...</td>\n",
              "      <td>WORLD NEWS</td>\n",
              "      <td>POLITICS</td>\n",
              "    </tr>\n",
              "  </tbody>\n",
              "</table>\n",
              "</div>"
            ],
            "text/plain": [
              "                                            headline  \\\n",
              "0  Over 4 Million Americans Roll Up Sleeves For O...   \n",
              "1  American Airlines Flyer Charged, Banned For Li...   \n",
              "2  23 Of The Funniest Tweets About Cats And Dogs ...   \n",
              "3  The Funniest Tweets From Parents This Week (Se...   \n",
              "4  Woman Who Called Cops On Black Bird-Watcher Lo...   \n",
              "5  Cleaner Was Dead In Belk Bathroom For 4 Days B...   \n",
              "6  Reporter Gets Adorable Surprise From Her Boyfr...   \n",
              "7  Puerto Ricans Desperate For Water After Hurric...   \n",
              "8  How A New Documentary Captures The Complexity ...   \n",
              "9  Biden At UN To Call Russian War An Affront To ...   \n",
              "\n",
              "                                   short_description        category  \\\n",
              "0  Health experts said it is too early to predict...       U.S. NEWS   \n",
              "1  He was subdued by passengers and crew when he ...       U.S. NEWS   \n",
              "2  \"Until you have a dog you don't understand wha...          COMEDY   \n",
              "3  \"Accidentally put grown-up toothpaste on my to...       PARENTING   \n",
              "4  Amy Cooper accused investment firm Franklin Te...       U.S. NEWS   \n",
              "5  The 63-year-old woman was seen working at the ...       U.S. NEWS   \n",
              "6  \"Who's that behind you?\" an anchor for New Yor...       U.S. NEWS   \n",
              "7  More than half a million people remained witho...      WORLD NEWS   \n",
              "8  In \"Mija,\" director Isabel Castro combined mus...  CULTURE & ARTS   \n",
              "9  White House officials say the crux of the pres...      WORLD NEWS   \n",
              "\n",
              "  predicted_category  \n",
              "0           POLITICS  \n",
              "1           WELLNESS  \n",
              "2           POLITICS  \n",
              "3      ENTERTAINMENT  \n",
              "4           POLITICS  \n",
              "5           POLITICS  \n",
              "6           POLITICS  \n",
              "7           POLITICS  \n",
              "8           POLITICS  \n",
              "9           POLITICS  "
            ]
          },
          "execution_count": 132,
          "metadata": {},
          "output_type": "execute_result"
        }
      ],
      "source": [
        "# Select columns for display\n",
        "df_visual = processed_df[['headline', 'short_description', 'category', 'predicted_category']]\n",
        "\n",
        "# Display a simple DataFrame table\n",
        "df_visual.head(10)"
      ]
    },
    {
      "cell_type": "code",
      "execution_count": null,
      "metadata": {
        "id": "vRZdi7aEp0D8"
      },
      "outputs": [],
      "source": [
        "df_visual.to_csv('/Users/niklaselsasser/Code/bug-free-fishstick/visuals/VSC5_headline_category_generated_topic.csv', index=False)"
      ]
    },
    {
      "cell_type": "code",
      "execution_count": null,
      "metadata": {
        "id": "7auHpPLw7Qz3",
        "outputId": "3f1b94cf-d1e5-400f-dbdb-28f2f3549905"
      },
      "outputs": [
        {
          "name": "stdout",
          "output_type": "stream",
          "text": [
            "Matched Categories (Sorted by Match Percentage):\n",
            "         category  total_count  match_count  match_percentage\n",
            "24       POLITICS        35601        34309         96.370888\n",
            "10  ENTERTAINMENT        17361         1205          6.940844\n",
            "38       WELLNESS        17945          625          3.482864\n",
            "\n",
            "Categories with No Match:\n",
            "          category  total_count  match_count  match_percentage\n",
            "0             ARTS         1509            0               0.0\n",
            "1   ARTS & CULTURE         1339            0               0.0\n",
            "2     BLACK VOICES         4583            0               0.0\n",
            "3         BUSINESS         5991            0               0.0\n",
            "4          COLLEGE         1144            0               0.0\n",
            "5           COMEDY         5398            0               0.0\n",
            "6            CRIME         3562            0               0.0\n",
            "7   CULTURE & ARTS         1074            0               0.0\n",
            "8          DIVORCE         3426            0               0.0\n",
            "9        EDUCATION         1014            0               0.0\n",
            "11     ENVIRONMENT         1444            0               0.0\n",
            "12           FIFTY         1400            0               0.0\n",
            "13    FOOD & DRINK         6340            0               0.0\n",
            "14       GOOD NEWS         1398            0               0.0\n",
            "15           GREEN         2622            0               0.0\n",
            "16  HEALTHY LIVING         6692            0               0.0\n",
            "17   HOME & LIVING         4320            0               0.0\n",
            "18          IMPACT         3484            0               0.0\n",
            "19   LATINO VOICES         1130            0               0.0\n",
            "20           MEDIA         2943            0               0.0\n",
            "21           MONEY         1756            0               0.0\n",
            "22       PARENTING         8791            0               0.0\n",
            "23         PARENTS         3955            0               0.0\n",
            "25    QUEER VOICES         6346            0               0.0\n",
            "26        RELIGION         2577            0               0.0\n",
            "27         SCIENCE         2206            0               0.0\n",
            "28          SPORTS         5077            0               0.0\n",
            "29           STYLE         2254            0               0.0\n",
            "30  STYLE & BEAUTY         9814            0               0.0\n",
            "31           TASTE         2096            0               0.0\n",
            "32            TECH         2104            0               0.0\n",
            "33   THE WORLDPOST         3664            0               0.0\n",
            "34          TRAVEL         9900            0               0.0\n",
            "35       U.S. NEWS         1377            0               0.0\n",
            "36        WEDDINGS         3653            0               0.0\n",
            "37      WEIRD NEWS         2777            0               0.0\n",
            "39           WOMEN         3572            0               0.0\n",
            "40      WORLD NEWS         3299            0               0.0\n",
            "41       WORLDPOST         2578            0               0.0\n"
          ]
        },
        {
          "name": "stderr",
          "output_type": "stream",
          "text": [
            "/var/folders/3t/mgckmfnn5p745wd8_80ywb0c0000gn/T/ipykernel_1277/2782885632.py:2: SettingWithCopyWarning: \n",
            "A value is trying to be set on a copy of a slice from a DataFrame.\n",
            "Try using .loc[row_indexer,col_indexer] = value instead\n",
            "\n",
            "See the caveats in the documentation: https://pandas.pydata.org/pandas-docs/stable/user_guide/indexing.html#returning-a-view-versus-a-copy\n",
            "  df.loc[:, 'match'] = df['category'] == df['predicted_category']\n"
          ]
        }
      ],
      "source": [
        "# Create a new column to indicate matches\n",
        "df.loc[:, 'match'] = df['category'] == df['predicted_category']\n",
        "\n",
        "# Group by category and count matches\n",
        "match_counts = df.groupby('category')['match'].sum().reset_index()\n",
        "match_counts.columns = ['category', 'match_count']\n",
        "\n",
        "# Count total entries per category\n",
        "category_counts = df['category'].value_counts(normalize=False).reset_index()\n",
        "category_counts.columns = ['category', 'total_count']\n",
        "\n",
        "# Merge match counts with total counts\n",
        "comparison = pd.merge(match_counts, category_counts, on='category')\n",
        "\n",
        "# Calculate match percentage\n",
        "comparison['match_percentage'] = (comparison['match_count'] / comparison['total_count']) * 100\n",
        "\n",
        "# Split into matched and no-match categories\n",
        "matched_categories = comparison[comparison['match_count'] > 0]\n",
        "no_match_categories = comparison[comparison['match_count'] == 0]\n",
        "\n",
        "# Sort matched categories by match percentage (descending)\n",
        "matched_categories_sorted = matched_categories.sort_values(by='match_percentage', ascending=False)\n",
        "\n",
        "# Display matched categories\n",
        "print(\"Matched Categories (Sorted by Match Percentage):\")\n",
        "print(matched_categories_sorted[['category', 'total_count', 'match_count', 'match_percentage']])\n",
        "\n",
        "# Display no match categories\n",
        "print(\"\\nCategories with No Match:\")\n",
        "print(no_match_categories[['category', 'total_count', 'match_count', 'match_percentage']])"
      ]
    },
    {
      "cell_type": "code",
      "execution_count": null,
      "metadata": {
        "id": "yIAq4m4f7Qz4",
        "outputId": "f1ab09fe-6c97-4f52-e525-c092993ea763"
      },
      "outputs": [
        {
          "name": "stderr",
          "output_type": "stream",
          "text": [
            "<>:4: DeprecationWarning: invalid escape sequence '\\d'\n",
            "<>:4: DeprecationWarning: invalid escape sequence '\\d'\n",
            "/var/folders/3t/mgckmfnn5p745wd8_80ywb0c0000gn/T/ipykernel_1277/2665748796.py:4: DeprecationWarning: invalid escape sequence '\\d'\n",
            "  coherence_df['Run'] = coherence_df['Model'].str.extract('(\\d+)').astype(int)\n"
          ]
        },
        {
          "data": {
            "text/html": [
              "<div>\n",
              "<style scoped>\n",
              "    .dataframe tbody tr th:only-of-type {\n",
              "        vertical-align: middle;\n",
              "    }\n",
              "\n",
              "    .dataframe tbody tr th {\n",
              "        vertical-align: top;\n",
              "    }\n",
              "\n",
              "    .dataframe thead th {\n",
              "        text-align: right;\n",
              "    }\n",
              "</style>\n",
              "<table border=\"1\" class=\"dataframe\">\n",
              "  <thead>\n",
              "    <tr style=\"text-align: right;\">\n",
              "      <th></th>\n",
              "      <th>Run</th>\n",
              "      <th>Start Time</th>\n",
              "      <th>End Time</th>\n",
              "      <th>Duration (minutes)</th>\n",
              "      <th>Coherence Score</th>\n",
              "    </tr>\n",
              "  </thead>\n",
              "  <tbody>\n",
              "    <tr>\n",
              "      <th>0</th>\n",
              "      <td>1</td>\n",
              "      <td>2024-10-14 14:14:43</td>\n",
              "      <td>2024-10-14 14:14:46</td>\n",
              "      <td>0.054248</td>\n",
              "      <td>0.298383</td>\n",
              "    </tr>\n",
              "    <tr>\n",
              "      <th>1</th>\n",
              "      <td>2</td>\n",
              "      <td>2024-10-14 14:14:46</td>\n",
              "      <td>2024-10-14 14:14:50</td>\n",
              "      <td>0.055266</td>\n",
              "      <td>0.313973</td>\n",
              "    </tr>\n",
              "    <tr>\n",
              "      <th>2</th>\n",
              "      <td>3</td>\n",
              "      <td>2024-10-14 14:14:50</td>\n",
              "      <td>2024-10-14 14:14:53</td>\n",
              "      <td>0.061482</td>\n",
              "      <td>0.289475</td>\n",
              "    </tr>\n",
              "    <tr>\n",
              "      <th>3</th>\n",
              "      <td>4</td>\n",
              "      <td>2024-10-14 14:14:53</td>\n",
              "      <td>2024-10-14 14:14:57</td>\n",
              "      <td>0.059552</td>\n",
              "      <td>0.286153</td>\n",
              "    </tr>\n",
              "  </tbody>\n",
              "</table>\n",
              "</div>"
            ],
            "text/plain": [
              "   Run           Start Time             End Time  Duration (minutes)  \\\n",
              "0    1  2024-10-14 14:14:43  2024-10-14 14:14:46            0.054248   \n",
              "1    2  2024-10-14 14:14:46  2024-10-14 14:14:50            0.055266   \n",
              "2    3  2024-10-14 14:14:50  2024-10-14 14:14:53            0.061482   \n",
              "3    4  2024-10-14 14:14:53  2024-10-14 14:14:57            0.059552   \n",
              "\n",
              "   Coherence Score  \n",
              "0         0.298383  \n",
              "1         0.313973  \n",
              "2         0.289475  \n",
              "3         0.286153  "
            ]
          },
          "execution_count": 143,
          "metadata": {},
          "output_type": "execute_result"
        }
      ],
      "source": [
        "run_details = pd.read_csv('visuals/VSC5_run_data.csv')\n",
        "\n",
        "# Extract run numbers from the model names\n",
        "coherence_df['Run'] = coherence_df['Model'].str.extract('(\\d+)').astype(int)\n",
        "\n",
        "# Merge the DataFrames on the 'Run' column\n",
        "merged_df = pd.merge(run_details, coherence_df[['Run', 'Coherence Score']], on='Run', how='left')\n",
        "\n",
        "# Save the merged DataFrame to a CSV file\n",
        "merged_df.to_csv('visuals/VSC5_run_details_with_coherence.csv', index=False)\n",
        "merged_df.head(5)\n"
      ]
    }
  ],
  "metadata": {
    "colab": {
      "provenance": [],
      "include_colab_link": true
    },
    "kernelspec": {
      "display_name": "Python 3 (ipykernel)",
      "language": "python",
      "name": "python3"
    },
    "language_info": {
      "codemirror_mode": {
        "name": "ipython",
        "version": 3
      },
      "file_extension": ".py",
      "mimetype": "text/x-python",
      "name": "python",
      "nbconvert_exporter": "python",
      "pygments_lexer": "ipython3",
      "version": "3.11.5"
    }
  },
  "nbformat": 4,
  "nbformat_minor": 0
}